{
 "cells": [
  {
   "cell_type": "code",
   "execution_count": 7,
   "id": "35cea22d-3e8b-4eff-b823-5285e5d7f705",
   "metadata": {},
   "outputs": [
    {
     "name": "stdout",
     "output_type": "stream",
     "text": [
      "Hello, world!\n",
      "Hello, world!\n",
      "Python Programming\n"
     ]
    }
   ],
   "source": [
    "print('Hello, world!')\n",
    "print('Hello, world!')\n",
    "print('Python Programming')"
   ]
  },
  {
   "cell_type": "code",
   "execution_count": 9,
   "id": "3b4ebdf3-9444-4363-98d6-dea84e1567a7",
   "metadata": {},
   "outputs": [
    {
     "data": {
      "text/plain": [
       "89"
      ]
     },
     "execution_count": 9,
     "metadata": {},
     "output_type": "execute_result"
    }
   ],
   "source": [
    "13+(22-3)*4"
   ]
  },
  {
   "cell_type": "code",
   "execution_count": 10,
   "id": "c9029242-cf3c-406e-8a0a-41bd3334c48d",
   "metadata": {},
   "outputs": [
    {
     "data": {
      "text/plain": [
       "28.2"
      ]
     },
     "execution_count": 10,
     "metadata": {},
     "output_type": "execute_result"
    }
   ],
   "source": [
    "13+((22-3)*4)/5"
   ]
  },
  {
   "cell_type": "code",
   "execution_count": 16,
   "id": "b9bf52b0-985c-4b75-b170-74d09761ba6e",
   "metadata": {},
   "outputs": [
    {
     "data": {
      "text/plain": [
       "128"
      ]
     },
     "execution_count": 16,
     "metadata": {},
     "output_type": "execute_result"
    }
   ],
   "source": [
    "2**7"
   ]
  },
  {
   "cell_type": "code",
   "execution_count": 17,
   "id": "c19ec817-e266-4d78-a4a2-9e378a71d0cf",
   "metadata": {},
   "outputs": [
    {
     "data": {
      "text/plain": [
       "1.7320508075688772"
      ]
     },
     "execution_count": 17,
     "metadata": {},
     "output_type": "execute_result"
    }
   ],
   "source": [
    "3**(1/2)"
   ]
  },
  {
   "cell_type": "code",
   "execution_count": 18,
   "id": "5a85ac21-0aaa-42ad-be1f-44b02cae64d9",
   "metadata": {},
   "outputs": [
    {
     "data": {
      "text/plain": [
       "1"
      ]
     },
     "execution_count": 18,
     "metadata": {},
     "output_type": "execute_result"
    }
   ],
   "source": [
    "3//2"
   ]
  },
  {
   "cell_type": "code",
   "execution_count": 19,
   "id": "d58ec5e3-b974-485f-adec-fb62dd985c0f",
   "metadata": {},
   "outputs": [
    {
     "data": {
      "text/plain": [
       "1"
      ]
     },
     "execution_count": 19,
     "metadata": {},
     "output_type": "execute_result"
    }
   ],
   "source": [
    "3%2"
   ]
  },
  {
   "cell_type": "code",
   "execution_count": 20,
   "id": "4d69a7c1-c71b-49b5-9740-e643ad381e40",
   "metadata": {},
   "outputs": [],
   "source": [
    "a = 2+3j\n",
    "b = complex(3,-4)"
   ]
  },
  {
   "cell_type": "code",
   "execution_count": 23,
   "id": "ea092403-ef5e-4f6c-9322-e0b928f6aaa0",
   "metadata": {},
   "outputs": [
    {
     "data": {
      "text/plain": [
       "2.0"
      ]
     },
     "execution_count": 23,
     "metadata": {},
     "output_type": "execute_result"
    }
   ],
   "source": [
    "a. real"
   ]
  },
  {
   "cell_type": "code",
   "execution_count": 25,
   "id": "ca279601-02c7-4021-8b71-6f1125a56ac0",
   "metadata": {},
   "outputs": [
    {
     "data": {
      "text/plain": [
       "3.0"
      ]
     },
     "execution_count": 25,
     "metadata": {},
     "output_type": "execute_result"
    }
   ],
   "source": [
    "a. imag"
   ]
  },
  {
   "cell_type": "code",
   "execution_count": 32,
   "id": "8ab34282-a54a-4afb-a1dd-0885d714bedc",
   "metadata": {},
   "outputs": [
    {
     "data": {
      "text/plain": [
       "3"
      ]
     },
     "execution_count": 32,
     "metadata": {},
     "output_type": "execute_result"
    }
   ],
   "source": [
    "int(3.3)"
   ]
  },
  {
   "cell_type": "code",
   "execution_count": 33,
   "id": "ebd3595e-3be5-4384-9029-af5bf9c9e385",
   "metadata": {},
   "outputs": [
    {
     "data": {
      "text/plain": [
       "104"
      ]
     },
     "execution_count": 33,
     "metadata": {},
     "output_type": "execute_result"
    }
   ],
   "source": [
    "int(104.45)"
   ]
  },
  {
   "cell_type": "code",
   "execution_count": 34,
   "id": "14da5ff9-a43e-444d-85dd-5c2fb27c78f2",
   "metadata": {},
   "outputs": [
    {
     "data": {
      "text/plain": [
       "3.0"
      ]
     },
     "execution_count": 34,
     "metadata": {},
     "output_type": "execute_result"
    }
   ],
   "source": [
    "float(3)"
   ]
  },
  {
   "cell_type": "code",
   "execution_count": 35,
   "id": "21f73f6e-4b67-491e-a08e-bf0ade8caaef",
   "metadata": {},
   "outputs": [
    {
     "data": {
      "text/plain": [
       "16.0"
      ]
     },
     "execution_count": 35,
     "metadata": {},
     "output_type": "execute_result"
    }
   ],
   "source": [
    "float(4*4)"
   ]
  },
  {
   "cell_type": "code",
   "execution_count": 38,
   "id": "f4057192-d3aa-425d-9b59-191dbb5db660",
   "metadata": {},
   "outputs": [
    {
     "ename": "NameError",
     "evalue": "name '문자열' is not defined",
     "output_type": "error",
     "traceback": [
      "\u001b[1;31m---------------------------------------------------------------------------\u001b[0m",
      "\u001b[1;31mNameError\u001b[0m                                 Traceback (most recent call last)",
      "\u001b[1;32m~\\AppData\\Local\\Temp\\ipykernel_2132\\2537615269.py\u001b[0m in \u001b[0;36m<module>\u001b[1;34m\u001b[0m\n\u001b[1;32m----> 1\u001b[1;33m \u001b[0mint\u001b[0m\u001b[1;33m(\u001b[0m\u001b[0m문자열\u001b[0m\u001b[1;33m)\u001b[0m\u001b[1;33m\u001b[0m\u001b[1;33m\u001b[0m\u001b[0m\n\u001b[0m",
      "\u001b[1;31mNameError\u001b[0m: name '문자열' is not defined"
     ]
    }
   ],
   "source": [
    "int(문자열)"
   ]
  },
  {
   "cell_type": "code",
   "execution_count": 45,
   "id": "eccf01d6-22df-4e66-9801-1aa28cdc7cd4",
   "metadata": {},
   "outputs": [
    {
     "name": "stdout",
     "output_type": "stream",
     "text": [
      "7\n"
     ]
    }
   ],
   "source": [
    "print(int((0.2462*12)+4.159))"
   ]
  },
  {
   "cell_type": "code",
   "execution_count": 46,
   "id": "0b5aa615-e808-43a7-ace4-e7bb301218e9",
   "metadata": {},
   "outputs": [
    {
     "name": "stdout",
     "output_type": "stream",
     "text": [
      "가장 시끄러운 층은 = 7 층\n"
     ]
    }
   ],
   "source": [
    "print(\"가장\", \"시끄러운\", \"층은\", \"=\", \"7\", \"층\")"
   ]
  },
  {
   "cell_type": "code",
   "execution_count": 54,
   "id": "753a8fa0-d03c-4645-9cc5-4095a9a223da",
   "metadata": {},
   "outputs": [
    {
     "name": "stdout",
     "output_type": "stream",
     "text": [
      "가장 시끄러운 층은 = 7층\n"
     ]
    }
   ],
   "source": [
    "print(\"가장 시끄러운 층은 = 7층\")"
   ]
  },
  {
   "cell_type": "code",
   "execution_count": 61,
   "id": "95663bf7-5ff9-4495-bf74-ae4b41daf848",
   "metadata": {},
   "outputs": [
    {
     "data": {
      "text/plain": [
       "1272000"
      ]
     },
     "execution_count": 61,
     "metadata": {},
     "output_type": "execute_result"
    }
   ],
   "source": [
    "(53000*24)"
   ]
  },
  {
   "cell_type": "code",
   "execution_count": 62,
   "id": "a1110b3d-0ea0-4c70-a726-05b79e5b88b7",
   "metadata": {},
   "outputs": [
    {
     "name": "stdout",
     "output_type": "stream",
     "text": [
      "냉장고 가격은 1272000 원 입니다\n"
     ]
    }
   ],
   "source": [
    "refrige_price = 53000*24\n",
    "print(\"냉장고 가격은\", refrige_price, \"원 입니다\")"
   ]
  },
  {
   "cell_type": "code",
   "execution_count": 77,
   "id": "439e762d-6a41-44f1-9a59-839f6d57c745",
   "metadata": {},
   "outputs": [
    {
     "name": "stdout",
     "output_type": "stream",
     "text": [
      "총 지불 해야 할 금액은 16500000 원 입니다\n"
     ]
    }
   ],
   "source": [
    "price = 66000*250\n",
    "print(\"총 지불 해야 할 금액은\", price, \"원 입니다\")"
   ]
  },
  {
   "cell_type": "code",
   "execution_count": 92,
   "id": "dd1073bd-28bb-4733-b1be-ad1ff1fdca53",
   "metadata": {},
   "outputs": [
    {
     "name": "stdout",
     "output_type": "stream",
     "text": [
      "총 지불 해야 할 금액은 16500000.000000002 원 입니다\n"
     ]
    }
   ],
   "source": [
    "price = 20000*3*250*1.1\n",
    "print(\"총 지불 해야 할 금액은\", price, \"원 입니다\")"
   ]
  },
  {
   "cell_type": "code",
   "execution_count": 97,
   "id": "cc05db3f-d493-4f07-a081-cea316957063",
   "metadata": {},
   "outputs": [
    {
     "name": "stdout",
     "output_type": "stream",
     "text": [
      "453.0\n"
     ]
    }
   ],
   "source": [
    "print((380*0.6)+225)"
   ]
  },
  {
   "cell_type": "code",
   "execution_count": 98,
   "id": "aded8476-9723-46f1-894a-081e82f17101",
   "metadata": {},
   "outputs": [
    {
     "data": {
      "text/plain": [
       "453.0"
      ]
     },
     "execution_count": 98,
     "metadata": {},
     "output_type": "execute_result"
    }
   ],
   "source": [
    "380*0.6+225"
   ]
  },
  {
   "cell_type": "code",
   "execution_count": 99,
   "id": "8015ba43-92cb-466a-aaad-8436c2a06bab",
   "metadata": {},
   "outputs": [
    {
     "name": "stdout",
     "output_type": "stream",
     "text": [
      "453.0\n"
     ]
    }
   ],
   "source": [
    "print(380*0.6+225)"
   ]
  },
  {
   "cell_type": "code",
   "execution_count": 100,
   "id": "a59719a2-a1ee-47ce-b8ba-26ab97c14861",
   "metadata": {},
   "outputs": [
    {
     "data": {
      "text/plain": [
       "453.0"
      ]
     },
     "execution_count": 100,
     "metadata": {},
     "output_type": "execute_result"
    }
   ],
   "source": [
    "float(380*0.6+225)"
   ]
  },
  {
   "cell_type": "code",
   "execution_count": 101,
   "id": "b2aadeb0-ddce-4ebc-8848-83d773b117e6",
   "metadata": {},
   "outputs": [
    {
     "data": {
      "text/plain": [
       "453"
      ]
     },
     "execution_count": 101,
     "metadata": {},
     "output_type": "execute_result"
    }
   ],
   "source": [
    "int(380*0.6+225)"
   ]
  },
  {
   "cell_type": "code",
   "execution_count": 4,
   "id": "6742dba8-286a-487d-ae7c-74a86019f6cf",
   "metadata": {},
   "outputs": [
    {
     "name": "stdout",
     "output_type": "stream",
     "text": [
      "너무너무너무너무너무너무너무너무너무너무너무너무너무너무너무너무너무너무너무너무너무너무너무너무너무너무너무너무너무너무너무너무너무너무너무너무너무너무너무너무너무너무너무너무너무너무너무너무너무너무너무너무너무너무너무너무너무너무너무너무너무너무너무너무너무너무너무너무너무너무너무너무너무너무너무너무너무너무너무너무너무너무너무너무너무너무너무너무너무너무너무너무너무너무너무너무너무너무너무너무 파이썬 공부가 즐겁습니다.\n"
     ]
    }
   ],
   "source": [
    "s6 = \"너무\" *100+\" 파이썬 공부가 즐겁습니다.\"\n",
    "print(s6)"
   ]
  },
  {
   "cell_type": "code",
   "execution_count": 29,
   "id": "136d7c0a-f43d-47af-8bea-7e58b37c79cd",
   "metadata": {},
   "outputs": [
    {
     "name": "stdout",
     "output_type": "stream",
     "text": [
      "너무너무너무너무너무너무너무너무너무너무너무너무너무너무너무너무너무너무너무너무너무너무너무너무너무너무너무너무너무너무너무너무너무너무너무너무너무너무너무너무너무너무너무너무너무너무너무너무너무너무너무너무너무너무너무너무너무너무너무너무너무너무너무너무너무너무너무너무너무너무너무너무너무너무너무너무너무너무너무너무너무너무너무너무너무너무너무너무너무너무너무너무너무너무너무너무너무너무너무너무 파이썬 공부가 즐겁습니다.\n"
     ]
    }
   ],
   "source": [
    "print(s6)\n",
    "s6 = \"너무\" *100+\" 파이썬 공부가 즐겁습니다.\""
   ]
  },
  {
   "cell_type": "code",
   "execution_count": 50,
   "id": "815149c7-e032-4641-a579-0784dfcf30be",
   "metadata": {},
   "outputs": [
    {
     "name": "stdout",
     "output_type": "stream",
     "text": [
      "P\n",
      "n\n",
      "n\n",
      "P\n"
     ]
    }
   ],
   "source": [
    "word = \"Python\"\n",
    "# 인덱스는 0부터 시작한다.\n",
    "print(word [0])\n",
    "print(word [5])\n",
    "# 인덱스는 -1부터 시작한다.\n",
    "print(word [-1])\n",
    "print(word [-6])"
   ]
  },
  {
   "cell_type": "code",
   "execution_count": 63,
   "id": "e31e5cc7-858b-40ff-9a95-b1e8797667ad",
   "metadata": {},
   "outputs": [
    {
     "name": "stdout",
     "output_type": "stream",
     "text": [
      "꺽\n"
     ]
    }
   ],
   "source": [
    "sentence = \"중요한 것은 꺽이지 않는 마음\"\n",
    "print(sentence [7])"
   ]
  },
  {
   "cell_type": "code",
   "execution_count": 70,
   "id": "d5bb3ddc-de21-4b0c-94e8-50040a760796",
   "metadata": {},
   "outputs": [
    {
     "name": "stdout",
     "output_type": "stream",
     "text": [
      "Py\n",
      "Pyt\n",
      "Python\n",
      "\n",
      "\n",
      "Python\n"
     ]
    }
   ],
   "source": [
    "word = \"Python\"\n",
    "print(word[0:2])\n",
    "print(word[:-3])\n",
    "print(word[:6])\n",
    "print(word[:-7])\n",
    "print(word[:0])\n",
    "print(word[0:])"
   ]
  },
  {
   "cell_type": "code",
   "execution_count": 74,
   "id": "9aee4172-34e0-4eec-87cc-a9576787b509",
   "metadata": {},
   "outputs": [
    {
     "name": "stdout",
     "output_type": "stream",
     "text": [
      "Pto\n",
      "yhn\n"
     ]
    }
   ],
   "source": [
    "word = \"Python\"\n",
    "print(word[::2])\n",
    "print(word[1:6:2])"
   ]
  },
  {
   "cell_type": "code",
   "execution_count": 79,
   "id": "964975c9-e378-4dc4-9188-a2c72b7698f1",
   "metadata": {},
   "outputs": [
    {
     "name": "stdout",
     "output_type": "stream",
     "text": [
      "\n",
      "한 것은 꺽이지 않는 마음\n",
      "한것 이 는마\n",
      "음 않지꺽은 \n"
     ]
    }
   ],
   "source": [
    "sentence = \"중요한 것은 꺽이지 않는 마음\"\n",
    "print(sentence[42:])\n",
    "print(sentence[2:42])\n",
    "print(sentence[2:15:2])\n",
    "print(sentence[-1:-15:-2])"
   ]
  },
  {
   "cell_type": "code",
   "execution_count": 116,
   "id": "8db50b96-eaf8-4f7f-ab4d-085c78b157ef",
   "metadata": {},
   "outputs": [
    {
     "name": "stdout",
     "output_type": "stream",
     "text": [
      "꺽이지 않는 마음\n",
      "꺽이지 않는 마음\n",
      "꺽이지 않는 마음\n",
      "음마 는않 지이\n",
      "꺽이지 않는 마음\n"
     ]
    }
   ],
   "source": [
    "sentence = \"중요한 것은 꺽이지 않는 마음\"\n",
    "print(sentence[7:16:1])\n",
    "print(sentence[7:16])\n",
    "print(sentence[7:])\n",
    "print(sentence[-1:-9:-1])\n",
    "print(sentence[-9::])"
   ]
  },
  {
   "cell_type": "code",
   "execution_count": 125,
   "id": "408660a4-24ba-48b6-a9d2-c8d5ea622868",
   "metadata": {},
   "outputs": [
    {
     "name": "stdout",
     "output_type": "stream",
     "text": [
      " 한요중\n",
      " 한요중\n",
      " 것은 꺽이지 않는 마음\n",
      " 한요\n",
      "한요\n",
      "한요중\n",
      "한요중\n",
      "\n",
      "한요중\n",
      "중요한\n"
     ]
    }
   ],
   "source": [
    "sentence = \"중요한 것은 꺽이지 않는 마음\"\n",
    "print(sentence[-13:-17:-1])\n",
    "print(sentence[-13::-1])\n",
    "print(sentence[-13:])\n",
    "print(sentence[-13:-16:-1])\n",
    "print(sentence[-14:-16:-1])\n",
    "print(sentence[-14:-17:-1])\n",
    "print(sentence[-14::-1])\n",
    "print(sentence[-17::-1])\n",
    "print(sentence[2::-1])\n",
    "print(sentence[-16:-13])"
   ]
  },
  {
   "cell_type": "code",
   "execution_count": 140,
   "id": "81672729-49cc-4bbc-bae5-5ffbc28de6c1",
   "metadata": {},
   "outputs": [
    {
     "name": "stdout",
     "output_type": "stream",
     "text": [
      "중요한\n",
      "[]\n",
      "중요한중요한중요한\n"
     ]
    }
   ],
   "source": [
    "sentence = \"중요한 것은 꺽이지 않는 마음\"\n",
    "print(sentence[0:3])\n",
    "print(squares[-13:-17])\n",
    "print(sentence[0:3] *3)"
   ]
  },
  {
   "cell_type": "code",
   "execution_count": 131,
   "id": "ffbc1baa-e31f-4c8f-98a8-928b1cb406fa",
   "metadata": {},
   "outputs": [
    {
     "name": "stdout",
     "output_type": "stream",
     "text": [
      "[1, 4, 9, 16, 25]\n",
      "36\n",
      "1\n",
      "25\n",
      "[9, 16, 25]\n"
     ]
    }
   ],
   "source": [
    "squares = [1**2, 2**2, 3**2, 4**2, 5**2]\n",
    "print(squares)\n",
    "print(6**2)\n",
    "print(squares[0])\n",
    "print(squares[-1])\n",
    "print(squares[-3:])"
   ]
  },
  {
   "cell_type": "code",
   "execution_count": 134,
   "id": "23aa73f8-ba7b-4726-8d6e-24f1dc54c4ee",
   "metadata": {},
   "outputs": [
    {
     "name": "stdout",
     "output_type": "stream",
     "text": [
      "[1, 4, 9, 16, 25, 36, 49, 64, 81, 100]\n",
      "['a', 'b', 'c', 'd', 'e', 'a', 'b', 'c', 'd', 'e', 'a', 'b', 'c', 'd', 'e']\n"
     ]
    }
   ],
   "source": [
    "print(squares + [36, 49, 64, 81, 100])\n",
    "letters = ['a', 'b', 'c', 'd', 'e']\n",
    "print(letters *3)"
   ]
  },
  {
   "cell_type": "code",
   "execution_count": 146,
   "id": "e6c9f270-9924-40b9-a06c-a048e08eff67",
   "metadata": {},
   "outputs": [
    {
     "name": "stdout",
     "output_type": "stream",
     "text": [
      "[1, 8, 27, 64, 125]\n",
      "['a', 'b', 'c', 'c', 'd', 'e']\n",
      "6\n"
     ]
    }
   ],
   "source": [
    "cubes = [1, 8, 27, 65, 125]\n",
    "cubes[3] = 4**3\n",
    "print(cubes)\n",
    "letters[3:5] = [\"c\", \"d\", \"e\"]\n",
    "print(letters)\n",
    "print(len(letters))"
   ]
  },
  {
   "cell_type": "code",
   "execution_count": 152,
   "id": "842ba4b8-2d56-4298-b53e-3698c37d81b6",
   "metadata": {},
   "outputs": [
    {
     "name": "stdout",
     "output_type": "stream",
     "text": [
      "5\n",
      "[['a', 'b', 'c'], [1, 2, 3]]\n",
      "['a', 'b', 'c']\n",
      "b\n",
      "2\n"
     ]
    }
   ],
   "source": [
    "letters = ['a','b','c','d','e']\n",
    "print(len(letters))\n",
    "a = ['a','b','c']\n",
    "n = [1,2,3]\n",
    "x = [a,n]\n",
    "print(x)\n",
    "print(x[0])\n",
    "print(x[0][1])\n",
    "print(x[1][1])"
   ]
  },
  {
   "cell_type": "code",
   "execution_count": 158,
   "id": "c722e03d-2ddb-44e9-89a5-b3d7e70ef054",
   "metadata": {},
   "outputs": [
    {
     "name": "stdout",
     "output_type": "stream",
     "text": [
      "True\n",
      "False\n"
     ]
    }
   ],
   "source": [
    "numbers = [1,2,3,4,5,6,7]\n",
    "print(5 in numbers)\n",
    "print(10 in numbers)"
   ]
  },
  {
   "cell_type": "code",
   "execution_count": 203,
   "id": "11e3c636-91f5-407e-b32e-45c7b9b9b6d2",
   "metadata": {},
   "outputs": [
    {
     "name": "stdout",
     "output_type": "stream",
     "text": [
      "False\n"
     ]
    }
   ],
   "source": [
    "# [국어, 영어, 한국사, 선택과목1, 선택과목2]\n",
    "# 한 과목도 60 미만이면 False\n",
    "scores = (88, 73, 89, 59, 77)\n",
    "print(scores[0] >= 60 \n",
    "      and scores[1] >= 60\n",
    "      and scores[2] >= 60 \n",
    "      and scores[3] >= 60\n",
    "      and scores[4] >= 60)"
   ]
  },
  {
   "cell_type": "code",
   "execution_count": 246,
   "id": "007a2d9b-5e68-457d-a1fe-32862fade85c",
   "metadata": {},
   "outputs": [
    {
     "name": "stdout",
     "output_type": "stream",
     "text": [
      "[1, 2, 3, 4, 5, 6, 7, 8, 8]\n",
      "[2, 3, 4, 5, 6, 7, 8, 8]\n",
      "1\n",
      "3\n",
      "[2, 4, 5, 6, 7, 8, 8]\n",
      "0\n",
      "[2, 4, 5, 6, 7, 8, 8]\n"
     ]
    }
   ],
   "source": [
    "numbers = [1,2,3,4,5,6,7,8]\n",
    "numbers. append(8)\n",
    "print(numbers)\n",
    "numbers. remove(1)\n",
    "print(numbers)\n",
    "print(numbers.index(3))\n",
    "print(numbers.pop(1))\n",
    "print(numbers)\n",
    "print(numbers.count(0))\n",
    "numbers.sort()\n",
    "print(numbers)"
   ]
  },
  {
   "cell_type": "code",
   "execution_count": 247,
   "id": "ba6b73d1-7ffb-4562-9635-7d9853ddf3d0",
   "metadata": {},
   "outputs": [
    {
     "name": "stdout",
     "output_type": "stream",
     "text": [
      "[8, 4, 2, 1, 2, 7]\n"
     ]
    }
   ],
   "source": [
    "reverse_test = [7,2,1,2,4,8]\n",
    "reverse_test.reverse()\n",
    "print(reverse_test)"
   ]
  },
  {
   "cell_type": "code",
   "execution_count": 264,
   "id": "460fa3dd-ca8c-49d2-96f7-8bc411a00fa2",
   "metadata": {},
   "outputs": [
    {
     "name": "stdout",
     "output_type": "stream",
     "text": [
      "[3, 4, 5, 6, 7]\n",
      "7\n",
      "[3, 4, 5, 6]\n",
      "6\n",
      "[3, 4, 5]\n",
      "5\n",
      "[3, 4]\n",
      "[]\n"
     ]
    }
   ],
   "source": [
    "stack = [3,4,5]\n",
    "stack. append(6)\n",
    "stack. append(7)\n",
    "print(stack)\n",
    "\n",
    "print(stack. pop())\n",
    "print(stack)\n",
    "\n",
    "print(stack.pop())\n",
    "print(stack)\n",
    "\n",
    "print(stack.pop())\n",
    "print(stack)"
   ]
  },
  {
   "cell_type": "code",
   "execution_count": 266,
   "id": "94cf34b7-4797-45b1-be17-c5834c58baf4",
   "metadata": {},
   "outputs": [
    {
     "name": "stdout",
     "output_type": "stream",
     "text": [
      "[]\n"
     ]
    }
   ],
   "source": [
    "numbers.clear()\n",
    "print(numbers)"
   ]
  },
  {
   "cell_type": "code",
   "execution_count": 267,
   "id": "17955320-e057-4a19-986b-5a0715e0ccb2",
   "metadata": {},
   "outputs": [
    {
     "ename": "TypeError",
     "evalue": "'tuple' object does not support item assignment",
     "output_type": "error",
     "traceback": [
      "\u001b[1;31m---------------------------------------------------------------------------\u001b[0m",
      "\u001b[1;31mTypeError\u001b[0m                                 Traceback (most recent call last)",
      "\u001b[1;32m~\\AppData\\Local\\Temp\\ipykernel_11668\\1019721646.py\u001b[0m in \u001b[0;36m<module>\u001b[1;34m\u001b[0m\n\u001b[0;32m      1\u001b[0m \u001b[0mtuple_variable\u001b[0m \u001b[1;33m=\u001b[0m \u001b[1;33m(\u001b[0m\u001b[1;36m1\u001b[0m\u001b[1;33m,\u001b[0m\u001b[1;36m2\u001b[0m\u001b[1;33m,\u001b[0m\u001b[1;36m3\u001b[0m\u001b[1;33m,\u001b[0m\u001b[1;36m4\u001b[0m\u001b[1;33m,\u001b[0m\u001b[1;36m5\u001b[0m\u001b[1;33m,\u001b[0m \u001b[1;34m\"hello\"\u001b[0m\u001b[1;33m)\u001b[0m\u001b[1;33m\u001b[0m\u001b[1;33m\u001b[0m\u001b[0m\n\u001b[1;32m----> 2\u001b[1;33m \u001b[0mtuple_variable\u001b[0m\u001b[1;33m[\u001b[0m\u001b[1;36m0\u001b[0m\u001b[1;33m]\u001b[0m \u001b[1;33m=\u001b[0m \u001b[1;36m0\u001b[0m\u001b[1;33m\u001b[0m\u001b[1;33m\u001b[0m\u001b[0m\n\u001b[0m",
      "\u001b[1;31mTypeError\u001b[0m: 'tuple' object does not support item assignment"
     ]
    }
   ],
   "source": [
    "tuple_variable = (1,2,3,4,5, \"hello\")\n",
    "tuple_variable[0] = 0 "
   ]
  },
  {
   "cell_type": "code",
   "execution_count": 269,
   "id": "11cccc1c-feb0-43cb-88ba-5b765450a193",
   "metadata": {},
   "outputs": [
    {
     "ename": "TypeError",
     "evalue": "'tuple' object does not support item assignment",
     "output_type": "error",
     "traceback": [
      "\u001b[1;31m---------------------------------------------------------------------------\u001b[0m",
      "\u001b[1;31mTypeError\u001b[0m                                 Traceback (most recent call last)",
      "\u001b[1;32m~\\AppData\\Local\\Temp\\ipykernel_11668\\3758404672.py\u001b[0m in \u001b[0;36m<module>\u001b[1;34m\u001b[0m\n\u001b[1;32m----> 1\u001b[1;33m \u001b[0mtuple_variable\u001b[0m\u001b[1;33m[\u001b[0m\u001b[1;36m1\u001b[0m\u001b[1;33m:\u001b[0m\u001b[1;36m3\u001b[0m\u001b[1;33m]\u001b[0m \u001b[1;33m=\u001b[0m \u001b[1;33m(\u001b[0m\u001b[1;34m\"음\"\u001b[0m\u001b[1;33m,\u001b[0m \u001b[1;34m\"오\"\u001b[0m\u001b[1;33m)\u001b[0m\u001b[1;33m\u001b[0m\u001b[1;33m\u001b[0m\u001b[0m\n\u001b[0m\u001b[0;32m      2\u001b[0m \u001b[1;32mdel\u001b[0m \u001b[0mtuple_variable\u001b[0m\u001b[1;33m[\u001b[0m\u001b[1;36m1\u001b[0m\u001b[1;33m]\u001b[0m\u001b[1;33m\u001b[0m\u001b[1;33m\u001b[0m\u001b[0m\n",
      "\u001b[1;31mTypeError\u001b[0m: 'tuple' object does not support item assignment"
     ]
    }
   ],
   "source": [
    "tuple_variable[1:3] = (\"음\", \"오\")\n",
    "del tuple_variable[1]"
   ]
  },
  {
   "cell_type": "code",
   "execution_count": 275,
   "id": "437b8c73-7b79-4192-9a9a-421e97ecc0db",
   "metadata": {},
   "outputs": [
    {
     "name": "stdout",
     "output_type": "stream",
     "text": [
      "<class 'tuple'>\n",
      "('음', '오', '아', '예')\n"
     ]
    }
   ],
   "source": [
    "t_v2 = \"음\", \"오\", \"아\", \"예\"\n",
    "print(type(t_v2))\n",
    "print(t_v2)"
   ]
  },
  {
   "cell_type": "code",
   "execution_count": 282,
   "id": "e3d8338f-6f74-4e5c-938d-9117c971e6dd",
   "metadata": {},
   "outputs": [
    {
     "name": "stdout",
     "output_type": "stream",
     "text": [
      "0.23990726470947266\n"
     ]
    }
   ],
   "source": [
    "import time\n",
    "\n",
    "start_time = time.time() # 시작하는 시간\n",
    "test = []\n",
    "\n",
    "#1,000,000번을 반복해서 tuple만듭니다.\n",
    "for _ in range(1_000_000):\n",
    "    tp = (_, _) # tuple    \n",
    "    test.append(tp)\n",
    "\n",
    "# 끝나는 시간 = 시작하는 시간    \n",
    "print(time.time() - start_time)\n",
    "# 동작한 시간"
   ]
  },
  {
   "cell_type": "code",
   "execution_count": 284,
   "id": "f0e42456-df02-45dd-b397-392f53ab9383",
   "metadata": {},
   "outputs": [
    {
     "ename": "SyntaxError",
     "evalue": "invalid syntax (809421659.py, line 6)",
     "output_type": "error",
     "traceback": [
      "\u001b[1;36m  File \u001b[1;32m\"C:\\Users\\Playdata\\AppData\\Local\\Temp\\ipykernel_11668\\809421659.py\"\u001b[1;36m, line \u001b[1;32m6\u001b[0m\n\u001b[1;33m    for _in range(1000):\u001b[0m\n\u001b[1;37m            ^\u001b[0m\n\u001b[1;31mSyntaxError\u001b[0m\u001b[1;31m:\u001b[0m invalid syntax\n"
     ]
    }
   ],
   "source": [
    "import number\n",
    "\n",
    "start_number = number.number()\n",
    "test = []\n",
    "\n",
    "for _in range(1000):\n",
    "    tp = (_,_) \n",
    "    test.append(tp)\n",
    "    \n",
    "print(number.number() - start_number) "
   ]
  },
  {
   "cell_type": "code",
   "execution_count": 285,
   "id": "fc2882c4-1a26-4724-afd2-db0425565f06",
   "metadata": {},
   "outputs": [
    {
     "name": "stdout",
     "output_type": "stream",
     "text": [
      "text1\n",
      "text2\n"
     ]
    }
   ],
   "source": [
    "s1, s2 = (\"text1\", \"text2\")\n",
    "print(s1)\n",
    "print(s2)"
   ]
  },
  {
   "cell_type": "code",
   "execution_count": 292,
   "id": "8de01203-3291-4dfc-a722-9de2bd3a644b",
   "metadata": {},
   "outputs": [
    {
     "name": "stdout",
     "output_type": "stream",
     "text": [
      "text2\n",
      "text1 text2 text3\n"
     ]
    }
   ],
   "source": [
    "s1, s2, s3 = (\"text1\", \"text2\", \"text3\")\n",
    "print(s2)\n",
    "print(s1,s2,s3)"
   ]
  },
  {
   "cell_type": "code",
   "execution_count": 295,
   "id": "d991ccea-5a40-446b-9fb8-186e7df3bc01",
   "metadata": {},
   "outputs": [
    {
     "name": "stdout",
     "output_type": "stream",
     "text": [
      "이렇게 리스트도 가능합니다.\n",
      "리스트도\n",
      "문 자 열 도\n",
      "문\n"
     ]
    }
   ],
   "source": [
    "s3,s4,s5 = [\"이렇게\", \"리스트도\", \"가능합니다.\"]\n",
    "print(s3,s4,s5)\n",
    "print(s4)\n",
    "\n",
    "s6,s7,s8,s9 = \"문자열도\"\n",
    "print(s6,s7,s8,s9)\n",
    "print(s6)"
   ]
  },
  {
   "cell_type": "code",
   "execution_count": 312,
   "id": "aa6e9ca5-cfa3-4f87-b97e-d279a6d3ff8a",
   "metadata": {},
   "outputs": [
    {
     "name": "stdin",
     "output_type": "stream",
     "text": [
      "Massge 전략의 천재\n",
      "float 1111\n"
     ]
    }
   ],
   "source": [
    "input_value = input(\"Massge\")\n",
    "input_value2 = input(\"float\")"
   ]
  },
  {
   "cell_type": "code",
   "execution_count": 310,
   "id": "5f4d3cb0-35e5-45ed-a73f-0e96004a74fe",
   "metadata": {},
   "outputs": [
    {
     "name": "stdout",
     "output_type": "stream",
     "text": [
      "input_value: 전략의 천재 \n",
      "type: <class 'str'>\n"
     ]
    }
   ],
   "source": [
    "print(\"input_value:\", input_value, \"\\ntype:\", type(input_value))"
   ]
  },
  {
   "cell_type": "code",
   "execution_count": 316,
   "id": "a5c511b6-9dfd-453a-be99-a7695c23c437",
   "metadata": {},
   "outputs": [
    {
     "name": "stdin",
     "output_type": "stream",
     "text": [
      "number 1245.68\n"
     ]
    }
   ],
   "source": [
    "input_value4 = input(\"number\")"
   ]
  },
  {
   "cell_type": "code",
   "execution_count": 315,
   "id": "f02e557c-a1c8-4eb7-a029-814910b03778",
   "metadata": {},
   "outputs": [
    {
     "name": "stdout",
     "output_type": "stream",
     "text": [
      "1111.0\n",
      "1111\n"
     ]
    }
   ],
   "source": [
    "input_value2 = float(input_value2)\n",
    "print(input_value2)\n",
    "\n",
    "input_value = int(input_value2)\n",
    "print(int(input_value2))"
   ]
  },
  {
   "cell_type": "code",
   "execution_count": 317,
   "id": "c5a5f7f1-0e25-49e3-a5f4-8b0c65c58fbd",
   "metadata": {},
   "outputs": [
    {
     "name": "stdin",
     "output_type": "stream",
     "text": [
      "123: 5\n"
     ]
    },
    {
     "name": "stdout",
     "output_type": "stream",
     "text": [
      "5\n"
     ]
    }
   ],
   "source": [
    "input_value4 = int(input(\"123:\"))\n",
    "print(input_value4)"
   ]
  },
  {
   "cell_type": "code",
   "execution_count": 329,
   "id": "28995203-5136-4551-8d48-b5a406102a15",
   "metadata": {},
   "outputs": [
    {
     "name": "stdin",
     "output_type": "stream",
     "text": [
      "이름 엔코아\n",
      "인사 엔코아 씨, 안녕하세요?\n",
      "환영인사 파이썬에 오신 것을 환영합니다.\n",
      "첫 번째 정수를 입력하세요 300\n",
      "두 번째 정수를 입력하세요 400\n"
     ]
    }
   ],
   "source": [
    "input_value = input(\"이름\")\n",
    "input_value2 = input(\"인사\")\n",
    "input_value3 = input(\"환영인사\")\n",
    "input_value4 = input(\"첫 번째 정수를 입력하세요\")\n",
    "input_value5 = input(\"두 번째 정수를 입력하세요\")"
   ]
  },
  {
   "cell_type": "code",
   "execution_count": 21,
   "id": "32114299-2c9c-4a7c-ae55-c528504a0edb",
   "metadata": {},
   "outputs": [
    {
     "name": "stdin",
     "output_type": "stream",
     "text": [
      "이름을 입력하시오 엔코아\n"
     ]
    },
    {
     "name": "stdout",
     "output_type": "stream",
     "text": [
      "엔코아 씨, 안녕하세요?\n",
      "파이썬에 오신 것을 환영합니다\n"
     ]
    }
   ],
   "source": [
    "name = input(\"이름을 입력하시오\")\n",
    "print(name, \"씨, 안녕하세요?\")\n",
    "print(\"파이썬에 오신 것을 환영합니다\")\n"
   ]
  },
  {
   "cell_type": "code",
   "execution_count": 1,
   "id": "839119bd",
   "metadata": {},
   "outputs": [
    {
     "name": "stdin",
     "output_type": "stream",
     "text": [
      "경기장은 어디입니까? 고척\n",
      "이긴 팀은 어디입니까? KT\n",
      "진팀은 어디입니까? LG\n",
      "우수 선수는 누구입니까? 강백호\n",
      "스코어는 몇대몇입니까? 10:9\n"
     ]
    },
    {
     "name": "stdout",
     "output_type": "stream",
     "text": [
      "\n",
      "\n",
      "[속보] KT 가 10:9 승리...\n",
      "오늘 고척 경기장에서 야구 경기가 있었습니다\n",
      "KT 와 LG 는 치열한 공방전을 펼쳤습니다.\n",
      "이 경기에서 강백호 가 맹활약을 했습니다.\n",
      "그 끝내 KT 가 LG 를 10:9 로 승리하였습니다.\n",
      "기사 끝\n"
     ]
    }
   ],
   "source": [
    "location = input(\"경기장은 어디입니까?\")\n",
    "team = input(\"이긴 팀은 어디입니까?\")\n",
    "team1 = input(\"진팀은 어디입니까?\")\n",
    "player = input(\"우수 선수는 누구입니까?\")\n",
    "score = input(\"스코어는 몇대몇입니까?\")\n",
    "\n",
    "print(\"\\n\")\n",
    "print(\"[속보]\", team, \"가\", score, \"승리...\")\n",
    "print(\"오늘\", location, \"경기장에서\", \"야구 경기가 있었습니다\")\n",
    "print(team, \"와\", team1, \"는 치열한 공방전을 펼쳤습니다.\")\n",
    "print(\"이 경기에서\", player, \"가 맹활약을 했습니다.\")\n",
    "print(\"그 끝내\", team, \"가\",team1, \"를\", score, \"로 승리하였습니다.\")\n",
    "print(\"기사 끝\")"
   ]
  },
  {
   "cell_type": "code",
   "execution_count": 4,
   "id": "c23d7081-5e28-484d-b3b1-43a0cb7b928e",
   "metadata": {},
   "outputs": [
    {
     "name": "stdout",
     "output_type": "stream",
     "text": [
      "<class 'list'>\n",
      "['1', '2', '3']\n"
     ]
    }
   ],
   "source": [
    "result = '1,2,3'. split(',')\n",
    "print(type(result))\n",
    "print(result)"
   ]
  },
  {
   "cell_type": "code",
   "execution_count": 36,
   "id": "6d793533-a0de-4e0d-872f-fd65b5f14392",
   "metadata": {},
   "outputs": [
    {
     "name": "stdout",
     "output_type": "stream",
     "text": [
      "실행 결과:\n",
      "['시:12']\n",
      "['분:33']\n",
      "['초:23']\n"
     ]
    }
   ],
   "source": [
    "result1 = '시:12' . split(',')\n",
    "result2 = '분:33' . split(',')\n",
    "result3 = '초:23' . split(',')\n",
    "print(\"실행 결과:\")\n",
    "print(result1)\n",
    "print(result2)\n",
    "print(result3)"
   ]
  },
  {
   "cell_type": "code",
   "execution_count": 57,
   "id": "151ab332-8e8b-4a7b-bb52-e6b8bdfcd28b",
   "metadata": {},
   "outputs": [
    {
     "name": "stdin",
     "output_type": "stream",
     "text": [
      "hh:mm:ss의 형태로 시간을 입렵해주세요 12:23:33\n"
     ]
    },
    {
     "name": "stdout",
     "output_type": "stream",
     "text": [
      "시 : 12\n",
      "분 : 23\n",
      "초 : 33\n"
     ]
    }
   ],
   "source": [
    "h, m, s = input(\"hh:mm:ss의 형태로 시간을 입렵해주세요\").split(\":\")\n",
    "\n",
    "print(\"시 :\", h)\n",
    "print(\"분 :\", m)\n",
    "print(\"초 :\", s)"
   ]
  },
  {
   "cell_type": "code",
   "execution_count": 3,
   "id": "a9ebb32a-3429-4d2d-bd7b-742702d393cf",
   "metadata": {},
   "outputs": [
    {
     "name": "stdout",
     "output_type": "stream",
     "text": [
      "[1, 2, 3, 4]\n"
     ]
    }
   ],
   "source": [
    "# map() 내장 함수 이용하기 : 객체에서 요소 하나를 꺼내서 사용하고 싶은 경우 사용\n",
    "# int = 함수, list(map(int, a)) - > int라는 함수를 넣는다 그리고 Map이라는 함수는 괄호 안의 int라는 함수를 적용하는 함수이다. 마지막으로 a는 원하는 결과를 도출하기 위한 시퀀스 이다.\n",
    "# list는 나열 및 추출을 목표로 하는 함수이다.\n",
    "\n",
    "\n",
    "a = [1.2, 2.5, 3.7, 4.6]\n",
    "a = list(map(int, a))\n",
    "print(a)"
   ]
  },
  {
   "cell_type": "code",
   "execution_count": 1,
   "id": "1e89594c-3ce0-401b-aa43-7d92975381ef",
   "metadata": {},
   "outputs": [
    {
     "name": "stdin",
     "output_type": "stream",
     "text": [
      "국어, 영어, 수학, 과학 점수를 입력해주세요 98,100,96,100\n"
     ]
    },
    {
     "name": "stdout",
     "output_type": "stream",
     "text": [
      "실행 결과\n",
      "98.5\n"
     ]
    }
   ],
   "source": [
    "kor, eng, mat, sci = input(\"국어, 영어, 수학, 과학 점수를 입력해주세요\"). split(\",\")\n",
    "\n",
    "print(\"실행 결과\")\n",
    "print((98+100+96+100)/4)"
   ]
  },
  {
   "cell_type": "code",
   "execution_count": null,
   "id": "e46857ad-cf97-4474-9914-0f782d4813cc",
   "metadata": {},
   "outputs": [],
   "source": [
    "kor, eng, mat, sci = "
   ]
  },
  {
   "cell_type": "code",
   "execution_count": 10,
   "id": "bcb9b52a-82f3-4348-baed-393cfc9e4aad",
   "metadata": {},
   "outputs": [
    {
     "name": "stdin",
     "output_type": "stream",
     "text": [
      "국어 점수는 몇 점인가요? 98\n",
      "영어 점수는 몇 점인가요? 100\n",
      "수학 점수는 몇 점인가요? 96\n",
      "과학 점수는 몇 점인가요? 100\n"
     ]
    },
    {
     "ename": "TypeError",
     "evalue": "unsupported operand type(s) for +: 'int' and 'str'",
     "output_type": "error",
     "traceback": [
      "\u001b[1;31m---------------------------------------------------------------------------\u001b[0m",
      "\u001b[1;31mTypeError\u001b[0m                                 Traceback (most recent call last)",
      "\u001b[1;32m~\\AppData\\Local\\Temp\\ipykernel_12140\\242516562.py\u001b[0m in \u001b[0;36m<module>\u001b[1;34m\u001b[0m\n\u001b[0;32m      3\u001b[0m \u001b[0mmat\u001b[0m \u001b[1;33m=\u001b[0m \u001b[0minput\u001b[0m\u001b[1;33m(\u001b[0m\u001b[1;34m\"수학 점수는 몇 점인가요?\"\u001b[0m\u001b[1;33m)\u001b[0m\u001b[1;33m\u001b[0m\u001b[1;33m\u001b[0m\u001b[0m\n\u001b[0;32m      4\u001b[0m \u001b[0msci\u001b[0m \u001b[1;33m=\u001b[0m \u001b[0minput\u001b[0m\u001b[1;33m(\u001b[0m\u001b[1;34m\"과학 점수는 몇 점인가요?\"\u001b[0m\u001b[1;33m)\u001b[0m\u001b[1;33m\u001b[0m\u001b[1;33m\u001b[0m\u001b[0m\n\u001b[1;32m----> 5\u001b[1;33m \u001b[0mresult\u001b[0m \u001b[1;33m=\u001b[0m \u001b[0msum\u001b[0m\u001b[1;33m(\u001b[0m\u001b[0mkor\u001b[0m\u001b[1;33m+\u001b[0m\u001b[0meng\u001b[0m\u001b[1;33m+\u001b[0m\u001b[0mmat\u001b[0m\u001b[1;33m+\u001b[0m\u001b[0msci\u001b[0m\u001b[1;33m)\u001b[0m\u001b[1;33m\u001b[0m\u001b[1;33m\u001b[0m\u001b[0m\n\u001b[0m\u001b[0;32m      6\u001b[0m \u001b[0mprint\u001b[0m\u001b[1;33m(\u001b[0m\u001b[1;34m\"실행 결과\"\u001b[0m\u001b[1;33m)\u001b[0m\u001b[1;33m\u001b[0m\u001b[1;33m\u001b[0m\u001b[0m\n\u001b[0;32m      7\u001b[0m \u001b[0mprint\u001b[0m\u001b[1;33m(\u001b[0m\u001b[1;34mf\"average : {result / len(4)}\"\u001b[0m\u001b[1;33m)\u001b[0m\u001b[1;33m\u001b[0m\u001b[1;33m\u001b[0m\u001b[0m\n",
      "\u001b[1;31mTypeError\u001b[0m: unsupported operand type(s) for +: 'int' and 'str'"
     ]
    }
   ],
   "source": [
    "kor = input(\"국어 점수는 몇 점인가요?\")\n",
    "eng = input(\"영어 점수는 몇 점인가요?\")\n",
    "mat = input(\"수학 점수는 몇 점인가요?\")\n",
    "sci = input(\"과학 점수는 몇 점인가요?\")\n",
    "result = sum(kor+eng+mat+sci)\n",
    "print(\"실행 결과\")\n",
    "print(f\"average : {result / len(4)}\")"
   ]
  }
 ],
 "metadata": {
  "kernelspec": {
   "display_name": "Python 3 (ipykernel)",
   "language": "python",
   "name": "python3"
  },
  "language_info": {
   "codemirror_mode": {
    "name": "ipython",
    "version": 3
   },
   "file_extension": ".py",
   "mimetype": "text/x-python",
   "name": "python",
   "nbconvert_exporter": "python",
   "pygments_lexer": "ipython3",
   "version": "3.9.13"
  }
 },
 "nbformat": 4,
 "nbformat_minor": 5
}
