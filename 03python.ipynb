{
 "cells": [
  {
   "cell_type": "code",
   "execution_count": 7,
   "id": "35cea22d-3e8b-4eff-b823-5285e5d7f705",
   "metadata": {},
   "outputs": [
    {
     "name": "stdout",
     "output_type": "stream",
     "text": [
      "Hello, world!\n",
      "Hello, world!\n",
      "Python Programming\n"
     ]
    }
   ],
   "source": [
    "print('Hello, world!')\n",
    "print('Hello, world!')\n",
    "print('Python Programming')"
   ]
  },
  {
   "cell_type": "code",
   "execution_count": 9,
   "id": "3b4ebdf3-9444-4363-98d6-dea84e1567a7",
   "metadata": {},
   "outputs": [
    {
     "data": {
      "text/plain": [
       "89"
      ]
     },
     "execution_count": 9,
     "metadata": {},
     "output_type": "execute_result"
    }
   ],
   "source": [
    "13+(22-3)*4"
   ]
  },
  {
   "cell_type": "code",
   "execution_count": 10,
   "id": "c9029242-cf3c-406e-8a0a-41bd3334c48d",
   "metadata": {},
   "outputs": [
    {
     "data": {
      "text/plain": [
       "28.2"
      ]
     },
     "execution_count": 10,
     "metadata": {},
     "output_type": "execute_result"
    }
   ],
   "source": [
    "13+((22-3)*4)/5"
   ]
  },
  {
   "cell_type": "code",
   "execution_count": 16,
   "id": "b9bf52b0-985c-4b75-b170-74d09761ba6e",
   "metadata": {},
   "outputs": [
    {
     "data": {
      "text/plain": [
       "128"
      ]
     },
     "execution_count": 16,
     "metadata": {},
     "output_type": "execute_result"
    }
   ],
   "source": [
    "2**7"
   ]
  },
  {
   "cell_type": "code",
   "execution_count": 17,
   "id": "c19ec817-e266-4d78-a4a2-9e378a71d0cf",
   "metadata": {},
   "outputs": [
    {
     "data": {
      "text/plain": [
       "1.7320508075688772"
      ]
     },
     "execution_count": 17,
     "metadata": {},
     "output_type": "execute_result"
    }
   ],
   "source": [
    "3**(1/2)"
   ]
  },
  {
   "cell_type": "code",
   "execution_count": 18,
   "id": "5a85ac21-0aaa-42ad-be1f-44b02cae64d9",
   "metadata": {},
   "outputs": [
    {
     "data": {
      "text/plain": [
       "1"
      ]
     },
     "execution_count": 18,
     "metadata": {},
     "output_type": "execute_result"
    }
   ],
   "source": [
    "3//2"
   ]
  },
  {
   "cell_type": "code",
   "execution_count": 19,
   "id": "d58ec5e3-b974-485f-adec-fb62dd985c0f",
   "metadata": {},
   "outputs": [
    {
     "data": {
      "text/plain": [
       "1"
      ]
     },
     "execution_count": 19,
     "metadata": {},
     "output_type": "execute_result"
    }
   ],
   "source": [
    "3%2"
   ]
  },
  {
   "cell_type": "code",
   "execution_count": 20,
   "id": "4d69a7c1-c71b-49b5-9740-e643ad381e40",
   "metadata": {},
   "outputs": [],
   "source": [
    "a = 2+3j\n",
    "b = complex(3,-4)"
   ]
  },
  {
   "cell_type": "code",
   "execution_count": 23,
   "id": "ea092403-ef5e-4f6c-9322-e0b928f6aaa0",
   "metadata": {},
   "outputs": [
    {
     "data": {
      "text/plain": [
       "2.0"
      ]
     },
     "execution_count": 23,
     "metadata": {},
     "output_type": "execute_result"
    }
   ],
   "source": [
    "a. real"
   ]
  },
  {
   "cell_type": "code",
   "execution_count": 25,
   "id": "ca279601-02c7-4021-8b71-6f1125a56ac0",
   "metadata": {},
   "outputs": [
    {
     "data": {
      "text/plain": [
       "3.0"
      ]
     },
     "execution_count": 25,
     "metadata": {},
     "output_type": "execute_result"
    }
   ],
   "source": [
    "a. imag"
   ]
  },
  {
   "cell_type": "code",
   "execution_count": 32,
   "id": "8ab34282-a54a-4afb-a1dd-0885d714bedc",
   "metadata": {},
   "outputs": [
    {
     "data": {
      "text/plain": [
       "3"
      ]
     },
     "execution_count": 32,
     "metadata": {},
     "output_type": "execute_result"
    }
   ],
   "source": [
    "int(3.3)"
   ]
  },
  {
   "cell_type": "code",
   "execution_count": 33,
   "id": "ebd3595e-3be5-4384-9029-af5bf9c9e385",
   "metadata": {},
   "outputs": [
    {
     "data": {
      "text/plain": [
       "104"
      ]
     },
     "execution_count": 33,
     "metadata": {},
     "output_type": "execute_result"
    }
   ],
   "source": [
    "int(104.45)"
   ]
  },
  {
   "cell_type": "code",
   "execution_count": 34,
   "id": "14da5ff9-a43e-444d-85dd-5c2fb27c78f2",
   "metadata": {},
   "outputs": [
    {
     "data": {
      "text/plain": [
       "3.0"
      ]
     },
     "execution_count": 34,
     "metadata": {},
     "output_type": "execute_result"
    }
   ],
   "source": [
    "float(3)"
   ]
  },
  {
   "cell_type": "code",
   "execution_count": 35,
   "id": "21f73f6e-4b67-491e-a08e-bf0ade8caaef",
   "metadata": {},
   "outputs": [
    {
     "data": {
      "text/plain": [
       "16.0"
      ]
     },
     "execution_count": 35,
     "metadata": {},
     "output_type": "execute_result"
    }
   ],
   "source": [
    "float(4*4)"
   ]
  },
  {
   "cell_type": "code",
   "execution_count": 38,
   "id": "f4057192-d3aa-425d-9b59-191dbb5db660",
   "metadata": {},
   "outputs": [
    {
     "ename": "NameError",
     "evalue": "name '문자열' is not defined",
     "output_type": "error",
     "traceback": [
      "\u001b[1;31m---------------------------------------------------------------------------\u001b[0m",
      "\u001b[1;31mNameError\u001b[0m                                 Traceback (most recent call last)",
      "\u001b[1;32m~\\AppData\\Local\\Temp\\ipykernel_2132\\2537615269.py\u001b[0m in \u001b[0;36m<module>\u001b[1;34m\u001b[0m\n\u001b[1;32m----> 1\u001b[1;33m \u001b[0mint\u001b[0m\u001b[1;33m(\u001b[0m\u001b[0m문자열\u001b[0m\u001b[1;33m)\u001b[0m\u001b[1;33m\u001b[0m\u001b[1;33m\u001b[0m\u001b[0m\n\u001b[0m",
      "\u001b[1;31mNameError\u001b[0m: name '문자열' is not defined"
     ]
    }
   ],
   "source": [
    "int(문자열)"
   ]
  },
  {
   "cell_type": "code",
   "execution_count": 45,
   "id": "eccf01d6-22df-4e66-9801-1aa28cdc7cd4",
   "metadata": {},
   "outputs": [
    {
     "name": "stdout",
     "output_type": "stream",
     "text": [
      "7\n"
     ]
    }
   ],
   "source": [
    "print(int((0.2462*12)+4.159))"
   ]
  },
  {
   "cell_type": "code",
   "execution_count": 46,
   "id": "0b5aa615-e808-43a7-ace4-e7bb301218e9",
   "metadata": {},
   "outputs": [
    {
     "name": "stdout",
     "output_type": "stream",
     "text": [
      "가장 시끄러운 층은 = 7 층\n"
     ]
    }
   ],
   "source": [
    "print(\"가장\", \"시끄러운\", \"층은\", \"=\", \"7\", \"층\")"
   ]
  },
  {
   "cell_type": "code",
   "execution_count": 54,
   "id": "753a8fa0-d03c-4645-9cc5-4095a9a223da",
   "metadata": {},
   "outputs": [
    {
     "name": "stdout",
     "output_type": "stream",
     "text": [
      "가장 시끄러운 층은 = 7층\n"
     ]
    }
   ],
   "source": [
    "print(\"가장 시끄러운 층은 = 7층\")"
   ]
  },
  {
   "cell_type": "code",
   "execution_count": 61,
   "id": "95663bf7-5ff9-4495-bf74-ae4b41daf848",
   "metadata": {},
   "outputs": [
    {
     "data": {
      "text/plain": [
       "1272000"
      ]
     },
     "execution_count": 61,
     "metadata": {},
     "output_type": "execute_result"
    }
   ],
   "source": [
    "(53000*24)"
   ]
  },
  {
   "cell_type": "code",
   "execution_count": 62,
   "id": "a1110b3d-0ea0-4c70-a726-05b79e5b88b7",
   "metadata": {},
   "outputs": [
    {
     "name": "stdout",
     "output_type": "stream",
     "text": [
      "냉장고 가격은 1272000 원 입니다\n"
     ]
    }
   ],
   "source": [
    "refrige_price = 53000*24\n",
    "print(\"냉장고 가격은\", refrige_price, \"원 입니다\")"
   ]
  },
  {
   "cell_type": "code",
   "execution_count": 77,
   "id": "439e762d-6a41-44f1-9a59-839f6d57c745",
   "metadata": {},
   "outputs": [
    {
     "name": "stdout",
     "output_type": "stream",
     "text": [
      "총 지불 해야 할 금액은 16500000 원 입니다\n"
     ]
    }
   ],
   "source": [
    "price = 66000*250\n",
    "print(\"총 지불 해야 할 금액은\", price, \"원 입니다\")"
   ]
  },
  {
   "cell_type": "code",
   "execution_count": 92,
   "id": "dd1073bd-28bb-4733-b1be-ad1ff1fdca53",
   "metadata": {},
   "outputs": [
    {
     "name": "stdout",
     "output_type": "stream",
     "text": [
      "총 지불 해야 할 금액은 16500000.000000002 원 입니다\n"
     ]
    }
   ],
   "source": [
    "price = 20000*3*250*1.1\n",
    "print(\"총 지불 해야 할 금액은\", price, \"원 입니다\")"
   ]
  },
  {
   "cell_type": "code",
   "execution_count": 97,
   "id": "cc05db3f-d493-4f07-a081-cea316957063",
   "metadata": {},
   "outputs": [
    {
     "name": "stdout",
     "output_type": "stream",
     "text": [
      "453.0\n"
     ]
    }
   ],
   "source": [
    "print((380*0.6)+225)"
   ]
  },
  {
   "cell_type": "code",
   "execution_count": 98,
   "id": "aded8476-9723-46f1-894a-081e82f17101",
   "metadata": {},
   "outputs": [
    {
     "data": {
      "text/plain": [
       "453.0"
      ]
     },
     "execution_count": 98,
     "metadata": {},
     "output_type": "execute_result"
    }
   ],
   "source": [
    "380*0.6+225"
   ]
  },
  {
   "cell_type": "code",
   "execution_count": 99,
   "id": "8015ba43-92cb-466a-aaad-8436c2a06bab",
   "metadata": {},
   "outputs": [
    {
     "name": "stdout",
     "output_type": "stream",
     "text": [
      "453.0\n"
     ]
    }
   ],
   "source": [
    "print(380*0.6+225)"
   ]
  },
  {
   "cell_type": "code",
   "execution_count": 100,
   "id": "a59719a2-a1ee-47ce-b8ba-26ab97c14861",
   "metadata": {},
   "outputs": [
    {
     "data": {
      "text/plain": [
       "453.0"
      ]
     },
     "execution_count": 100,
     "metadata": {},
     "output_type": "execute_result"
    }
   ],
   "source": [
    "float(380*0.6+225)"
   ]
  },
  {
   "cell_type": "code",
   "execution_count": 101,
   "id": "b2aadeb0-ddce-4ebc-8848-83d773b117e6",
   "metadata": {},
   "outputs": [
    {
     "data": {
      "text/plain": [
       "453"
      ]
     },
     "execution_count": 101,
     "metadata": {},
     "output_type": "execute_result"
    }
   ],
   "source": [
    "int(380*0.6+225)"
   ]
  }
 ],
 "metadata": {
  "kernelspec": {
   "display_name": "Python 3 (ipykernel)",
   "language": "python",
   "name": "python3"
  },
  "language_info": {
   "codemirror_mode": {
    "name": "ipython",
    "version": 3
   },
   "file_extension": ".py",
   "mimetype": "text/x-python",
   "name": "python",
   "nbconvert_exporter": "python",
   "pygments_lexer": "ipython3",
   "version": "3.9.13"
  }
 },
 "nbformat": 4,
 "nbformat_minor": 5
}
