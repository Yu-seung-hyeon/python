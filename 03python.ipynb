{
 "cells": [
  {
   "cell_type": "code",
   "execution_count": 7,
   "id": "35cea22d-3e8b-4eff-b823-5285e5d7f705",
   "metadata": {},
   "outputs": [
    {
     "name": "stdout",
     "output_type": "stream",
     "text": [
      "Hello, world!\n",
      "Hello, world!\n",
      "Python Programming\n"
     ]
    }
   ],
   "source": [
    "print('Hello, world!')\n",
    "print('Hello, world!')\n",
    "print('Python Programming')"
   ]
  },
  {
   "cell_type": "code",
   "execution_count": 9,
   "id": "3b4ebdf3-9444-4363-98d6-dea84e1567a7",
   "metadata": {},
   "outputs": [
    {
     "data": {
      "text/plain": [
       "89"
      ]
     },
     "execution_count": 9,
     "metadata": {},
     "output_type": "execute_result"
    }
   ],
   "source": [
    "13+(22-3)*4"
   ]
  },
  {
   "cell_type": "code",
   "execution_count": 10,
   "id": "c9029242-cf3c-406e-8a0a-41bd3334c48d",
   "metadata": {},
   "outputs": [
    {
     "data": {
      "text/plain": [
       "28.2"
      ]
     },
     "execution_count": 10,
     "metadata": {},
     "output_type": "execute_result"
    }
   ],
   "source": [
    "13+((22-3)*4)/5"
   ]
  },
  {
   "cell_type": "code",
   "execution_count": 16,
   "id": "b9bf52b0-985c-4b75-b170-74d09761ba6e",
   "metadata": {},
   "outputs": [
    {
     "data": {
      "text/plain": [
       "128"
      ]
     },
     "execution_count": 16,
     "metadata": {},
     "output_type": "execute_result"
    }
   ],
   "source": [
    "2**7"
   ]
  },
  {
   "cell_type": "code",
   "execution_count": 17,
   "id": "c19ec817-e266-4d78-a4a2-9e378a71d0cf",
   "metadata": {},
   "outputs": [
    {
     "data": {
      "text/plain": [
       "1.7320508075688772"
      ]
     },
     "execution_count": 17,
     "metadata": {},
     "output_type": "execute_result"
    }
   ],
   "source": [
    "3**(1/2)"
   ]
  },
  {
   "cell_type": "code",
   "execution_count": 18,
   "id": "5a85ac21-0aaa-42ad-be1f-44b02cae64d9",
   "metadata": {},
   "outputs": [
    {
     "data": {
      "text/plain": [
       "1"
      ]
     },
     "execution_count": 18,
     "metadata": {},
     "output_type": "execute_result"
    }
   ],
   "source": [
    "3//2"
   ]
  },
  {
   "cell_type": "code",
   "execution_count": 19,
   "id": "d58ec5e3-b974-485f-adec-fb62dd985c0f",
   "metadata": {},
   "outputs": [
    {
     "data": {
      "text/plain": [
       "1"
      ]
     },
     "execution_count": 19,
     "metadata": {},
     "output_type": "execute_result"
    }
   ],
   "source": [
    "3%2"
   ]
  },
  {
   "cell_type": "code",
   "execution_count": 20,
   "id": "4d69a7c1-c71b-49b5-9740-e643ad381e40",
   "metadata": {},
   "outputs": [],
   "source": [
    "a = 2+3j\n",
    "b = complex(3,-4)"
   ]
  },
  {
   "cell_type": "code",
   "execution_count": 23,
   "id": "ea092403-ef5e-4f6c-9322-e0b928f6aaa0",
   "metadata": {},
   "outputs": [
    {
     "data": {
      "text/plain": [
       "2.0"
      ]
     },
     "execution_count": 23,
     "metadata": {},
     "output_type": "execute_result"
    }
   ],
   "source": [
    "a. real"
   ]
  },
  {
   "cell_type": "code",
   "execution_count": 25,
   "id": "ca279601-02c7-4021-8b71-6f1125a56ac0",
   "metadata": {},
   "outputs": [
    {
     "data": {
      "text/plain": [
       "3.0"
      ]
     },
     "execution_count": 25,
     "metadata": {},
     "output_type": "execute_result"
    }
   ],
   "source": [
    "a. imag"
   ]
  },
  {
   "cell_type": "code",
   "execution_count": 32,
   "id": "8ab34282-a54a-4afb-a1dd-0885d714bedc",
   "metadata": {},
   "outputs": [
    {
     "data": {
      "text/plain": [
       "3"
      ]
     },
     "execution_count": 32,
     "metadata": {},
     "output_type": "execute_result"
    }
   ],
   "source": [
    "int(3.3)"
   ]
  },
  {
   "cell_type": "code",
   "execution_count": 33,
   "id": "ebd3595e-3be5-4384-9029-af5bf9c9e385",
   "metadata": {},
   "outputs": [
    {
     "data": {
      "text/plain": [
       "104"
      ]
     },
     "execution_count": 33,
     "metadata": {},
     "output_type": "execute_result"
    }
   ],
   "source": [
    "int(104.45)"
   ]
  },
  {
   "cell_type": "code",
   "execution_count": 34,
   "id": "14da5ff9-a43e-444d-85dd-5c2fb27c78f2",
   "metadata": {},
   "outputs": [
    {
     "data": {
      "text/plain": [
       "3.0"
      ]
     },
     "execution_count": 34,
     "metadata": {},
     "output_type": "execute_result"
    }
   ],
   "source": [
    "float(3)"
   ]
  },
  {
   "cell_type": "code",
   "execution_count": 35,
   "id": "21f73f6e-4b67-491e-a08e-bf0ade8caaef",
   "metadata": {},
   "outputs": [
    {
     "data": {
      "text/plain": [
       "16.0"
      ]
     },
     "execution_count": 35,
     "metadata": {},
     "output_type": "execute_result"
    }
   ],
   "source": [
    "float(4*4)"
   ]
  },
  {
   "cell_type": "code",
   "execution_count": 38,
   "id": "f4057192-d3aa-425d-9b59-191dbb5db660",
   "metadata": {},
   "outputs": [
    {
     "ename": "NameError",
     "evalue": "name '문자열' is not defined",
     "output_type": "error",
     "traceback": [
      "\u001b[1;31m---------------------------------------------------------------------------\u001b[0m",
      "\u001b[1;31mNameError\u001b[0m                                 Traceback (most recent call last)",
      "\u001b[1;32m~\\AppData\\Local\\Temp\\ipykernel_2132\\2537615269.py\u001b[0m in \u001b[0;36m<module>\u001b[1;34m\u001b[0m\n\u001b[1;32m----> 1\u001b[1;33m \u001b[0mint\u001b[0m\u001b[1;33m(\u001b[0m\u001b[0m문자열\u001b[0m\u001b[1;33m)\u001b[0m\u001b[1;33m\u001b[0m\u001b[1;33m\u001b[0m\u001b[0m\n\u001b[0m",
      "\u001b[1;31mNameError\u001b[0m: name '문자열' is not defined"
     ]
    }
   ],
   "source": [
    "int(문자열)"
   ]
  },
  {
   "cell_type": "code",
   "execution_count": 45,
   "id": "eccf01d6-22df-4e66-9801-1aa28cdc7cd4",
   "metadata": {},
   "outputs": [
    {
     "name": "stdout",
     "output_type": "stream",
     "text": [
      "7\n"
     ]
    }
   ],
   "source": [
    "print(int((0.2462*12)+4.159))"
   ]
  },
  {
   "cell_type": "code",
   "execution_count": 46,
   "id": "0b5aa615-e808-43a7-ace4-e7bb301218e9",
   "metadata": {},
   "outputs": [
    {
     "name": "stdout",
     "output_type": "stream",
     "text": [
      "가장 시끄러운 층은 = 7 층\n"
     ]
    }
   ],
   "source": [
    "print(\"가장\", \"시끄러운\", \"층은\", \"=\", \"7\", \"층\")"
   ]
  },
  {
   "cell_type": "code",
   "execution_count": 54,
   "id": "753a8fa0-d03c-4645-9cc5-4095a9a223da",
   "metadata": {},
   "outputs": [
    {
     "name": "stdout",
     "output_type": "stream",
     "text": [
      "가장 시끄러운 층은 = 7층\n"
     ]
    }
   ],
   "source": [
    "print(\"가장 시끄러운 층은 = 7층\")"
   ]
  },
  {
   "cell_type": "code",
   "execution_count": 61,
   "id": "95663bf7-5ff9-4495-bf74-ae4b41daf848",
   "metadata": {},
   "outputs": [
    {
     "data": {
      "text/plain": [
       "1272000"
      ]
     },
     "execution_count": 61,
     "metadata": {},
     "output_type": "execute_result"
    }
   ],
   "source": [
    "(53000*24)"
   ]
  },
  {
   "cell_type": "code",
   "execution_count": 62,
   "id": "a1110b3d-0ea0-4c70-a726-05b79e5b88b7",
   "metadata": {},
   "outputs": [
    {
     "name": "stdout",
     "output_type": "stream",
     "text": [
      "냉장고 가격은 1272000 원 입니다\n"
     ]
    }
   ],
   "source": [
    "refrige_price = 53000*24\n",
    "print(\"냉장고 가격은\", refrige_price, \"원 입니다\")"
   ]
  },
  {
   "cell_type": "code",
   "execution_count": 77,
   "id": "439e762d-6a41-44f1-9a59-839f6d57c745",
   "metadata": {},
   "outputs": [
    {
     "name": "stdout",
     "output_type": "stream",
     "text": [
      "총 지불 해야 할 금액은 16500000 원 입니다\n"
     ]
    }
   ],
   "source": [
    "price = 66000*250\n",
    "print(\"총 지불 해야 할 금액은\", price, \"원 입니다\")"
   ]
  },
  {
   "cell_type": "code",
   "execution_count": 92,
   "id": "dd1073bd-28bb-4733-b1be-ad1ff1fdca53",
   "metadata": {},
   "outputs": [
    {
     "name": "stdout",
     "output_type": "stream",
     "text": [
      "총 지불 해야 할 금액은 16500000.000000002 원 입니다\n"
     ]
    }
   ],
   "source": [
    "price = 20000*3*250*1.1\n",
    "print(\"총 지불 해야 할 금액은\", price, \"원 입니다\")"
   ]
  },
  {
   "cell_type": "code",
   "execution_count": 97,
   "id": "cc05db3f-d493-4f07-a081-cea316957063",
   "metadata": {},
   "outputs": [
    {
     "name": "stdout",
     "output_type": "stream",
     "text": [
      "453.0\n"
     ]
    }
   ],
   "source": [
    "print((380*0.6)+225)"
   ]
  },
  {
   "cell_type": "code",
   "execution_count": 98,
   "id": "aded8476-9723-46f1-894a-081e82f17101",
   "metadata": {},
   "outputs": [
    {
     "data": {
      "text/plain": [
       "453.0"
      ]
     },
     "execution_count": 98,
     "metadata": {},
     "output_type": "execute_result"
    }
   ],
   "source": [
    "380*0.6+225"
   ]
  },
  {
   "cell_type": "code",
   "execution_count": 99,
   "id": "8015ba43-92cb-466a-aaad-8436c2a06bab",
   "metadata": {},
   "outputs": [
    {
     "name": "stdout",
     "output_type": "stream",
     "text": [
      "453.0\n"
     ]
    }
   ],
   "source": [
    "print(380*0.6+225)"
   ]
  },
  {
   "cell_type": "code",
   "execution_count": 100,
   "id": "a59719a2-a1ee-47ce-b8ba-26ab97c14861",
   "metadata": {},
   "outputs": [
    {
     "data": {
      "text/plain": [
       "453.0"
      ]
     },
     "execution_count": 100,
     "metadata": {},
     "output_type": "execute_result"
    }
   ],
   "source": [
    "float(380*0.6+225)"
   ]
  },
  {
   "cell_type": "code",
   "execution_count": 101,
   "id": "b2aadeb0-ddce-4ebc-8848-83d773b117e6",
   "metadata": {},
   "outputs": [
    {
     "data": {
      "text/plain": [
       "453"
      ]
     },
     "execution_count": 101,
     "metadata": {},
     "output_type": "execute_result"
    }
   ],
   "source": [
    "int(380*0.6+225)"
   ]
  },
  {
   "cell_type": "code",
   "execution_count": 4,
   "id": "6742dba8-286a-487d-ae7c-74a86019f6cf",
   "metadata": {},
   "outputs": [
    {
     "name": "stdout",
     "output_type": "stream",
     "text": [
      "너무너무너무너무너무너무너무너무너무너무너무너무너무너무너무너무너무너무너무너무너무너무너무너무너무너무너무너무너무너무너무너무너무너무너무너무너무너무너무너무너무너무너무너무너무너무너무너무너무너무너무너무너무너무너무너무너무너무너무너무너무너무너무너무너무너무너무너무너무너무너무너무너무너무너무너무너무너무너무너무너무너무너무너무너무너무너무너무너무너무너무너무너무너무너무너무너무너무너무너무 파이썬 공부가 즐겁습니다.\n"
     ]
    }
   ],
   "source": [
    "s6 = \"너무\" *100+\" 파이썬 공부가 즐겁습니다.\"\n",
    "print(s6)"
   ]
  },
  {
   "cell_type": "code",
   "execution_count": 29,
   "id": "136d7c0a-f43d-47af-8bea-7e58b37c79cd",
   "metadata": {},
   "outputs": [
    {
     "name": "stdout",
     "output_type": "stream",
     "text": [
      "너무너무너무너무너무너무너무너무너무너무너무너무너무너무너무너무너무너무너무너무너무너무너무너무너무너무너무너무너무너무너무너무너무너무너무너무너무너무너무너무너무너무너무너무너무너무너무너무너무너무너무너무너무너무너무너무너무너무너무너무너무너무너무너무너무너무너무너무너무너무너무너무너무너무너무너무너무너무너무너무너무너무너무너무너무너무너무너무너무너무너무너무너무너무너무너무너무너무너무너무 파이썬 공부가 즐겁습니다.\n"
     ]
    }
   ],
   "source": [
    "print(s6)\n",
    "s6 = \"너무\" *100+\" 파이썬 공부가 즐겁습니다.\""
   ]
  },
  {
   "cell_type": "code",
   "execution_count": 50,
   "id": "815149c7-e032-4641-a579-0784dfcf30be",
   "metadata": {},
   "outputs": [
    {
     "name": "stdout",
     "output_type": "stream",
     "text": [
      "P\n",
      "n\n",
      "n\n",
      "P\n"
     ]
    }
   ],
   "source": [
    "word = \"Python\"\n",
    "# 인덱스는 0부터 시작한다.\n",
    "print(word [0])\n",
    "print(word [5])\n",
    "# 인덱스는 -1부터 시작한다.\n",
    "print(word [-1])\n",
    "print(word [-6])"
   ]
  },
  {
   "cell_type": "code",
   "execution_count": 63,
   "id": "e31e5cc7-858b-40ff-9a95-b1e8797667ad",
   "metadata": {},
   "outputs": [
    {
     "name": "stdout",
     "output_type": "stream",
     "text": [
      "꺽\n"
     ]
    }
   ],
   "source": [
    "sentence = \"중요한 것은 꺽이지 않는 마음\"\n",
    "print(sentence [7])"
   ]
  },
  {
   "cell_type": "code",
   "execution_count": 70,
   "id": "d5bb3ddc-de21-4b0c-94e8-50040a760796",
   "metadata": {},
   "outputs": [
    {
     "name": "stdout",
     "output_type": "stream",
     "text": [
      "Py\n",
      "Pyt\n",
      "Python\n",
      "\n",
      "\n",
      "Python\n"
     ]
    }
   ],
   "source": [
    "word = \"Python\"\n",
    "print(word[0:2])\n",
    "print(word[:-3])\n",
    "print(word[:6])\n",
    "print(word[:-7])\n",
    "print(word[:0])\n",
    "print(word[0:])"
   ]
  },
  {
   "cell_type": "code",
   "execution_count": 74,
   "id": "9aee4172-34e0-4eec-87cc-a9576787b509",
   "metadata": {},
   "outputs": [
    {
     "name": "stdout",
     "output_type": "stream",
     "text": [
      "Pto\n",
      "yhn\n"
     ]
    }
   ],
   "source": [
    "word = \"Python\"\n",
    "print(word[::2])\n",
    "print(word[1:6:2])"
   ]
  },
  {
   "cell_type": "code",
   "execution_count": 79,
   "id": "964975c9-e378-4dc4-9188-a2c72b7698f1",
   "metadata": {},
   "outputs": [
    {
     "name": "stdout",
     "output_type": "stream",
     "text": [
      "\n",
      "한 것은 꺽이지 않는 마음\n",
      "한것 이 는마\n",
      "음 않지꺽은 \n"
     ]
    }
   ],
   "source": [
    "sentence = \"중요한 것은 꺽이지 않는 마음\"\n",
    "print(sentence[42:])\n",
    "print(sentence[2:42])\n",
    "print(sentence[2:15:2])\n",
    "print(sentence[-1:-15:-2])"
   ]
  },
  {
   "cell_type": "code",
   "execution_count": 116,
   "id": "8db50b96-eaf8-4f7f-ab4d-085c78b157ef",
   "metadata": {},
   "outputs": [
    {
     "name": "stdout",
     "output_type": "stream",
     "text": [
      "꺽이지 않는 마음\n",
      "꺽이지 않는 마음\n",
      "꺽이지 않는 마음\n",
      "음마 는않 지이\n",
      "꺽이지 않는 마음\n"
     ]
    }
   ],
   "source": [
    "sentence = \"중요한 것은 꺽이지 않는 마음\"\n",
    "print(sentence[7:16:1])\n",
    "print(sentence[7:16])\n",
    "print(sentence[7:])\n",
    "print(sentence[-1:-9:-1])\n",
    "print(sentence[-9::])"
   ]
  },
  {
   "cell_type": "code",
   "execution_count": 125,
   "id": "408660a4-24ba-48b6-a9d2-c8d5ea622868",
   "metadata": {},
   "outputs": [
    {
     "name": "stdout",
     "output_type": "stream",
     "text": [
      " 한요중\n",
      " 한요중\n",
      " 것은 꺽이지 않는 마음\n",
      " 한요\n",
      "한요\n",
      "한요중\n",
      "한요중\n",
      "\n",
      "한요중\n",
      "중요한\n"
     ]
    }
   ],
   "source": [
    "sentence = \"중요한 것은 꺽이지 않는 마음\"\n",
    "print(sentence[-13:-17:-1])\n",
    "print(sentence[-13::-1])\n",
    "print(sentence[-13:])\n",
    "print(sentence[-13:-16:-1])\n",
    "print(sentence[-14:-16:-1])\n",
    "print(sentence[-14:-17:-1])\n",
    "print(sentence[-14::-1])\n",
    "print(sentence[-17::-1])\n",
    "print(sentence[2::-1])\n",
    "print(sentence[-16:-13])"
   ]
  },
  {
   "cell_type": "code",
   "execution_count": 140,
   "id": "81672729-49cc-4bbc-bae5-5ffbc28de6c1",
   "metadata": {},
   "outputs": [
    {
     "name": "stdout",
     "output_type": "stream",
     "text": [
      "중요한\n",
      "[]\n",
      "중요한중요한중요한\n"
     ]
    }
   ],
   "source": [
    "sentence = \"중요한 것은 꺽이지 않는 마음\"\n",
    "print(sentence[0:3])\n",
    "print(squares[-13:-17])\n",
    "print(sentence[0:3] *3)"
   ]
  },
  {
   "cell_type": "code",
   "execution_count": 131,
   "id": "ffbc1baa-e31f-4c8f-98a8-928b1cb406fa",
   "metadata": {},
   "outputs": [
    {
     "name": "stdout",
     "output_type": "stream",
     "text": [
      "[1, 4, 9, 16, 25]\n",
      "36\n",
      "1\n",
      "25\n",
      "[9, 16, 25]\n"
     ]
    }
   ],
   "source": [
    "squares = [1**2, 2**2, 3**2, 4**2, 5**2]\n",
    "print(squares)\n",
    "print(6**2)\n",
    "print(squares[0])\n",
    "print(squares[-1])\n",
    "print(squares[-3:])"
   ]
  },
  {
   "cell_type": "code",
   "execution_count": 134,
   "id": "23aa73f8-ba7b-4726-8d6e-24f1dc54c4ee",
   "metadata": {},
   "outputs": [
    {
     "name": "stdout",
     "output_type": "stream",
     "text": [
      "[1, 4, 9, 16, 25, 36, 49, 64, 81, 100]\n",
      "['a', 'b', 'c', 'd', 'e', 'a', 'b', 'c', 'd', 'e', 'a', 'b', 'c', 'd', 'e']\n"
     ]
    }
   ],
   "source": [
    "print(squares + [36, 49, 64, 81, 100])\n",
    "letters = ['a', 'b', 'c', 'd', 'e']\n",
    "print(letters *3)"
   ]
  },
  {
   "cell_type": "code",
   "execution_count": 146,
   "id": "e6c9f270-9924-40b9-a06c-a048e08eff67",
   "metadata": {},
   "outputs": [
    {
     "name": "stdout",
     "output_type": "stream",
     "text": [
      "[1, 8, 27, 64, 125]\n",
      "['a', 'b', 'c', 'c', 'd', 'e']\n",
      "6\n"
     ]
    }
   ],
   "source": [
    "cubes = [1, 8, 27, 65, 125]\n",
    "cubes[3] = 4**3\n",
    "print(cubes)\n",
    "letters[3:5] = [\"c\", \"d\", \"e\"]\n",
    "print(letters)\n",
    "print(len(letters))"
   ]
  },
  {
   "cell_type": "code",
   "execution_count": 152,
   "id": "842ba4b8-2d56-4298-b53e-3698c37d81b6",
   "metadata": {},
   "outputs": [
    {
     "name": "stdout",
     "output_type": "stream",
     "text": [
      "5\n",
      "[['a', 'b', 'c'], [1, 2, 3]]\n",
      "['a', 'b', 'c']\n",
      "b\n",
      "2\n"
     ]
    }
   ],
   "source": [
    "letters = ['a','b','c','d','e']\n",
    "print(len(letters))\n",
    "a = ['a','b','c']\n",
    "n = [1,2,3]\n",
    "x = [a,n]\n",
    "print(x)\n",
    "print(x[0])\n",
    "print(x[0][1])\n",
    "print(x[1][1])"
   ]
  },
  {
   "cell_type": "code",
   "execution_count": 158,
   "id": "c722e03d-2ddb-44e9-89a5-b3d7e70ef054",
   "metadata": {},
   "outputs": [
    {
     "name": "stdout",
     "output_type": "stream",
     "text": [
      "True\n",
      "False\n"
     ]
    }
   ],
   "source": [
    "numbers = [1,2,3,4,5,6,7]\n",
    "print(5 in numbers)\n",
    "print(10 in numbers)"
   ]
  },
  {
   "cell_type": "code",
   "execution_count": 203,
   "id": "11e3c636-91f5-407e-b32e-45c7b9b9b6d2",
   "metadata": {},
   "outputs": [
    {
     "name": "stdout",
     "output_type": "stream",
     "text": [
      "False\n"
     ]
    }
   ],
   "source": [
    "# [국어, 영어, 한국사, 선택과목1, 선택과목2]\n",
    "# 한 과목도 60 미만이면 False\n",
    "scores = (88, 73, 89, 59, 77)\n",
    "print(scores[0] >= 60 \n",
    "      and scores[1] >= 60\n",
    "      and scores[2] >= 60 \n",
    "      and scores[3] >= 60\n",
    "      and scores[4] >= 60)"
   ]
  },
  {
   "cell_type": "code",
   "execution_count": 246,
   "id": "007a2d9b-5e68-457d-a1fe-32862fade85c",
   "metadata": {},
   "outputs": [
    {
     "name": "stdout",
     "output_type": "stream",
     "text": [
      "[1, 2, 3, 4, 5, 6, 7, 8, 8]\n",
      "[2, 3, 4, 5, 6, 7, 8, 8]\n",
      "1\n",
      "3\n",
      "[2, 4, 5, 6, 7, 8, 8]\n",
      "0\n",
      "[2, 4, 5, 6, 7, 8, 8]\n"
     ]
    }
   ],
   "source": [
    "numbers = [1,2,3,4,5,6,7,8]\n",
    "numbers. append(8)\n",
    "print(numbers)\n",
    "numbers. remove(1)\n",
    "print(numbers)\n",
    "print(numbers.index(3))\n",
    "print(numbers.pop(1))\n",
    "print(numbers)\n",
    "print(numbers.count(0))\n",
    "numbers.sort()\n",
    "print(numbers)"
   ]
  },
  {
   "cell_type": "code",
   "execution_count": 247,
   "id": "ba6b73d1-7ffb-4562-9635-7d9853ddf3d0",
   "metadata": {},
   "outputs": [
    {
     "name": "stdout",
     "output_type": "stream",
     "text": [
      "[8, 4, 2, 1, 2, 7]\n"
     ]
    }
   ],
   "source": [
    "reverse_test = [7,2,1,2,4,8]\n",
    "reverse_test.reverse()\n",
    "print(reverse_test)"
   ]
  },
  {
   "cell_type": "code",
   "execution_count": 264,
   "id": "460fa3dd-ca8c-49d2-96f7-8bc411a00fa2",
   "metadata": {},
   "outputs": [
    {
     "name": "stdout",
     "output_type": "stream",
     "text": [
      "[3, 4, 5, 6, 7]\n",
      "7\n",
      "[3, 4, 5, 6]\n",
      "6\n",
      "[3, 4, 5]\n",
      "5\n",
      "[3, 4]\n",
      "[]\n"
     ]
    }
   ],
   "source": [
    "stack = [3,4,5]\n",
    "stack. append(6)\n",
    "stack. append(7)\n",
    "print(stack)\n",
    "\n",
    "print(stack. pop())\n",
    "print(stack)\n",
    "\n",
    "print(stack.pop())\n",
    "print(stack)\n",
    "\n",
    "print(stack.pop())\n",
    "print(stack)"
   ]
  },
  {
   "cell_type": "code",
   "execution_count": 266,
   "id": "94cf34b7-4797-45b1-be17-c5834c58baf4",
   "metadata": {},
   "outputs": [
    {
     "name": "stdout",
     "output_type": "stream",
     "text": [
      "[]\n"
     ]
    }
   ],
   "source": [
    "numbers.clear()\n",
    "print(numbers)"
   ]
  },
  {
   "cell_type": "code",
   "execution_count": 267,
   "id": "17955320-e057-4a19-986b-5a0715e0ccb2",
   "metadata": {},
   "outputs": [
    {
     "ename": "TypeError",
     "evalue": "'tuple' object does not support item assignment",
     "output_type": "error",
     "traceback": [
      "\u001b[1;31m---------------------------------------------------------------------------\u001b[0m",
      "\u001b[1;31mTypeError\u001b[0m                                 Traceback (most recent call last)",
      "\u001b[1;32m~\\AppData\\Local\\Temp\\ipykernel_11668\\1019721646.py\u001b[0m in \u001b[0;36m<module>\u001b[1;34m\u001b[0m\n\u001b[0;32m      1\u001b[0m \u001b[0mtuple_variable\u001b[0m \u001b[1;33m=\u001b[0m \u001b[1;33m(\u001b[0m\u001b[1;36m1\u001b[0m\u001b[1;33m,\u001b[0m\u001b[1;36m2\u001b[0m\u001b[1;33m,\u001b[0m\u001b[1;36m3\u001b[0m\u001b[1;33m,\u001b[0m\u001b[1;36m4\u001b[0m\u001b[1;33m,\u001b[0m\u001b[1;36m5\u001b[0m\u001b[1;33m,\u001b[0m \u001b[1;34m\"hello\"\u001b[0m\u001b[1;33m)\u001b[0m\u001b[1;33m\u001b[0m\u001b[1;33m\u001b[0m\u001b[0m\n\u001b[1;32m----> 2\u001b[1;33m \u001b[0mtuple_variable\u001b[0m\u001b[1;33m[\u001b[0m\u001b[1;36m0\u001b[0m\u001b[1;33m]\u001b[0m \u001b[1;33m=\u001b[0m \u001b[1;36m0\u001b[0m\u001b[1;33m\u001b[0m\u001b[1;33m\u001b[0m\u001b[0m\n\u001b[0m",
      "\u001b[1;31mTypeError\u001b[0m: 'tuple' object does not support item assignment"
     ]
    }
   ],
   "source": [
    "tuple_variable = (1,2,3,4,5, \"hello\")\n",
    "tuple_variable[0] = 0 "
   ]
  },
  {
   "cell_type": "code",
   "execution_count": 269,
   "id": "11cccc1c-feb0-43cb-88ba-5b765450a193",
   "metadata": {},
   "outputs": [
    {
     "ename": "TypeError",
     "evalue": "'tuple' object does not support item assignment",
     "output_type": "error",
     "traceback": [
      "\u001b[1;31m---------------------------------------------------------------------------\u001b[0m",
      "\u001b[1;31mTypeError\u001b[0m                                 Traceback (most recent call last)",
      "\u001b[1;32m~\\AppData\\Local\\Temp\\ipykernel_11668\\3758404672.py\u001b[0m in \u001b[0;36m<module>\u001b[1;34m\u001b[0m\n\u001b[1;32m----> 1\u001b[1;33m \u001b[0mtuple_variable\u001b[0m\u001b[1;33m[\u001b[0m\u001b[1;36m1\u001b[0m\u001b[1;33m:\u001b[0m\u001b[1;36m3\u001b[0m\u001b[1;33m]\u001b[0m \u001b[1;33m=\u001b[0m \u001b[1;33m(\u001b[0m\u001b[1;34m\"음\"\u001b[0m\u001b[1;33m,\u001b[0m \u001b[1;34m\"오\"\u001b[0m\u001b[1;33m)\u001b[0m\u001b[1;33m\u001b[0m\u001b[1;33m\u001b[0m\u001b[0m\n\u001b[0m\u001b[0;32m      2\u001b[0m \u001b[1;32mdel\u001b[0m \u001b[0mtuple_variable\u001b[0m\u001b[1;33m[\u001b[0m\u001b[1;36m1\u001b[0m\u001b[1;33m]\u001b[0m\u001b[1;33m\u001b[0m\u001b[1;33m\u001b[0m\u001b[0m\n",
      "\u001b[1;31mTypeError\u001b[0m: 'tuple' object does not support item assignment"
     ]
    }
   ],
   "source": [
    "tuple_variable[1:3] = (\"음\", \"오\")\n",
    "del tuple_variable[1]"
   ]
  },
  {
   "cell_type": "code",
   "execution_count": 275,
   "id": "437b8c73-7b79-4192-9a9a-421e97ecc0db",
   "metadata": {},
   "outputs": [
    {
     "name": "stdout",
     "output_type": "stream",
     "text": [
      "<class 'tuple'>\n",
      "('음', '오', '아', '예')\n"
     ]
    }
   ],
   "source": [
    "t_v2 = \"음\", \"오\", \"아\", \"예\"\n",
    "print(type(t_v2))\n",
    "print(t_v2)"
   ]
  },
  {
   "cell_type": "code",
   "execution_count": 282,
   "id": "e3d8338f-6f74-4e5c-938d-9117c971e6dd",
   "metadata": {},
   "outputs": [
    {
     "name": "stdout",
     "output_type": "stream",
     "text": [
      "0.23990726470947266\n"
     ]
    }
   ],
   "source": [
    "import time\n",
    "\n",
    "start_time = time.time() # 시작하는 시간\n",
    "test = []\n",
    "\n",
    "#1,000,000번을 반복해서 tuple만듭니다.\n",
    "for _ in range(1_000_000):\n",
    "    tp = (_, _) # tuple    \n",
    "    test.append(tp)\n",
    "\n",
    "# 끝나는 시간 = 시작하는 시간    \n",
    "print(time.time() - start_time)\n",
    "# 동작한 시간"
   ]
  },
  {
   "cell_type": "code",
   "execution_count": 284,
   "id": "f0e42456-df02-45dd-b397-392f53ab9383",
   "metadata": {},
   "outputs": [
    {
     "ename": "SyntaxError",
     "evalue": "invalid syntax (809421659.py, line 6)",
     "output_type": "error",
     "traceback": [
      "\u001b[1;36m  File \u001b[1;32m\"C:\\Users\\Playdata\\AppData\\Local\\Temp\\ipykernel_11668\\809421659.py\"\u001b[1;36m, line \u001b[1;32m6\u001b[0m\n\u001b[1;33m    for _in range(1000):\u001b[0m\n\u001b[1;37m            ^\u001b[0m\n\u001b[1;31mSyntaxError\u001b[0m\u001b[1;31m:\u001b[0m invalid syntax\n"
     ]
    }
   ],
   "source": [
    "import number\n",
    "\n",
    "start_number = number.number()\n",
    "test = []\n",
    "\n",
    "for _in range(1000):\n",
    "    tp = (_,_) \n",
    "    test.append(tp)\n",
    "    \n",
    "print(number.number() - start_number) "
   ]
  },
  {
   "cell_type": "code",
   "execution_count": 285,
   "id": "fc2882c4-1a26-4724-afd2-db0425565f06",
   "metadata": {},
   "outputs": [
    {
     "name": "stdout",
     "output_type": "stream",
     "text": [
      "text1\n",
      "text2\n"
     ]
    }
   ],
   "source": [
    "s1, s2 = (\"text1\", \"text2\")\n",
    "print(s1)\n",
    "print(s2)"
   ]
  },
  {
   "cell_type": "code",
   "execution_count": 292,
   "id": "8de01203-3291-4dfc-a722-9de2bd3a644b",
   "metadata": {},
   "outputs": [
    {
     "name": "stdout",
     "output_type": "stream",
     "text": [
      "text2\n",
      "text1 text2 text3\n"
     ]
    }
   ],
   "source": [
    "s1, s2, s3 = (\"text1\", \"text2\", \"text3\")\n",
    "print(s2)\n",
    "print(s1,s2,s3)"
   ]
  },
  {
   "cell_type": "code",
   "execution_count": 295,
   "id": "d991ccea-5a40-446b-9fb8-186e7df3bc01",
   "metadata": {},
   "outputs": [
    {
     "name": "stdout",
     "output_type": "stream",
     "text": [
      "이렇게 리스트도 가능합니다.\n",
      "리스트도\n",
      "문 자 열 도\n",
      "문\n"
     ]
    }
   ],
   "source": [
    "s3,s4,s5 = [\"이렇게\", \"리스트도\", \"가능합니다.\"]\n",
    "print(s3,s4,s5)\n",
    "print(s4)\n",
    "\n",
    "s6,s7,s8,s9 = \"문자열도\"\n",
    "print(s6,s7,s8,s9)\n",
    "print(s6)"
   ]
  },
  {
   "cell_type": "code",
   "execution_count": 312,
   "id": "aa6e9ca5-cfa3-4f87-b97e-d279a6d3ff8a",
   "metadata": {},
   "outputs": [
    {
     "name": "stdin",
     "output_type": "stream",
     "text": [
      "Massge 전략의 천재\n",
      "float 1111\n"
     ]
    }
   ],
   "source": [
    "input_value = input(\"Massge\")\n",
    "input_value2 = input(\"float\")"
   ]
  },
  {
   "cell_type": "code",
   "execution_count": 310,
   "id": "5f4d3cb0-35e5-45ed-a73f-0e96004a74fe",
   "metadata": {},
   "outputs": [
    {
     "name": "stdout",
     "output_type": "stream",
     "text": [
      "input_value: 전략의 천재 \n",
      "type: <class 'str'>\n"
     ]
    }
   ],
   "source": [
    "print(\"input_value:\", input_value, \"\\ntype:\", type(input_value))"
   ]
  },
  {
   "cell_type": "code",
   "execution_count": 316,
   "id": "a5c511b6-9dfd-453a-be99-a7695c23c437",
   "metadata": {},
   "outputs": [
    {
     "name": "stdin",
     "output_type": "stream",
     "text": [
      "number 1245.68\n"
     ]
    }
   ],
   "source": [
    "input_value4 = input(\"number\")"
   ]
  },
  {
   "cell_type": "code",
   "execution_count": 315,
   "id": "f02e557c-a1c8-4eb7-a029-814910b03778",
   "metadata": {},
   "outputs": [
    {
     "name": "stdout",
     "output_type": "stream",
     "text": [
      "1111.0\n",
      "1111\n"
     ]
    }
   ],
   "source": [
    "input_value2 = float(input_value2)\n",
    "print(input_value2)\n",
    "\n",
    "input_value = int(input_value2)\n",
    "print(int(input_value2))"
   ]
  },
  {
   "cell_type": "code",
   "execution_count": 317,
   "id": "c5a5f7f1-0e25-49e3-a5f4-8b0c65c58fbd",
   "metadata": {},
   "outputs": [
    {
     "name": "stdin",
     "output_type": "stream",
     "text": [
      "123: 5\n"
     ]
    },
    {
     "name": "stdout",
     "output_type": "stream",
     "text": [
      "5\n"
     ]
    }
   ],
   "source": [
    "input_value4 = int(input(\"123:\"))\n",
    "print(input_value4)"
   ]
  },
  {
   "cell_type": "code",
   "execution_count": 4,
   "id": "28995203-5136-4551-8d48-b5a406102a15",
   "metadata": {},
   "outputs": [
    {
     "name": "stdin",
     "output_type": "stream",
     "text": [
      "이름 엔코아\n",
      "인사 안녕하세요 엔코아 씨\n",
      "환영인사 플레이 데이터 방문을 환영합니다.\n",
      "첫 번째 정수를 입력하세요 300\n",
      "두 번째 정수를 입력하세요 400\n"
     ]
    },
    {
     "name": "stdout",
     "output_type": "stream",
     "text": [
      "700\n"
     ]
    }
   ],
   "source": [
    "input_value = input(\"이름\")\n",
    "input_value2 = input(\"인사\")\n",
    "input_value3 = input(\"환영인사\")\n",
    "input_value4 = input(\"첫 번째 정수를 입력하세요\")\n",
    "input_value5 = input(\"두 번째 정수를 입력하세요\")\n",
    "print(300 + 400)"
   ]
  },
  {
   "cell_type": "code",
   "execution_count": 21,
   "id": "32114299-2c9c-4a7c-ae55-c528504a0edb",
   "metadata": {},
   "outputs": [
    {
     "name": "stdin",
     "output_type": "stream",
     "text": [
      "이름을 입력하시오 엔코아\n"
     ]
    },
    {
     "name": "stdout",
     "output_type": "stream",
     "text": [
      "엔코아 씨, 안녕하세요?\n",
      "파이썬에 오신 것을 환영합니다\n"
     ]
    }
   ],
   "source": [
    "name = input(\"이름을 입력하시오\")\n",
    "print(name, \"씨, 안녕하세요?\")\n",
    "print(\"파이썬에 오신 것을 환영합니다\")\n"
   ]
  },
  {
   "cell_type": "code",
   "execution_count": 1,
   "id": "839119bd",
   "metadata": {},
   "outputs": [
    {
     "name": "stdin",
     "output_type": "stream",
     "text": [
      "경기장은 어디입니까? 고척\n",
      "이긴 팀은 어디입니까? KT\n",
      "진팀은 어디입니까? LG\n",
      "우수 선수는 누구입니까? 강백호\n",
      "스코어는 몇대몇입니까? 10:9\n"
     ]
    },
    {
     "name": "stdout",
     "output_type": "stream",
     "text": [
      "\n",
      "\n",
      "[속보] KT 가 10:9 승리...\n",
      "오늘 고척 경기장에서 야구 경기가 있었습니다\n",
      "KT 와 LG 는 치열한 공방전을 펼쳤습니다.\n",
      "이 경기에서 강백호 가 맹활약을 했습니다.\n",
      "그 끝내 KT 가 LG 를 10:9 로 승리하였습니다.\n",
      "기사 끝\n"
     ]
    }
   ],
   "source": [
    "location = input(\"경기장은 어디입니까?\")\n",
    "team = input(\"이긴 팀은 어디입니까?\")\n",
    "team1 = input(\"진팀은 어디입니까?\")\n",
    "player = input(\"우수 선수는 누구입니까?\")\n",
    "score = input(\"스코어는 몇대몇입니까?\")\n",
    "\n",
    "print(\"\\n\")\n",
    "print(\"[속보]\", team, \"가\", score, \"승리...\")\n",
    "print(\"오늘\", location, \"경기장에서\", \"야구 경기가 있었습니다\")\n",
    "print(team, \"와\", team1, \"는 치열한 공방전을 펼쳤습니다.\")\n",
    "print(\"이 경기에서\", player, \"가 맹활약을 했습니다.\")\n",
    "print(\"그 끝내\", team, \"가\",team1, \"를\", score, \"로 승리하였습니다.\")\n",
    "print(\"기사 끝\")"
   ]
  },
  {
   "cell_type": "code",
   "execution_count": 4,
   "id": "c23d7081-5e28-484d-b3b1-43a0cb7b928e",
   "metadata": {},
   "outputs": [
    {
     "name": "stdout",
     "output_type": "stream",
     "text": [
      "<class 'list'>\n",
      "['1', '2', '3']\n"
     ]
    }
   ],
   "source": [
    "result = '1,2,3'. split(',')\n",
    "print(type(result))\n",
    "print(result)"
   ]
  },
  {
   "cell_type": "code",
   "execution_count": 36,
   "id": "6d793533-a0de-4e0d-872f-fd65b5f14392",
   "metadata": {},
   "outputs": [
    {
     "name": "stdout",
     "output_type": "stream",
     "text": [
      "실행 결과:\n",
      "['시:12']\n",
      "['분:33']\n",
      "['초:23']\n"
     ]
    }
   ],
   "source": [
    "result1 = '시:12' . split(',')\n",
    "result2 = '분:33' . split(',')\n",
    "result3 = '초:23' . split(',')\n",
    "print(\"실행 결과:\")\n",
    "print(result1)\n",
    "print(result2)\n",
    "print(result3)"
   ]
  },
  {
   "cell_type": "code",
   "execution_count": 57,
   "id": "151ab332-8e8b-4a7b-bb52-e6b8bdfcd28b",
   "metadata": {},
   "outputs": [
    {
     "name": "stdin",
     "output_type": "stream",
     "text": [
      "hh:mm:ss의 형태로 시간을 입렵해주세요 12:23:33\n"
     ]
    },
    {
     "name": "stdout",
     "output_type": "stream",
     "text": [
      "시 : 12\n",
      "분 : 23\n",
      "초 : 33\n"
     ]
    }
   ],
   "source": [
    "h, m, s = input(\"hh:mm:ss의 형태로 시간을 입렵해주세요\").split(\":\")\n",
    "\n",
    "print(\"시 :\", h)\n",
    "print(\"분 :\", m)\n",
    "print(\"초 :\", s)"
   ]
  },
  {
   "cell_type": "code",
   "execution_count": 3,
   "id": "a9ebb32a-3429-4d2d-bd7b-742702d393cf",
   "metadata": {},
   "outputs": [
    {
     "name": "stdout",
     "output_type": "stream",
     "text": [
      "[1, 2, 3, 4]\n"
     ]
    }
   ],
   "source": [
    "# map() 내장 함수 이용하기 : 객체에서 요소 하나를 꺼내서 사용하고 싶은 경우 사용\n",
    "# int = 함수, list(map(int, a)) - > int라는 함수를 넣는다 그리고 Map이라는 함수는 괄호 안의 int라는 함수를 적용하는 함수이다. 마지막으로 a는 원하는 결과를 도출하기 위한 시퀀스 이다.\n",
    "# list는 나열 및 추출을 목표로 하는 함수이다.\n",
    "\n",
    "\n",
    "a = [1.2, 2.5, 3.7, 4.6]\n",
    "a = list(map(int, a))\n",
    "print(a)"
   ]
  },
  {
   "cell_type": "code",
   "execution_count": 1,
   "id": "1e89594c-3ce0-401b-aa43-7d92975381ef",
   "metadata": {},
   "outputs": [
    {
     "name": "stdin",
     "output_type": "stream",
     "text": [
      "국어, 영어, 수학, 과학 점수를 입력해주세요 98,100,96,100\n"
     ]
    },
    {
     "name": "stdout",
     "output_type": "stream",
     "text": [
      "실행 결과\n",
      "98.5\n"
     ]
    }
   ],
   "source": [
    "kor, eng, mat, sci = input(\"국어, 영어, 수학, 과학 점수를 입력해주세요\"). split(\",\")\n",
    "\n",
    "print(\"실행 결과\")\n",
    "print((98+100+96+100)/4)"
   ]
  },
  {
   "cell_type": "code",
   "execution_count": 2,
   "id": "bcb9b52a-82f3-4348-baed-393cfc9e4aad",
   "metadata": {},
   "outputs": [
    {
     "name": "stdin",
     "output_type": "stream",
     "text": [
      "국어 점수는 몇 점인가요? 98\n",
      "영어 점수는 몇 점인가요? 100\n",
      "수학 점수는 몇 점인가요? 96\n",
      "과학 점수는 몇 점인가요? 100\n"
     ]
    },
    {
     "name": "stdout",
     "output_type": "stream",
     "text": [
      "실행 결과\n",
      "98.5\n"
     ]
    }
   ],
   "source": [
    "kor = input(\"국어 점수는 몇 점인가요?\")\n",
    "eng = input(\"영어 점수는 몇 점인가요?\")\n",
    "mat = input(\"수학 점수는 몇 점인가요?\")\n",
    "sci = input(\"과학 점수는 몇 점인가요?\")\n",
    "print(\"실행 결과\")\n",
    "print((98+100+96+100)/4)"
   ]
  },
  {
   "cell_type": "code",
   "execution_count": 15,
   "id": "554954ab-c611-4f8d-87f8-ce3ef72f7c9b",
   "metadata": {},
   "outputs": [
    {
     "name": "stdin",
     "output_type": "stream",
     "text": [
      "국어, 영어, 수학, 과학 점수를 입력해주세요. 98,100,96,100\n"
     ]
    }
   ],
   "source": [
    "some_str = input('국어, 영어, 수학, 과학 점수를 입력해주세요.')"
   ]
  },
  {
   "cell_type": "code",
   "execution_count": 20,
   "id": "ec526258-004f-42d1-a439-9b0661dabc87",
   "metadata": {},
   "outputs": [
    {
     "data": {
      "text/plain": [
       "'98,100,96,100'"
      ]
     },
     "execution_count": 20,
     "metadata": {},
     "output_type": "execute_result"
    }
   ],
   "source": [
    "some_str"
   ]
  },
  {
   "cell_type": "code",
   "execution_count": 19,
   "id": "e10bbe32-418d-49b3-a3fa-4a4ebc350d2e",
   "metadata": {},
   "outputs": [
    {
     "data": {
      "text/plain": [
       "str"
      ]
     },
     "execution_count": 19,
     "metadata": {},
     "output_type": "execute_result"
    }
   ],
   "source": [
    "type(some_str)"
   ]
  },
  {
   "cell_type": "markdown",
   "id": "6efec0ab-e2ab-44be-b1c0-ab4e4ca9d8c5",
   "metadata": {},
   "source": [
    "print(\"value\", 1, 1.1, [1, 2, 'text'], sep=\",\")"
   ]
  },
  {
   "cell_type": "code",
   "execution_count": 21,
   "id": "845f0a0b-6a5d-4975-a543-206b1db83ebe",
   "metadata": {},
   "outputs": [
    {
     "name": "stdout",
     "output_type": "stream",
     "text": [
      "줄이 바뀝니다.\n",
      "왤까요?\n",
      "생각해봅시다.\n"
     ]
    }
   ],
   "source": [
    "print(\"줄이 바뀝니다.\")\n",
    "print(\"왤까요?\")\n",
    "print(\"생각해봅시다.\")"
   ]
  },
  {
   "cell_type": "code",
   "execution_count": 23,
   "id": "d69d366a-16c2-4733-8741-24c799cd586b",
   "metadata": {},
   "outputs": [
    {
     "name": "stdout",
     "output_type": "stream",
     "text": [
      "줄이 바뀌지 않습니다. 그 이유는 end=\"\\n\"과 같이 기본 설정된 값을 빈 스트링으로 변경했기 때문입니다.\n",
      "sep, end는 맨 뒤에 써야하며 둘 간 순서는 상관없습니다.어떵게 사용하는지\n",
      "이해가 되시나요?"
     ]
    }
   ],
   "source": [
    "print(\"줄이 바뀌지 않습니다.\", end= \"\")\n",
    "print(\" 그 이유는 end=\\\"\\\\n\\\"과 같이 기본 설정된 값을 빈 스트링으로 변경했기 때문입니다.\")\n",
    "print(\"sep\",\"end는 맨 뒤에 써야하며 둘 간 순서는 상관없습니다.\",sep=\", \", end=\"\")\n",
    "print(\"어떵게 사용하는지\", \"이해가 되시나요\", sep=\"\\n\" , end=\"?\")      "
   ]
  },
  {
   "cell_type": "code",
   "execution_count": 30,
   "id": "52991d77-ee85-4cd0-888c-8d5ff372e303",
   "metadata": {},
   "outputs": [
    {
     "name": "stdout",
     "output_type": "stream",
     "text": [
      "2021/ 02/ 03 18 : 33 : 23\n"
     ]
    }
   ],
   "source": [
    "print(year, month, day, end=\" \", sep= \"/ \")\n",
    "print(hour, minute, second, sep= \" : \")"
   ]
  },
  {
   "cell_type": "code",
   "execution_count": 44,
   "id": "e013c74e-70c9-44cc-a15d-900b7fcc72a6",
   "metadata": {},
   "outputs": [
    {
     "name": "stdin",
     "output_type": "stream",
     "text": [
      " 사과와 귤은 몇개 드릴까요? 10,20\n",
      "구매한 사과의 개수 10\n",
      "구매한 귤의 개수 20\n",
      "apple 1개 가격 1000\n",
      "orange 1개 가격 200\n"
     ]
    },
    {
     "name": "stdout",
     "output_type": "stream",
     "text": [
      "실행결과\n"
     ]
    },
    {
     "ename": "TypeError",
     "evalue": "can't multiply sequence by non-int of type 'str'",
     "output_type": "error",
     "traceback": [
      "\u001b[1;31m---------------------------------------------------------------------------\u001b[0m",
      "\u001b[1;31mTypeError\u001b[0m                                 Traceback (most recent call last)",
      "\u001b[1;32m~\\AppData\\Local\\Temp\\ipykernel_6404\\535601277.py\u001b[0m in \u001b[0;36m<module>\u001b[1;34m\u001b[0m\n\u001b[0;32m      5\u001b[0m \u001b[0morange_price\u001b[0m \u001b[1;33m=\u001b[0m \u001b[0minput\u001b[0m\u001b[1;33m(\u001b[0m\u001b[1;34m\"orange 1개 가격\"\u001b[0m\u001b[1;33m)\u001b[0m\u001b[1;33m\u001b[0m\u001b[1;33m\u001b[0m\u001b[0m\n\u001b[0;32m      6\u001b[0m \u001b[0mprint\u001b[0m\u001b[1;33m(\u001b[0m\u001b[1;34m\"실행결과\"\u001b[0m\u001b[1;33m)\u001b[0m\u001b[1;33m\u001b[0m\u001b[1;33m\u001b[0m\u001b[0m\n\u001b[1;32m----> 7\u001b[1;33m \u001b[0mprint\u001b[0m\u001b[1;33m(\u001b[0m\u001b[1;34m\"총 가격은\"\u001b[0m\u001b[1;33m,\u001b[0m \u001b[1;33m[\u001b[0m\u001b[0mapple\u001b[0m\u001b[1;33m*\u001b[0m\u001b[0mapple_price\u001b[0m\u001b[1;33m]\u001b[0m\u001b[1;33m+\u001b[0m\u001b[1;33m[\u001b[0m\u001b[0morange\u001b[0m\u001b[1;33m*\u001b[0m\u001b[0morange_price\u001b[0m\u001b[1;33m]\u001b[0m\u001b[1;33m,\u001b[0m \u001b[1;34m\"원 입니다.\"\u001b[0m\u001b[1;33m)\u001b[0m\u001b[1;33m\u001b[0m\u001b[1;33m\u001b[0m\u001b[0m\n\u001b[0m",
      "\u001b[1;31mTypeError\u001b[0m: can't multiply sequence by non-int of type 'str'"
     ]
    }
   ],
   "source": [
    "input(\" 사과와 귤은 몇개 드릴까요?\")\n",
    "apple = input(\"구매한 사과의 개수\")\n",
    "orange = input(\"구매한 귤의 개수\")\n",
    "apple_price = input(\"apple 1개 가격\") \n",
    "orange_price = input(\"orange 1개 가격\")\n",
    "print(\"실행결과\")\n",
    "print(\"총 가격은\", [apple*apple_price]+[orange*orange_price], \"원 입니다.\")"
   ]
  },
  {
   "cell_type": "code",
   "execution_count": null,
   "id": "bff29d03-7d57-4fb1-88d7-3128ecfb8c24",
   "metadata": {},
   "outputs": [],
   "source": [
    "print(\"{}\" .format(10))\n",
    "print(\"{} {} {}\" .format(10, 20, 30))\n",
    "print(\n"
   ]
  },
  {
   "cell_type": "code",
   "execution_count": 51,
   "id": "e08984f3-1d36-4bd7-8754-c1a2046e4ff1",
   "metadata": {},
   "outputs": [
    {
     "ename": "AttributeError",
     "evalue": "'time.struct_time' object has no attribute 'tm_day'",
     "output_type": "error",
     "traceback": [
      "\u001b[1;31m---------------------------------------------------------------------------\u001b[0m",
      "\u001b[1;31mAttributeError\u001b[0m                            Traceback (most recent call last)",
      "\u001b[1;32m~\\AppData\\Local\\Temp\\ipykernel_6404\\2509040086.py\u001b[0m in \u001b[0;36m<module>\u001b[1;34m\u001b[0m\n\u001b[0;32m      5\u001b[0m \"\"\".format(time.localtime().tm_year,\n\u001b[0;32m      6\u001b[0m            \u001b[0mtime\u001b[0m\u001b[1;33m.\u001b[0m\u001b[0mlocaltime\u001b[0m\u001b[1;33m(\u001b[0m\u001b[1;33m)\u001b[0m\u001b[1;33m.\u001b[0m\u001b[0mtm_mon\u001b[0m\u001b[1;33m,\u001b[0m\u001b[1;33m\u001b[0m\u001b[1;33m\u001b[0m\u001b[0m\n\u001b[1;32m----> 7\u001b[1;33m            time.localtime().tm_day)\n\u001b[0m\u001b[0;32m      8\u001b[0m \u001b[0mprint\u001b[0m\u001b[1;33m(\u001b[0m\u001b[1;34m\"today\"\u001b[0m\u001b[1;33m)\u001b[0m\u001b[1;33m\u001b[0m\u001b[1;33m\u001b[0m\u001b[0m\n",
      "\u001b[1;31mAttributeError\u001b[0m: 'time.struct_time' object has no attribute 'tm_day'"
     ]
    }
   ],
   "source": [
    "import time\n",
    "\n",
    "today = \"\"\"오늘의 날짜를 알려 드립니다.\n",
    "{}년 {}월 {}일입니다.\n",
    "\"\"\".format(time.localtime().tm_year,\n",
    "           time.localtime().tm_mon,\n",
    "           time.localtime().tm_day)\n",
    "print(\"today\")"
   ]
  },
  {
   "cell_type": "code",
   "execution_count": 52,
   "id": "3fce505d-e8ee-414b-b5db-d1d982aa9c6e",
   "metadata": {},
   "outputs": [
    {
     "name": "stdout",
     "output_type": "stream",
     "text": [
      "중괄호는 2개이고, 여기 인수는\n"
     ]
    }
   ],
   "source": [
    "some_str = \"중괄호는 2개이고, {} {}\" .format(\"여기\",\"인수는\",\"3개 입니다.\")\n",
    "print(some_str)"
   ]
  },
  {
   "cell_type": "code",
   "execution_count": 54,
   "id": "d17a663e-66e9-498b-b68b-7510acbe76b2",
   "metadata": {},
   "outputs": [
    {
     "ename": "IndexError",
     "evalue": "Replacement index 3 out of range for positional args tuple",
     "output_type": "error",
     "traceback": [
      "\u001b[1;31m---------------------------------------------------------------------------\u001b[0m",
      "\u001b[1;31mIndexError\u001b[0m                                Traceback (most recent call last)",
      "\u001b[1;32m~\\AppData\\Local\\Temp\\ipykernel_6404\\2950193823.py\u001b[0m in \u001b[0;36m<module>\u001b[1;34m\u001b[0m\n\u001b[1;32m----> 1\u001b[1;33m \u001b[0msome_str\u001b[0m \u001b[1;33m=\u001b[0m \u001b[1;34m\"중괄호는 4개이고, {} {} {} {}\"\u001b[0m\u001b[1;33m.\u001b[0m\u001b[0mformat\u001b[0m\u001b[1;33m(\u001b[0m\u001b[1;34m\"여기\"\u001b[0m\u001b[1;33m,\u001b[0m \u001b[1;34m\"인수는\"\u001b[0m\u001b[1;33m,\u001b[0m \u001b[1;34m\"3개 입니다.\"\u001b[0m\u001b[1;33m)\u001b[0m\u001b[1;33m\u001b[0m\u001b[1;33m\u001b[0m\u001b[0m\n\u001b[0m\u001b[0;32m      2\u001b[0m \u001b[0mprint\u001b[0m\u001b[1;33m(\u001b[0m\u001b[0msome_srt\u001b[0m\u001b[1;33m)\u001b[0m\u001b[1;33m\u001b[0m\u001b[1;33m\u001b[0m\u001b[0m\n",
      "\u001b[1;31mIndexError\u001b[0m: Replacement index 3 out of range for positional args tuple"
     ]
    }
   ],
   "source": [
    "some_str = \"중괄호는 4개이고, {} {} {} {}\".format(\"여기\", \"인수는\", \"3개 입니다.\")\n",
    "print(some_srt)"
   ]
  },
  {
   "cell_type": "code",
   "execution_count": 55,
   "id": "54b350c4-4fa7-477b-a14e-3d0539b59fd3",
   "metadata": {},
   "outputs": [
    {
     "name": "stdout",
     "output_type": "stream",
     "text": [
      " 10\n",
      " 10 20 30\n",
      " 101 202 303 404 505\n"
     ]
    }
   ],
   "source": [
    "print(f\" {10}\")\n",
    "print(f\" {10} {20} {30}\")\n",
    "print(f\" {101} {202} {303} {404} {505}\")"
   ]
  },
  {
   "cell_type": "code",
   "execution_count": 58,
   "id": "fa071d0a-5ea0-43e6-a545-7ed5701b6d2f",
   "metadata": {},
   "outputs": [
    {
     "ename": "NameError",
     "evalue": "name 'localtime' is not defined",
     "output_type": "error",
     "traceback": [
      "\u001b[1;31m---------------------------------------------------------------------------\u001b[0m",
      "\u001b[1;31mNameError\u001b[0m                                 Traceback (most recent call last)",
      "\u001b[1;32m~\\AppData\\Local\\Temp\\ipykernel_6404\\2155073002.py\u001b[0m in \u001b[0;36m<module>\u001b[1;34m\u001b[0m\n\u001b[0;32m      2\u001b[0m \u001b[1;33m\u001b[0m\u001b[0m\n\u001b[0;32m      3\u001b[0m today = f\"\"\"오늘의 날짜를 알려드립니다!\n\u001b[1;32m----> 4\u001b[1;33m \u001b[1;33m{\u001b[0m\u001b[0mtime\u001b[0m\u001b[1;33m.\u001b[0m\u001b[0mlocaltime\u001b[0m\u001b[1;33m(\u001b[0m\u001b[1;33m)\u001b[0m\u001b[1;33m.\u001b[0m \u001b[0mtm_year\u001b[0m\u001b[1;33m}\u001b[0m\u001b[0m년\u001b[0m \u001b[1;33m{\u001b[0m\u001b[0mlocaltime\u001b[0m\u001b[1;33m.\u001b[0m\u001b[0mtime\u001b[0m\u001b[1;33m(\u001b[0m\u001b[1;33m)\u001b[0m\u001b[1;33m.\u001b[0m \u001b[0mtm_mon\u001b[0m\u001b[1;33m}\u001b[0m\u001b[0m월\u001b[0m \u001b[1;33m{\u001b[0m\u001b[0mtime\u001b[0m\u001b[1;33m.\u001b[0m\u001b[0mlocaltime\u001b[0m\u001b[1;33m(\u001b[0m\u001b[1;33m)\u001b[0m\u001b[1;33m.\u001b[0m \u001b[0mtm_mday\u001b[0m\u001b[1;33m}\u001b[0m\u001b[0m일\u001b[0m \u001b[0m입니다\u001b[0m\u001b[1;33m.\u001b[0m\u001b[1;33m\u001b[0m\u001b[1;33m\u001b[0m\u001b[0m\n\u001b[0m\u001b[0;32m      5\u001b[0m \"\"\"\n\u001b[0;32m      6\u001b[0m \u001b[1;33m\u001b[0m\u001b[0m\n",
      "\u001b[1;31mNameError\u001b[0m: name 'localtime' is not defined"
     ]
    }
   ],
   "source": [
    "import time\n",
    "\n",
    "today = f\"\"\"오늘의 날짜를 알려드립니다!\n",
    "{time.localtime(). tm_year}년 {localtime.time(). tm_mon}월 {time.localtime(). tm_mday}일 입니다.\n",
    "\"\"\"\n",
    "\n",
    "print(today)"
   ]
  },
  {
   "cell_type": "code",
   "execution_count": 59,
   "id": "25b592c4-5060-4d09-bee9-f316ff6d02ea",
   "metadata": {},
   "outputs": [
    {
     "name": "stdout",
     "output_type": "stream",
     "text": [
      "Hello world\n"
     ]
    }
   ],
   "source": [
    "is_great = True\n",
    "if is_great:\n",
    "    print(\"Hello world\")"
   ]
  },
  {
   "cell_type": "code",
   "execution_count": 60,
   "id": "7e1abc7f-76c1-4d49-857a-0aaa85e2307d",
   "metadata": {},
   "outputs": [
    {
     "name": "stdout",
     "output_type": "stream",
     "text": [
      "<class 'str'>\n"
     ]
    }
   ],
   "source": [
    "print(type(input_value4))"
   ]
  },
  {
   "cell_type": "code",
   "execution_count": 61,
   "id": "76831b48-8ff5-45ad-adf0-1ad29f6d20f1",
   "metadata": {},
   "outputs": [
    {
     "name": "stdout",
     "output_type": "stream",
     "text": [
      "<class 'int'>\n"
     ]
    }
   ],
   "source": [
    "print(int)"
   ]
  },
  {
   "cell_type": "code",
   "execution_count": 65,
   "id": "b477af02-9461-4440-8dc2-59c3bb07c6ae",
   "metadata": {},
   "outputs": [
    {
     "data": {
      "text/plain": [
       "False"
      ]
     },
     "execution_count": 65,
     "metadata": {},
     "output_type": "execute_result"
    }
   ],
   "source": [
    "type(input_value4) is int"
   ]
  },
  {
   "cell_type": "code",
   "execution_count": 76,
   "id": "d1c76761-29d6-4839-84d1-bfa80c6db2f1",
   "metadata": {},
   "outputs": [
    {
     "name": "stdout",
     "output_type": "stream",
     "text": [
      "input_value4는 정수입니다.\n"
     ]
    }
   ],
   "source": [
    "if type(input_value4) is int: \n",
    "    print(\"input_value4는 실수입니다.\")\n",
    "if type(input_value4) is not int:\n",
    "   print(\"input_value4는 정수입니다.\")"
   ]
  },
  {
   "cell_type": "code",
   "execution_count": 73,
   "id": "e87b6232-5769-4535-9f7a-f904e4694e3a",
   "metadata": {},
   "outputs": [],
   "source": [
    "if type(input_value4) is int:\n",
    "    print(\"input_value4는 정수입니다.\")"
   ]
  },
  {
   "cell_type": "code",
   "execution_count": 77,
   "id": "aa325a3d-b685-40a7-96af-bf76d02f1432",
   "metadata": {},
   "outputs": [
    {
     "ename": "IndentationError",
     "evalue": "expected an indented block (1169179570.py, line 2)",
     "output_type": "error",
     "traceback": [
      "\u001b[1;36m  File \u001b[1;32m\"C:\\Users\\Playdata\\AppData\\Local\\Temp\\ipykernel_6404\\1169179570.py\"\u001b[1;36m, line \u001b[1;32m2\u001b[0m\n\u001b[1;33m    print(\"hello\")\u001b[0m\n\u001b[1;37m    ^\u001b[0m\n\u001b[1;31mIndentationError\u001b[0m\u001b[1;31m:\u001b[0m expected an indented block\n"
     ]
    }
   ],
   "source": [
    "if true :\n",
    "print(\"hello\")"
   ]
  },
  {
   "cell_type": "code",
   "execution_count": 78,
   "id": "61bdb118-daef-4843-adfe-31db1b17d1a2",
   "metadata": {},
   "outputs": [
    {
     "name": "stdout",
     "output_type": "stream",
     "text": [
      "a는 정수입니다.\n"
     ]
    }
   ],
   "source": [
    "# 조건이 맞을 때만 실행하라\n",
    "\n",
    "a = 100\n",
    "\n",
    "# a라는 변수의 타입이 int라면 True, int가 아니라면 Flase\n",
    "if type(a) is int :\n",
    "    print(\"a는 정수입니다.\")"
   ]
  },
  {
   "cell_type": "code",
   "execution_count": 82,
   "id": "1be1f5ff-d435-49ee-b179-55fd7d0b27e3",
   "metadata": {},
   "outputs": [
    {
     "name": "stdout",
     "output_type": "stream",
     "text": [
      "<class 'str'>\n",
      "문자열입니다.\n"
     ]
    }
   ],
   "source": [
    "b = \"10\"\n",
    "print(type(b))\n",
    "\n",
    "if type(b) is int:\n",
    "    print(\"정수입니다.\")\n",
    "    \n",
    "# 앞의 조건이 전부 Flase인 경우에만 실행되는 부분입니다.\n",
    "elif type(b) is str:\n",
    "    print(\"문자열입니다.\")"
   ]
  },
  {
   "cell_type": "code",
   "execution_count": 85,
   "id": "1e7d554d-487c-4756-a680-52b4dbadcdb0",
   "metadata": {},
   "outputs": [
    {
     "name": "stdout",
     "output_type": "stream",
     "text": [
      "<class 'int'>\n",
      "정수입니다.\n"
     ]
    }
   ],
   "source": [
    "b = 10\n",
    "print(type(b))\n",
    "\n",
    "if type(b) is int:\n",
    "    print(\"정수입니다.\")\n",
    "    \n",
    "# 앞의 조건이 전부 Flase인 경우에만 실행되는 부분입니다.\n",
    "elif True:\n",
    "    print(\"문자열입니다.\")"
   ]
  },
  {
   "cell_type": "code",
   "execution_count": 100,
   "id": "7f36c8bd-bd66-4689-8a4a-e41a805290a1",
   "metadata": {},
   "outputs": [
    {
     "name": "stdout",
     "output_type": "stream",
     "text": [
      "시작\n",
      "미\n",
      "끝\n"
     ]
    }
   ],
   "source": [
    "c = 70 #0~100점수\n",
    "print(\"시작\")\n",
    "\n",
    "if c > 90: # C < 90\n",
    "    print(\"수\")\n",
    "    \n",
    "elif c >= 80: # C < 80\n",
    "    print(\"우\")\n",
    "    \n",
    "elif c >= 70: # C < 70\n",
    "    print(\"미\")\n",
    "    \n",
    "print(\"끝\")"
   ]
  },
  {
   "cell_type": "code",
   "execution_count": 101,
   "id": "ad69216d-5173-492c-8a5e-b41fc6e7a039",
   "metadata": {},
   "outputs": [
    {
     "name": "stdout",
     "output_type": "stream",
     "text": [
      "30대 입니다.\n",
      "감사합니다.\n"
     ]
    }
   ],
   "source": [
    "age = 39\n",
    "\n",
    "if 20 <= age < 30:\n",
    "    print(\"20대 입니다.\")\n",
    "elif 30 <= age < 40:\n",
    "    print(\"30대 입니다.\")\n",
    "    \n",
    "print(\"감사합니다.\")"
   ]
  },
  {
   "cell_type": "code",
   "execution_count": 102,
   "id": "bff61380-23f2-480e-a691-78a1ae65ded4",
   "metadata": {},
   "outputs": [
    {
     "name": "stdout",
     "output_type": "stream",
     "text": [
      "오우 ... 불혹을 넘기셨군요.\n",
      "감사합니다.\n"
     ]
    }
   ],
   "source": [
    "age = 40\n",
    "\n",
    "if 20 <= age < 30:\n",
    "    print(\"20대 입니다.\")\n",
    "elif 30 <= age < 40:\n",
    "    print(\"30대 입니다.\")\n",
    "else:\n",
    "    print(\"오우 ... 불혹을 넘기셨군요.\")\n",
    "    \n",
    "print(\"감사합니다.\")"
   ]
  },
  {
   "cell_type": "code",
   "execution_count": 153,
   "id": "03688dff-2eb6-48cd-8895-f9b1f0ec8712",
   "metadata": {},
   "outputs": [
    {
     "ename": "NameError",
     "evalue": "name 'admin' is not defined",
     "output_type": "error",
     "traceback": [
      "\u001b[1;31m---------------------------------------------------------------------------\u001b[0m",
      "\u001b[1;31mNameError\u001b[0m                                 Traceback (most recent call last)",
      "\u001b[1;32m~\\AppData\\Local\\Temp\\ipykernel_6404\\870083561.py\u001b[0m in \u001b[0;36m<module>\u001b[1;34m\u001b[0m\n\u001b[1;32m----> 1\u001b[1;33m \u001b[0mID\u001b[0m \u001b[1;33m=\u001b[0m \u001b[0madmin\u001b[0m\u001b[1;33m\u001b[0m\u001b[1;33m\u001b[0m\u001b[0m\n\u001b[0m\u001b[0;32m      2\u001b[0m \u001b[0mGrade\u001b[0m \u001b[1;33m=\u001b[0m \u001b[1;36m3\u001b[0m\u001b[1;33m\u001b[0m\u001b[1;33m\u001b[0m\u001b[0m\n\u001b[0;32m      3\u001b[0m \u001b[1;33m\u001b[0m\u001b[0m\n\u001b[0;32m      4\u001b[0m \u001b[1;32mif\u001b[0m \u001b[0mID\u001b[0m \u001b[1;33m==\u001b[0m \u001b[0madmin\u001b[0m\u001b[1;33m:\u001b[0m\u001b[1;33m\u001b[0m\u001b[1;33m\u001b[0m\u001b[0m\n\u001b[0;32m      5\u001b[0m     \u001b[0mprint\u001b[0m\u001b[1;33m(\u001b[0m\u001b[1;34m'최고 관리자, 모든 권한을 갖습니다.'\u001b[0m\u001b[1;33m)\u001b[0m\u001b[1;33m\u001b[0m\u001b[1;33m\u001b[0m\u001b[0m\n",
      "\u001b[1;31mNameError\u001b[0m: name 'admin' is not defined"
     ]
    }
   ],
   "source": [
    "ID = admin\n",
    "Grade = 3\n",
    "\n",
    "if ID == admin:\n",
    "    print('최고 관리자, 모든 권한을 갖습니다.')\n",
    "    \n",
    "elif ID != admin:\n",
    "    print('제한적인 권한을 갖습니다.')\n",
    "    \n",
    "elif Grade == 3:\n",
    "    print('제한적인 권한을 갖습니다.')\n",
    "    \n",
    "else:\n",
    "    print('권한이 없습니다.')"
   ]
  },
  {
   "cell_type": "code",
   "execution_count": 137,
   "id": "bddad3a6-0bcc-4b3d-9e2c-3ffb8f63d7ca",
   "metadata": {},
   "outputs": [
    {
     "ename": "SyntaxError",
     "evalue": "invalid syntax (863640759.py, line 11)",
     "output_type": "error",
     "traceback": [
      "\u001b[1;36m  File \u001b[1;32m\"C:\\Users\\Playdata\\AppData\\Local\\Temp\\ipykernel_6404\\863640759.py\"\u001b[1;36m, line \u001b[1;32m11\u001b[0m\n\u001b[1;33m    else:\u001b[0m\n\u001b[1;37m    ^\u001b[0m\n\u001b[1;31mSyntaxError\u001b[0m\u001b[1;31m:\u001b[0m invalid syntax\n"
     ]
    }
   ],
   "source": [
    "name = input('아이디를 입력하세요 :')\n",
    "\n",
    "if name == 'admin' :\n",
    "    print('최고 관리자, 모든 권한을 갖습니다.')\n",
    "    \n",
    "else:\n",
    "    grade = int(input('회원 등급을 입력해주세요 :'))\n",
    "    if 1 <= grade <= 3:\n",
    "        print('제한적인 권한을 갖습니다.')\n",
    "        \n",
    "        else:\n",
    "            print('권한이 없습니다.')"
   ]
  },
  {
   "cell_type": "code",
   "execution_count": 172,
   "id": "94e6abda-65ca-49aa-8b0b-81bff0dda963",
   "metadata": {},
   "outputs": [
    {
     "name": "stdin",
     "output_type": "stream",
     "text": [
      "자연수 하나 입력해주세요:  21\n"
     ]
    },
    {
     "name": "stdout",
     "output_type": "stream",
     "text": [
      "0\n"
     ]
    }
   ],
   "source": [
    "int_value = int(input(\"자연수 하나 입력해주세요: \"))\n",
    "\n",
    "result = int_value - 50\n",
    "\n",
    "if result < 0:\n",
    "    result = 0\n",
    "    \n",
    "print(result)"
   ]
  },
  {
   "cell_type": "code",
   "execution_count": 189,
   "id": "9f80f0f9-d840-442e-a6d3-ecf14dcf9aed",
   "metadata": {},
   "outputs": [
    {
     "name": "stdin",
     "output_type": "stream",
     "text": [
      "정수를 하나 입력해주세요: 6\n"
     ]
    },
    {
     "name": "stdout",
     "output_type": "stream",
     "text": [
      "짝수 입니다.\n"
     ]
    }
   ],
   "source": [
    "# 사용자로부터 자연수를 입력 받습니다.\n",
    "# 값이 짝수인지 홀수인지 화면에 출력합니다.\n",
    "# 나의 코딩 방식\n",
    "\n",
    "number_value = int(input(\"정수를 하나 입력해주세요:\"))\n",
    "\n",
    "result = number_value\n",
    "\n",
    "if result % 2 == 0:\n",
    "    print(\"짝수 입니다.\")\n",
    "    \n",
    "elif result % 3 == 0:\n",
    "    print(\"홀수 입니다.\")\n",
    "    \n",
    "else :\n",
    "    print(\"모두 해당 됩니다.\")"
   ]
  },
  {
   "cell_type": "code",
   "execution_count": 193,
   "id": "56ca626e-f425-4120-be73-0946bb09c7bf",
   "metadata": {},
   "outputs": [
    {
     "name": "stdin",
     "output_type": "stream",
     "text": [
      "자연수 하나 입력해주세요: 21\n"
     ]
    },
    {
     "name": "stdout",
     "output_type": "stream",
     "text": [
      "홀수입니다.\n"
     ]
    }
   ],
   "source": [
    "# 강사님의 코딩 방식\n",
    "\n",
    "number = int(input(\"자연수 하나 입력해주세요:\"))\n",
    "\n",
    "if number % 2 == 0:\n",
    "    print(\"짝수입니다.\")\n",
    "else:\n",
    "    print(\"홀수입니다.\")"
   ]
  },
  {
   "cell_type": "code",
   "execution_count": 221,
   "id": "412f242a-9dca-459d-b0bf-55b515d4deef",
   "metadata": {},
   "outputs": [
    {
     "name": "stdin",
     "output_type": "stream",
     "text": [
      "소프트 웨어 설계 점수를 입력하세요 60\n",
      "소프트웨어 개발 점수를 입력하세요 60\n",
      "데이터 베이스 구축 점수를 입력하세요 60\n",
      "프로그래밍 언어 점수를 입력하세요 60\n",
      "데이터베이스 시스템 구축 점수를 입력하세요 60\n"
     ]
    },
    {
     "ename": "NameError",
     "evalue": "name 'avg' is not defined",
     "output_type": "error",
     "traceback": [
      "\u001b[1;31m---------------------------------------------------------------------------\u001b[0m",
      "\u001b[1;31mNameError\u001b[0m                                 Traceback (most recent call last)",
      "\u001b[1;32m~\\AppData\\Local\\Temp\\ipykernel_6404\\737077984.py\u001b[0m in \u001b[0;36m<module>\u001b[1;34m\u001b[0m\n\u001b[0;32m      6\u001b[0m \u001b[1;33m\u001b[0m\u001b[0m\n\u001b[0;32m      7\u001b[0m \u001b[1;32mif\u001b[0m \u001b[1;33m(\u001b[0m\u001b[1;36m0\u001b[0m \u001b[1;33m<=\u001b[0m \u001b[0msoftwaredesign\u001b[0m \u001b[1;33m<=\u001b[0m \u001b[1;36m100\u001b[0m \u001b[1;32mand\u001b[0m \u001b[1;36m0\u001b[0m \u001b[1;33m<=\u001b[0m \u001b[0msoftwaredevelop\u001b[0m \u001b[1;33m<=\u001b[0m \u001b[1;36m100\u001b[0m \u001b[1;32mand\u001b[0m \u001b[1;36m0\u001b[0m \u001b[1;33m<=\u001b[0m \u001b[0mdatabasebuild\u001b[0m \u001b[1;33m<=\u001b[0m \u001b[1;36m100\u001b[0m \u001b[1;32mand\u001b[0m \u001b[1;36m0\u001b[0m \u001b[1;33m<=\u001b[0m \u001b[0mprogramminglanguage\u001b[0m \u001b[1;33m<=\u001b[0m \u001b[1;36m100\u001b[0m \u001b[1;32mand\u001b[0m \u001b[1;36m0\u001b[0m \u001b[1;33m<=\u001b[0m \u001b[0mdatabasesystembuild\u001b[0m \u001b[1;33m<=\u001b[0m \u001b[1;36m100\u001b[0m\u001b[1;33m)\u001b[0m \u001b[1;33m:\u001b[0m\u001b[1;33m\u001b[0m\u001b[1;33m\u001b[0m\u001b[0m\n\u001b[1;32m----> 8\u001b[1;33m     \u001b[0mavg\u001b[0m\u001b[1;33m(\u001b[0m\u001b[1;33m(\u001b[0m\u001b[0msoftwaredesign\u001b[0m \u001b[1;33m+\u001b[0m \u001b[0msoftwaredevelop\u001b[0m \u001b[1;33m+\u001b[0m \u001b[0mdatabasebuild\u001b[0m \u001b[1;33m+\u001b[0m \u001b[0mprogramminglanguage\u001b[0m \u001b[1;33m+\u001b[0m \u001b[0mdatabasesystembuild\u001b[0m\u001b[1;33m)\u001b[0m \u001b[1;33m/\u001b[0m\u001b[1;36m5\u001b[0m\u001b[1;33m)\u001b[0m\u001b[1;33m\u001b[0m\u001b[1;33m\u001b[0m\u001b[0m\n\u001b[0m",
      "\u001b[1;31mNameError\u001b[0m: name 'avg' is not defined"
     ]
    }
   ],
   "source": [
    "softwaredesign = int(input(\"소프트 웨어 설계 점수를 입력하세요\"))\n",
    "softwaredevelop = int(input(\"소프트웨어 개발 점수를 입력하세요\"))\n",
    "databasebuild = int(input(\"데이터 베이스 구축 점수를 입력하세요\"))\n",
    "programminglanguage = int(input(\"프로그래밍 언어 점수를 입력하세요\"))\n",
    "databasesystembuild = int(input(\"데이터베이스 시스템 구축 점수를 입력하세요\")) \n",
    "\n",
    "if (0 <= softwaredesign <= 100 and 0 <= softwaredevelop <= 100 and 0 <= databasebuild <= 100 and 0 <= programminglanguage <= 100 and 0 <= databasesystembuild <= 100) :\n",
    "    avg((softwaredesign + softwaredevelop + databasebuild + programminglanguage + databasesystembuild) /5)"
   ]
  },
  {
   "cell_type": "code",
   "execution_count": 240,
   "id": "39e6567f-7a9d-441d-b2f0-96c767ed6478",
   "metadata": {},
   "outputs": [
    {
     "name": "stdout",
     "output_type": "stream",
     "text": [
      "실행 결과\n"
     ]
    },
    {
     "name": "stdin",
     "output_type": "stream",
     "text": [
      "물의 온도를 입력해주세요 -0.12\n"
     ]
    },
    {
     "name": "stdout",
     "output_type": "stream",
     "text": [
      "고체로 예상됩니다.\n"
     ]
    }
   ],
   "source": [
    "#물의 온도에 따라 현재 상태를 출력하는 프로그램을 만들려고 합니다.\n",
    "print(\"실행 결과\")\n",
    "temperature = float(input(\"물의 온도를 입력해주세요\"))\n",
    "\n",
    "if(temperature >= 100) :\n",
    "    prinnt(\"기체로 예상됩니다.\")\n",
    "    \n",
    "elif(0 <= temperature < 100) :\n",
    "    print(\"액체로 예상됩니다.\")\n",
    "    \n",
    "elif(temperature < 0):\n",
    "    print(\"고체로 예상됩니다.\")\n",
    "      "
   ]
  },
  {
   "cell_type": "code",
   "execution_count": 234,
   "id": "1879802f-af1c-4065-a966-678700e59e2b",
   "metadata": {},
   "outputs": [
    {
     "name": "stdout",
     "output_type": "stream",
     "text": [
      "실행 결과\n"
     ]
    },
    {
     "name": "stdin",
     "output_type": "stream",
     "text": [
      "물의 온도를 입력해주세요 -0.12\n"
     ]
    },
    {
     "name": "stdout",
     "output_type": "stream",
     "text": [
      "기체로 예상됩니다.\n",
      "액체로 예상됩니다.\n",
      "고체로 예상됩니다.\n"
     ]
    }
   ],
   "source": [
    "#물의 온도에 따라 현재 상태를 출력하는 프로그램을 만들려고 합니다.\n",
    "print(\"실행 결과\")\n",
    "temperature = float(input(\"물의 온도를 입력해주세요\"))\n",
    "\n",
    "if(temperature >= 100 or 0 <= temperature < 100 or temperature < 0) :\n",
    "    print(\"기체로 예상됩니다.\")\n",
    "    print(\"액체로 예상됩니다.\")\n",
    "    print(\"고체로 예상됩니다.\")\n",
    "    \n",
    "# IF를 활용하여 결과를 조금더 쉽게 도출하는 방법을 찾아보기/ IF를 한줄로 표현한는 경우 결과값도 한줄로 표현해서 최종결과는 한가지로 도출이되는 방법은 무엇인지 고민하고 연구하기    "
   ]
  },
  {
   "cell_type": "code",
   "execution_count": 235,
   "id": "b8002130-c267-46d8-834b-bd40e1f952c3",
   "metadata": {},
   "outputs": [
    {
     "data": {
      "text/plain": [
       "1.1"
      ]
     },
     "execution_count": 235,
     "metadata": {},
     "output_type": "execute_result"
    }
   ],
   "source": [
    "float(\"1.1\")"
   ]
  },
  {
   "cell_type": "code",
   "execution_count": 237,
   "id": "2b982f66-8fc3-46ce-abc6-5893b49d5126",
   "metadata": {},
   "outputs": [
    {
     "data": {
      "text/plain": [
       "1"
      ]
     },
     "execution_count": 237,
     "metadata": {},
     "output_type": "execute_result"
    }
   ],
   "source": [
    "int(float('1.1'))"
   ]
  },
  {
   "cell_type": "code",
   "execution_count": 5,
   "id": "5258191d-a2aa-4db7-a97d-a4617d9fff02",
   "metadata": {},
   "outputs": [
    {
     "name": "stdout",
     "output_type": "stream",
     "text": [
      "실행 결과\n"
     ]
    },
    {
     "name": "stdin",
     "output_type": "stream",
     "text": [
      "자신의 나이를 입력해주세요 19\n"
     ]
    },
    {
     "name": "stdout",
     "output_type": "stream",
     "text": [
      "1500원 입니다.\n"
     ]
    }
   ],
   "source": [
    "#시내 버스 요금을 받는 프로그램을 만들어라/ 성인(19세 이상)이면 1,500원, 청소년(12세~18세)이면 1,100원, 어린이(6~11세)면 800원 미취학 아동은 무료입니다.\n",
    "\n",
    "print(\"실행 결과\")\n",
    "age = int(input(\"자신의 나이를 입력해주세요\"))\n",
    "\n",
    "if(age >= 19) :\n",
    "    print(\"1500원 입니다.\")\n",
    "    \n",
    "if(12 <= age < 19) :\n",
    "    print(\"1100원 입니다.\")\n",
    "    \n",
    "if(6 <= age < 12):\n",
    "    print(\"800원 입니다.\")\n",
    "    \n",
    "if(age < 6):\n",
    "    print(\"무료 입니다.\")\n",
    "      "
   ]
  },
  {
   "cell_type": "code",
   "execution_count": 4,
   "id": "9e4e80fb-d1f1-4163-bff8-fbad0be584d0",
   "metadata": {},
   "outputs": [
    {
     "name": "stdout",
     "output_type": "stream",
     "text": [
      "실행 결과\n"
     ]
    },
    {
     "name": "stdin",
     "output_type": "stream",
     "text": [
      "자신의 나이를 입력해주세요 19\n"
     ]
    },
    {
     "name": "stdout",
     "output_type": "stream",
     "text": [
      "1500원 입니다.\n"
     ]
    }
   ],
   "source": [
    "#  강사님의 코딩 방식\n",
    "\n",
    "print(\"실행 결과\")\n",
    "age = int(input(\"자신의 나이를 입력해주세요\"))\n",
    "\n",
    "if(age >= 19) :\n",
    "    print(\"1500원 입니다.\")\n",
    "    \n",
    "elif(12 <= age < 19) :\n",
    "    print(\"1100원 입니다.\")\n",
    "    \n",
    "elif(6 <= age < 12):\n",
    "    print(\"800원 입니다.\")\n",
    "    \n",
    "else :\n",
    "    print(\"무료 입니다.\")\n",
    "      "
   ]
  },
  {
   "cell_type": "code",
   "execution_count": 45,
   "id": "4f5d256a-1095-4801-8286-35fe4c8676a0",
   "metadata": {},
   "outputs": [
    {
     "name": "stdout",
     "output_type": "stream",
     "text": [
      "실행결과\n"
     ]
    },
    {
     "name": "stdin",
     "output_type": "stream",
     "text": [
      "발주 수량을 입력하세요:  2100\n"
     ]
    },
    {
     "name": "stdout",
     "output_type": "stream",
     "text": [
      "2100 개를 주문하셨습니다.\n",
      "적용 할인율은 20% 입니다.\n",
      "총 발주 금액은 $입니다.\n"
     ]
    }
   ],
   "source": [
    "# A사는 B사에 C상품($10/개)을 납품합니다.\n",
    "#1000개 미만은 수량할인 없다.\n",
    "# 1000개 ~ 1500개 까지는 5% 할인\n",
    "# 1500개 초과 2000개 까지는 10% 할인\n",
    "# 2000개 초과하면 20% 할인\n",
    "# 나의 코딩 방식\n",
    "\n",
    "print(\"실행결과\")\n",
    "salary = int(input(\"발주 수량을 입력하세요: \"))\n",
    "result = salary\n",
    "print(result, \"개를 주문하셨습니다.\")\n",
    "\n",
    "if(salary < 1000) :\n",
    "    print(\"적용 할인율은 없습니다.\")\n",
    "    \n",
    "elif(999 < salary < 1501) :\n",
    "    print(\"적용 할인율은 5% 입니다.\")    \n",
    "    \n",
    "elif(1500 < salary < 2001) :\n",
    "    print(\"적용 할인율은 10% 입니다.\")      \n",
    " \n",
    "elif(2000 < salary) :\n",
    "    print(\"적용 할인율은 20% 입니다.\")  \n",
    "    \n",
    "print(\"총 발주 금액은\", \"$입니다.\")    "
   ]
  },
  {
   "cell_type": "code",
   "execution_count": null,
   "id": "e66a5be5-0188-4506-a434-2ea2f1dd0330",
   "metadata": {},
   "outputs": [],
   "source": [
    "# A사는 B사에 C상품($10/개)을 납품합니다.\n",
    "#1000개 미만은 수량할인 없다.\n",
    "# 1000개 ~ 1500개 까지는 5% 할인\n",
    "# 1500개 초과 2000개 까지는 10% 할인\n",
    "# 2000개 초과하면 20% 할인\n",
    "# 강사님 코딩 방식 자료보고 완성하기\n",
    "\n",
    "print(\"실행결과\")\n",
    "salary = int(input(\"발주 수량을 입력하세요: \"))\n",
    "result = salary\n",
    "print(result, \"개를 주문하셨습니다.\", sep=\"\")\n",
    "\n",
    "price = 10 # $10/개\n",
    "rate = 0\n",
    "order_amount = 0\n",
    "\n",
    "if(salary < 1000) :\n",
    "    rate = 0\n",
    "    \n",
    "elif(999 < salary < 1501) :\n",
    "    rate = 5    \n",
    "    \n",
    "elif(1500 < salary < 2001) :\n",
    "    rate = 10      \n",
    " \n",
    "elif(2000 < salary) :\n",
    "    rate = 20 \n",
    "    \n",
    "order_amount = int(PRICE * salary * "
   ]
  },
  {
   "cell_type": "code",
   "execution_count": 52,
   "id": "24f2340d-635b-4725-b817-b373e1dbfc32",
   "metadata": {},
   "outputs": [
    {
     "name": "stdin",
     "output_type": "stream",
     "text": [
      "주민번호 뒷자리를 입력하세요 123456\n"
     ]
    },
    {
     "name": "stdout",
     "output_type": "stream",
     "text": [
      "자리수를 잘못 입력했습니다.\n"
     ]
    }
   ],
   "source": [
    "# 주민등록번호 뒤자리 7자리 중 맨 앞 번호가 1,3인경우는 남자 but 2,4인 경우는 여자\n",
    "# 자리수가 7자리가 아니면 '자리수를 잘못 입력했습니다.' 를 출력합니다.\n",
    "# 맨 앞 번호가 1,2,3,4가 아니면 '잘못된 입력입니다.'를 출력합니다.\n",
    "#성별확인 프로그램 작성 하기\n",
    "\n",
    "reg_num = input(\"주민번호 뒷자리를 입력하세요\")\n",
    "if len(reg_num) != 7:\n",
    "    print(\"자리수를 잘못 입력했습니다.\")\n",
    "else:\n",
    "    fst_num = int(reg_num[0])\n",
    "    if fst_num in (1, 3):\n",
    "        print(\"남자\")\n",
    "    elif fst_num in (2, 4):\n",
    "        print(\"여자\")\n",
    "    else:\n",
    "        print(\"잘못된 입력입니다.\")"
   ]
  },
  {
   "cell_type": "code",
   "execution_count": null,
   "id": "342a18f1-493c-40da-a535-e2249a9966f2",
   "metadata": {},
   "outputs": [],
   "source": [
    "#사용자로부터 연도 값을 받고 윤년인지 아닌지 결과를 출력\n",
    "# 연도가 4로 나누어 떨어지는 경우 : 윤년\n",
    "# 그 밖의 해는 평년\n",
    "# 예외 규칙 : 100으로 나누어 떨어지되 400으로 나누어 떨어지지 않는 해 : 평년\n",
    "\n",
    "reg_num = input(\"사용자로부터 받은 연도값\")\n",
    "if len(reg_num) ! = 4:\n",
    "    print(\"윤년입니다.\")\n",
    "else:\n",
    "    fst_num = int(reg_num [0])\n",
    "    if fst_num in()"
   ]
  },
  {
   "cell_type": "code",
   "execution_count": 3,
   "id": "dd7b711d-9ad5-45f1-8232-459cea42eaa5",
   "metadata": {},
   "outputs": [
    {
     "name": "stdout",
     "output_type": "stream",
     "text": [
      "실행결과\n"
     ]
    },
    {
     "name": "stdin",
     "output_type": "stream",
     "text": [
      "확인할 연도를 입력하세요:  1900\n"
     ]
    },
    {
     "name": "stdout",
     "output_type": "stream",
     "text": [
      "평년입니다.\n"
     ]
    }
   ],
   "source": [
    "#나의 코딩 방식\n",
    "# 연습문제(윤년 문제 풀이과정)\n",
    "# year%100 ==0 이라는 의미는 100으로 나누어서 떨어지는 수이다.\n",
    "# year%400 !=0 이라는 의미는 400으로 나누어서 떨어지는 것이 아닌 수이다.\n",
    "# 위의 풀이과정은 아래의 예시를 참고해서 이해하기\n",
    "\n",
    "print(\"실행결과\")\n",
    "year = int(input(\"확인할 연도를 입력하세요: \"))\n",
    "result = year\n",
    "\n",
    "if(year%100==0 and year%400!=0):\n",
    "    print(\"평년입니다.\")\n",
    "elif(year%4 ==0):\n",
    "    print(\"윤년입니다.\")\n",
    "else:\n",
    "    print(\"평년입니다.\")"
   ]
  },
  {
   "cell_type": "code",
   "execution_count": 65,
   "id": "b01c4e91-025a-43c3-9b47-dc90a9971eb3",
   "metadata": {},
   "outputs": [
    {
     "data": {
      "text/plain": [
       "0"
      ]
     },
     "execution_count": 65,
     "metadata": {},
     "output_type": "execute_result"
    }
   ],
   "source": [
    "1900%100"
   ]
  },
  {
   "cell_type": "code",
   "execution_count": 66,
   "id": "d790ad71-d38f-43d9-a5bd-4b0a312a0553",
   "metadata": {},
   "outputs": [
    {
     "data": {
      "text/plain": [
       "1"
      ]
     },
     "execution_count": 66,
     "metadata": {},
     "output_type": "execute_result"
    }
   ],
   "source": [
    "1901%100"
   ]
  },
  {
   "cell_type": "code",
   "execution_count": 4,
   "id": "fc27058c-78e4-4af5-bcc2-64ccde2c4f05",
   "metadata": {},
   "outputs": [
    {
     "name": "stdin",
     "output_type": "stream",
     "text": [
      "확인할 연도를 입력하세요: 1990\n"
     ]
    },
    {
     "name": "stdout",
     "output_type": "stream",
     "text": [
      "평년입니다.\n"
     ]
    }
   ],
   "source": [
    "# 강사님의 코딩 방식\n",
    "# 예외 규칙은 모두 and로 묶어야 한다.(필수적으로 포함되는 규칙이기 때문이다.)\n",
    "\n",
    "year = int(input(\"확인할 연도를 입력하세요:\"))\n",
    "\n",
    "if year % 4 == 0 and (year % 100 != 0 or year % 400 == 0):\n",
    "    print(\"윤년입니다.\")\n",
    "else :\n",
    "    print(\"평년입니다.\")"
   ]
  },
  {
   "cell_type": "code",
   "execution_count": 8,
   "id": "1a345ab6-2c56-4418-bc5e-c9d8c3f829e5",
   "metadata": {},
   "outputs": [
    {
     "ename": "SyntaxError",
     "evalue": "invalid syntax (320350955.py, line 3)",
     "output_type": "error",
     "traceback": [
      "\u001b[1;36m  File \u001b[1;32m\"C:\\Users\\Playdata\\AppData\\Local\\Temp\\ipykernel_3908\\320350955.py\"\u001b[1;36m, line \u001b[1;32m3\u001b[0m\n\u001b[1;33m    슬라이상[시작하는 숫자, 끝숫자, 증감]\u001b[0m\n\u001b[1;37m              ^\u001b[0m\n\u001b[1;31mSyntaxError\u001b[0m\u001b[1;31m:\u001b[0m invalid syntax\n"
     ]
    }
   ],
   "source": [
    "# 슬라이싱\n",
    "a = [0,1,2,3,4,5,6,7]\n",
    "슬라이상[시작하는 숫자, 끝숫자, 증감]\n",
    "\n",
    "# 함수를 호출할 때 소괄호를 사용한다.\n",
    "# 인수(arguments)가 여럿일 때 콤마로 구분한다.\n",
    "# range(시작하는 숫자(포함)= 0, 끝숫자(미포함), 증감=1)\n",
    "# range는 규칙된 슛자를 만드는데 특화되어 있다."
   ]
  },
  {
   "cell_type": "code",
   "execution_count": 9,
   "id": "fcdeee92-3c95-4e7b-9ef6-762205e0053a",
   "metadata": {},
   "outputs": [
    {
     "data": {
      "text/plain": [
       "[0, 2, 4]"
      ]
     },
     "execution_count": 9,
     "metadata": {},
     "output_type": "execute_result"
    }
   ],
   "source": [
    "a[0:5:2]"
   ]
  },
  {
   "cell_type": "code",
   "execution_count": 11,
   "id": "3fb84559-c69e-4226-b846-431c957173d4",
   "metadata": {},
   "outputs": [
    {
     "data": {
      "text/plain": [
       "range(0, 8)"
      ]
     },
     "execution_count": 11,
     "metadata": {},
     "output_type": "execute_result"
    }
   ],
   "source": [
    "range(0, 8, 1)"
   ]
  },
  {
   "cell_type": "code",
   "execution_count": 12,
   "id": "9e5c64ef-509d-47da-9a13-9fa3b55e909d",
   "metadata": {},
   "outputs": [
    {
     "data": {
      "text/plain": [
       "range(0, 8)"
      ]
     },
     "execution_count": 12,
     "metadata": {},
     "output_type": "execute_result"
    }
   ],
   "source": [
    "range(8)"
   ]
  },
  {
   "cell_type": "code",
   "execution_count": 17,
   "id": "fe533bff-f596-45ba-9558-d91321a6949f",
   "metadata": {},
   "outputs": [
    {
     "name": "stdout",
     "output_type": "stream",
     "text": [
      "[0, 1, 2, 3, 4, 5, 6, 7]\n"
     ]
    }
   ],
   "source": [
    "list(range(8)) #iterable\n",
    "list(range(0, 8)) #iterable\n",
    "print(list(range(0, 8))) #iterable\n",
    "# 위의 방식 모두 나오는 값은 똑같다."
   ]
  },
  {
   "cell_type": "code",
   "execution_count": 18,
   "id": "30bd887a-e004-4129-a415-c31ca3a6e5a4",
   "metadata": {},
   "outputs": [
    {
     "data": {
      "text/plain": [
       "range"
      ]
     },
     "execution_count": 18,
     "metadata": {},
     "output_type": "execute_result"
    }
   ],
   "source": [
    "type(range(1))"
   ]
  },
  {
   "cell_type": "code",
   "execution_count": 22,
   "id": "0977e1aa-0f1b-43c4-b37a-5670c4046c14",
   "metadata": {},
   "outputs": [],
   "source": [
    "# list vs range가 동작하는 큰 차이점\n",
    "# list는 큰 메모리 안에 모든 값을 생성해놓고 저장한 상태이다.\n",
    "# range는 큰 메모리 안에 모든 값을 생성해놓고 저장한 상태는 아니다. 필요할 때 생성하는 것이다.\n",
    "# for n in range(1000) :  ->range는 0부터 999까지의 숫자를 생성한다."
   ]
  }
 ],
 "metadata": {
  "kernelspec": {
   "display_name": "Python 3 (ipykernel)",
   "language": "python",
   "name": "python3"
  },
  "language_info": {
   "codemirror_mode": {
    "name": "ipython",
    "version": 3
   },
   "file_extension": ".py",
   "mimetype": "text/x-python",
   "name": "python",
   "nbconvert_exporter": "python",
   "pygments_lexer": "ipython3",
   "version": "3.9.13"
  }
 },
 "nbformat": 4,
 "nbformat_minor": 5
}
