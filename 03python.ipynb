{
 "cells": [
  {
   "cell_type": "code",
   "execution_count": 7,
   "id": "35cea22d-3e8b-4eff-b823-5285e5d7f705",
   "metadata": {},
   "outputs": [
    {
     "name": "stdout",
     "output_type": "stream",
     "text": [
      "Hello, world!\n",
      "Hello, world!\n",
      "Python Programming\n"
     ]
    }
   ],
   "source": [
    "print('Hello, world!')\n",
    "print('Hello, world!')\n",
    "print('Python Programming')"
   ]
  },
  {
   "cell_type": "code",
   "execution_count": 9,
   "id": "3b4ebdf3-9444-4363-98d6-dea84e1567a7",
   "metadata": {},
   "outputs": [
    {
     "data": {
      "text/plain": [
       "89"
      ]
     },
     "execution_count": 9,
     "metadata": {},
     "output_type": "execute_result"
    }
   ],
   "source": [
    "13+(22-3)*4"
   ]
  },
  {
   "cell_type": "code",
   "execution_count": 10,
   "id": "c9029242-cf3c-406e-8a0a-41bd3334c48d",
   "metadata": {},
   "outputs": [
    {
     "data": {
      "text/plain": [
       "28.2"
      ]
     },
     "execution_count": 10,
     "metadata": {},
     "output_type": "execute_result"
    }
   ],
   "source": [
    "13+((22-3)*4)/5"
   ]
  },
  {
   "cell_type": "code",
   "execution_count": 16,
   "id": "b9bf52b0-985c-4b75-b170-74d09761ba6e",
   "metadata": {},
   "outputs": [
    {
     "data": {
      "text/plain": [
       "128"
      ]
     },
     "execution_count": 16,
     "metadata": {},
     "output_type": "execute_result"
    }
   ],
   "source": [
    "2**7"
   ]
  },
  {
   "cell_type": "code",
   "execution_count": 17,
   "id": "c19ec817-e266-4d78-a4a2-9e378a71d0cf",
   "metadata": {},
   "outputs": [
    {
     "data": {
      "text/plain": [
       "1.7320508075688772"
      ]
     },
     "execution_count": 17,
     "metadata": {},
     "output_type": "execute_result"
    }
   ],
   "source": [
    "3**(1/2)"
   ]
  },
  {
   "cell_type": "code",
   "execution_count": 18,
   "id": "5a85ac21-0aaa-42ad-be1f-44b02cae64d9",
   "metadata": {},
   "outputs": [
    {
     "data": {
      "text/plain": [
       "1"
      ]
     },
     "execution_count": 18,
     "metadata": {},
     "output_type": "execute_result"
    }
   ],
   "source": [
    "3//2"
   ]
  },
  {
   "cell_type": "code",
   "execution_count": 19,
   "id": "d58ec5e3-b974-485f-adec-fb62dd985c0f",
   "metadata": {},
   "outputs": [
    {
     "data": {
      "text/plain": [
       "1"
      ]
     },
     "execution_count": 19,
     "metadata": {},
     "output_type": "execute_result"
    }
   ],
   "source": [
    "3%2"
   ]
  },
  {
   "cell_type": "code",
   "execution_count": 20,
   "id": "4d69a7c1-c71b-49b5-9740-e643ad381e40",
   "metadata": {},
   "outputs": [],
   "source": [
    "a = 2+3j\n",
    "b = complex(3,-4)"
   ]
  },
  {
   "cell_type": "code",
   "execution_count": 23,
   "id": "ea092403-ef5e-4f6c-9322-e0b928f6aaa0",
   "metadata": {},
   "outputs": [
    {
     "data": {
      "text/plain": [
       "2.0"
      ]
     },
     "execution_count": 23,
     "metadata": {},
     "output_type": "execute_result"
    }
   ],
   "source": [
    "a. real"
   ]
  },
  {
   "cell_type": "code",
   "execution_count": 25,
   "id": "ca279601-02c7-4021-8b71-6f1125a56ac0",
   "metadata": {},
   "outputs": [
    {
     "data": {
      "text/plain": [
       "3.0"
      ]
     },
     "execution_count": 25,
     "metadata": {},
     "output_type": "execute_result"
    }
   ],
   "source": [
    "a. imag"
   ]
  },
  {
   "cell_type": "code",
   "execution_count": 32,
   "id": "8ab34282-a54a-4afb-a1dd-0885d714bedc",
   "metadata": {},
   "outputs": [
    {
     "data": {
      "text/plain": [
       "3"
      ]
     },
     "execution_count": 32,
     "metadata": {},
     "output_type": "execute_result"
    }
   ],
   "source": [
    "int(3.3)"
   ]
  },
  {
   "cell_type": "code",
   "execution_count": 33,
   "id": "ebd3595e-3be5-4384-9029-af5bf9c9e385",
   "metadata": {},
   "outputs": [
    {
     "data": {
      "text/plain": [
       "104"
      ]
     },
     "execution_count": 33,
     "metadata": {},
     "output_type": "execute_result"
    }
   ],
   "source": [
    "int(104.45)"
   ]
  },
  {
   "cell_type": "code",
   "execution_count": 34,
   "id": "14da5ff9-a43e-444d-85dd-5c2fb27c78f2",
   "metadata": {},
   "outputs": [
    {
     "data": {
      "text/plain": [
       "3.0"
      ]
     },
     "execution_count": 34,
     "metadata": {},
     "output_type": "execute_result"
    }
   ],
   "source": [
    "float(3)"
   ]
  },
  {
   "cell_type": "code",
   "execution_count": 35,
   "id": "21f73f6e-4b67-491e-a08e-bf0ade8caaef",
   "metadata": {},
   "outputs": [
    {
     "data": {
      "text/plain": [
       "16.0"
      ]
     },
     "execution_count": 35,
     "metadata": {},
     "output_type": "execute_result"
    }
   ],
   "source": [
    "float(4*4)"
   ]
  },
  {
   "cell_type": "code",
   "execution_count": 38,
   "id": "f4057192-d3aa-425d-9b59-191dbb5db660",
   "metadata": {},
   "outputs": [
    {
     "ename": "NameError",
     "evalue": "name '문자열' is not defined",
     "output_type": "error",
     "traceback": [
      "\u001b[1;31m---------------------------------------------------------------------------\u001b[0m",
      "\u001b[1;31mNameError\u001b[0m                                 Traceback (most recent call last)",
      "\u001b[1;32m~\\AppData\\Local\\Temp\\ipykernel_2132\\2537615269.py\u001b[0m in \u001b[0;36m<module>\u001b[1;34m\u001b[0m\n\u001b[1;32m----> 1\u001b[1;33m \u001b[0mint\u001b[0m\u001b[1;33m(\u001b[0m\u001b[0m문자열\u001b[0m\u001b[1;33m)\u001b[0m\u001b[1;33m\u001b[0m\u001b[1;33m\u001b[0m\u001b[0m\n\u001b[0m",
      "\u001b[1;31mNameError\u001b[0m: name '문자열' is not defined"
     ]
    }
   ],
   "source": [
    "int(문자열)"
   ]
  },
  {
   "cell_type": "code",
   "execution_count": 45,
   "id": "eccf01d6-22df-4e66-9801-1aa28cdc7cd4",
   "metadata": {},
   "outputs": [
    {
     "name": "stdout",
     "output_type": "stream",
     "text": [
      "7\n"
     ]
    }
   ],
   "source": [
    "print(int((0.2462*12)+4.159))"
   ]
  },
  {
   "cell_type": "code",
   "execution_count": 46,
   "id": "0b5aa615-e808-43a7-ace4-e7bb301218e9",
   "metadata": {},
   "outputs": [
    {
     "name": "stdout",
     "output_type": "stream",
     "text": [
      "가장 시끄러운 층은 = 7 층\n"
     ]
    }
   ],
   "source": [
    "print(\"가장\", \"시끄러운\", \"층은\", \"=\", \"7\", \"층\")"
   ]
  },
  {
   "cell_type": "code",
   "execution_count": 54,
   "id": "753a8fa0-d03c-4645-9cc5-4095a9a223da",
   "metadata": {},
   "outputs": [
    {
     "name": "stdout",
     "output_type": "stream",
     "text": [
      "가장 시끄러운 층은 = 7층\n"
     ]
    }
   ],
   "source": [
    "print(\"가장 시끄러운 층은 = 7층\")"
   ]
  },
  {
   "cell_type": "code",
   "execution_count": 61,
   "id": "95663bf7-5ff9-4495-bf74-ae4b41daf848",
   "metadata": {},
   "outputs": [
    {
     "data": {
      "text/plain": [
       "1272000"
      ]
     },
     "execution_count": 61,
     "metadata": {},
     "output_type": "execute_result"
    }
   ],
   "source": [
    "(53000*24)"
   ]
  },
  {
   "cell_type": "code",
   "execution_count": 62,
   "id": "a1110b3d-0ea0-4c70-a726-05b79e5b88b7",
   "metadata": {},
   "outputs": [
    {
     "name": "stdout",
     "output_type": "stream",
     "text": [
      "냉장고 가격은 1272000 원 입니다\n"
     ]
    }
   ],
   "source": [
    "refrige_price = 53000*24\n",
    "print(\"냉장고 가격은\", refrige_price, \"원 입니다\")"
   ]
  },
  {
   "cell_type": "code",
   "execution_count": 77,
   "id": "439e762d-6a41-44f1-9a59-839f6d57c745",
   "metadata": {},
   "outputs": [
    {
     "name": "stdout",
     "output_type": "stream",
     "text": [
      "총 지불 해야 할 금액은 16500000 원 입니다\n"
     ]
    }
   ],
   "source": [
    "price = 66000*250\n",
    "print(\"총 지불 해야 할 금액은\", price, \"원 입니다\")"
   ]
  },
  {
   "cell_type": "code",
   "execution_count": 92,
   "id": "dd1073bd-28bb-4733-b1be-ad1ff1fdca53",
   "metadata": {},
   "outputs": [
    {
     "name": "stdout",
     "output_type": "stream",
     "text": [
      "총 지불 해야 할 금액은 16500000.000000002 원 입니다\n"
     ]
    }
   ],
   "source": [
    "price = 20000*3*250*1.1\n",
    "print(\"총 지불 해야 할 금액은\", price, \"원 입니다\")"
   ]
  },
  {
   "cell_type": "code",
   "execution_count": 97,
   "id": "cc05db3f-d493-4f07-a081-cea316957063",
   "metadata": {},
   "outputs": [
    {
     "name": "stdout",
     "output_type": "stream",
     "text": [
      "453.0\n"
     ]
    }
   ],
   "source": [
    "print((380*0.6)+225)"
   ]
  },
  {
   "cell_type": "code",
   "execution_count": 98,
   "id": "aded8476-9723-46f1-894a-081e82f17101",
   "metadata": {},
   "outputs": [
    {
     "data": {
      "text/plain": [
       "453.0"
      ]
     },
     "execution_count": 98,
     "metadata": {},
     "output_type": "execute_result"
    }
   ],
   "source": [
    "380*0.6+225"
   ]
  },
  {
   "cell_type": "code",
   "execution_count": 99,
   "id": "8015ba43-92cb-466a-aaad-8436c2a06bab",
   "metadata": {},
   "outputs": [
    {
     "name": "stdout",
     "output_type": "stream",
     "text": [
      "453.0\n"
     ]
    }
   ],
   "source": [
    "print(380*0.6+225)"
   ]
  },
  {
   "cell_type": "code",
   "execution_count": 100,
   "id": "a59719a2-a1ee-47ce-b8ba-26ab97c14861",
   "metadata": {},
   "outputs": [
    {
     "data": {
      "text/plain": [
       "453.0"
      ]
     },
     "execution_count": 100,
     "metadata": {},
     "output_type": "execute_result"
    }
   ],
   "source": [
    "float(380*0.6+225)"
   ]
  },
  {
   "cell_type": "code",
   "execution_count": 101,
   "id": "b2aadeb0-ddce-4ebc-8848-83d773b117e6",
   "metadata": {},
   "outputs": [
    {
     "data": {
      "text/plain": [
       "453"
      ]
     },
     "execution_count": 101,
     "metadata": {},
     "output_type": "execute_result"
    }
   ],
   "source": [
    "int(380*0.6+225)"
   ]
  },
  {
   "cell_type": "code",
   "execution_count": 4,
   "id": "6742dba8-286a-487d-ae7c-74a86019f6cf",
   "metadata": {},
   "outputs": [
    {
     "name": "stdout",
     "output_type": "stream",
     "text": [
      "너무너무너무너무너무너무너무너무너무너무너무너무너무너무너무너무너무너무너무너무너무너무너무너무너무너무너무너무너무너무너무너무너무너무너무너무너무너무너무너무너무너무너무너무너무너무너무너무너무너무너무너무너무너무너무너무너무너무너무너무너무너무너무너무너무너무너무너무너무너무너무너무너무너무너무너무너무너무너무너무너무너무너무너무너무너무너무너무너무너무너무너무너무너무너무너무너무너무너무너무 파이썬 공부가 즐겁습니다.\n"
     ]
    }
   ],
   "source": [
    "s6 = \"너무\" *100+\" 파이썬 공부가 즐겁습니다.\"\n",
    "print(s6)"
   ]
  },
  {
   "cell_type": "code",
   "execution_count": 29,
   "id": "136d7c0a-f43d-47af-8bea-7e58b37c79cd",
   "metadata": {},
   "outputs": [
    {
     "name": "stdout",
     "output_type": "stream",
     "text": [
      "너무너무너무너무너무너무너무너무너무너무너무너무너무너무너무너무너무너무너무너무너무너무너무너무너무너무너무너무너무너무너무너무너무너무너무너무너무너무너무너무너무너무너무너무너무너무너무너무너무너무너무너무너무너무너무너무너무너무너무너무너무너무너무너무너무너무너무너무너무너무너무너무너무너무너무너무너무너무너무너무너무너무너무너무너무너무너무너무너무너무너무너무너무너무너무너무너무너무너무너무 파이썬 공부가 즐겁습니다.\n"
     ]
    }
   ],
   "source": [
    "print(s6)\n",
    "s6 = \"너무\" *100+\" 파이썬 공부가 즐겁습니다.\""
   ]
  },
  {
   "cell_type": "code",
   "execution_count": 50,
   "id": "815149c7-e032-4641-a579-0784dfcf30be",
   "metadata": {},
   "outputs": [
    {
     "name": "stdout",
     "output_type": "stream",
     "text": [
      "P\n",
      "n\n",
      "n\n",
      "P\n"
     ]
    }
   ],
   "source": [
    "word = \"Python\"\n",
    "# 인덱스는 0부터 시작한다.\n",
    "print(word [0])\n",
    "print(word [5])\n",
    "# 인덱스는 -1부터 시작한다.\n",
    "print(word [-1])\n",
    "print(word [-6])"
   ]
  },
  {
   "cell_type": "code",
   "execution_count": 63,
   "id": "e31e5cc7-858b-40ff-9a95-b1e8797667ad",
   "metadata": {},
   "outputs": [
    {
     "name": "stdout",
     "output_type": "stream",
     "text": [
      "꺽\n"
     ]
    }
   ],
   "source": [
    "sentence = \"중요한 것은 꺽이지 않는 마음\"\n",
    "print(sentence [7])"
   ]
  },
  {
   "cell_type": "code",
   "execution_count": 70,
   "id": "d5bb3ddc-de21-4b0c-94e8-50040a760796",
   "metadata": {},
   "outputs": [
    {
     "name": "stdout",
     "output_type": "stream",
     "text": [
      "Py\n",
      "Pyt\n",
      "Python\n",
      "\n",
      "\n",
      "Python\n"
     ]
    }
   ],
   "source": [
    "word = \"Python\"\n",
    "print(word[0:2])\n",
    "print(word[:-3])\n",
    "print(word[:6])\n",
    "print(word[:-7])\n",
    "print(word[:0])\n",
    "print(word[0:])"
   ]
  },
  {
   "cell_type": "code",
   "execution_count": 74,
   "id": "9aee4172-34e0-4eec-87cc-a9576787b509",
   "metadata": {},
   "outputs": [
    {
     "name": "stdout",
     "output_type": "stream",
     "text": [
      "Pto\n",
      "yhn\n"
     ]
    }
   ],
   "source": [
    "word = \"Python\"\n",
    "print(word[::2])\n",
    "print(word[1:6:2])"
   ]
  },
  {
   "cell_type": "code",
   "execution_count": 79,
   "id": "964975c9-e378-4dc4-9188-a2c72b7698f1",
   "metadata": {},
   "outputs": [
    {
     "name": "stdout",
     "output_type": "stream",
     "text": [
      "\n",
      "한 것은 꺽이지 않는 마음\n",
      "한것 이 는마\n",
      "음 않지꺽은 \n"
     ]
    }
   ],
   "source": [
    "sentence = \"중요한 것은 꺽이지 않는 마음\"\n",
    "print(sentence[42:])\n",
    "print(sentence[2:42])\n",
    "print(sentence[2:15:2])\n",
    "print(sentence[-1:-15:-2])"
   ]
  },
  {
   "cell_type": "code",
   "execution_count": 116,
   "id": "8db50b96-eaf8-4f7f-ab4d-085c78b157ef",
   "metadata": {},
   "outputs": [
    {
     "name": "stdout",
     "output_type": "stream",
     "text": [
      "꺽이지 않는 마음\n",
      "꺽이지 않는 마음\n",
      "꺽이지 않는 마음\n",
      "음마 는않 지이\n",
      "꺽이지 않는 마음\n"
     ]
    }
   ],
   "source": [
    "sentence = \"중요한 것은 꺽이지 않는 마음\"\n",
    "print(sentence[7:16:1])\n",
    "print(sentence[7:16])\n",
    "print(sentence[7:])\n",
    "print(sentence[-1:-9:-1])\n",
    "print(sentence[-9::])"
   ]
  },
  {
   "cell_type": "code",
   "execution_count": 125,
   "id": "408660a4-24ba-48b6-a9d2-c8d5ea622868",
   "metadata": {},
   "outputs": [
    {
     "name": "stdout",
     "output_type": "stream",
     "text": [
      " 한요중\n",
      " 한요중\n",
      " 것은 꺽이지 않는 마음\n",
      " 한요\n",
      "한요\n",
      "한요중\n",
      "한요중\n",
      "\n",
      "한요중\n",
      "중요한\n"
     ]
    }
   ],
   "source": [
    "sentence = \"중요한 것은 꺽이지 않는 마음\"\n",
    "print(sentence[-13:-17:-1])\n",
    "print(sentence[-13::-1])\n",
    "print(sentence[-13:])\n",
    "print(sentence[-13:-16:-1])\n",
    "print(sentence[-14:-16:-1])\n",
    "print(sentence[-14:-17:-1])\n",
    "print(sentence[-14::-1])\n",
    "print(sentence[-17::-1])\n",
    "print(sentence[2::-1])\n",
    "print(sentence[-16:-13])"
   ]
  },
  {
   "cell_type": "code",
   "execution_count": 140,
   "id": "81672729-49cc-4bbc-bae5-5ffbc28de6c1",
   "metadata": {},
   "outputs": [
    {
     "name": "stdout",
     "output_type": "stream",
     "text": [
      "중요한\n",
      "[]\n",
      "중요한중요한중요한\n"
     ]
    }
   ],
   "source": [
    "sentence = \"중요한 것은 꺽이지 않는 마음\"\n",
    "print(sentence[0:3])\n",
    "print(squares[-13:-17])\n",
    "print(sentence[0:3] *3)"
   ]
  },
  {
   "cell_type": "code",
   "execution_count": 131,
   "id": "ffbc1baa-e31f-4c8f-98a8-928b1cb406fa",
   "metadata": {},
   "outputs": [
    {
     "name": "stdout",
     "output_type": "stream",
     "text": [
      "[1, 4, 9, 16, 25]\n",
      "36\n",
      "1\n",
      "25\n",
      "[9, 16, 25]\n"
     ]
    }
   ],
   "source": [
    "squares = [1**2, 2**2, 3**2, 4**2, 5**2]\n",
    "print(squares)\n",
    "print(6**2)\n",
    "print(squares[0])\n",
    "print(squares[-1])\n",
    "print(squares[-3:])"
   ]
  },
  {
   "cell_type": "code",
   "execution_count": 134,
   "id": "23aa73f8-ba7b-4726-8d6e-24f1dc54c4ee",
   "metadata": {},
   "outputs": [
    {
     "name": "stdout",
     "output_type": "stream",
     "text": [
      "[1, 4, 9, 16, 25, 36, 49, 64, 81, 100]\n",
      "['a', 'b', 'c', 'd', 'e', 'a', 'b', 'c', 'd', 'e', 'a', 'b', 'c', 'd', 'e']\n"
     ]
    }
   ],
   "source": [
    "print(squares + [36, 49, 64, 81, 100])\n",
    "letters = ['a', 'b', 'c', 'd', 'e']\n",
    "print(letters *3)"
   ]
  },
  {
   "cell_type": "code",
   "execution_count": 146,
   "id": "e6c9f270-9924-40b9-a06c-a048e08eff67",
   "metadata": {},
   "outputs": [
    {
     "name": "stdout",
     "output_type": "stream",
     "text": [
      "[1, 8, 27, 64, 125]\n",
      "['a', 'b', 'c', 'c', 'd', 'e']\n",
      "6\n"
     ]
    }
   ],
   "source": [
    "cubes = [1, 8, 27, 65, 125]\n",
    "cubes[3] = 4**3\n",
    "print(cubes)\n",
    "letters[3:5] = [\"c\", \"d\", \"e\"]\n",
    "print(letters)\n",
    "print(len(letters))"
   ]
  },
  {
   "cell_type": "code",
   "execution_count": 152,
   "id": "842ba4b8-2d56-4298-b53e-3698c37d81b6",
   "metadata": {},
   "outputs": [
    {
     "name": "stdout",
     "output_type": "stream",
     "text": [
      "5\n",
      "[['a', 'b', 'c'], [1, 2, 3]]\n",
      "['a', 'b', 'c']\n",
      "b\n",
      "2\n"
     ]
    }
   ],
   "source": [
    "letters = ['a','b','c','d','e']\n",
    "print(len(letters))\n",
    "a = ['a','b','c']\n",
    "n = [1,2,3]\n",
    "x = [a,n]\n",
    "print(x)\n",
    "print(x[0])\n",
    "print(x[0][1])\n",
    "print(x[1][1])"
   ]
  },
  {
   "cell_type": "code",
   "execution_count": 158,
   "id": "c722e03d-2ddb-44e9-89a5-b3d7e70ef054",
   "metadata": {},
   "outputs": [
    {
     "name": "stdout",
     "output_type": "stream",
     "text": [
      "True\n",
      "False\n"
     ]
    }
   ],
   "source": [
    "numbers = [1,2,3,4,5,6,7]\n",
    "print(5 in numbers)\n",
    "print(10 in numbers)"
   ]
  },
  {
   "cell_type": "code",
   "execution_count": 203,
   "id": "11e3c636-91f5-407e-b32e-45c7b9b9b6d2",
   "metadata": {},
   "outputs": [
    {
     "name": "stdout",
     "output_type": "stream",
     "text": [
      "False\n"
     ]
    }
   ],
   "source": [
    "# [국어, 영어, 한국사, 선택과목1, 선택과목2]\n",
    "# 한 과목도 60 미만이면 False\n",
    "scores = (88, 73, 89, 59, 77)\n",
    "print(scores[0] >= 60 \n",
    "      and scores[1] >= 60\n",
    "      and scores[2] >= 60 \n",
    "      and scores[3] >= 60\n",
    "      and scores[4] >= 60)"
   ]
  },
  {
   "cell_type": "code",
   "execution_count": 246,
   "id": "007a2d9b-5e68-457d-a1fe-32862fade85c",
   "metadata": {},
   "outputs": [
    {
     "name": "stdout",
     "output_type": "stream",
     "text": [
      "[1, 2, 3, 4, 5, 6, 7, 8, 8]\n",
      "[2, 3, 4, 5, 6, 7, 8, 8]\n",
      "1\n",
      "3\n",
      "[2, 4, 5, 6, 7, 8, 8]\n",
      "0\n",
      "[2, 4, 5, 6, 7, 8, 8]\n"
     ]
    }
   ],
   "source": [
    "numbers = [1,2,3,4,5,6,7,8]\n",
    "numbers. append(8)\n",
    "print(numbers)\n",
    "numbers. remove(1)\n",
    "print(numbers)\n",
    "print(numbers.index(3))\n",
    "print(numbers.pop(1))\n",
    "print(numbers)\n",
    "print(numbers.count(0))\n",
    "numbers.sort()\n",
    "print(numbers)"
   ]
  },
  {
   "cell_type": "code",
   "execution_count": 247,
   "id": "ba6b73d1-7ffb-4562-9635-7d9853ddf3d0",
   "metadata": {},
   "outputs": [
    {
     "name": "stdout",
     "output_type": "stream",
     "text": [
      "[8, 4, 2, 1, 2, 7]\n"
     ]
    }
   ],
   "source": [
    "reverse_test = [7,2,1,2,4,8]\n",
    "reverse_test.reverse()\n",
    "print(reverse_test)"
   ]
  },
  {
   "cell_type": "code",
   "execution_count": 264,
   "id": "460fa3dd-ca8c-49d2-96f7-8bc411a00fa2",
   "metadata": {},
   "outputs": [
    {
     "name": "stdout",
     "output_type": "stream",
     "text": [
      "[3, 4, 5, 6, 7]\n",
      "7\n",
      "[3, 4, 5, 6]\n",
      "6\n",
      "[3, 4, 5]\n",
      "5\n",
      "[3, 4]\n",
      "[]\n"
     ]
    }
   ],
   "source": [
    "stack = [3,4,5]\n",
    "stack. append(6)\n",
    "stack. append(7)\n",
    "print(stack)\n",
    "\n",
    "print(stack. pop())\n",
    "print(stack)\n",
    "\n",
    "print(stack.pop())\n",
    "print(stack)\n",
    "\n",
    "print(stack.pop())\n",
    "print(stack)"
   ]
  },
  {
   "cell_type": "code",
   "execution_count": 266,
   "id": "94cf34b7-4797-45b1-be17-c5834c58baf4",
   "metadata": {},
   "outputs": [
    {
     "name": "stdout",
     "output_type": "stream",
     "text": [
      "[]\n"
     ]
    }
   ],
   "source": [
    "numbers.clear()\n",
    "print(numbers)"
   ]
  },
  {
   "cell_type": "code",
   "execution_count": 267,
   "id": "17955320-e057-4a19-986b-5a0715e0ccb2",
   "metadata": {},
   "outputs": [
    {
     "ename": "TypeError",
     "evalue": "'tuple' object does not support item assignment",
     "output_type": "error",
     "traceback": [
      "\u001b[1;31m---------------------------------------------------------------------------\u001b[0m",
      "\u001b[1;31mTypeError\u001b[0m                                 Traceback (most recent call last)",
      "\u001b[1;32m~\\AppData\\Local\\Temp\\ipykernel_11668\\1019721646.py\u001b[0m in \u001b[0;36m<module>\u001b[1;34m\u001b[0m\n\u001b[0;32m      1\u001b[0m \u001b[0mtuple_variable\u001b[0m \u001b[1;33m=\u001b[0m \u001b[1;33m(\u001b[0m\u001b[1;36m1\u001b[0m\u001b[1;33m,\u001b[0m\u001b[1;36m2\u001b[0m\u001b[1;33m,\u001b[0m\u001b[1;36m3\u001b[0m\u001b[1;33m,\u001b[0m\u001b[1;36m4\u001b[0m\u001b[1;33m,\u001b[0m\u001b[1;36m5\u001b[0m\u001b[1;33m,\u001b[0m \u001b[1;34m\"hello\"\u001b[0m\u001b[1;33m)\u001b[0m\u001b[1;33m\u001b[0m\u001b[1;33m\u001b[0m\u001b[0m\n\u001b[1;32m----> 2\u001b[1;33m \u001b[0mtuple_variable\u001b[0m\u001b[1;33m[\u001b[0m\u001b[1;36m0\u001b[0m\u001b[1;33m]\u001b[0m \u001b[1;33m=\u001b[0m \u001b[1;36m0\u001b[0m\u001b[1;33m\u001b[0m\u001b[1;33m\u001b[0m\u001b[0m\n\u001b[0m",
      "\u001b[1;31mTypeError\u001b[0m: 'tuple' object does not support item assignment"
     ]
    }
   ],
   "source": [
    "tuple_variable = (1,2,3,4,5, \"hello\")\n",
    "tuple_variable[0] = 0 "
   ]
  },
  {
   "cell_type": "code",
   "execution_count": 269,
   "id": "11cccc1c-feb0-43cb-88ba-5b765450a193",
   "metadata": {},
   "outputs": [
    {
     "ename": "TypeError",
     "evalue": "'tuple' object does not support item assignment",
     "output_type": "error",
     "traceback": [
      "\u001b[1;31m---------------------------------------------------------------------------\u001b[0m",
      "\u001b[1;31mTypeError\u001b[0m                                 Traceback (most recent call last)",
      "\u001b[1;32m~\\AppData\\Local\\Temp\\ipykernel_11668\\3758404672.py\u001b[0m in \u001b[0;36m<module>\u001b[1;34m\u001b[0m\n\u001b[1;32m----> 1\u001b[1;33m \u001b[0mtuple_variable\u001b[0m\u001b[1;33m[\u001b[0m\u001b[1;36m1\u001b[0m\u001b[1;33m:\u001b[0m\u001b[1;36m3\u001b[0m\u001b[1;33m]\u001b[0m \u001b[1;33m=\u001b[0m \u001b[1;33m(\u001b[0m\u001b[1;34m\"음\"\u001b[0m\u001b[1;33m,\u001b[0m \u001b[1;34m\"오\"\u001b[0m\u001b[1;33m)\u001b[0m\u001b[1;33m\u001b[0m\u001b[1;33m\u001b[0m\u001b[0m\n\u001b[0m\u001b[0;32m      2\u001b[0m \u001b[1;32mdel\u001b[0m \u001b[0mtuple_variable\u001b[0m\u001b[1;33m[\u001b[0m\u001b[1;36m1\u001b[0m\u001b[1;33m]\u001b[0m\u001b[1;33m\u001b[0m\u001b[1;33m\u001b[0m\u001b[0m\n",
      "\u001b[1;31mTypeError\u001b[0m: 'tuple' object does not support item assignment"
     ]
    }
   ],
   "source": [
    "tuple_variable[1:3] = (\"음\", \"오\")\n",
    "del tuple_variable[1]"
   ]
  },
  {
   "cell_type": "code",
   "execution_count": 275,
   "id": "437b8c73-7b79-4192-9a9a-421e97ecc0db",
   "metadata": {},
   "outputs": [
    {
     "name": "stdout",
     "output_type": "stream",
     "text": [
      "<class 'tuple'>\n",
      "('음', '오', '아', '예')\n"
     ]
    }
   ],
   "source": [
    "t_v2 = \"음\", \"오\", \"아\", \"예\"\n",
    "print(type(t_v2))\n",
    "print(t_v2)"
   ]
  },
  {
   "cell_type": "code",
   "execution_count": 282,
   "id": "e3d8338f-6f74-4e5c-938d-9117c971e6dd",
   "metadata": {},
   "outputs": [
    {
     "name": "stdout",
     "output_type": "stream",
     "text": [
      "0.23990726470947266\n"
     ]
    }
   ],
   "source": [
    "import time\n",
    "\n",
    "start_time = time.time() # 시작하는 시간\n",
    "test = []\n",
    "\n",
    "#1,000,000번을 반복해서 tuple만듭니다.\n",
    "for _ in range(1_000_000):\n",
    "    tp = (_, _) # tuple    \n",
    "    test.append(tp)\n",
    "\n",
    "# 끝나는 시간 = 시작하는 시간    \n",
    "print(time.time() - start_time)\n",
    "# 동작한 시간"
   ]
  },
  {
   "cell_type": "code",
   "execution_count": 284,
   "id": "f0e42456-df02-45dd-b397-392f53ab9383",
   "metadata": {},
   "outputs": [
    {
     "ename": "SyntaxError",
     "evalue": "invalid syntax (809421659.py, line 6)",
     "output_type": "error",
     "traceback": [
      "\u001b[1;36m  File \u001b[1;32m\"C:\\Users\\Playdata\\AppData\\Local\\Temp\\ipykernel_11668\\809421659.py\"\u001b[1;36m, line \u001b[1;32m6\u001b[0m\n\u001b[1;33m    for _in range(1000):\u001b[0m\n\u001b[1;37m            ^\u001b[0m\n\u001b[1;31mSyntaxError\u001b[0m\u001b[1;31m:\u001b[0m invalid syntax\n"
     ]
    }
   ],
   "source": [
    "import number\n",
    "\n",
    "start_number = number.number()\n",
    "test = []\n",
    "\n",
    "for _in range(1000):\n",
    "    tp = (_,_) \n",
    "    test.append(tp)\n",
    "    \n",
    "print(number.number() - start_number) "
   ]
  },
  {
   "cell_type": "code",
   "execution_count": 285,
   "id": "fc2882c4-1a26-4724-afd2-db0425565f06",
   "metadata": {},
   "outputs": [
    {
     "name": "stdout",
     "output_type": "stream",
     "text": [
      "text1\n",
      "text2\n"
     ]
    }
   ],
   "source": [
    "s1, s2 = (\"text1\", \"text2\")\n",
    "print(s1)\n",
    "print(s2)"
   ]
  },
  {
   "cell_type": "code",
   "execution_count": 292,
   "id": "8de01203-3291-4dfc-a722-9de2bd3a644b",
   "metadata": {},
   "outputs": [
    {
     "name": "stdout",
     "output_type": "stream",
     "text": [
      "text2\n",
      "text1 text2 text3\n"
     ]
    }
   ],
   "source": [
    "s1, s2, s3 = (\"text1\", \"text2\", \"text3\")\n",
    "print(s2)\n",
    "print(s1,s2,s3)"
   ]
  },
  {
   "cell_type": "code",
   "execution_count": 295,
   "id": "d991ccea-5a40-446b-9fb8-186e7df3bc01",
   "metadata": {},
   "outputs": [
    {
     "name": "stdout",
     "output_type": "stream",
     "text": [
      "이렇게 리스트도 가능합니다.\n",
      "리스트도\n",
      "문 자 열 도\n",
      "문\n"
     ]
    }
   ],
   "source": [
    "s3,s4,s5 = [\"이렇게\", \"리스트도\", \"가능합니다.\"]\n",
    "print(s3,s4,s5)\n",
    "print(s4)\n",
    "\n",
    "s6,s7,s8,s9 = \"문자열도\"\n",
    "print(s6,s7,s8,s9)\n",
    "print(s6)"
   ]
  },
  {
   "cell_type": "code",
   "execution_count": 312,
   "id": "aa6e9ca5-cfa3-4f87-b97e-d279a6d3ff8a",
   "metadata": {},
   "outputs": [
    {
     "name": "stdin",
     "output_type": "stream",
     "text": [
      "Massge 전략의 천재\n",
      "float 1111\n"
     ]
    }
   ],
   "source": [
    "input_value = input(\"Massge\")\n",
    "input_value2 = input(\"float\")"
   ]
  },
  {
   "cell_type": "code",
   "execution_count": 310,
   "id": "5f4d3cb0-35e5-45ed-a73f-0e96004a74fe",
   "metadata": {},
   "outputs": [
    {
     "name": "stdout",
     "output_type": "stream",
     "text": [
      "input_value: 전략의 천재 \n",
      "type: <class 'str'>\n"
     ]
    }
   ],
   "source": [
    "print(\"input_value:\", input_value, \"\\ntype:\", type(input_value))"
   ]
  },
  {
   "cell_type": "code",
   "execution_count": 316,
   "id": "a5c511b6-9dfd-453a-be99-a7695c23c437",
   "metadata": {},
   "outputs": [
    {
     "name": "stdin",
     "output_type": "stream",
     "text": [
      "number 1245.68\n"
     ]
    }
   ],
   "source": [
    "input_value4 = input(\"number\")"
   ]
  },
  {
   "cell_type": "code",
   "execution_count": 315,
   "id": "f02e557c-a1c8-4eb7-a029-814910b03778",
   "metadata": {},
   "outputs": [
    {
     "name": "stdout",
     "output_type": "stream",
     "text": [
      "1111.0\n",
      "1111\n"
     ]
    }
   ],
   "source": [
    "input_value2 = float(input_value2)\n",
    "print(input_value2)\n",
    "\n",
    "input_value = int(input_value2)\n",
    "print(int(input_value2))"
   ]
  },
  {
   "cell_type": "code",
   "execution_count": 317,
   "id": "c5a5f7f1-0e25-49e3-a5f4-8b0c65c58fbd",
   "metadata": {},
   "outputs": [
    {
     "name": "stdin",
     "output_type": "stream",
     "text": [
      "123: 5\n"
     ]
    },
    {
     "name": "stdout",
     "output_type": "stream",
     "text": [
      "5\n"
     ]
    }
   ],
   "source": [
    "input_value4 = int(input(\"123:\"))\n",
    "print(input_value4)"
   ]
  },
  {
   "cell_type": "code",
   "execution_count": 4,
   "id": "28995203-5136-4551-8d48-b5a406102a15",
   "metadata": {},
   "outputs": [
    {
     "name": "stdin",
     "output_type": "stream",
     "text": [
      "이름 엔코아\n",
      "인사 안녕하세요 엔코아 씨\n",
      "환영인사 플레이 데이터 방문을 환영합니다.\n",
      "첫 번째 정수를 입력하세요 300\n",
      "두 번째 정수를 입력하세요 400\n"
     ]
    },
    {
     "name": "stdout",
     "output_type": "stream",
     "text": [
      "700\n"
     ]
    }
   ],
   "source": [
    "input_value = input(\"이름\")\n",
    "input_value2 = input(\"인사\")\n",
    "input_value3 = input(\"환영인사\")\n",
    "input_value4 = input(\"첫 번째 정수를 입력하세요\")\n",
    "input_value5 = input(\"두 번째 정수를 입력하세요\")\n",
    "print(300 + 400)"
   ]
  },
  {
   "cell_type": "code",
   "execution_count": 21,
   "id": "32114299-2c9c-4a7c-ae55-c528504a0edb",
   "metadata": {},
   "outputs": [
    {
     "name": "stdin",
     "output_type": "stream",
     "text": [
      "이름을 입력하시오 엔코아\n"
     ]
    },
    {
     "name": "stdout",
     "output_type": "stream",
     "text": [
      "엔코아 씨, 안녕하세요?\n",
      "파이썬에 오신 것을 환영합니다\n"
     ]
    }
   ],
   "source": [
    "name = input(\"이름을 입력하시오\")\n",
    "print(name, \"씨, 안녕하세요?\")\n",
    "print(\"파이썬에 오신 것을 환영합니다\")\n"
   ]
  },
  {
   "cell_type": "code",
   "execution_count": 1,
   "id": "839119bd",
   "metadata": {},
   "outputs": [
    {
     "name": "stdin",
     "output_type": "stream",
     "text": [
      "경기장은 어디입니까? 고척\n",
      "이긴 팀은 어디입니까? KT\n",
      "진팀은 어디입니까? LG\n",
      "우수 선수는 누구입니까? 강백호\n",
      "스코어는 몇대몇입니까? 10:9\n"
     ]
    },
    {
     "name": "stdout",
     "output_type": "stream",
     "text": [
      "\n",
      "\n",
      "[속보] KT 가 10:9 승리...\n",
      "오늘 고척 경기장에서 야구 경기가 있었습니다\n",
      "KT 와 LG 는 치열한 공방전을 펼쳤습니다.\n",
      "이 경기에서 강백호 가 맹활약을 했습니다.\n",
      "그 끝내 KT 가 LG 를 10:9 로 승리하였습니다.\n",
      "기사 끝\n"
     ]
    }
   ],
   "source": [
    "location = input(\"경기장은 어디입니까?\")\n",
    "team = input(\"이긴 팀은 어디입니까?\")\n",
    "team1 = input(\"진팀은 어디입니까?\")\n",
    "player = input(\"우수 선수는 누구입니까?\")\n",
    "score = input(\"스코어는 몇대몇입니까?\")\n",
    "\n",
    "print(\"\\n\")\n",
    "print(\"[속보]\", team, \"가\", score, \"승리...\")\n",
    "print(\"오늘\", location, \"경기장에서\", \"야구 경기가 있었습니다\")\n",
    "print(team, \"와\", team1, \"는 치열한 공방전을 펼쳤습니다.\")\n",
    "print(\"이 경기에서\", player, \"가 맹활약을 했습니다.\")\n",
    "print(\"그 끝내\", team, \"가\",team1, \"를\", score, \"로 승리하였습니다.\")\n",
    "print(\"기사 끝\")"
   ]
  },
  {
   "cell_type": "code",
   "execution_count": 4,
   "id": "c23d7081-5e28-484d-b3b1-43a0cb7b928e",
   "metadata": {},
   "outputs": [
    {
     "name": "stdout",
     "output_type": "stream",
     "text": [
      "<class 'list'>\n",
      "['1', '2', '3']\n"
     ]
    }
   ],
   "source": [
    "result = '1,2,3'. split(',')\n",
    "print(type(result))\n",
    "print(result)"
   ]
  },
  {
   "cell_type": "code",
   "execution_count": 36,
   "id": "6d793533-a0de-4e0d-872f-fd65b5f14392",
   "metadata": {},
   "outputs": [
    {
     "name": "stdout",
     "output_type": "stream",
     "text": [
      "실행 결과:\n",
      "['시:12']\n",
      "['분:33']\n",
      "['초:23']\n"
     ]
    }
   ],
   "source": [
    "result1 = '시:12' . split(',')\n",
    "result2 = '분:33' . split(',')\n",
    "result3 = '초:23' . split(',')\n",
    "print(\"실행 결과:\")\n",
    "print(result1)\n",
    "print(result2)\n",
    "print(result3)"
   ]
  },
  {
   "cell_type": "code",
   "execution_count": 57,
   "id": "151ab332-8e8b-4a7b-bb52-e6b8bdfcd28b",
   "metadata": {},
   "outputs": [
    {
     "name": "stdin",
     "output_type": "stream",
     "text": [
      "hh:mm:ss의 형태로 시간을 입렵해주세요 12:23:33\n"
     ]
    },
    {
     "name": "stdout",
     "output_type": "stream",
     "text": [
      "시 : 12\n",
      "분 : 23\n",
      "초 : 33\n"
     ]
    }
   ],
   "source": [
    "h, m, s = input(\"hh:mm:ss의 형태로 시간을 입렵해주세요\").split(\":\")\n",
    "\n",
    "print(\"시 :\", h)\n",
    "print(\"분 :\", m)\n",
    "print(\"초 :\", s)"
   ]
  },
  {
   "cell_type": "code",
   "execution_count": 3,
   "id": "a9ebb32a-3429-4d2d-bd7b-742702d393cf",
   "metadata": {},
   "outputs": [
    {
     "name": "stdout",
     "output_type": "stream",
     "text": [
      "[1, 2, 3, 4]\n"
     ]
    }
   ],
   "source": [
    "# map() 내장 함수 이용하기 : 객체에서 요소 하나를 꺼내서 사용하고 싶은 경우 사용\n",
    "# int = 함수, list(map(int, a)) - > int라는 함수를 넣는다 그리고 Map이라는 함수는 괄호 안의 int라는 함수를 적용하는 함수이다. 마지막으로 a는 원하는 결과를 도출하기 위한 시퀀스 이다.\n",
    "# list는 나열 및 추출을 목표로 하는 함수이다.\n",
    "\n",
    "\n",
    "a = [1.2, 2.5, 3.7, 4.6]\n",
    "a = list(map(int, a))\n",
    "print(a)"
   ]
  },
  {
   "cell_type": "code",
   "execution_count": 1,
   "id": "1e89594c-3ce0-401b-aa43-7d92975381ef",
   "metadata": {},
   "outputs": [
    {
     "name": "stdin",
     "output_type": "stream",
     "text": [
      "국어, 영어, 수학, 과학 점수를 입력해주세요 98,100,96,100\n"
     ]
    },
    {
     "name": "stdout",
     "output_type": "stream",
     "text": [
      "실행 결과\n",
      "98.5\n"
     ]
    }
   ],
   "source": [
    "kor, eng, mat, sci = input(\"국어, 영어, 수학, 과학 점수를 입력해주세요\"). split(\",\")\n",
    "\n",
    "print(\"실행 결과\")\n",
    "print((98+100+96+100)/4)"
   ]
  },
  {
   "cell_type": "code",
   "execution_count": 2,
   "id": "bcb9b52a-82f3-4348-baed-393cfc9e4aad",
   "metadata": {},
   "outputs": [
    {
     "name": "stdin",
     "output_type": "stream",
     "text": [
      "국어 점수는 몇 점인가요? 98\n",
      "영어 점수는 몇 점인가요? 100\n",
      "수학 점수는 몇 점인가요? 96\n",
      "과학 점수는 몇 점인가요? 100\n"
     ]
    },
    {
     "name": "stdout",
     "output_type": "stream",
     "text": [
      "실행 결과\n",
      "98.5\n"
     ]
    }
   ],
   "source": [
    "kor = input(\"국어 점수는 몇 점인가요?\")\n",
    "eng = input(\"영어 점수는 몇 점인가요?\")\n",
    "mat = input(\"수학 점수는 몇 점인가요?\")\n",
    "sci = input(\"과학 점수는 몇 점인가요?\")\n",
    "print(\"실행 결과\")\n",
    "print((98+100+96+100)/4)"
   ]
  },
  {
   "cell_type": "code",
   "execution_count": 15,
   "id": "554954ab-c611-4f8d-87f8-ce3ef72f7c9b",
   "metadata": {},
   "outputs": [
    {
     "name": "stdin",
     "output_type": "stream",
     "text": [
      "국어, 영어, 수학, 과학 점수를 입력해주세요. 98,100,96,100\n"
     ]
    }
   ],
   "source": [
    "some_str = input('국어, 영어, 수학, 과학 점수를 입력해주세요.')"
   ]
  },
  {
   "cell_type": "code",
   "execution_count": 20,
   "id": "ec526258-004f-42d1-a439-9b0661dabc87",
   "metadata": {},
   "outputs": [
    {
     "data": {
      "text/plain": [
       "'98,100,96,100'"
      ]
     },
     "execution_count": 20,
     "metadata": {},
     "output_type": "execute_result"
    }
   ],
   "source": [
    "some_str"
   ]
  },
  {
   "cell_type": "code",
   "execution_count": 19,
   "id": "e10bbe32-418d-49b3-a3fa-4a4ebc350d2e",
   "metadata": {},
   "outputs": [
    {
     "data": {
      "text/plain": [
       "str"
      ]
     },
     "execution_count": 19,
     "metadata": {},
     "output_type": "execute_result"
    }
   ],
   "source": [
    "type(some_str)"
   ]
  },
  {
   "cell_type": "markdown",
   "id": "6efec0ab-e2ab-44be-b1c0-ab4e4ca9d8c5",
   "metadata": {},
   "source": [
    "print(\"value\", 1, 1.1, [1, 2, 'text'], sep=\",\")"
   ]
  },
  {
   "cell_type": "code",
   "execution_count": 21,
   "id": "845f0a0b-6a5d-4975-a543-206b1db83ebe",
   "metadata": {},
   "outputs": [
    {
     "name": "stdout",
     "output_type": "stream",
     "text": [
      "줄이 바뀝니다.\n",
      "왤까요?\n",
      "생각해봅시다.\n"
     ]
    }
   ],
   "source": [
    "print(\"줄이 바뀝니다.\")\n",
    "print(\"왤까요?\")\n",
    "print(\"생각해봅시다.\")"
   ]
  },
  {
   "cell_type": "code",
   "execution_count": 23,
   "id": "d69d366a-16c2-4733-8741-24c799cd586b",
   "metadata": {},
   "outputs": [
    {
     "name": "stdout",
     "output_type": "stream",
     "text": [
      "줄이 바뀌지 않습니다. 그 이유는 end=\"\\n\"과 같이 기본 설정된 값을 빈 스트링으로 변경했기 때문입니다.\n",
      "sep, end는 맨 뒤에 써야하며 둘 간 순서는 상관없습니다.어떵게 사용하는지\n",
      "이해가 되시나요?"
     ]
    }
   ],
   "source": [
    "print(\"줄이 바뀌지 않습니다.\", end= \"\")\n",
    "print(\" 그 이유는 end=\\\"\\\\n\\\"과 같이 기본 설정된 값을 빈 스트링으로 변경했기 때문입니다.\")\n",
    "print(\"sep\",\"end는 맨 뒤에 써야하며 둘 간 순서는 상관없습니다.\",sep=\", \", end=\"\")\n",
    "print(\"어떵게 사용하는지\", \"이해가 되시나요\", sep=\"\\n\" , end=\"?\")      "
   ]
  },
  {
   "cell_type": "code",
   "execution_count": 30,
   "id": "52991d77-ee85-4cd0-888c-8d5ff372e303",
   "metadata": {},
   "outputs": [
    {
     "name": "stdout",
     "output_type": "stream",
     "text": [
      "2021/ 02/ 03 18 : 33 : 23\n"
     ]
    }
   ],
   "source": [
    "print(year, month, day, end=\" \", sep= \"/ \")\n",
    "print(hour, minute, second, sep= \" : \")"
   ]
  },
  {
   "cell_type": "code",
   "execution_count": 44,
   "id": "e013c74e-70c9-44cc-a15d-900b7fcc72a6",
   "metadata": {},
   "outputs": [
    {
     "name": "stdin",
     "output_type": "stream",
     "text": [
      " 사과와 귤은 몇개 드릴까요? 10,20\n",
      "구매한 사과의 개수 10\n",
      "구매한 귤의 개수 20\n",
      "apple 1개 가격 1000\n",
      "orange 1개 가격 200\n"
     ]
    },
    {
     "name": "stdout",
     "output_type": "stream",
     "text": [
      "실행결과\n"
     ]
    },
    {
     "ename": "TypeError",
     "evalue": "can't multiply sequence by non-int of type 'str'",
     "output_type": "error",
     "traceback": [
      "\u001b[1;31m---------------------------------------------------------------------------\u001b[0m",
      "\u001b[1;31mTypeError\u001b[0m                                 Traceback (most recent call last)",
      "\u001b[1;32m~\\AppData\\Local\\Temp\\ipykernel_6404\\535601277.py\u001b[0m in \u001b[0;36m<module>\u001b[1;34m\u001b[0m\n\u001b[0;32m      5\u001b[0m \u001b[0morange_price\u001b[0m \u001b[1;33m=\u001b[0m \u001b[0minput\u001b[0m\u001b[1;33m(\u001b[0m\u001b[1;34m\"orange 1개 가격\"\u001b[0m\u001b[1;33m)\u001b[0m\u001b[1;33m\u001b[0m\u001b[1;33m\u001b[0m\u001b[0m\n\u001b[0;32m      6\u001b[0m \u001b[0mprint\u001b[0m\u001b[1;33m(\u001b[0m\u001b[1;34m\"실행결과\"\u001b[0m\u001b[1;33m)\u001b[0m\u001b[1;33m\u001b[0m\u001b[1;33m\u001b[0m\u001b[0m\n\u001b[1;32m----> 7\u001b[1;33m \u001b[0mprint\u001b[0m\u001b[1;33m(\u001b[0m\u001b[1;34m\"총 가격은\"\u001b[0m\u001b[1;33m,\u001b[0m \u001b[1;33m[\u001b[0m\u001b[0mapple\u001b[0m\u001b[1;33m*\u001b[0m\u001b[0mapple_price\u001b[0m\u001b[1;33m]\u001b[0m\u001b[1;33m+\u001b[0m\u001b[1;33m[\u001b[0m\u001b[0morange\u001b[0m\u001b[1;33m*\u001b[0m\u001b[0morange_price\u001b[0m\u001b[1;33m]\u001b[0m\u001b[1;33m,\u001b[0m \u001b[1;34m\"원 입니다.\"\u001b[0m\u001b[1;33m)\u001b[0m\u001b[1;33m\u001b[0m\u001b[1;33m\u001b[0m\u001b[0m\n\u001b[0m",
      "\u001b[1;31mTypeError\u001b[0m: can't multiply sequence by non-int of type 'str'"
     ]
    }
   ],
   "source": [
    "input(\" 사과와 귤은 몇개 드릴까요?\")\n",
    "apple = input(\"구매한 사과의 개수\")\n",
    "orange = input(\"구매한 귤의 개수\")\n",
    "apple_price = input(\"apple 1개 가격\") \n",
    "orange_price = input(\"orange 1개 가격\")\n",
    "print(\"실행결과\")\n",
    "print(\"총 가격은\", [apple*apple_price]+[orange*orange_price], \"원 입니다.\")"
   ]
  },
  {
   "cell_type": "code",
   "execution_count": null,
   "id": "bff29d03-7d57-4fb1-88d7-3128ecfb8c24",
   "metadata": {},
   "outputs": [],
   "source": [
    "print(\"{}\" .format(10))\n",
    "print(\"{} {} {}\" .format(10, 20, 30))\n",
    "print(\n"
   ]
  },
  {
   "cell_type": "code",
   "execution_count": 51,
   "id": "e08984f3-1d36-4bd7-8754-c1a2046e4ff1",
   "metadata": {},
   "outputs": [
    {
     "ename": "AttributeError",
     "evalue": "'time.struct_time' object has no attribute 'tm_day'",
     "output_type": "error",
     "traceback": [
      "\u001b[1;31m---------------------------------------------------------------------------\u001b[0m",
      "\u001b[1;31mAttributeError\u001b[0m                            Traceback (most recent call last)",
      "\u001b[1;32m~\\AppData\\Local\\Temp\\ipykernel_6404\\2509040086.py\u001b[0m in \u001b[0;36m<module>\u001b[1;34m\u001b[0m\n\u001b[0;32m      5\u001b[0m \"\"\".format(time.localtime().tm_year,\n\u001b[0;32m      6\u001b[0m            \u001b[0mtime\u001b[0m\u001b[1;33m.\u001b[0m\u001b[0mlocaltime\u001b[0m\u001b[1;33m(\u001b[0m\u001b[1;33m)\u001b[0m\u001b[1;33m.\u001b[0m\u001b[0mtm_mon\u001b[0m\u001b[1;33m,\u001b[0m\u001b[1;33m\u001b[0m\u001b[1;33m\u001b[0m\u001b[0m\n\u001b[1;32m----> 7\u001b[1;33m            time.localtime().tm_day)\n\u001b[0m\u001b[0;32m      8\u001b[0m \u001b[0mprint\u001b[0m\u001b[1;33m(\u001b[0m\u001b[1;34m\"today\"\u001b[0m\u001b[1;33m)\u001b[0m\u001b[1;33m\u001b[0m\u001b[1;33m\u001b[0m\u001b[0m\n",
      "\u001b[1;31mAttributeError\u001b[0m: 'time.struct_time' object has no attribute 'tm_day'"
     ]
    }
   ],
   "source": [
    "import time\n",
    "\n",
    "today = \"\"\"오늘의 날짜를 알려 드립니다.\n",
    "{}년 {}월 {}일입니다.\n",
    "\"\"\".format(time.localtime().tm_year,\n",
    "           time.localtime().tm_mon,\n",
    "           time.localtime().tm_day)\n",
    "print(\"today\")"
   ]
  },
  {
   "cell_type": "code",
   "execution_count": 52,
   "id": "3fce505d-e8ee-414b-b5db-d1d982aa9c6e",
   "metadata": {},
   "outputs": [
    {
     "name": "stdout",
     "output_type": "stream",
     "text": [
      "중괄호는 2개이고, 여기 인수는\n"
     ]
    }
   ],
   "source": [
    "some_str = \"중괄호는 2개이고, {} {}\" .format(\"여기\",\"인수는\",\"3개 입니다.\")\n",
    "print(some_str)"
   ]
  },
  {
   "cell_type": "code",
   "execution_count": 54,
   "id": "d17a663e-66e9-498b-b68b-7510acbe76b2",
   "metadata": {},
   "outputs": [
    {
     "ename": "IndexError",
     "evalue": "Replacement index 3 out of range for positional args tuple",
     "output_type": "error",
     "traceback": [
      "\u001b[1;31m---------------------------------------------------------------------------\u001b[0m",
      "\u001b[1;31mIndexError\u001b[0m                                Traceback (most recent call last)",
      "\u001b[1;32m~\\AppData\\Local\\Temp\\ipykernel_6404\\2950193823.py\u001b[0m in \u001b[0;36m<module>\u001b[1;34m\u001b[0m\n\u001b[1;32m----> 1\u001b[1;33m \u001b[0msome_str\u001b[0m \u001b[1;33m=\u001b[0m \u001b[1;34m\"중괄호는 4개이고, {} {} {} {}\"\u001b[0m\u001b[1;33m.\u001b[0m\u001b[0mformat\u001b[0m\u001b[1;33m(\u001b[0m\u001b[1;34m\"여기\"\u001b[0m\u001b[1;33m,\u001b[0m \u001b[1;34m\"인수는\"\u001b[0m\u001b[1;33m,\u001b[0m \u001b[1;34m\"3개 입니다.\"\u001b[0m\u001b[1;33m)\u001b[0m\u001b[1;33m\u001b[0m\u001b[1;33m\u001b[0m\u001b[0m\n\u001b[0m\u001b[0;32m      2\u001b[0m \u001b[0mprint\u001b[0m\u001b[1;33m(\u001b[0m\u001b[0msome_srt\u001b[0m\u001b[1;33m)\u001b[0m\u001b[1;33m\u001b[0m\u001b[1;33m\u001b[0m\u001b[0m\n",
      "\u001b[1;31mIndexError\u001b[0m: Replacement index 3 out of range for positional args tuple"
     ]
    }
   ],
   "source": [
    "some_str = \"중괄호는 4개이고, {} {} {} {}\".format(\"여기\", \"인수는\", \"3개 입니다.\")\n",
    "print(some_srt)"
   ]
  },
  {
   "cell_type": "code",
   "execution_count": 55,
   "id": "54b350c4-4fa7-477b-a14e-3d0539b59fd3",
   "metadata": {},
   "outputs": [
    {
     "name": "stdout",
     "output_type": "stream",
     "text": [
      " 10\n",
      " 10 20 30\n",
      " 101 202 303 404 505\n"
     ]
    }
   ],
   "source": [
    "print(f\" {10}\")\n",
    "print(f\" {10} {20} {30}\")\n",
    "print(f\" {101} {202} {303} {404} {505}\")"
   ]
  },
  {
   "cell_type": "code",
   "execution_count": 58,
   "id": "fa071d0a-5ea0-43e6-a545-7ed5701b6d2f",
   "metadata": {},
   "outputs": [
    {
     "ename": "NameError",
     "evalue": "name 'localtime' is not defined",
     "output_type": "error",
     "traceback": [
      "\u001b[1;31m---------------------------------------------------------------------------\u001b[0m",
      "\u001b[1;31mNameError\u001b[0m                                 Traceback (most recent call last)",
      "\u001b[1;32m~\\AppData\\Local\\Temp\\ipykernel_6404\\2155073002.py\u001b[0m in \u001b[0;36m<module>\u001b[1;34m\u001b[0m\n\u001b[0;32m      2\u001b[0m \u001b[1;33m\u001b[0m\u001b[0m\n\u001b[0;32m      3\u001b[0m today = f\"\"\"오늘의 날짜를 알려드립니다!\n\u001b[1;32m----> 4\u001b[1;33m \u001b[1;33m{\u001b[0m\u001b[0mtime\u001b[0m\u001b[1;33m.\u001b[0m\u001b[0mlocaltime\u001b[0m\u001b[1;33m(\u001b[0m\u001b[1;33m)\u001b[0m\u001b[1;33m.\u001b[0m \u001b[0mtm_year\u001b[0m\u001b[1;33m}\u001b[0m\u001b[0m년\u001b[0m \u001b[1;33m{\u001b[0m\u001b[0mlocaltime\u001b[0m\u001b[1;33m.\u001b[0m\u001b[0mtime\u001b[0m\u001b[1;33m(\u001b[0m\u001b[1;33m)\u001b[0m\u001b[1;33m.\u001b[0m \u001b[0mtm_mon\u001b[0m\u001b[1;33m}\u001b[0m\u001b[0m월\u001b[0m \u001b[1;33m{\u001b[0m\u001b[0mtime\u001b[0m\u001b[1;33m.\u001b[0m\u001b[0mlocaltime\u001b[0m\u001b[1;33m(\u001b[0m\u001b[1;33m)\u001b[0m\u001b[1;33m.\u001b[0m \u001b[0mtm_mday\u001b[0m\u001b[1;33m}\u001b[0m\u001b[0m일\u001b[0m \u001b[0m입니다\u001b[0m\u001b[1;33m.\u001b[0m\u001b[1;33m\u001b[0m\u001b[1;33m\u001b[0m\u001b[0m\n\u001b[0m\u001b[0;32m      5\u001b[0m \"\"\"\n\u001b[0;32m      6\u001b[0m \u001b[1;33m\u001b[0m\u001b[0m\n",
      "\u001b[1;31mNameError\u001b[0m: name 'localtime' is not defined"
     ]
    }
   ],
   "source": [
    "import time\n",
    "\n",
    "today = f\"\"\"오늘의 날짜를 알려드립니다!\n",
    "{time.localtime(). tm_year}년 {localtime.time(). tm_mon}월 {time.localtime(). tm_mday}일 입니다.\n",
    "\"\"\"\n",
    "\n",
    "print(today)"
   ]
  },
  {
   "cell_type": "code",
   "execution_count": 59,
   "id": "25b592c4-5060-4d09-bee9-f316ff6d02ea",
   "metadata": {},
   "outputs": [
    {
     "name": "stdout",
     "output_type": "stream",
     "text": [
      "Hello world\n"
     ]
    }
   ],
   "source": [
    "is_great = True\n",
    "if is_great:\n",
    "    print(\"Hello world\")"
   ]
  },
  {
   "cell_type": "code",
   "execution_count": 60,
   "id": "7e1abc7f-76c1-4d49-857a-0aaa85e2307d",
   "metadata": {},
   "outputs": [
    {
     "name": "stdout",
     "output_type": "stream",
     "text": [
      "<class 'str'>\n"
     ]
    }
   ],
   "source": [
    "print(type(input_value4))"
   ]
  },
  {
   "cell_type": "code",
   "execution_count": 61,
   "id": "76831b48-8ff5-45ad-adf0-1ad29f6d20f1",
   "metadata": {},
   "outputs": [
    {
     "name": "stdout",
     "output_type": "stream",
     "text": [
      "<class 'int'>\n"
     ]
    }
   ],
   "source": [
    "print(int)"
   ]
  },
  {
   "cell_type": "code",
   "execution_count": 65,
   "id": "b477af02-9461-4440-8dc2-59c3bb07c6ae",
   "metadata": {},
   "outputs": [
    {
     "data": {
      "text/plain": [
       "False"
      ]
     },
     "execution_count": 65,
     "metadata": {},
     "output_type": "execute_result"
    }
   ],
   "source": [
    "type(input_value4) is int"
   ]
  },
  {
   "cell_type": "code",
   "execution_count": 76,
   "id": "d1c76761-29d6-4839-84d1-bfa80c6db2f1",
   "metadata": {},
   "outputs": [
    {
     "name": "stdout",
     "output_type": "stream",
     "text": [
      "input_value4는 정수입니다.\n"
     ]
    }
   ],
   "source": [
    "if type(input_value4) is int: \n",
    "    print(\"input_value4는 실수입니다.\")\n",
    "if type(input_value4) is not int:\n",
    "   print(\"input_value4는 정수입니다.\")"
   ]
  },
  {
   "cell_type": "code",
   "execution_count": 73,
   "id": "e87b6232-5769-4535-9f7a-f904e4694e3a",
   "metadata": {},
   "outputs": [],
   "source": [
    "if type(input_value4) is int:\n",
    "    print(\"input_value4는 정수입니다.\")"
   ]
  },
  {
   "cell_type": "code",
   "execution_count": 77,
   "id": "aa325a3d-b685-40a7-96af-bf76d02f1432",
   "metadata": {},
   "outputs": [
    {
     "ename": "IndentationError",
     "evalue": "expected an indented block (1169179570.py, line 2)",
     "output_type": "error",
     "traceback": [
      "\u001b[1;36m  File \u001b[1;32m\"C:\\Users\\Playdata\\AppData\\Local\\Temp\\ipykernel_6404\\1169179570.py\"\u001b[1;36m, line \u001b[1;32m2\u001b[0m\n\u001b[1;33m    print(\"hello\")\u001b[0m\n\u001b[1;37m    ^\u001b[0m\n\u001b[1;31mIndentationError\u001b[0m\u001b[1;31m:\u001b[0m expected an indented block\n"
     ]
    }
   ],
   "source": [
    "if true :\n",
    "print(\"hello\")"
   ]
  },
  {
   "cell_type": "code",
   "execution_count": 78,
   "id": "61bdb118-daef-4843-adfe-31db1b17d1a2",
   "metadata": {},
   "outputs": [
    {
     "name": "stdout",
     "output_type": "stream",
     "text": [
      "a는 정수입니다.\n"
     ]
    }
   ],
   "source": [
    "# 조건이 맞을 때만 실행하라\n",
    "\n",
    "a = 100\n",
    "\n",
    "# a라는 변수의 타입이 int라면 True, int가 아니라면 Flase\n",
    "if type(a) is int :\n",
    "    print(\"a는 정수입니다.\")"
   ]
  },
  {
   "cell_type": "code",
   "execution_count": 82,
   "id": "1be1f5ff-d435-49ee-b179-55fd7d0b27e3",
   "metadata": {},
   "outputs": [
    {
     "name": "stdout",
     "output_type": "stream",
     "text": [
      "<class 'str'>\n",
      "문자열입니다.\n"
     ]
    }
   ],
   "source": [
    "b = \"10\"\n",
    "print(type(b))\n",
    "\n",
    "if type(b) is int:\n",
    "    print(\"정수입니다.\")\n",
    "    \n",
    "# 앞의 조건이 전부 Flase인 경우에만 실행되는 부분입니다.\n",
    "elif type(b) is str:\n",
    "    print(\"문자열입니다.\")"
   ]
  },
  {
   "cell_type": "code",
   "execution_count": 85,
   "id": "1e7d554d-487c-4756-a680-52b4dbadcdb0",
   "metadata": {},
   "outputs": [
    {
     "name": "stdout",
     "output_type": "stream",
     "text": [
      "<class 'int'>\n",
      "정수입니다.\n"
     ]
    }
   ],
   "source": [
    "b = 10\n",
    "print(type(b))\n",
    "\n",
    "if type(b) is int:\n",
    "    print(\"정수입니다.\")\n",
    "    \n",
    "# 앞의 조건이 전부 Flase인 경우에만 실행되는 부분입니다.\n",
    "elif True:\n",
    "    print(\"문자열입니다.\")"
   ]
  },
  {
   "cell_type": "code",
   "execution_count": 100,
   "id": "7f36c8bd-bd66-4689-8a4a-e41a805290a1",
   "metadata": {},
   "outputs": [
    {
     "name": "stdout",
     "output_type": "stream",
     "text": [
      "시작\n",
      "미\n",
      "끝\n"
     ]
    }
   ],
   "source": [
    "c = 70 #0~100점수\n",
    "print(\"시작\")\n",
    "\n",
    "if c > 90: # C < 90\n",
    "    print(\"수\")\n",
    "    \n",
    "elif c >= 80: # C < 80\n",
    "    print(\"우\")\n",
    "    \n",
    "elif c >= 70: # C < 70\n",
    "    print(\"미\")\n",
    "    \n",
    "print(\"끝\")"
   ]
  },
  {
   "cell_type": "code",
   "execution_count": 101,
   "id": "ad69216d-5173-492c-8a5e-b41fc6e7a039",
   "metadata": {},
   "outputs": [
    {
     "name": "stdout",
     "output_type": "stream",
     "text": [
      "30대 입니다.\n",
      "감사합니다.\n"
     ]
    }
   ],
   "source": [
    "age = 39\n",
    "\n",
    "if 20 <= age < 30:\n",
    "    print(\"20대 입니다.\")\n",
    "elif 30 <= age < 40:\n",
    "    print(\"30대 입니다.\")\n",
    "    \n",
    "print(\"감사합니다.\")"
   ]
  },
  {
   "cell_type": "code",
   "execution_count": 102,
   "id": "bff61380-23f2-480e-a691-78a1ae65ded4",
   "metadata": {},
   "outputs": [
    {
     "name": "stdout",
     "output_type": "stream",
     "text": [
      "오우 ... 불혹을 넘기셨군요.\n",
      "감사합니다.\n"
     ]
    }
   ],
   "source": [
    "age = 40\n",
    "\n",
    "if 20 <= age < 30:\n",
    "    print(\"20대 입니다.\")\n",
    "elif 30 <= age < 40:\n",
    "    print(\"30대 입니다.\")\n",
    "else:\n",
    "    print(\"오우 ... 불혹을 넘기셨군요.\")\n",
    "    \n",
    "print(\"감사합니다.\")"
   ]
  },
  {
   "cell_type": "code",
   "execution_count": 153,
   "id": "03688dff-2eb6-48cd-8895-f9b1f0ec8712",
   "metadata": {},
   "outputs": [
    {
     "ename": "NameError",
     "evalue": "name 'admin' is not defined",
     "output_type": "error",
     "traceback": [
      "\u001b[1;31m---------------------------------------------------------------------------\u001b[0m",
      "\u001b[1;31mNameError\u001b[0m                                 Traceback (most recent call last)",
      "\u001b[1;32m~\\AppData\\Local\\Temp\\ipykernel_6404\\870083561.py\u001b[0m in \u001b[0;36m<module>\u001b[1;34m\u001b[0m\n\u001b[1;32m----> 1\u001b[1;33m \u001b[0mID\u001b[0m \u001b[1;33m=\u001b[0m \u001b[0madmin\u001b[0m\u001b[1;33m\u001b[0m\u001b[1;33m\u001b[0m\u001b[0m\n\u001b[0m\u001b[0;32m      2\u001b[0m \u001b[0mGrade\u001b[0m \u001b[1;33m=\u001b[0m \u001b[1;36m3\u001b[0m\u001b[1;33m\u001b[0m\u001b[1;33m\u001b[0m\u001b[0m\n\u001b[0;32m      3\u001b[0m \u001b[1;33m\u001b[0m\u001b[0m\n\u001b[0;32m      4\u001b[0m \u001b[1;32mif\u001b[0m \u001b[0mID\u001b[0m \u001b[1;33m==\u001b[0m \u001b[0madmin\u001b[0m\u001b[1;33m:\u001b[0m\u001b[1;33m\u001b[0m\u001b[1;33m\u001b[0m\u001b[0m\n\u001b[0;32m      5\u001b[0m     \u001b[0mprint\u001b[0m\u001b[1;33m(\u001b[0m\u001b[1;34m'최고 관리자, 모든 권한을 갖습니다.'\u001b[0m\u001b[1;33m)\u001b[0m\u001b[1;33m\u001b[0m\u001b[1;33m\u001b[0m\u001b[0m\n",
      "\u001b[1;31mNameError\u001b[0m: name 'admin' is not defined"
     ]
    }
   ],
   "source": [
    "ID = admin\n",
    "Grade = 3\n",
    "\n",
    "if ID == admin:\n",
    "    print('최고 관리자, 모든 권한을 갖습니다.')\n",
    "    \n",
    "elif ID != admin:\n",
    "    print('제한적인 권한을 갖습니다.')\n",
    "    \n",
    "elif Grade == 3:\n",
    "    print('제한적인 권한을 갖습니다.')\n",
    "    \n",
    "else:\n",
    "    print('권한이 없습니다.')"
   ]
  },
  {
   "cell_type": "code",
   "execution_count": 137,
   "id": "bddad3a6-0bcc-4b3d-9e2c-3ffb8f63d7ca",
   "metadata": {},
   "outputs": [
    {
     "ename": "SyntaxError",
     "evalue": "invalid syntax (863640759.py, line 11)",
     "output_type": "error",
     "traceback": [
      "\u001b[1;36m  File \u001b[1;32m\"C:\\Users\\Playdata\\AppData\\Local\\Temp\\ipykernel_6404\\863640759.py\"\u001b[1;36m, line \u001b[1;32m11\u001b[0m\n\u001b[1;33m    else:\u001b[0m\n\u001b[1;37m    ^\u001b[0m\n\u001b[1;31mSyntaxError\u001b[0m\u001b[1;31m:\u001b[0m invalid syntax\n"
     ]
    }
   ],
   "source": [
    "name = input('아이디를 입력하세요 :')\n",
    "\n",
    "if name == 'admin' :\n",
    "    print('최고 관리자, 모든 권한을 갖습니다.')\n",
    "    \n",
    "else:\n",
    "    grade = int(input('회원 등급을 입력해주세요 :'))\n",
    "    if 1 <= grade <= 3:\n",
    "        print('제한적인 권한을 갖습니다.')\n",
    "        \n",
    "        else:\n",
    "            print('권한이 없습니다.')"
   ]
  },
  {
   "cell_type": "code",
   "execution_count": 172,
   "id": "94e6abda-65ca-49aa-8b0b-81bff0dda963",
   "metadata": {},
   "outputs": [
    {
     "name": "stdin",
     "output_type": "stream",
     "text": [
      "자연수 하나 입력해주세요:  21\n"
     ]
    },
    {
     "name": "stdout",
     "output_type": "stream",
     "text": [
      "0\n"
     ]
    }
   ],
   "source": [
    "int_value = int(input(\"자연수 하나 입력해주세요: \"))\n",
    "\n",
    "result = int_value - 50\n",
    "\n",
    "if result < 0:\n",
    "    result = 0\n",
    "    \n",
    "print(result)"
   ]
  },
  {
   "cell_type": "code",
   "execution_count": 189,
   "id": "9f80f0f9-d840-442e-a6d3-ecf14dcf9aed",
   "metadata": {},
   "outputs": [
    {
     "name": "stdin",
     "output_type": "stream",
     "text": [
      "정수를 하나 입력해주세요: 6\n"
     ]
    },
    {
     "name": "stdout",
     "output_type": "stream",
     "text": [
      "짝수 입니다.\n"
     ]
    }
   ],
   "source": [
    "# 사용자로부터 자연수를 입력 받습니다.\n",
    "# 값이 짝수인지 홀수인지 화면에 출력합니다.\n",
    "# 나의 코딩 방식\n",
    "\n",
    "number_value = int(input(\"정수를 하나 입력해주세요:\"))\n",
    "\n",
    "result = number_value\n",
    "\n",
    "if result % 2 == 0:\n",
    "    print(\"짝수 입니다.\")\n",
    "    \n",
    "elif result % 3 == 0:\n",
    "    print(\"홀수 입니다.\")\n",
    "    \n",
    "else :\n",
    "    print(\"모두 해당 됩니다.\")"
   ]
  },
  {
   "cell_type": "code",
   "execution_count": 193,
   "id": "56ca626e-f425-4120-be73-0946bb09c7bf",
   "metadata": {},
   "outputs": [
    {
     "name": "stdin",
     "output_type": "stream",
     "text": [
      "자연수 하나 입력해주세요: 21\n"
     ]
    },
    {
     "name": "stdout",
     "output_type": "stream",
     "text": [
      "홀수입니다.\n"
     ]
    }
   ],
   "source": [
    "# 강사님의 코딩 방식\n",
    "\n",
    "number = int(input(\"자연수 하나 입력해주세요:\"))\n",
    "\n",
    "if number % 2 == 0:\n",
    "    print(\"짝수입니다.\")\n",
    "else:\n",
    "    print(\"홀수입니다.\")"
   ]
  },
  {
   "cell_type": "code",
   "execution_count": 221,
   "id": "412f242a-9dca-459d-b0bf-55b515d4deef",
   "metadata": {},
   "outputs": [
    {
     "name": "stdin",
     "output_type": "stream",
     "text": [
      "소프트 웨어 설계 점수를 입력하세요 60\n",
      "소프트웨어 개발 점수를 입력하세요 60\n",
      "데이터 베이스 구축 점수를 입력하세요 60\n",
      "프로그래밍 언어 점수를 입력하세요 60\n",
      "데이터베이스 시스템 구축 점수를 입력하세요 60\n"
     ]
    },
    {
     "ename": "NameError",
     "evalue": "name 'avg' is not defined",
     "output_type": "error",
     "traceback": [
      "\u001b[1;31m---------------------------------------------------------------------------\u001b[0m",
      "\u001b[1;31mNameError\u001b[0m                                 Traceback (most recent call last)",
      "\u001b[1;32m~\\AppData\\Local\\Temp\\ipykernel_6404\\737077984.py\u001b[0m in \u001b[0;36m<module>\u001b[1;34m\u001b[0m\n\u001b[0;32m      6\u001b[0m \u001b[1;33m\u001b[0m\u001b[0m\n\u001b[0;32m      7\u001b[0m \u001b[1;32mif\u001b[0m \u001b[1;33m(\u001b[0m\u001b[1;36m0\u001b[0m \u001b[1;33m<=\u001b[0m \u001b[0msoftwaredesign\u001b[0m \u001b[1;33m<=\u001b[0m \u001b[1;36m100\u001b[0m \u001b[1;32mand\u001b[0m \u001b[1;36m0\u001b[0m \u001b[1;33m<=\u001b[0m \u001b[0msoftwaredevelop\u001b[0m \u001b[1;33m<=\u001b[0m \u001b[1;36m100\u001b[0m \u001b[1;32mand\u001b[0m \u001b[1;36m0\u001b[0m \u001b[1;33m<=\u001b[0m \u001b[0mdatabasebuild\u001b[0m \u001b[1;33m<=\u001b[0m \u001b[1;36m100\u001b[0m \u001b[1;32mand\u001b[0m \u001b[1;36m0\u001b[0m \u001b[1;33m<=\u001b[0m \u001b[0mprogramminglanguage\u001b[0m \u001b[1;33m<=\u001b[0m \u001b[1;36m100\u001b[0m \u001b[1;32mand\u001b[0m \u001b[1;36m0\u001b[0m \u001b[1;33m<=\u001b[0m \u001b[0mdatabasesystembuild\u001b[0m \u001b[1;33m<=\u001b[0m \u001b[1;36m100\u001b[0m\u001b[1;33m)\u001b[0m \u001b[1;33m:\u001b[0m\u001b[1;33m\u001b[0m\u001b[1;33m\u001b[0m\u001b[0m\n\u001b[1;32m----> 8\u001b[1;33m     \u001b[0mavg\u001b[0m\u001b[1;33m(\u001b[0m\u001b[1;33m(\u001b[0m\u001b[0msoftwaredesign\u001b[0m \u001b[1;33m+\u001b[0m \u001b[0msoftwaredevelop\u001b[0m \u001b[1;33m+\u001b[0m \u001b[0mdatabasebuild\u001b[0m \u001b[1;33m+\u001b[0m \u001b[0mprogramminglanguage\u001b[0m \u001b[1;33m+\u001b[0m \u001b[0mdatabasesystembuild\u001b[0m\u001b[1;33m)\u001b[0m \u001b[1;33m/\u001b[0m\u001b[1;36m5\u001b[0m\u001b[1;33m)\u001b[0m\u001b[1;33m\u001b[0m\u001b[1;33m\u001b[0m\u001b[0m\n\u001b[0m",
      "\u001b[1;31mNameError\u001b[0m: name 'avg' is not defined"
     ]
    }
   ],
   "source": [
    "softwaredesign = int(input(\"소프트 웨어 설계 점수를 입력하세요\"))\n",
    "softwaredevelop = int(input(\"소프트웨어 개발 점수를 입력하세요\"))\n",
    "databasebuild = int(input(\"데이터 베이스 구축 점수를 입력하세요\"))\n",
    "programminglanguage = int(input(\"프로그래밍 언어 점수를 입력하세요\"))\n",
    "databasesystembuild = int(input(\"데이터베이스 시스템 구축 점수를 입력하세요\")) \n",
    "\n",
    "if (0 <= softwaredesign <= 100 and 0 <= softwaredevelop <= 100 and 0 <= databasebuild <= 100 and 0 <= programminglanguage <= 100 and 0 <= databasesystembuild <= 100) :\n",
    "    avg((softwaredesign + softwaredevelop + databasebuild + programminglanguage + databasesystembuild) /5)"
   ]
  },
  {
   "cell_type": "code",
   "execution_count": 240,
   "id": "39e6567f-7a9d-441d-b2f0-96c767ed6478",
   "metadata": {},
   "outputs": [
    {
     "name": "stdout",
     "output_type": "stream",
     "text": [
      "실행 결과\n"
     ]
    },
    {
     "name": "stdin",
     "output_type": "stream",
     "text": [
      "물의 온도를 입력해주세요 -0.12\n"
     ]
    },
    {
     "name": "stdout",
     "output_type": "stream",
     "text": [
      "고체로 예상됩니다.\n"
     ]
    }
   ],
   "source": [
    "#물의 온도에 따라 현재 상태를 출력하는 프로그램을 만들려고 합니다.\n",
    "print(\"실행 결과\")\n",
    "temperature = float(input(\"물의 온도를 입력해주세요\"))\n",
    "\n",
    "if(temperature >= 100) :\n",
    "    prinnt(\"기체로 예상됩니다.\")\n",
    "    \n",
    "elif(0 <= temperature < 100) :\n",
    "    print(\"액체로 예상됩니다.\")\n",
    "    \n",
    "elif(temperature < 0):\n",
    "    print(\"고체로 예상됩니다.\")\n",
    "      "
   ]
  },
  {
   "cell_type": "code",
   "execution_count": 234,
   "id": "1879802f-af1c-4065-a966-678700e59e2b",
   "metadata": {},
   "outputs": [
    {
     "name": "stdout",
     "output_type": "stream",
     "text": [
      "실행 결과\n"
     ]
    },
    {
     "name": "stdin",
     "output_type": "stream",
     "text": [
      "물의 온도를 입력해주세요 -0.12\n"
     ]
    },
    {
     "name": "stdout",
     "output_type": "stream",
     "text": [
      "기체로 예상됩니다.\n",
      "액체로 예상됩니다.\n",
      "고체로 예상됩니다.\n"
     ]
    }
   ],
   "source": [
    "#물의 온도에 따라 현재 상태를 출력하는 프로그램을 만들려고 합니다.\n",
    "print(\"실행 결과\")\n",
    "temperature = float(input(\"물의 온도를 입력해주세요\"))\n",
    "\n",
    "if(temperature >= 100 or 0 <= temperature < 100 or temperature < 0) :\n",
    "    print(\"기체로 예상됩니다.\")\n",
    "    print(\"액체로 예상됩니다.\")\n",
    "    print(\"고체로 예상됩니다.\")\n",
    "    \n",
    "# IF를 활용하여 결과를 조금더 쉽게 도출하는 방법을 찾아보기/ IF를 한줄로 표현한는 경우 결과값도 한줄로 표현해서 최종결과는 한가지로 도출이되는 방법은 무엇인지 고민하고 연구하기    "
   ]
  },
  {
   "cell_type": "code",
   "execution_count": 235,
   "id": "b8002130-c267-46d8-834b-bd40e1f952c3",
   "metadata": {},
   "outputs": [
    {
     "data": {
      "text/plain": [
       "1.1"
      ]
     },
     "execution_count": 235,
     "metadata": {},
     "output_type": "execute_result"
    }
   ],
   "source": [
    "float(\"1.1\")"
   ]
  },
  {
   "cell_type": "code",
   "execution_count": 237,
   "id": "2b982f66-8fc3-46ce-abc6-5893b49d5126",
   "metadata": {},
   "outputs": [
    {
     "data": {
      "text/plain": [
       "1"
      ]
     },
     "execution_count": 237,
     "metadata": {},
     "output_type": "execute_result"
    }
   ],
   "source": [
    "int(float('1.1'))"
   ]
  },
  {
   "cell_type": "code",
   "execution_count": 5,
   "id": "5258191d-a2aa-4db7-a97d-a4617d9fff02",
   "metadata": {},
   "outputs": [
    {
     "name": "stdout",
     "output_type": "stream",
     "text": [
      "실행 결과\n"
     ]
    },
    {
     "name": "stdin",
     "output_type": "stream",
     "text": [
      "자신의 나이를 입력해주세요 19\n"
     ]
    },
    {
     "name": "stdout",
     "output_type": "stream",
     "text": [
      "1500원 입니다.\n"
     ]
    }
   ],
   "source": [
    "#시내 버스 요금을 받는 프로그램을 만들어라/ 성인(19세 이상)이면 1,500원, 청소년(12세~18세)이면 1,100원, 어린이(6~11세)면 800원 미취학 아동은 무료입니다.\n",
    "\n",
    "print(\"실행 결과\")\n",
    "age = int(input(\"자신의 나이를 입력해주세요\"))\n",
    "\n",
    "if(age >= 19) :\n",
    "    print(\"1500원 입니다.\")\n",
    "    \n",
    "if(12 <= age < 19) :\n",
    "    print(\"1100원 입니다.\")\n",
    "    \n",
    "if(6 <= age < 12):\n",
    "    print(\"800원 입니다.\")\n",
    "    \n",
    "if(age < 6):\n",
    "    print(\"무료 입니다.\")\n",
    "      "
   ]
  },
  {
   "cell_type": "code",
   "execution_count": 4,
   "id": "9e4e80fb-d1f1-4163-bff8-fbad0be584d0",
   "metadata": {},
   "outputs": [
    {
     "name": "stdout",
     "output_type": "stream",
     "text": [
      "실행 결과\n"
     ]
    },
    {
     "name": "stdin",
     "output_type": "stream",
     "text": [
      "자신의 나이를 입력해주세요 19\n"
     ]
    },
    {
     "name": "stdout",
     "output_type": "stream",
     "text": [
      "1500원 입니다.\n"
     ]
    }
   ],
   "source": [
    "#  강사님의 코딩 방식\n",
    "\n",
    "print(\"실행 결과\")\n",
    "age = int(input(\"자신의 나이를 입력해주세요\"))\n",
    "\n",
    "if(age >= 19) :\n",
    "    print(\"1500원 입니다.\")\n",
    "    \n",
    "elif(12 <= age < 19) :\n",
    "    print(\"1100원 입니다.\")\n",
    "    \n",
    "elif(6 <= age < 12):\n",
    "    print(\"800원 입니다.\")\n",
    "    \n",
    "else :\n",
    "    print(\"무료 입니다.\")\n",
    "      "
   ]
  },
  {
   "cell_type": "code",
   "execution_count": 45,
   "id": "4f5d256a-1095-4801-8286-35fe4c8676a0",
   "metadata": {},
   "outputs": [
    {
     "name": "stdout",
     "output_type": "stream",
     "text": [
      "실행결과\n"
     ]
    },
    {
     "name": "stdin",
     "output_type": "stream",
     "text": [
      "발주 수량을 입력하세요:  2100\n"
     ]
    },
    {
     "name": "stdout",
     "output_type": "stream",
     "text": [
      "2100 개를 주문하셨습니다.\n",
      "적용 할인율은 20% 입니다.\n",
      "총 발주 금액은 $입니다.\n"
     ]
    }
   ],
   "source": [
    "# A사는 B사에 C상품($10/개)을 납품합니다.\n",
    "#1000개 미만은 수량할인 없다.\n",
    "# 1000개 ~ 1500개 까지는 5% 할인\n",
    "# 1500개 초과 2000개 까지는 10% 할인\n",
    "# 2000개 초과하면 20% 할인\n",
    "# 나의 코딩 방식\n",
    "\n",
    "print(\"실행결과\")\n",
    "salary = int(input(\"발주 수량을 입력하세요: \"))\n",
    "result = salary\n",
    "print(result, \"개를 주문하셨습니다.\")\n",
    "\n",
    "if(salary < 1000) :\n",
    "    print(\"적용 할인율은 없습니다.\")\n",
    "    \n",
    "elif(999 < salary < 1501) :\n",
    "    print(\"적용 할인율은 5% 입니다.\")    \n",
    "    \n",
    "elif(1500 < salary < 2001) :\n",
    "    print(\"적용 할인율은 10% 입니다.\")      \n",
    " \n",
    "elif(2000 < salary) :\n",
    "    print(\"적용 할인율은 20% 입니다.\")  \n",
    "    \n",
    "print(\"총 발주 금액은\", \"$입니다.\")    "
   ]
  },
  {
   "cell_type": "code",
   "execution_count": null,
   "id": "e66a5be5-0188-4506-a434-2ea2f1dd0330",
   "metadata": {},
   "outputs": [],
   "source": [
    "# A사는 B사에 C상품($10/개)을 납품합니다.\n",
    "#1000개 미만은 수량할인 없다.\n",
    "# 1000개 ~ 1500개 까지는 5% 할인\n",
    "# 1500개 초과 2000개 까지는 10% 할인\n",
    "# 2000개 초과하면 20% 할인\n",
    "# 강사님 코딩 방식 자료보고 완성하기\n",
    "\n",
    "print(\"실행결과\")\n",
    "salary = int(input(\"발주 수량을 입력하세요: \"))\n",
    "result = salary\n",
    "print(result, \"개를 주문하셨습니다.\", sep=\"\")\n",
    "\n",
    "price = 10 # $10/개\n",
    "rate = 0\n",
    "order_amount = 0\n",
    "\n",
    "if(salary < 1000) :\n",
    "    rate = 0\n",
    "    \n",
    "elif(999 < salary < 1501) :\n",
    "    rate = 5    \n",
    "    \n",
    "elif(1500 < salary < 2001) :\n",
    "    rate = 10      \n",
    " \n",
    "elif(2000 < salary) :\n",
    "    rate = 20 \n",
    "    \n",
    "order_amount = int(PRICE * salary * "
   ]
  },
  {
   "cell_type": "code",
   "execution_count": 52,
   "id": "24f2340d-635b-4725-b817-b373e1dbfc32",
   "metadata": {},
   "outputs": [
    {
     "name": "stdin",
     "output_type": "stream",
     "text": [
      "주민번호 뒷자리를 입력하세요 123456\n"
     ]
    },
    {
     "name": "stdout",
     "output_type": "stream",
     "text": [
      "자리수를 잘못 입력했습니다.\n"
     ]
    }
   ],
   "source": [
    "# 주민등록번호 뒤자리 7자리 중 맨 앞 번호가 1,3인경우는 남자 but 2,4인 경우는 여자\n",
    "# 자리수가 7자리가 아니면 '자리수를 잘못 입력했습니다.' 를 출력합니다.\n",
    "# 맨 앞 번호가 1,2,3,4가 아니면 '잘못된 입력입니다.'를 출력합니다.\n",
    "#성별확인 프로그램 작성 하기\n",
    "\n",
    "reg_num = input(\"주민번호 뒷자리를 입력하세요\")\n",
    "if len(reg_num) != 7:\n",
    "    print(\"자리수를 잘못 입력했습니다.\")\n",
    "else:\n",
    "    fst_num = int(reg_num[0])\n",
    "    if fst_num in (1, 3):\n",
    "        print(\"남자\")\n",
    "    elif fst_num in (2, 4):\n",
    "        print(\"여자\")\n",
    "    else:\n",
    "        print(\"잘못된 입력입니다.\")"
   ]
  },
  {
   "cell_type": "code",
   "execution_count": null,
   "id": "342a18f1-493c-40da-a535-e2249a9966f2",
   "metadata": {},
   "outputs": [],
   "source": [
    "#사용자로부터 연도 값을 받고 윤년인지 아닌지 결과를 출력\n",
    "# 연도가 4로 나누어 떨어지는 경우 : 윤년\n",
    "# 그 밖의 해는 평년\n",
    "# 예외 규칙 : 100으로 나누어 떨어지되 400으로 나누어 떨어지지 않는 해 : 평년\n",
    "\n",
    "reg_num = input(\"사용자로부터 받은 연도값\")\n",
    "if len(reg_num) ! = 4:\n",
    "    print(\"윤년입니다.\")\n",
    "else:\n",
    "    fst_num = int(reg_num [0])\n",
    "    if fst_num in()"
   ]
  },
  {
   "cell_type": "code",
   "execution_count": 3,
   "id": "dd7b711d-9ad5-45f1-8232-459cea42eaa5",
   "metadata": {},
   "outputs": [
    {
     "name": "stdout",
     "output_type": "stream",
     "text": [
      "실행결과\n"
     ]
    },
    {
     "name": "stdin",
     "output_type": "stream",
     "text": [
      "확인할 연도를 입력하세요:  1900\n"
     ]
    },
    {
     "name": "stdout",
     "output_type": "stream",
     "text": [
      "평년입니다.\n"
     ]
    }
   ],
   "source": [
    "#나의 코딩 방식\n",
    "# 연습문제(윤년 문제 풀이과정)\n",
    "# year%100 ==0 이라는 의미는 100으로 나누어서 떨어지는 수이다.\n",
    "# year%400 !=0 이라는 의미는 400으로 나누어서 떨어지는 것이 아닌 수이다.\n",
    "# 위의 풀이과정은 아래의 예시를 참고해서 이해하기\n",
    "\n",
    "print(\"실행결과\")\n",
    "year = int(input(\"확인할 연도를 입력하세요: \"))\n",
    "result = year\n",
    "\n",
    "if(year%100==0 and year%400!=0):\n",
    "    print(\"평년입니다.\")\n",
    "elif(year%4 ==0):\n",
    "    print(\"윤년입니다.\")\n",
    "else:\n",
    "    print(\"평년입니다.\")"
   ]
  },
  {
   "cell_type": "code",
   "execution_count": 65,
   "id": "b01c4e91-025a-43c3-9b47-dc90a9971eb3",
   "metadata": {},
   "outputs": [
    {
     "data": {
      "text/plain": [
       "0"
      ]
     },
     "execution_count": 65,
     "metadata": {},
     "output_type": "execute_result"
    }
   ],
   "source": [
    "1900%100"
   ]
  },
  {
   "cell_type": "code",
   "execution_count": 66,
   "id": "d790ad71-d38f-43d9-a5bd-4b0a312a0553",
   "metadata": {},
   "outputs": [
    {
     "data": {
      "text/plain": [
       "1"
      ]
     },
     "execution_count": 66,
     "metadata": {},
     "output_type": "execute_result"
    }
   ],
   "source": [
    "1901%100"
   ]
  },
  {
   "cell_type": "code",
   "execution_count": 4,
   "id": "fc27058c-78e4-4af5-bcc2-64ccde2c4f05",
   "metadata": {},
   "outputs": [
    {
     "name": "stdin",
     "output_type": "stream",
     "text": [
      "확인할 연도를 입력하세요: 1990\n"
     ]
    },
    {
     "name": "stdout",
     "output_type": "stream",
     "text": [
      "평년입니다.\n"
     ]
    }
   ],
   "source": [
    "# 강사님의 코딩 방식\n",
    "# 예외 규칙은 모두 and로 묶어야 한다.(필수적으로 포함되는 규칙이기 때문이다.)\n",
    "\n",
    "year = int(input(\"확인할 연도를 입력하세요:\"))\n",
    "\n",
    "if year % 4 == 0 and (year % 100 != 0 or year % 400 == 0):\n",
    "    print(\"윤년입니다.\")\n",
    "else :\n",
    "    print(\"평년입니다.\")"
   ]
  },
  {
   "cell_type": "code",
   "execution_count": 8,
   "id": "1a345ab6-2c56-4418-bc5e-c9d8c3f829e5",
   "metadata": {},
   "outputs": [
    {
     "ename": "SyntaxError",
     "evalue": "invalid syntax (320350955.py, line 3)",
     "output_type": "error",
     "traceback": [
      "\u001b[1;36m  File \u001b[1;32m\"C:\\Users\\Playdata\\AppData\\Local\\Temp\\ipykernel_3908\\320350955.py\"\u001b[1;36m, line \u001b[1;32m3\u001b[0m\n\u001b[1;33m    슬라이상[시작하는 숫자, 끝숫자, 증감]\u001b[0m\n\u001b[1;37m              ^\u001b[0m\n\u001b[1;31mSyntaxError\u001b[0m\u001b[1;31m:\u001b[0m invalid syntax\n"
     ]
    }
   ],
   "source": [
    "# 슬라이싱\n",
    "a = [0,1,2,3,4,5,6,7]\n",
    "슬라이상[시작하는 숫자, 끝숫자, 증감]\n",
    "\n",
    "# 함수를 호출할 때 소괄호를 사용한다.\n",
    "# 인수(arguments)가 여럿일 때 콤마로 구분한다.\n",
    "# range(시작하는 숫자(포함)= 0, 끝숫자(미포함), 증감=1)\n",
    "# range는 규칙된 슛자를 만드는데 특화되어 있다."
   ]
  },
  {
   "cell_type": "code",
   "execution_count": 9,
   "id": "fcdeee92-3c95-4e7b-9ef6-762205e0053a",
   "metadata": {},
   "outputs": [
    {
     "data": {
      "text/plain": [
       "[0, 2, 4]"
      ]
     },
     "execution_count": 9,
     "metadata": {},
     "output_type": "execute_result"
    }
   ],
   "source": [
    "a[0:5:2]"
   ]
  },
  {
   "cell_type": "code",
   "execution_count": 11,
   "id": "3fb84559-c69e-4226-b846-431c957173d4",
   "metadata": {},
   "outputs": [
    {
     "data": {
      "text/plain": [
       "range(0, 8)"
      ]
     },
     "execution_count": 11,
     "metadata": {},
     "output_type": "execute_result"
    }
   ],
   "source": [
    "range(0, 8, 1)"
   ]
  },
  {
   "cell_type": "code",
   "execution_count": 12,
   "id": "9e5c64ef-509d-47da-9a13-9fa3b55e909d",
   "metadata": {},
   "outputs": [
    {
     "data": {
      "text/plain": [
       "range(0, 8)"
      ]
     },
     "execution_count": 12,
     "metadata": {},
     "output_type": "execute_result"
    }
   ],
   "source": [
    "range(8)"
   ]
  },
  {
   "cell_type": "code",
   "execution_count": 17,
   "id": "fe533bff-f596-45ba-9558-d91321a6949f",
   "metadata": {},
   "outputs": [
    {
     "name": "stdout",
     "output_type": "stream",
     "text": [
      "[0, 1, 2, 3, 4, 5, 6, 7]\n"
     ]
    }
   ],
   "source": [
    "list(range(8)) #iterable\n",
    "list(range(0, 8)) #iterable\n",
    "print(list(range(0, 8))) #iterable\n",
    "# 위의 방식 모두 나오는 값은 똑같다."
   ]
  },
  {
   "cell_type": "code",
   "execution_count": 18,
   "id": "30bd887a-e004-4129-a415-c31ca3a6e5a4",
   "metadata": {},
   "outputs": [
    {
     "data": {
      "text/plain": [
       "range"
      ]
     },
     "execution_count": 18,
     "metadata": {},
     "output_type": "execute_result"
    }
   ],
   "source": [
    "type(range(1))"
   ]
  },
  {
   "cell_type": "code",
   "execution_count": 2,
   "id": "58f6ac7a-0533-4162-92b1-6b232fa229e3",
   "metadata": {},
   "outputs": [
    {
     "data": {
      "text/plain": [
       "[0, 1, 2, 3, 4, 5, 6, 7]"
      ]
     },
     "execution_count": 2,
     "metadata": {},
     "output_type": "execute_result"
    }
   ],
   "source": [
    "list(range(8))"
   ]
  },
  {
   "cell_type": "code",
   "execution_count": 22,
   "id": "0977e1aa-0f1b-43c4-b37a-5670c4046c14",
   "metadata": {},
   "outputs": [],
   "source": [
    "# list vs range가 동작하는 큰 차이점\n",
    "# list는 큰 메모리 안에 모든 값을 생성해놓고 저장한 상태이다.\n",
    "# range는 큰 메모리 안에 모든 값을 생성해놓고 저장한 상태는 아니다. 필요할 때 생성하는 것이다.\n",
    "# for n in range(1000) :  ->range는 0부터 999까지의 숫자를 생성한다."
   ]
  },
  {
   "cell_type": "code",
   "execution_count": 1,
   "id": "8707a61f-d3fc-4507-82dc-fb7cb9f1f517",
   "metadata": {},
   "outputs": [],
   "source": [
    "# <23-02-16(목) 4일차 1교시 수업>\n",
    "\n",
    "# 파이썬 반복문은 자바, C언어와 다르다.\n",
    "# Method 방식 = 대상.append(요소)\n",
    "# range함수는 슬라이싱과 구조가 비슷합니다.\n",
    " # range = range(시작, 끝, 증감크기) - > 시작 값은 기본적으로 0으로 setting, 증감 값은 기본적으로 1\n",
    " # range(8) 실제로 코딩을 해보면 이해가 된다. ->위의 코딩한 것 보고 이해하기 그리고 list를 붙이면 훨씬 더 보기 좋게 나온다.\n",
    " # 시퀀스 자료형 변수[시작:끝:증감크기] - > range와 시퀀스 자료형 변수 구분하기(중요!!)\n",
    " # range 함수의 특징 : 리스트와 동일한 것 처럼 보이지만 동작은 다르다./ 리스트는 메모리에 미리 만들어진 것이지만 range는 메모리에 만들어진 것이 아닌 필요한 순간 생성하는 것이다.\n",
    " # <객체 = 실제로 존재하는 것(메모리)> - > 용어 해설\n",
    " # range(3) - > 0,1,2\n",
    "\n",
    "# for문 : 시퀀스에서 반복가능한 자료 및 객체 항목들을 순서대로 요소를 하나씩 꺼내는 것이다.\n",
    " # 반복 가능한 것으 순서대로 확인 하는 경우에 매우 유용하다./ 여러가지의 값을 하나의 순서로 꺼내는 것이다.\n",
    " # 객체 : 이미 메모리에 할당되어 기록되어 있는 data이다.\n",
    "\n",
    "# 파이썬의 for문은 순서가 있는 여러 값을 가진 애를 하나씩 꺼내서 모두 가져옵니다. but Java는 특정 변수를 설정 후 조건에 맞는 것만 찾아내는 것이다.\n",
    " # 파이썬과 Java의 for문은 다르기 때문에 주의할 것!!!\n",
    " # 파이썬 = for i in range(len(문자열)): - > 명령어 이다./ 파이썬은 동적 타입이고 자바는 정적 타입이다 차이를 정확히 구분하기.\n",
    " # 자바는 매서드 형태로 하지만 파이썬은 시퀀스 함수(len)의 형태로 작성한다.\n",
    " # len(문자열) = 수학의 함수의 f(x)라고 이해하면 쉽다."
   ]
  },
  {
   "cell_type": "code",
   "execution_count": 5,
   "id": "fabc49c5-6d98-41d1-ae27-da1768287e71",
   "metadata": {},
   "outputs": [
    {
     "name": "stdout",
     "output_type": "stream",
     "text": [
      "[2, 4, 6, 8, 10, 12, 14, 16, 18, 20, 22, 24, 26, 28, 30, 32, 34, 36, 38, 40, 42, 44, 46, 48, 50, 52, 54, 56, 58, 60, 62, 64, 66, 68, 70, 72, 74, 76, 78, 80, 82, 84, 86, 88, 90, 92, 94, 96, 98]\n"
     ]
    }
   ],
   "source": [
    "even_numbers = list(range(2, 100, 2))\n",
    "print(even_numbers)"
   ]
  },
  {
   "cell_type": "code",
   "execution_count": 12,
   "id": "b7b87c89-00fc-4b45-bc2d-419d3b0c025d",
   "metadata": {},
   "outputs": [
    {
     "name": "stdout",
     "output_type": "stream",
     "text": [
      "hello world0\n",
      "hello world1\n",
      "hello world2\n",
      "hello world3\n",
      "hello world4\n",
      "hello world5\n",
      "hello world6\n",
      "hello world7\n",
      "hello world8\n",
      "hello world9\n",
      "끝\n"
     ]
    }
   ],
   "source": [
    "for i in range(10):\n",
    "    print(f\"hello world{i}\")\n",
    "print(\"끝\")"
   ]
  },
  {
   "cell_type": "code",
   "execution_count": 17,
   "id": "e91f792c-b454-4150-b77c-e722f4194831",
   "metadata": {},
   "outputs": [
    {
     "name": "stdout",
     "output_type": "stream",
     "text": [
      "hello world 1\n",
      "hello world 2\n",
      "hello world 3\n",
      "hello world 4\n",
      "hello world 5\n",
      "hello world 6\n",
      "hello world 7\n",
      "hello world 8\n",
      "hello world 9\n",
      "hello world 10\n",
      "hello world 11\n",
      "hello world 12\n",
      "hello world 13\n",
      "hello world 14\n",
      "hello world 15\n",
      "hello world 16\n",
      "hello world 17\n",
      "hello world 18\n",
      "hello world 19\n",
      "hello world 20\n",
      "hello world 21\n",
      "hello world 22\n",
      "hello world 23\n",
      "hello world 24\n",
      "hello world 25\n",
      "hello world 26\n",
      "hello world 27\n",
      "hello world 28\n",
      "hello world 29\n",
      "hello world 30\n",
      "hello world 31\n",
      "hello world 32\n",
      "hello world 33\n",
      "hello world 34\n",
      "hello world 35\n",
      "hello world 36\n",
      "hello world 37\n",
      "hello world 38\n",
      "hello world 39\n",
      "hello world 40\n",
      "hello world 41\n",
      "hello world 42\n",
      "hello world 43\n",
      "hello world 44\n",
      "hello world 45\n",
      "hello world 46\n",
      "hello world 47\n",
      "hello world 48\n",
      "hello world 49\n",
      "hello world 50\n",
      "hello world 51\n",
      "hello world 52\n",
      "hello world 53\n",
      "hello world 54\n",
      "hello world 55\n",
      "hello world 56\n",
      "hello world 57\n",
      "hello world 58\n",
      "hello world 59\n",
      "hello world 60\n",
      "hello world 61\n",
      "hello world 62\n",
      "hello world 63\n",
      "hello world 64\n",
      "hello world 65\n",
      "hello world 66\n",
      "hello world 67\n",
      "hello world 68\n",
      "hello world 69\n",
      "hello world 70\n",
      "hello world 71\n",
      "hello world 72\n",
      "hello world 73\n",
      "hello world 74\n",
      "hello world 75\n",
      "hello world 76\n",
      "hello world 77\n",
      "hello world 78\n",
      "hello world 79\n",
      "hello world 80\n",
      "hello world 81\n",
      "hello world 82\n",
      "hello world 83\n",
      "hello world 84\n",
      "hello world 85\n",
      "hello world 86\n",
      "hello world 87\n",
      "hello world 88\n",
      "hello world 89\n",
      "hello world 90\n",
      "hello world 91\n",
      "hello world 92\n",
      "hello world 93\n",
      "hello world 94\n",
      "hello world 95\n",
      "hello world 96\n",
      "hello world 97\n",
      "hello world 98\n",
      "hello world 99\n",
      "hello world 100\n"
     ]
    }
   ],
   "source": [
    "for i in range(1,101):\n",
    "    print(f\"hello world {i}\")\n",
    "# 시작점과 끝나는 점을 정확히 설정하기(시작은 포함이 되는 부분/ 끝은 미포함 부분)    \n",
    "# 강사님 코딩 방식과 일치"
   ]
  },
  {
   "cell_type": "code",
   "execution_count": 26,
   "id": "fc87970c-c26a-47d3-bbf4-99f279a138db",
   "metadata": {},
   "outputs": [
    {
     "name": "stdin",
     "output_type": "stream",
     "text": [
      "인사 몇 번 해드릴까요? 3\n"
     ]
    },
    {
     "name": "stdout",
     "output_type": "stream",
     "text": [
      "hello world 1\n",
      "hello world 2\n",
      "hello world 3\n"
     ]
    }
   ],
   "source": [
    "#< 다시 풀어보고 해결해야 하는 부분>\n",
    "\n",
    "count = int(input(\"인사 몇 번 해드릴까요?\"))\n",
    "for _ in range(1, count + 1):\n",
    "    print(f\"hello world\", _)\n",
    "    \n",
    "# 이해가 안되는 부분이 있으니 반드시 해결하기"
   ]
  },
  {
   "cell_type": "code",
   "execution_count": null,
   "id": "8a0ea094-7b73-4e30-b1a2-4170872a4244",
   "metadata": {},
   "outputs": [],
   "source": [
    "# list와 range를 이용한 함수를 활용하는 방법\n",
    "# "
   ]
  },
  {
   "cell_type": "code",
   "execution_count": 34,
   "id": "12916110-ce5d-4df6-bd62-6b16e66ec060",
   "metadata": {},
   "outputs": [
    {
     "name": "stdout",
     "output_type": "stream",
     "text": [
      "실행 결과:\n",
      "[5, 6, 7, 8, 9]\n"
     ]
    }
   ],
   "source": [
    "# 나의 방식\n",
    "float_numbers = list(range(5, 10, 1))\n",
    "print(\"실행 결과:\")\n",
    "print(float_numbers)"
   ]
  },
  {
   "cell_type": "code",
   "execution_count": 37,
   "id": "dc3501f9-3d74-4ddb-bb81-29f7e6a4a4bd",
   "metadata": {},
   "outputs": [
    {
     "name": "stdout",
     "output_type": "stream",
     "text": [
      "[5, 6, 7, 8, 9]\n"
     ]
    }
   ],
   "source": [
    "# 강사님 방식\n",
    "print(list(range(5, 10)))"
   ]
  },
  {
   "cell_type": "code",
   "execution_count": 35,
   "id": "16a359a7-6eb8-466b-bf55-7b527cd0ab0f",
   "metadata": {},
   "outputs": [
    {
     "name": "stdout",
     "output_type": "stream",
     "text": [
      "실행 결과:\n",
      "[0, 3, 6, 9]\n"
     ]
    }
   ],
   "source": [
    "float_numbers = list(range(0, 10, 3))\n",
    "print(\"실행 결과:\")\n",
    "print(float_numbers)"
   ]
  },
  {
   "cell_type": "code",
   "execution_count": 38,
   "id": "50b6546a-4984-4f33-99f0-e7716f2ae11f",
   "metadata": {},
   "outputs": [
    {
     "name": "stdout",
     "output_type": "stream",
     "text": [
      "[0, 3, 6, 9]\n"
     ]
    }
   ],
   "source": [
    "# 강사님 방식\n",
    "print(list(range(0, 10, 3)))"
   ]
  },
  {
   "cell_type": "code",
   "execution_count": 36,
   "id": "a6554b1f-a25d-4840-9687-05c8e9878065",
   "metadata": {},
   "outputs": [
    {
     "name": "stdout",
     "output_type": "stream",
     "text": [
      "실행 결과:\n",
      "[-10, -40, -70]\n"
     ]
    }
   ],
   "source": [
    "float_numbers = list(range(-10, -71, -30))\n",
    "print(\"실행 결과:\")\n",
    "print(float_numbers)"
   ]
  },
  {
   "cell_type": "code",
   "execution_count": 39,
   "id": "f997d009-5a22-468a-a37a-12568dcfa176",
   "metadata": {},
   "outputs": [
    {
     "name": "stdout",
     "output_type": "stream",
     "text": [
      "[-10, -40, -70]\n"
     ]
    }
   ],
   "source": [
    "# 강사님 방식\n",
    "print(list(range(-10, -100, -30)))"
   ]
  },
  {
   "cell_type": "code",
   "execution_count": 47,
   "id": "9bf9434f-6b46-49b7-bd48-9f6903b98374",
   "metadata": {},
   "outputs": [
    {
     "name": "stdin",
     "output_type": "stream",
     "text": [
      "자연수 하나 입력해주세요 6\n"
     ]
    },
    {
     "ename": "NameError",
     "evalue": "name 'n' is not defined",
     "output_type": "error",
     "traceback": [
      "\u001b[1;31m---------------------------------------------------------------------------\u001b[0m",
      "\u001b[1;31mNameError\u001b[0m                                 Traceback (most recent call last)",
      "\u001b[1;32m~\\AppData\\Local\\Temp\\ipykernel_5104\\3660073822.py\u001b[0m in \u001b[0;36m<module>\u001b[1;34m\u001b[0m\n\u001b[0;32m      1\u001b[0m \u001b[0mnumber\u001b[0m \u001b[1;33m=\u001b[0m \u001b[0mint\u001b[0m\u001b[1;33m(\u001b[0m\u001b[0minput\u001b[0m\u001b[1;33m(\u001b[0m\u001b[1;34m\"자연수 하나 입력해주세요\"\u001b[0m\u001b[1;33m)\u001b[0m\u001b[1;33m)\u001b[0m\u001b[1;33m\u001b[0m\u001b[1;33m\u001b[0m\u001b[0m\n\u001b[1;32m----> 2\u001b[1;33m \u001b[1;32mfor\u001b[0m \u001b[0mi\u001b[0m \u001b[1;32min\u001b[0m \u001b[0mrange\u001b[0m\u001b[1;33m(\u001b[0m\u001b[1;36m1\u001b[0m\u001b[1;33m,\u001b[0m \u001b[1;36m7\u001b[0m\u001b[1;33m,\u001b[0m \u001b[0mn\u001b[0m\u001b[1;33m-\u001b[0m\u001b[1;36m1\u001b[0m\u001b[1;33m)\u001b[0m\u001b[1;33m:\u001b[0m\u001b[1;33m\u001b[0m\u001b[1;33m\u001b[0m\u001b[0m\n\u001b[0m\u001b[0;32m      3\u001b[0m     \u001b[0mprint\u001b[0m\u001b[1;33m(\u001b[0m\u001b[1;34mf\"{i} {i} {i} {i} {i} {i}\"\u001b[0m\u001b[1;33m)\u001b[0m\u001b[1;33m\u001b[0m\u001b[1;33m\u001b[0m\u001b[0m\n\u001b[0;32m      4\u001b[0m \u001b[1;33m\u001b[0m\u001b[0m\n\u001b[0;32m      5\u001b[0m \u001b[1;31m#나의 코딩 방식\u001b[0m\u001b[1;33m\u001b[0m\u001b[1;33m\u001b[0m\u001b[0m\n",
      "\u001b[1;31mNameError\u001b[0m: name 'n' is not defined"
     ]
    }
   ],
   "source": [
    "number = int(input(\"자연수 하나 입력해주세요\"))\n",
    "for i in range(1, 7, n-1):\n",
    "    print(f\"{i} {i} {i} {i} {i} {i}\")\n",
    "    \n",
    "#나의 코딩 방식    \n",
    "# 틀린 코딩 수정하기\n",
    "# 이해가 안되는 부분이 있으니 반드시 해결하기"
   ]
  },
  {
   "cell_type": "code",
   "execution_count": 111,
   "id": "6b496f7b-d1aa-4c51-9601-3b129e6391c5",
   "metadata": {},
   "outputs": [
    {
     "name": "stdin",
     "output_type": "stream",
     "text": [
      "자연수 하나 입력: 6\n"
     ]
    },
    {
     "name": "stdout",
     "output_type": "stream",
     "text": [
      "6\t6\t6\t6\t6\t6\t\n",
      "5\t5\t5\t5\t5\t\n",
      "4\t4\t4\t4\t\n",
      "3\t3\t3\t\n",
      "2\t2\t\n",
      "1\t\n"
     ]
    }
   ],
   "source": [
    "# 강사님 코딩 방식\n",
    "# 이해가 안되는 부분은 반드시 이해하고 넘어가기\n",
    "input_value = int(input(\"자연수 하나 입력:\"))\n",
    "for i in range(input_value, 0, -1):\n",
    "    for j in range(i):\n",
    "        print(i, end='\\t')\n",
    "    print()"
   ]
  },
  {
   "cell_type": "code",
   "execution_count": 155,
   "id": "10ec047b-21a0-4684-b782-4b3857a6ff0c",
   "metadata": {
    "tags": []
   },
   "outputs": [
    {
     "name": "stdout",
     "output_type": "stream",
     "text": [
      "**********\n",
      "*        *\n",
      "*        *\n",
      "*        *\n",
      "*        *\n",
      "*        *\n",
      "*        *\n",
      "*        *\n",
      "*        *\n",
      "**********\n"
     ]
    }
   ],
   "source": [
    "for i in range(10):\n",
    "    if i == 0 or i == 9:\n",
    "        print('*'*10)\n",
    "    else:\n",
    "        print('*        *')"
   ]
  },
  {
   "cell_type": "code",
   "execution_count": 65,
   "id": "e759534d-3b61-4b04-afc3-ab967ffa3ad3",
   "metadata": {},
   "outputs": [
    {
     "name": "stdin",
     "output_type": "stream",
     "text": [
      "1부터 입력한 자연수까지의 모든 합을 구합니다 10\n"
     ]
    },
    {
     "name": "stdout",
     "output_type": "stream",
     "text": [
      "4 6\n",
      "6 8\n",
      "8 10\n",
      "10 12\n",
      "12 14\n"
     ]
    }
   ],
   "source": [
    "# 나의 코딩 방식\n",
    "i = int(input(\"1부터 입력한 자연수까지의 모든 합을 구합니다\"))\n",
    "for i in range(1, i+1, 1):\n",
    "    print("
   ]
  },
  {
   "cell_type": "code",
   "execution_count": 9,
   "id": "6b4ac679-526e-4010-83d2-80d4f6114645",
   "metadata": {},
   "outputs": [
    {
     "name": "stdin",
     "output_type": "stream",
     "text": [
      "1부터 입력한 자연수까지의 모든 홀수의 합을 구합니다 100\n"
     ]
    },
    {
     "name": "stdout",
     "output_type": "stream",
     "text": [
      "1 + 3 + 5 + 7 + 9 + 11 + 13 + 15 + 17 + 19 + 21 + 23 + 25 + 27 + 29 + 31 + 33 + 35 + 37 + 39 + 41 + 43 + 45 + 47 + 49 + 51 + 53 + 55 + 57 + 59 + 61 + 63 + 65 + 67 + 69 + 71 + 73 + 75 + 77 + 79 + 81 + 83 + 85 + 87 + 89 + 91 + 93 + 95 + 97 + 99 =2500\n"
     ]
    }
   ],
   "source": [
    "#강사님 방식의 코딩\n",
    "# 이해가 안되는 부분은 해결하고 넘어가기\n",
    "\n",
    "input_value = int(input(\"1부터 입력한 자연수까지의 모든 홀수의 합을 구합니다\"))\n",
    "result = 0\n",
    "# 덧셈에서는 0을 넣어 더하는 연산을 활용합니다.\n",
    "\n",
    "for i in range(1, input_value + 1):\n",
    "#range는 범위를 나열해주는 개념입니다. 하지만 for문을 사용하면서 앞에 나온 숫자에 연산을 실시한것을 지속적으로 누적시킨다고 생각하면 됩니다.\n",
    "\n",
    "    if i % 2 == 1:\n",
    "        if (input_value - 1) == i or input_value == 1:\n",
    "            print(i, end=' =')\n",
    "        else:\n",
    "            print(i, end=' + ')\n",
    "        result += i\n",
    "print(result)"
   ]
  },
  {
   "cell_type": "code",
   "execution_count": 8,
   "id": "38e13314-a4b9-4439-8d91-6f09fc96e056",
   "metadata": {},
   "outputs": [
    {
     "name": "stdin",
     "output_type": "stream",
     "text": [
      "자연수 하나 입력하세요 100\n"
     ]
    },
    {
     "name": "stdout",
     "output_type": "stream",
     "text": [
      "1 +3 = 2503\n",
      " +5 = 2508\n",
      " +7 = 2515\n",
      " +9 = 2524\n",
      " +11 = 2535\n",
      " +13 = 2548\n",
      " +15 = 2563\n",
      " +17 = 2580\n",
      " +19 = 2599\n",
      " +21 = 2620\n",
      " +23 = 2643\n",
      " +25 = 2668\n",
      " +27 = 2695\n",
      " +29 = 2724\n",
      " +31 = 2755\n",
      " +33 = 2788\n",
      " +35 = 2823\n",
      " +37 = 2860\n",
      " +39 = 2899\n",
      " +41 = 2940\n",
      " +43 = 2983\n",
      " +45 = 3028\n",
      " +47 = 3075\n",
      " +49 = 3124\n",
      " +51 = 3175\n",
      " +53 = 3228\n",
      " +55 = 3283\n",
      " +57 = 3340\n",
      " +59 = 3399\n",
      " +61 = 3460\n",
      " +63 = 3523\n",
      " +65 = 3588\n",
      " +67 = 3655\n",
      " +69 = 3724\n",
      " +71 = 3795\n",
      " +73 = 3868\n",
      " +75 = 3943\n",
      " +77 = 4020\n",
      " +79 = 4099\n",
      " +81 = 4180\n",
      " +83 = 4263\n",
      " +85 = 4348\n",
      " +87 = 4435\n",
      " +89 = 4524\n",
      " +91 = 4615\n",
      " +93 = 4708\n",
      " +95 = 4803\n",
      " +97 = 4900\n",
      " +99 = 4999\n"
     ]
    }
   ],
   "source": [
    "#강사님 방식의 코딩\n",
    "# 이해가 안되는 부분은 해결하고 넘어가기\n",
    "\n",
    "input_value = int(input(\"자연수 하나 입력하세요\"))\n",
    "print(\"1\", end=\"\")\n",
    "for i in range(3, input_value +1):\n",
    "    if i % 2== 1: #홀수\n",
    "        print(f\" +{i}\", end=\"\")\n",
    "        result += i\n",
    "        \n",
    "        print(f\" = {result}\")"
   ]
  },
  {
   "cell_type": "code",
   "execution_count": 7,
   "id": "042378e4-eddd-4331-bc30-d58743f3eec6",
   "metadata": {},
   "outputs": [
    {
     "name": "stdin",
     "output_type": "stream",
     "text": [
      "계승을 구할 숫자를 입력하세요 7\n"
     ]
    },
    {
     "name": "stdout",
     "output_type": "stream",
     "text": [
      "5040\n"
     ]
    }
   ],
   "source": [
    "input_value = int(input(\"계승을 구할 숫자를 입력하세요\"))\n",
    "result = 1\n",
    "for i in range(1, input_value+1):\n",
    "    result = result * i \n",
    "print(result)"
   ]
  },
  {
   "cell_type": "code",
   "execution_count": 8,
   "id": "b509fb06-f475-4a4a-951f-641152a02fdd",
   "metadata": {},
   "outputs": [
    {
     "name": "stdin",
     "output_type": "stream",
     "text": [
      "계승을 구할 숫자를 입력하세요 4\n"
     ]
    },
    {
     "name": "stdout",
     "output_type": "stream",
     "text": [
      "24\n"
     ]
    }
   ],
   "source": [
    "# 강사님 코딩 방식\n",
    "\n",
    "n = int(input(\"계승을 구할 숫자를 입력하세요\"))\n",
    "result = 1\n",
    "# 곱셈에서 1을 곱하는 연산은 값에 변화를 주지 않습니다. 따라서 곱셈의 결과를 담는 변수의 최초 선언에서 1로 할당합니다.\n",
    "\n",
    "for i in range(1, n + 1):\n",
    "    result = result * i \n",
    "print(result)"
   ]
  },
  {
   "cell_type": "code",
   "execution_count": 10,
   "id": "13bea2a3-2185-46f9-81cf-be9d74a8e557",
   "metadata": {},
   "outputs": [
    {
     "name": "stdout",
     "output_type": "stream",
     "text": [
      "시\n",
      "미\n",
      "라\n",
      "레\n",
      "솔\n",
      "도\n",
      "파\n"
     ]
    }
   ],
   "source": [
    "# 다시 해보기(이해하고 넘어갈 필요가 있다)\n",
    "\n",
    "for _ in [\"시\", \"미\", \"라\", \"레\", \"솔\", \"도\", \"파\"]:\n",
    "# for문에 range 대신에 시퀀스 객체를 넣어서 사용 할 수 있다.\n",
    "\n",
    "    print(_)"
   ]
  },
  {
   "cell_type": "code",
   "execution_count": 16,
   "id": "82c26a76-8cbd-46d3-97a4-60b51b1fa7ef",
   "metadata": {},
   "outputs": [
    {
     "ename": "SyntaxError",
     "evalue": "invalid syntax (1815345852.py, line 1)",
     "output_type": "error",
     "traceback": [
      "\u001b[1;36m  File \u001b[1;32m\"C:\\Users\\Playdata\\AppData\\Local\\Temp\\ipykernel_6364\\1815345852.py\"\u001b[1;36m, line \u001b[1;32m1\u001b[0m\n\u001b[1;33m    for_in (\"파\" , \"도\" , \"솔\" , \"레\" , \"라\" , \"미\" , \"시\"):\u001b[0m\n\u001b[1;37m                                                     ^\u001b[0m\n\u001b[1;31mSyntaxError\u001b[0m\u001b[1;31m:\u001b[0m invalid syntax\n"
     ]
    }
   ],
   "source": [
    "for_in (\"파\" , \"도\" , \"솔\" , \"레\" , \"라\" , \"미\" , \"시\"):\n",
    "# _ 는 변수를 의미하는 기호이다.\n",
    "\n",
    "    print(_,end=\" \")\n",
    "    \n",
    "# 틀린 부분 고쳐보기    "
   ]
  },
  {
   "cell_type": "code",
   "execution_count": 23,
   "id": "fa71abb2-7c36-4e5b-a461-b3e7da4e4b29",
   "metadata": {},
   "outputs": [
    {
     "name": "stdout",
     "output_type": "stream",
     "text": [
      "십 구 팔 칠 육 오 사 삼 이 일 "
     ]
    }
   ],
   "source": [
    "#1. reversed(시퀀스) 함수는 반환값을 주지만 해당 시퀀스를 변경하지 않습니다.\n",
    "#2. 리스트.reverse() 함수는 리스트 요소 순서를 뒤집어주며 변환값이 없습니다.\n",
    "# 위의 두함수의 가장 큰 차이는 -d의 유무의 차이이다./ 따라서 1.은 반환값으로 뒤집어진 값을 준다 but 2.은 반환값을 주지 않는다. \n",
    "\n",
    "for _ in reversed(\"일이삼사오육칠팔구십\"):\n",
    "    print(_, end= \" \")"
   ]
  },
  {
   "cell_type": "code",
   "execution_count": 29,
   "id": "40267c87-bd62-4055-b4c6-e45c4395dbf3",
   "metadata": {},
   "outputs": [
    {
     "name": "stdout",
     "output_type": "stream",
     "text": [
      "<reversed object at 0x0000029A3C5C4E80>\n"
     ]
    }
   ],
   "source": [
    "print(reversed(\"일이삼사오육칠팔구십\"))"
   ]
  },
  {
   "cell_type": "code",
   "execution_count": 55,
   "id": "e835c14f-cfea-43ac-bd9d-75158dd65455",
   "metadata": {},
   "outputs": [
    {
     "name": "stdout",
     "output_type": "stream",
     "text": [
      "4444444444\n"
     ]
    }
   ],
   "source": [
    "result = 10\n",
    "for i in (\"24\"):\n",
    "    result2 = result * i \n",
    "print(result2)\n",
    "\n",
    "#나의 코딩 방식"
   ]
  },
  {
   "cell_type": "code",
   "execution_count": 85,
   "id": "8925ef26-2bc4-4c84-8059-706f846cdcc9",
   "metadata": {},
   "outputs": [
    {
     "name": "stdin",
     "output_type": "stream",
     "text": [
      "구구단을 알려드립니다. 숫자를 입력하세요 9\n"
     ]
    },
    {
     "name": "stdout",
     "output_type": "stream",
     "text": [
      "실행결과\n",
      "9 * 1 = 9\n",
      "9 * 2 = 18\n",
      "9 * 3 = 27\n",
      "9 * 4 = 36\n",
      "9 * 5 = 45\n",
      "9 * 6 = 54\n",
      "9 * 7 = 63\n",
      "9 * 8 = 72\n",
      "9 * 9 = 81\n"
     ]
    }
   ],
   "source": [
    "dan = int(input(\"구구단을 알려드립니다. 숫자를 입력하세요\"))                    \n",
    "print(\"실행결과\")\n",
    "for i in range(1, 10):\n",
    "    print( dan, '*', i, '=', dan*i)\n",
    "\n",
    "# 나의 코딩 방식(인터넷 자료 참고)    \n",
    "#print 괄호 안에 입력하는 , 는 자리를 구분해주는 도구 이다. 아래의 구구단 결과를 보면서 위의 print와 함께 이해하도록 하자."
   ]
  },
  {
   "cell_type": "code",
   "execution_count": 101,
   "id": "77f3655e-5010-4eac-a857-fc0f4556c309",
   "metadata": {},
   "outputs": [
    {
     "name": "stdin",
     "output_type": "stream",
     "text": [
      "자연수를 입력해주세요 100\n"
     ]
    },
    {
     "name": "stdout",
     "output_type": "stream",
     "text": [
      "실행결과\n",
      "5050\n"
     ]
    }
   ],
   "source": [
    "#사용자로부터 자연수를 입력받아옵니다. 1부터 입력된 자연수까지의 합을 구하는 프로그램을 구현 해보시오.\n",
    "# 나의 코딩 방식\n",
    "num = int(input(\"자연수를 입력해주세요\"))\n",
    "print(\"실행결과\")\n",
    "result = 0\n",
    "for i in range(1, num+1):\n",
    "    print(i, end=\" \")\n",
    "    result += i      \n",
    "print(result)"
   ]
  },
  {
   "cell_type": "code",
   "execution_count": 129,
   "id": "c1a8a048-2b1f-4ed0-9c77-966d61f1b29e",
   "metadata": {},
   "outputs": [
    {
     "name": "stdout",
     "output_type": "stream",
     "text": [
      "*****\n",
      "*****\n",
      "*****\n",
      "*****\n",
      "*****\n"
     ]
    }
   ],
   "source": [
    "for i in range(5):\n",
    "    print('*'*5)"
   ]
  },
  {
   "cell_type": "code",
   "execution_count": 128,
   "id": "9d850d18-bb20-4aa7-83f8-9c76ff2948f9",
   "metadata": {},
   "outputs": [
    {
     "name": "stdout",
     "output_type": "stream",
     "text": [
      "*****\n",
      "*****\n",
      "*****\n",
      "*****\n",
      "*****\n"
     ]
    }
   ],
   "source": [
    "for j in range(5):\n",
    "    \n",
    "    for i in range(5):\n",
    "        print('*', end=\"\")\n",
    "    print()"
   ]
  },
  {
   "cell_type": "code",
   "execution_count": 126,
   "id": "98c57744-d4c0-4022-b1d8-ab877dcd8e50",
   "metadata": {},
   "outputs": [
    {
     "name": "stdout",
     "output_type": "stream",
     "text": [
      "*   *\n",
      "*   *\n",
      "*   *\n",
      "*   *\n",
      "*   *\n"
     ]
    }
   ],
   "source": [
    "#위의 문제 응용 연습 나만의 코딩 방식\n",
    "\n",
    "for i in range(5):\n",
    "    if i == 0 and i == 1 or i == 2 and i == 3 and i == 4 and i == 5:\n",
    "        print('*'*5)\n",
    "    else: \n",
    "        print('*   *')"
   ]
  },
  {
   "cell_type": "code",
   "execution_count": 131,
   "id": "1119cfa5-e48a-4ed3-b9ab-96c6a197c831",
   "metadata": {},
   "outputs": [
    {
     "name": "stdout",
     "output_type": "stream",
     "text": [
      "Hello world\n",
      "Hello world\n",
      "Hello world\n",
      "Hello world\n",
      "Hello world\n",
      "Hello world\n",
      "Hello world\n",
      "Hello world\n",
      "Hello world\n",
      "Hello world\n",
      "Hello world\n",
      "Hello world\n",
      "Hello world\n",
      "Hello world\n",
      "Hello world\n",
      "Hello world\n",
      "Hello world\n",
      "Hello world\n",
      "Hello world\n",
      "Hello world\n",
      "Hello world\n",
      "Hello world\n",
      "Hello world\n",
      "Hello world\n",
      "Hello world\n",
      "Hello world\n",
      "Hello world\n",
      "Hello world\n",
      "Hello world\n",
      "Hello world\n",
      "Hello world\n",
      "Hello world\n",
      "Hello world\n",
      "Hello world\n",
      "Hello world\n",
      "Hello world\n",
      "Hello world\n",
      "Hello world\n",
      "Hello world\n",
      "Hello world\n",
      "Hello world\n",
      "Hello world\n",
      "Hello world\n",
      "Hello world\n",
      "Hello world\n",
      "Hello world\n",
      "Hello world\n",
      "Hello world\n",
      "Hello world\n",
      "Hello world\n",
      "Hello world\n",
      "Hello world\n",
      "Hello world\n",
      "Hello world\n",
      "Hello world\n",
      "Hello world\n",
      "Hello world\n",
      "Hello world\n",
      "Hello world\n",
      "Hello world\n",
      "Hello world\n",
      "Hello world\n",
      "Hello world\n",
      "Hello world\n",
      "Hello world\n",
      "Hello world\n",
      "Hello world\n",
      "Hello world\n",
      "Hello world\n",
      "Hello world\n",
      "Hello world\n",
      "Hello world\n",
      "Hello world\n",
      "Hello world\n",
      "Hello world\n",
      "Hello world\n",
      "Hello world\n",
      "Hello world\n",
      "Hello world\n",
      "Hello world\n",
      "Hello world\n",
      "Hello world\n",
      "Hello world\n",
      "Hello world\n",
      "Hello world\n",
      "Hello world\n",
      "Hello world\n",
      "Hello world\n",
      "Hello world\n",
      "Hello world\n",
      "Hello world\n",
      "Hello world\n",
      "Hello world\n",
      "Hello world\n",
      "Hello world\n",
      "Hello world\n",
      "Hello world\n",
      "Hello world\n",
      "Hello world\n",
      "Hello world\n"
     ]
    }
   ],
   "source": [
    "# while 반복문은 조건식으로만 작동합니다. \n",
    "# while 문 실행 순서\n",
    " # 조건식을 판별합니다/ 조건식이 True인 동안 내내 while문의 바디를 실행합니다/ 조건식이 False가 되면 while 문을 빠져나갑니다.\n",
    "\n",
    "    \n",
    "#초기식일 필요하다. 그리고 while식은 특정 범위를 정해주는 것이다.\n",
    "                    # ex) while i <100 - >while가 99까지는 가능하다는 의미(100부턴는 안된다.)\n",
    "# 만약 무한 루프에 갇히게 되면 정지를 해주면 된다.\n",
    "\n",
    "i = 0\n",
    "while i < 100:\n",
    "    print(\"Hello world\")\n",
    "    i += 1"
   ]
  },
  {
   "cell_type": "code",
   "execution_count": 132,
   "id": "346c5601-34a9-45e9-bb2e-233d143b5614",
   "metadata": {},
   "outputs": [
    {
     "name": "stdin",
     "output_type": "stream",
     "text": [
      "반복할 횟수를 입력하세요: 3\n"
     ]
    },
    {
     "name": "stdout",
     "output_type": "stream",
     "text": [
      "Hello world 3\n",
      "Hello world 2\n",
      "Hello world 1\n"
     ]
    }
   ],
   "source": [
    "# 입력한 홧수 만큼 반복하는 예제입니다.\n",
    "# 다만, 숫자를 감소시켜서 제어하고 있습니다.\n",
    "# \" \"안의 것은 문자이다.\n",
    "# 첫줄의 count는 초기값/ while는 조건 값/ 마지막 count는 변환값이다.\n",
    "count = int(input(\"반복할 횟수를 입력하세요:\"))\n",
    "\n",
    "while count > 0:\n",
    "    print(\"Hello world\", count)\n",
    "    count-= 1"
   ]
  },
  {
   "cell_type": "code",
   "execution_count": 71,
   "id": "0892bcec-fef3-4e3f-89ca-a07413725e52",
   "metadata": {},
   "outputs": [
    {
     "name": "stdout",
     "output_type": "stream",
     "text": [
      "2\t4\t6\t8\t10\t12\t14\t16\t18\t20\t22\t24\t26\t28\t30\t32\t34\t36\t38\t40\t42\t44\t46\t48\t50\t52\t54\t56\t58\t60\t62\t64\t66\t68\t70\t72\t74\t76\t78\t80\t82\t84\t86\t88\t90\t92\t94\t96\t98\t100\t"
     ]
    }
   ],
   "source": [
    "#강사님 코딩 방식\n",
    "\n",
    "i = 1\n",
    "while i < 51:\n",
    "    print(i*2, end=\"\\t\")\n",
    "    i += 1"
   ]
  },
  {
   "cell_type": "code",
   "execution_count": 38,
   "id": "c7cd74f2-b17f-4e0c-ad15-dfdba65ad1d3",
   "metadata": {},
   "outputs": [
    {
     "name": "stdout",
     "output_type": "stream",
     "text": [
      "실행결과:\n"
     ]
    },
    {
     "name": "stdin",
     "output_type": "stream",
     "text": [
      "구구단을 알려드립니다. 숫자를 입력하세요 9\n"
     ]
    },
    {
     "name": "stdout",
     "output_type": "stream",
     "text": [
      "9 * 1 = 9\n",
      "9 * 2 = 18\n",
      "9 * 3 = 27\n",
      "9 * 4 = 36\n",
      "9 * 5 = 45\n",
      "9 * 6 = 54\n",
      "9 * 7 = 63\n",
      "9 * 8 = 72\n",
      "9 * 9 = 81\n"
     ]
    }
   ],
   "source": [
    "print(\"실행결과:\")\n",
    "dan = int(input(\"구구단을 알려드립니다. 숫자를 입력하세요\"))\n",
    "i = 1\n",
    "while i < 10:\n",
    "    print(dan, \"*\", i, \"=\", dan*i)\n",
    "    i += 1"
   ]
  },
  {
   "cell_type": "code",
   "execution_count": 74,
   "id": "67b1fdcd-11a4-4cff-8deb-c94f17e6109d",
   "metadata": {},
   "outputs": [
    {
     "name": "stdout",
     "output_type": "stream",
     "text": [
      "97\n",
      "100\n",
      "77\n"
     ]
    }
   ],
   "source": [
    "scores = (97, 100, 77)\n",
    "\n",
    "for _ in range(len(scores)):\n",
    "    print(scores[_])"
   ]
  },
  {
   "cell_type": "code",
   "execution_count": 46,
   "id": "5242addb-8388-44da-8c7b-631b1439c161",
   "metadata": {},
   "outputs": [
    {
     "name": "stdout",
     "output_type": "stream",
     "text": [
      "len(a): 4\n",
      "87\n",
      "22\n",
      "31\n",
      "98\n"
     ]
    }
   ],
   "source": [
    "# 0, 1, 2, 3\n",
    "a= [87, 22, 31, 98]\n",
    "print(f\"len(a): {len(a)}\") #4\n",
    "\n",
    "# 인덱스를 순서대로 접근할 수 있도록 제어할 변수\n",
    "# 0~3까지 1씩 증가\n",
    "i = 0\n",
    "\n",
    "# 인덱싱을 할 때는 정확한 범위의 인덱스에 접근해야 한다.\n",
    "while i < len(a):\n",
    "    print(a[i])\n",
    "    i += 1"
   ]
  },
  {
   "cell_type": "code",
   "execution_count": null,
   "id": "2e7f3fc6-145c-4355-9eba-024c917f6292",
   "metadata": {},
   "outputs": [],
   "source": [
    "# 23-02-17(금) - 어제 수업 복습\n",
    "# 어제는 반복문을 학습 : 중복되는 코드를 어떻게 입력할지를 고민\n",
    "# range = range(시작. 끝. 중간크기)\n",
    "# range라는 객체를 list로 표현 가능 = 필요할 때만 만든다\n",
    "# 그러나 List는 미리 만들어진 것이다.\n",
    "# for문 :  시퀀스 자료형의 항목들을 순서대로 하나씩 꺼낸다.\n",
    " # 반복되는 부분을 만들 때 사용한다.\n",
    " # 객체 : 메모리상에 실존하는 데이터를 의미한다.\n",
    " # Java의 for문과는 다르다.\n",
    " # for i in rnage(len(문자열)): - >\"명령어\"\n",
    "# for문과 range는 동시에 사용하면 매우 편리하다.\n",
    " # for n in range(1000):\n",
    "      #print(\"Hello world\") - > 문자열이 반복된다\n",
    " # range의 부분이 i에 담기게 되고 그러한 부분이 아래의 명령어로 반복된다.\n",
    "# while 반복문은 조건식으로만 동작한다.\n",
    " # 특정 변수가 필요하다 - > 변수가 조건을 만족하는 순간까지 실행한다 따라서 무한하게 돌리는 것이 가능하다.\n",
    " # but for문은 개수가 있는 만큼만 돌아가기 때문에 유한하다.\n",
    " # 파이썬의 while문은 자바의 for 문과 비슷하다.\n",
    " # for문으로 시퀀스 객체의 인덱스 루프 테크닉"
   ]
  },
  {
   "cell_type": "code",
   "execution_count": 2,
   "id": "a4a29e60-4da2-46ee-b12c-5a340210b27a",
   "metadata": {},
   "outputs": [
    {
     "name": "stdout",
     "output_type": "stream",
     "text": [
      "0 1 2 3 4 5 6 7 8 9 10 "
     ]
    }
   ],
   "source": [
    "i = 0\n",
    "while i < 11:\n",
    "    print(i, end= \" \")\n",
    "    i += 1"
   ]
  },
  {
   "cell_type": "code",
   "execution_count": 4,
   "id": "16d1d81d-03a0-44bc-8e47-b29f3290212e",
   "metadata": {},
   "outputs": [
    {
     "name": "stdout",
     "output_type": "stream",
     "text": [
      "1 2 3 4 5 6 7 8 9 10 "
     ]
    }
   ],
   "source": [
    "for i in range(1,11):\n",
    "    print(i, end=)"
   ]
  },
  {
   "cell_type": "code",
   "execution_count": 23,
   "id": "159614d8-2794-4951-afee-b339e5979386",
   "metadata": {},
   "outputs": [
    {
     "name": "stdout",
     "output_type": "stream",
     "text": [
      "79.0\n"
     ]
    }
   ],
   "source": [
    "class_a = (70, 60, 55, 75, 95, 90, 80, 80, 85, 100)\n",
    "total = 0\n",
    "i = 0\n",
    "while i < len(class_a):\n",
    "    total += class_a[i]\n",
    "    i += 1\n",
    "\n",
    "average = total / len(class_a)\n",
    "\n",
    "print(average)"
   ]
  },
  {
   "cell_type": "code",
   "execution_count": null,
   "id": "8cf6ecf4-1aae-4c6f-8f73-3037f5e6f8c4",
   "metadata": {},
   "outputs": [],
   "source": [
    "# 23-02-17 2교시\n",
    "# break문은 해당 반복문을 완전히 빠져나간다는 의미이다.\n",
    "# for _ in range(10000):\n",
    "    # print(_)\n",
    "    # if _ == 100:\n",
    "        # break\n",
    "# while문의 무한루프에서 활용하면 된다. 루프를 이용해서 빠져나가는 조건을 만들어서 사용한다."
   ]
  },
  {
   "cell_type": "code",
   "execution_count": 12,
   "id": "f0eef00d-5157-4043-9324-2b3ceab27c55",
   "metadata": {},
   "outputs": [
    {
     "name": "stdout",
     "output_type": "stream",
     "text": [
      "0 1 2 3 4 5 6 7 8 9 10 11 12 13 14 15 16 17 18 19 20 21 22 23 24 25 26 27 28 29 30 31 32 33 34 35 36 37 38 39 40 41 42 43 44 45 46 47 48 49 50 51 52 53 54 55 56 57 58 59 60 61 62 63 64 65 66 67 68 69 70 71 72 73 74 75 76 77 78 79 80 81 82 83 84 85 86 87 88 89 90 91 92 93 94 95 96 97 98 99 100 5050\n"
     ]
    }
   ],
   "source": [
    "#나만의 방식의 코딩\n",
    "i = 0\n",
    "total = 0\n",
    "while True:\n",
    "        print(i, end= \" \")\n",
    "        if i == 100:\n",
    "            break\n",
    "        i += 1\n",
    "        total += i        \n",
    "print(total)"
   ]
  },
  {
   "cell_type": "code",
   "execution_count": 4,
   "id": "f890f0bc-1d9a-4532-8b05-afc8726835f2",
   "metadata": {},
   "outputs": [
    {
     "name": "stdout",
     "output_type": "stream",
     "text": [
      "5050\n"
     ]
    }
   ],
   "source": [
    "# 강사님 방식의 코딩\n",
    "i = 0\n",
    "total = 0\n",
    "while True:\n",
    "    total += i\n",
    "    i = i +1\n",
    "    if i > 100:\n",
    "        break\n",
    "print(total)"
   ]
  },
  {
   "cell_type": "code",
   "execution_count": 9,
   "id": "74de4ff0-60f9-4c24-bd4d-09ecb50c20c6",
   "metadata": {},
   "outputs": [
    {
     "name": "stdin",
     "output_type": "stream",
     "text": [
      "q를 입력하면 종료됩니다. 진짜?\n",
      "q를 입력하면 종료됩니다. 정말?\n",
      "q를 입력하면 종료됩니다. q\n"
     ]
    },
    {
     "name": "stdout",
     "output_type": "stream",
     "text": [
      "프로그램을 종료합니다.\n"
     ]
    }
   ],
   "source": [
    "# while문 무한루프의 활용\n",
    "\n",
    "while True:\n",
    "    input_value = input(\"q를 입력하면 종료됩니다.\")\n",
    "    if input_value == \"q\": break\n",
    "print(\"프로그램을 종료합니다.\")"
   ]
  },
  {
   "cell_type": "code",
   "execution_count": 18,
   "id": "2794765f-227d-446e-82e7-dd130e1f897e",
   "metadata": {},
   "outputs": [
    {
     "name": "stdout",
     "output_type": "stream",
     "text": [
      "1\t3\t5\t7\t9\t11\t13\t15\t17\t19\t21\t23\t25\t27\t29\t31\t33\t35\t37\t39\t41\t43\t45\t47\t49\t51\t53\t55\t57\t59\t61\t63\t65\t67\t69\t71\t73\t75\t77\t79\t81\t83\t85\t87\t89\t91\t93\t95\t97\t99\t"
     ]
    }
   ],
   "source": [
    "#continue는 1회만 빠져나가는 명령어이다.\n",
    "# 0부터 99까지 증가하면서 100번 반복\n",
    "# i를 2로 나누었을 때 나머지가 0면 짝수\n",
    "\n",
    "for i in range(100):\n",
    "    if i % 2 == 0:\n",
    "        continue\n",
    "    print(i, end=\"\\t\")"
   ]
  },
  {
   "cell_type": "code",
   "execution_count": 51,
   "id": "3ebbd8dc-e854-42b8-afc1-01bc7401e84a",
   "metadata": {},
   "outputs": [
    {
     "name": "stdin",
     "output_type": "stream",
     "text": [
      "시작하는 정수 n을 입력해주세요 1\n",
      "시작하는 정수 m을 입력해주세요 10\n"
     ]
    },
    {
     "name": "stdout",
     "output_type": "stream",
     "text": [
      "1부터 10까지의 합은 10\n"
     ]
    }
   ],
   "source": [
    "# 나만의 방식의 코딩\n",
    "\n",
    "input_n = int(input(\"시작하는 정수 n을 입력해주세요\"))\n",
    "input_m = int(input(\"시작하는 정수 m을 입력해주세요\"))\n",
    "i = input_n\n",
    "t = input_m\n",
    "total = 0\n",
    "\n",
    "for _ in range(i, t+1):\n",
    "    total += _\n",
    "        \n",
    "print(\"1부터 10까지의 합은\", _)"
   ]
  },
  {
   "cell_type": "code",
   "execution_count": 140,
   "id": "a5d2b613-62f7-47f2-ac83-61a3ea81ce67",
   "metadata": {},
   "outputs": [
    {
     "ename": "SyntaxError",
     "evalue": "invalid syntax (2040469166.py, line 4)",
     "output_type": "error",
     "traceback": [
      "\u001b[1;36m  File \u001b[1;32m\"C:\\Users\\Playdata\\AppData\\Local\\Temp\\ipykernel_6268\\2040469166.py\"\u001b[1;36m, line \u001b[1;32m4\u001b[0m\n\u001b[1;33m    total = 0\u001b[0m\n\u001b[1;37m    ^\u001b[0m\n\u001b[1;31mSyntaxError\u001b[0m\u001b[1;31m:\u001b[0m invalid syntax\n"
     ]
    }
   ],
   "source": [
    "# 강사님 방식의 코딩(for문)\n",
    "n = int(input(\"시작하는 정수 n을 입력해주세요\"))\n",
    "m = int(input(\"시작하는 정수 m을 입력해주세요\")\n",
    "total = 0\n",
    "\n",
    "for i in range(n, m + 1):\n",
    "        total +=i\n",
    "print(n, \"부터\", m, \"까지의 합은\", total, \"입니다.\")"
   ]
  },
  {
   "cell_type": "code",
   "execution_count": 142,
   "id": "6ef147d0-974a-4b99-9230-8837c9118e55",
   "metadata": {},
   "outputs": [
    {
     "name": "stdin",
     "output_type": "stream",
     "text": [
      "시작하는 정수n을 입력해주세요 1\n",
      "시작하는 정수m을 입력해주세요 10\n"
     ]
    },
    {
     "name": "stdout",
     "output_type": "stream",
     "text": [
      "1 부터 10 까지의 합은 55 입니다.\n"
     ]
    }
   ],
   "source": [
    "# 강사님 방식의 코딩(while문)\n",
    "# 틀린부분 고쳐보기\n",
    "\n",
    "n = int(input(\"시작하는 정수n을 입력해주세요\"))\n",
    "m = int(input(\"시작하는 정수m을 입력해주세요\"))\n",
    "\n",
    "i = n\n",
    "total = 0\n",
    "while i <= m:\n",
    "    total +=i\n",
    "    i +=1\n",
    "print(n, \"부터\", m, \"까지의 합은\", total, \"입니다.\")"
   ]
  },
  {
   "cell_type": "code",
   "execution_count": 55,
   "id": "fe621371-5543-4fd0-a2c7-3bf4a5ebafe3",
   "metadata": {},
   "outputs": [
    {
     "name": "stdout",
     "output_type": "stream",
     "text": [
      "<class 'dict'>\n",
      "{'key': 'value'}\n"
     ]
    }
   ],
   "source": [
    "# 딕셔너리 자료형(비 시퀀스 자료형)\n",
    "# 이 자료형은 고유한 키(key) 값을 갖습니다.\n",
    "# key:value -> key-value pair\n",
    "\n",
    "dic_var = {\"key\": \"value\"}\n",
    "print(type(dic_var))\n",
    "print(dic_var)\n",
    "# key-Value에 대한 값은 콤마로 구분을 짓는다.\n",
    "# () 튜플\n",
    "# [] 리스트\n",
    "# {} dictionary(keyvalue), set(key)\n",
    " # 괄호의 모양에 따라서 쓰임세가 다르다.\n",
    "    \n",
    "# 튜플과 리스트는 시퀀스(순서가 있는것) but dic는 비시퀀스(순서가 없다). 그러나 이후의 dic는 순서가 보장이 되는 것으로 변경되었다.\n",
    "# 대신에 dic는 key라는 값을 가지는데 이 값은 유일한 값이 되어야 한다.\n",
    "# key값을 고유한 값을 가지도록 해야 한다(제일 중요!!!)\n",
    "# 괄호안의 value값은 다르게 가질 수 있다.\n",
    "# 최종정리 : dic는 순서가 없다 그래서 key라는 고유의 값을 가지고 있다."
   ]
  },
  {
   "cell_type": "code",
   "execution_count": 57,
   "id": "773b3881-36d5-4cf2-88db-260acb36bdb7",
   "metadata": {},
   "outputs": [
    {
     "name": "stdout",
     "output_type": "stream",
     "text": [
      "{'key': 'last value'}\n"
     ]
    }
   ],
   "source": [
    "dic_var = {\"key\": \"value\", \"key\": \"last value\"}\n",
    "print(dic_var)\n",
    "\n",
    "# 딕셔너리 자료형에서 key는 중복해서 존재하지 않는다. 따라서 중복해서 넣으면 가장 최근에 넣은 것만 출력이 되게 돤다."
   ]
  },
  {
   "cell_type": "code",
   "execution_count": 143,
   "id": "444eceeb-9c02-4128-a548-a4512defc85d",
   "metadata": {},
   "outputs": [
    {
     "name": "stdout",
     "output_type": "stream",
     "text": [
      "[<class 'str'>, <class 'int'>, <class 'float'>, <class 'tuple'>]\n"
     ]
    }
   ],
   "source": [
    "dic_var = {\"key\": \"value\", 1: \"value2\", 1.1: \"value3\", True: \"value4\",(\"key\", 1, 1.1, True): \"value2\"}\n",
    "print(list(map(type, dic_var.keys())))\n",
    "\n",
    "# 딕셔너리는 key값에 여러가지를 사용 할 수 있다. but key값에는 list, 딕셔너리, set은 사용할 수 없다.\n",
    "  # 또한 key는 고유한 값을 가진다.\n",
    "    \n",
    "# 틀린 부분을 고쳐보기 - >완료\n",
    "                  "
   ]
  },
  {
   "cell_type": "code",
   "execution_count": 62,
   "id": "c1674f94-642d-4c48-8fd4-81cc4789ec4a",
   "metadata": {},
   "outputs": [
    {
     "ename": "SyntaxError",
     "evalue": "invalid syntax (1484119064.py, line 3)",
     "output_type": "error",
     "traceback": [
      "\u001b[1;36m  File \u001b[1;32m\"C:\\Users\\Playdata\\AppData\\Local\\Temp\\ipykernel_5380\\1484119064.py\"\u001b[1;36m, line \u001b[1;32m3\u001b[0m\n\u001b[1;33m    print(list(map(type, dic_var.values())))\u001b[0m\n\u001b[1;37m    ^\u001b[0m\n\u001b[1;31mSyntaxError\u001b[0m\u001b[1;31m:\u001b[0m invalid syntax\n"
     ]
    }
   ],
   "source": [
    "dic_var = {\"key\": \"value\", 1:1, 1.1: 1.1, True: False, (\"key\", 1, 1.1, True): (\"key\", 1, 1.1, True), \"list\": [1,'가', 1.1, True, (1, '나')], \"dict\": {\"key\": \"value\", \"key2\": \"value2\"}, \"set\": {\"key\", \"value\"}\n",
    "\n",
    "print(list(map(type, dic_var.values())))      \n",
    "        \n",
    "# 틀린 부분 고치기"
   ]
  },
  {
   "cell_type": "code",
   "execution_count": 63,
   "id": "5a0a7ecd-509b-42a6-b14c-375e11166e27",
   "metadata": {},
   "outputs": [
    {
     "name": "stdout",
     "output_type": "stream",
     "text": [
      "{}\n",
      "<class 'dict'>\n"
     ]
    }
   ],
   "source": [
    "# 빈 딕셔너리 생성하기\n",
    "\n",
    "empty_dict = {}\n",
    "print(empty_dict)\n",
    "print(type(empty_dict))\n",
    "\n",
    "#set은 중괄호로 만든다. 하지만 중괄호가 비어 있으면 아무것도 인식이 안된다.\n",
    "# 따라서 set은 괄호를 빈것으로 만든다."
   ]
  },
  {
   "cell_type": "code",
   "execution_count": 64,
   "id": "07c87e93-4480-4f6e-bab1-68a3b9a685d2",
   "metadata": {},
   "outputs": [
    {
     "name": "stdout",
     "output_type": "stream",
     "text": [
      "{}\n",
      "<class 'dict'>\n"
     ]
    }
   ],
   "source": [
    "# 위의 자료와 비교하여 차이를 구분하는 것이 무엇인지 정확히 하기.\n",
    "\n",
    "empty_dict = dict()\n",
    "print(empty_dict)\n",
    "print(type(empty_dict))"
   ]
  },
  {
   "cell_type": "code",
   "execution_count": 66,
   "id": "4abd1904-d454-4aff-a471-07855155b204",
   "metadata": {},
   "outputs": [
    {
     "name": "stdout",
     "output_type": "stream",
     "text": [
      "{'key': 'value', 'key2': 'value2', 'key3': 'value3'}\n"
     ]
    }
   ],
   "source": [
    "#dict() 함수에 키워드 인자값을 활용하면 딕셔너리를 만들 수 있습니다.\n",
    "#함수에 사용하는 키워드 인자의 키워드 부분은 변수명처럼 따옴표(\",\")를 사용하지 않습니다.\n",
    "\n",
    "dict_a = dict(key=\"value\", key2=\"value2\", key3=\"value3\")\n",
    "print(dict_a)"
   ]
  },
  {
   "cell_type": "code",
   "execution_count": 69,
   "id": "d70bddd6-47ca-43e2-b481-9d4e083a636d",
   "metadata": {},
   "outputs": [
    {
     "name": "stdout",
     "output_type": "stream",
     "text": [
      "{'key': 'value', 'key2': 'value2', 'key3': 'value3'}\n"
     ]
    }
   ],
   "source": [
    "dict_b = dict(zip([\"key\",\"key2\",\"key3\"], [\"value\", \"value2\", \"value3\"]))\n",
    "print(dict_b)"
   ]
  },
  {
   "cell_type": "code",
   "execution_count": 75,
   "id": "67b335c0-1670-492e-ac84-cb80e3999137",
   "metadata": {},
   "outputs": [
    {
     "name": "stdout",
     "output_type": "stream",
     "text": [
      "[('key1', 'value1'), ('key2', 'value2'), ('key3', 'value3')]\n"
     ]
    }
   ],
   "source": [
    "keys = (\"key1\", \"key2\", \"key3\")\n",
    "values = (\"value1\", \"value2\", \"value3\")\n",
    "sam_list = []\n",
    "for index in range(len(keys)):\n",
    "    sam_list.append((keys[index], values[index]))\n",
    "print(sam_list)"
   ]
  },
  {
   "cell_type": "code",
   "execution_count": 76,
   "id": "46dee3ea-6530-4f28-ae32-e4a7376eec58",
   "metadata": {},
   "outputs": [
    {
     "name": "stdout",
     "output_type": "stream",
     "text": [
      "{'key': 'value', 'key2': 'value2', 'key3': 'value3'}\n",
      "value\n"
     ]
    }
   ],
   "source": [
    "print(dict_b)\n",
    "print(dict_b['key'])\n",
    "\n",
    "# key로 접근해서 value값을 가져온다."
   ]
  },
  {
   "cell_type": "code",
   "execution_count": 77,
   "id": "9ed1af95-d777-4879-8dc4-170399510d23",
   "metadata": {},
   "outputs": [
    {
     "name": "stdout",
     "output_type": "stream",
     "text": [
      "{'key': 'value', 'key2': 'value2', 'key3': 'value3'}\n",
      "{'key': 'super value', 'key2': 'value2', 'key3': 'value3'}\n"
     ]
    }
   ],
   "source": [
    "print(dict_b)\n",
    "dict_b['key'] = \"super value\"\n",
    "print(dict_b)"
   ]
  },
  {
   "cell_type": "code",
   "execution_count": 79,
   "id": "27c781a6-1d24-4cdc-bbf6-47d737e9488a",
   "metadata": {},
   "outputs": [
    {
     "name": "stdout",
     "output_type": "stream",
     "text": [
      "{'key': 'super value', 'key2': 'value2', 'key3': 'value3'}\n",
      "{'key': 'super value', 'key2': 'value2', 'key3': 'value3', 'new one': 'new value'}\n"
     ]
    }
   ],
   "source": [
    "print(dict_b)\n",
    "dict_b['new one'] = \"new value\"\n",
    "print(dict_b)"
   ]
  },
  {
   "cell_type": "code",
   "execution_count": 80,
   "id": "0b34ceb6-3cf9-4b5d-a8e7-1c2534b10ea7",
   "metadata": {},
   "outputs": [
    {
     "name": "stdout",
     "output_type": "stream",
     "text": [
      "{'key': 'super value', 'key2': 'value2', 'key3': 'value3', 'new one': 'new value'}\n"
     ]
    },
    {
     "ename": "KeyError",
     "evalue": "'없는 키'",
     "output_type": "error",
     "traceback": [
      "\u001b[1;31m---------------------------------------------------------------------------\u001b[0m",
      "\u001b[1;31mKeyError\u001b[0m                                  Traceback (most recent call last)",
      "\u001b[1;32m~\\AppData\\Local\\Temp\\ipykernel_5380\\3708490652.py\u001b[0m in \u001b[0;36m<module>\u001b[1;34m\u001b[0m\n\u001b[0;32m      1\u001b[0m \u001b[0mprint\u001b[0m\u001b[1;33m(\u001b[0m\u001b[0mdict_b\u001b[0m\u001b[1;33m)\u001b[0m\u001b[1;33m\u001b[0m\u001b[1;33m\u001b[0m\u001b[0m\n\u001b[1;32m----> 2\u001b[1;33m \u001b[0mprint\u001b[0m\u001b[1;33m(\u001b[0m\u001b[0mdict_b\u001b[0m\u001b[1;33m[\u001b[0m\u001b[1;34m'없는 키'\u001b[0m\u001b[1;33m]\u001b[0m\u001b[1;33m)\u001b[0m\u001b[1;33m\u001b[0m\u001b[1;33m\u001b[0m\u001b[0m\n\u001b[0m",
      "\u001b[1;31mKeyError\u001b[0m: '없는 키'"
     ]
    }
   ],
   "source": [
    "print(dict_b)\n",
    "print(dict_b['없는 키'])\n",
    "# 딕셔너리에 존재하지 않는 키를 접근하려면 KeyError가 발생합니다."
   ]
  },
  {
   "cell_type": "code",
   "execution_count": 82,
   "id": "06f27d16-a589-4cf6-9f8e-87f34eb070c4",
   "metadata": {},
   "outputs": [
    {
     "name": "stdout",
     "output_type": "stream",
     "text": [
      "{'key': 'super value', 'key2': 'value2', 'key3': 'value3', 'new one': 'new value'}\n",
      "True\n"
     ]
    }
   ],
   "source": [
    "print(dict_b)\n",
    "print('key' in dict_b)\n",
    "\n",
    "# in 연산자는 특정키가 존재하는지 확인할 때 사용하는 키이다.\n",
    "# vlues()의 시퀀스 형태의 자료가 존재하는 지를 통해서 값을 찾는 것이 가능하다.\n",
    "# '찾을 값' in dict_b.values() -> 코딩 명령어 사용해보기\n",
    " # 찾을 값은 value를 의미한다."
   ]
  },
  {
   "cell_type": "code",
   "execution_count": 83,
   "id": "6f4854a7-3f82-4d78-b351-0fcf226b6c64",
   "metadata": {},
   "outputs": [
    {
     "name": "stdout",
     "output_type": "stream",
     "text": [
      "{'key': 'super value', 'key2': 'value2', 'key3': 'value3', 'new one': 'new value'}\n",
      "{'key': 'super value', 'key2': 'value2', 'key3': 'value3'}\n"
     ]
    }
   ],
   "source": [
    "print(dict_b)\n",
    "del dict_b['new one']\n",
    "print(dict_b)"
   ]
  },
  {
   "cell_type": "code",
   "execution_count": 84,
   "id": "7f4f8860-3288-4364-ac2a-8966637d7c66",
   "metadata": {},
   "outputs": [
    {
     "name": "stdout",
     "output_type": "stream",
     "text": [
      "{'key': 'super value', 'key2': 'value2', 'key3': 'value3'}\n"
     ]
    },
    {
     "data": {
      "text/plain": [
       "3"
      ]
     },
     "execution_count": 84,
     "metadata": {},
     "output_type": "execute_result"
    }
   ],
   "source": [
    "print(dict_b)\n",
    "len(dict_b)"
   ]
  },
  {
   "cell_type": "code",
   "execution_count": 13,
   "id": "8125b4bc-61c6-40db-9ee0-878a801883f5",
   "metadata": {},
   "outputs": [
    {
     "name": "stdin",
     "output_type": "stream",
     "text": [
      "과일 이름을 입력해주세요 사과\n"
     ]
    },
    {
     "name": "stdout",
     "output_type": "stream",
     "text": [
      "사과 의 가격은 1000 원 입니다.\n"
     ]
    }
   ],
   "source": [
    "dic_var = {\"사과\": \"1000\", \"바나나\": \"700\", \"오렌지\": \"1500\", \"파인애플\":\"2000\"}\n",
    "# 자료의 이름과 순서로 리스트를 만든다는 개념이다.\n",
    "input_value = str(input(\"과일 이름을 입력해주세요\"))\n",
    "# 만들어진 자료에서 원하는 자료를 출력하는 설정하는 개념\n",
    "print(input_value,\"의\", \"가격은\", dic_var[input_value], \"원 입니다.\")\n",
    "# 원하는 자료를 출력하여 결과를 도출하는 과정이다.\n",
    "\n",
    "# 과일의 이름은 Key/ 가격은 Value\n",
    "\n",
    "# 강사님의 코딩 방식과 비슷하다. -> 지속적인 복습을 통해서 확실하게 이해하기\n",
    "# 딕셔너리는 비순서형이다(ex 책장에 책이 있는데 책의 이름은 있지만 순서가 마구잡이로 섞여 있는 상태이다. 따라서 책의 이름을 알고 잇기 떄문에 원하는 것을 찾을 수 있는 것이다.)\n",
    "# but 리스트는 순서형으로 이름은 없지만 순서대로 책이 책장에 들어가 있는 형태이다. 따라서 원하는 이름을 모르기 때문에 순서대로 찾아서 출력을 하는 것이다."
   ]
  },
  {
   "cell_type": "code",
   "execution_count": 144,
   "id": "78cf53cf-b7fb-4dcc-b48c-f19ef490bf81",
   "metadata": {},
   "outputs": [
    {
     "name": "stdin",
     "output_type": "stream",
     "text": [
      "과일 이름을 입력해주세요 사과\n"
     ]
    },
    {
     "ename": "TypeError",
     "evalue": "unhashable type: 'list'",
     "output_type": "error",
     "traceback": [
      "\u001b[1;31m---------------------------------------------------------------------------\u001b[0m",
      "\u001b[1;31mTypeError\u001b[0m                                 Traceback (most recent call last)",
      "\u001b[1;32m~\\AppData\\Local\\Temp\\ipykernel_6268\\631402812.py\u001b[0m in \u001b[0;36m<module>\u001b[1;34m\u001b[0m\n\u001b[0;32m      1\u001b[0m \u001b[0mdic_var\u001b[0m \u001b[1;33m=\u001b[0m \u001b[1;33m{\u001b[0m\u001b[1;34m\"사과\"\u001b[0m \u001b[1;33m:\u001b[0m \u001b[1;34m\"1000\"\u001b[0m\u001b[1;33m,\u001b[0m \u001b[1;34m\"바나나\"\u001b[0m \u001b[1;33m:\u001b[0m \u001b[1;34m\"700\"\u001b[0m\u001b[1;33m,\u001b[0m \u001b[1;34m\"오렌지\"\u001b[0m \u001b[1;33m:\u001b[0m \u001b[1;34m\"1500\"\u001b[0m\u001b[1;33m,\u001b[0m \u001b[1;34m\"파인애플\"\u001b[0m \u001b[1;33m:\u001b[0m\u001b[1;34m\"2000\"\u001b[0m\u001b[1;33m}\u001b[0m\u001b[1;33m\u001b[0m\u001b[1;33m\u001b[0m\u001b[0m\n\u001b[0;32m      2\u001b[0m \u001b[0mimput_value\u001b[0m \u001b[1;33m=\u001b[0m \u001b[0mstr\u001b[0m\u001b[1;33m(\u001b[0m\u001b[0minput\u001b[0m\u001b[1;33m(\u001b[0m\u001b[1;34m\"과일 이름을 입력해주세요\"\u001b[0m\u001b[1;33m)\u001b[0m\u001b[1;33m)\u001b[0m\u001b[1;33m\u001b[0m\u001b[1;33m\u001b[0m\u001b[0m\n\u001b[1;32m----> 3\u001b[1;33m \u001b[0mprint\u001b[0m\u001b[1;33m(\u001b[0m\u001b[0minput_value\u001b[0m\u001b[1;33m,\u001b[0m \u001b[1;34m\"의 가격은\"\u001b[0m\u001b[1;33m,\u001b[0m \u001b[0mdic_var\u001b[0m\u001b[1;33m[\u001b[0m\u001b[0minput_value\u001b[0m\u001b[1;33m]\u001b[0m\u001b[1;33m,\u001b[0m \u001b[1;34m\"원 입니다.\"\u001b[0m\u001b[1;33m)\u001b[0m\u001b[1;33m\u001b[0m\u001b[1;33m\u001b[0m\u001b[0m\n\u001b[0m",
      "\u001b[1;31mTypeError\u001b[0m: unhashable type: 'list'"
     ]
    }
   ],
   "source": [
    "dic_var = {\"사과\" : \"1000\", \"바나나\" : \"700\", \"오렌지\" : \"1500\", \"파인애플\" :\"2000\"}\n",
    "imput_value = str(input(\"과일 이름을 입력해주세요\"))\n",
    "print(input_value, \"의 가격은\", dic_var[input_value], \"원 입니다.\")\n",
    "\n",
    "# 저녁에 복습하면서 다시 한것 - > 틀린부분은 찾아서 수정 해보기"
   ]
  },
  {
   "cell_type": "code",
   "execution_count": 145,
   "id": "468c5262-65ce-442e-a31c-042293c99f47",
   "metadata": {},
   "outputs": [
    {
     "name": "stdout",
     "output_type": "stream",
     "text": [
      "실행 결과\n"
     ]
    },
    {
     "name": "stdin",
     "output_type": "stream",
     "text": [
      "이름을 기입해주세요 뽀로로 루피 크롱 스누피\n",
      "몸무게를 입력해주세요 20.4 16.2 22.3 5.2\n"
     ]
    },
    {
     "name": "stdout",
     "output_type": "stream",
     "text": [
      "['뽀로로', '루피', '크롱', '스누피'] <map object at 0x000001F5C1883250>\n"
     ]
    },
    {
     "data": {
      "text/plain": [
       "{'뽀로로': 20.4, '루피': 16.2, '크롱': 22.3, '스누피': 5.2}"
      ]
     },
     "execution_count": 145,
     "metadata": {},
     "output_type": "execute_result"
    }
   ],
   "source": [
    "dic_var = {\"뽀로로\": \"20.4\", \"루피\": \"16.2\", \"크롱\": \"22.3\", \"스누피\": \"5.2\"}\n",
    "print(\"실행 결과\")\n",
    "input_value = input(\"이름을 기입해주세요\").split()\n",
    "input_value1 = map(float, input(\"몸무게를 입력해주세요\").split())\n",
    "print(input_value, input_value1)\n",
    "\n",
    "dict(zip(input_value, input_value1))\n",
    "# map, split 함수의 의미를 정확하게 알고 사용할 줄 알아야 한다.\n",
    "# 정확하게 다시 해보고 오류 수정 해보기(야간 복습 상황에서 오류 발생)"
   ]
  },
  {
   "cell_type": "code",
   "execution_count": 48,
   "id": "de1ca6be-1e2f-40fc-80a5-68c8c20aaca7",
   "metadata": {},
   "outputs": [
    {
     "name": "stdin",
     "output_type": "stream",
     "text": [
      "이름을 기입해주세요. 뽀로로 루피 크롱 스누피\n",
      "몸무게를 입력해주세요. 20.4 16.2 22.3 5.2\n"
     ]
    },
    {
     "name": "stdout",
     "output_type": "stream",
     "text": [
      "{'뽀로로': 20.4, '루피': 16.2, '크롱': 22.3, '스누피': 5.2}\n"
     ]
    }
   ],
   "source": [
    "names = input('이름을 기입해주세요.').split()\n",
    "weights = map(float, input('몸무게를 입력해주세요.').split())\n",
    "# map이라는 함수는 인수를 개별적으로 적용한다는 의미이다.\n",
    "# list는 순서대로 출력이 되지만 map는 그냥 출력을 한다는 개념이다(확인 해보기 !!!)\n",
    "# 함수의 형태 - > 함수명(인수, 인수)\n",
    "# 메서드의 형태 - > 대상. 메서드명(인수, 인수)\n",
    "\n",
    "dict_info = dict(zip(names, weights))\n",
    "print(dict_info)"
   ]
  },
  {
   "cell_type": "code",
   "execution_count": null,
   "id": "5d27c9dc-739c-4583-9e72-34c627dcaa84",
   "metadata": {},
   "outputs": [],
   "source": [
    "# 23-02-17(오후 수업 자료)\n",
    "\n",
    "# 딕셔너리 자료형은 비시퀀스 자료형 입니다.\n",
    "# 대신 이자료형은 고유의 Key값을 가지게 됩니다. 즉 key와 value는 서로 1:1 매칭이 되는 것입니다.\n",
    "# 특정 값에 접근 할 수 있는 순서가 없는 만큼 인덱스를 붙일 수는 없습니다.\n",
    "# Key: value -> key-value pair( 이 구조를 확실하게 익혀두기) - > 중괄호를 사용한다(주의!!)\n",
    "# key는 중복되서 가지지 않는다. 또한 값이 변경되는 것은 Key로 사용이 불가능하다 하지만 튜플(값이 변화하지 않는)은 가능하다.\n",
    "# dict()로 함수 생성하기\n",
    " # 키워드 변수명처럼(\" , \")를 사용하지 않는다. \n",
    "   #-> ((key, value), (key, value), ....) \n",
    " # zip이라는 함수는 특정 변수를 그룹으로 묶어주는 역할을 한다.\n",
    "# 키로 값에 접근하는 방법 - > print(dict_b)\n",
    "                        #- > print(dict_b['key'])\n",
    "# 키로 값을 변경하기 - > print(dict_b)\n",
    "                   # - > dict_b['new one'] = \"new value\"\n",
    "                   # print(dict_b['없는 키'])\n"
   ]
  },
  {
   "cell_type": "code",
   "execution_count": null,
   "id": "6cc9880a-82ae-44e2-b4e3-ab5229782b27",
   "metadata": {},
   "outputs": [],
   "source": [
    "# list 생성 방법 - 대괄호 사용(기본적으로) 그리고 콤마로 구분한다.\n",
    "# 리스트의 자료형은 class 'list'라고 부르며 list 클래스로 만들어진 객체라는 의미입니다.\n",
    "# list에 대해서만 쓸수 있는 메서드가 있다.(기존 강의 표로 정리 되었다)\n",
    "# 빈 리스트 생성시 대괄호만 쓰거나 인자없이 list() 함수를 사용하면 돤다.\n",
    "# 리스트 생성방법 - 문자열.split()\n",
    "# 컴프리헨션 방식\n",
    " # list_variable = [ expression for 변수 in interable] -> 문장의 끝에 콜론이 없다.\n",
    "  #     "
   ]
  },
  {
   "cell_type": "code",
   "execution_count": 49,
   "id": "9e30ecfc-94cf-4c8a-9704-213a428d1795",
   "metadata": {},
   "outputs": [
    {
     "data": {
      "text/plain": [
       "[0, 1, 4, 9, 16, 25, 36, 49, 64, 81]"
      ]
     },
     "execution_count": 49,
     "metadata": {},
     "output_type": "execute_result"
    }
   ],
   "source": [
    "# list comprehension\n",
    "# list : [0, 1, 2, ...,9]\n",
    "[i**2 for i in list(range(10))]\n",
    "# 0~9까지의 변수를 각각 제곱해서 구한다.\n",
    "# list를 간편하게 만들 수 있는 방법\n",
    "# list-variable = [ experssion for 변수 in interable]\n",
    "# list는 위의 명령문(코딩)으로 만들기"
   ]
  },
  {
   "cell_type": "code",
   "execution_count": 50,
   "id": "d63941c1-0870-4c5f-823e-cc42cdc6aa41",
   "metadata": {},
   "outputs": [
    {
     "name": "stdout",
     "output_type": "stream",
     "text": [
      "[1, 2, 3, 4, 5, 6, 7, 8, 9]\n"
     ]
    }
   ],
   "source": [
    "list_c = [i for i in range(1, 10)] # 옆의 방식이 list comprehension 방식이다.\n",
    "print(list_c)"
   ]
  },
  {
   "cell_type": "code",
   "execution_count": 52,
   "id": "f84ed43c-3c49-4e43-b393-ddca17311fbb",
   "metadata": {},
   "outputs": [
    {
     "name": "stdout",
     "output_type": "stream",
     "text": [
      "<class 'list'>\n",
      "[1, 4, 9, 16, 25, 36, 49, 64, 81]\n"
     ]
    }
   ],
   "source": [
    "prac_result = [i**2 for i in list(range(1, 10))]\n",
    "print(type(prac_result))\n",
    "print(prac_result)\n",
    "\n",
    "# 강사님 방식의 코딩과 일치"
   ]
  },
  {
   "cell_type": "code",
   "execution_count": 54,
   "id": "5b6ae54d-cf14-42ad-a8d8-7ed6c7c0db47",
   "metadata": {},
   "outputs": [
    {
     "name": "stdout",
     "output_type": "stream",
     "text": [
      "<class 'list'>\n",
      "[1, 4, 9, 16, 25, 36, 49, 64, 81]\n"
     ]
    }
   ],
   "source": [
    "prac_result = [i*i for i in list(range(1, 10))]\n",
    "print(type(prac_result))\n",
    "print(prac_result)\n",
    "\n",
    "# 강사님 방식의 코딩"
   ]
  },
  {
   "cell_type": "code",
   "execution_count": 66,
   "id": "c6a0871b-68f5-4c1e-9ac1-e329cb8d9d83",
   "metadata": {},
   "outputs": [
    {
     "name": "stdout",
     "output_type": "stream",
     "text": [
      "<class 'list'>\n",
      "[1, 3, 5, 7, 9]\n"
     ]
    }
   ],
   "source": [
    "prac_result = [i for i in list(range(1, 10, 2))]\n",
    "print(type(prac_result))\n",
    "print(prac_result)"
   ]
  },
  {
   "cell_type": "code",
   "execution_count": 79,
   "id": "14891ce2-1222-4a9e-b3b7-c5fcb99cf1b6",
   "metadata": {},
   "outputs": [
    {
     "name": "stdout",
     "output_type": "stream",
     "text": [
      "<class 'list'>\n",
      "['a', 'b', 'c', 'd', 'e', 'f', 'g', 'h', 'i', 'j', 'k', 'l', 'm', 'n', 'o', 'p', 'q', 'r', 's', 't', 'u', 'v', 'w', 'x', 'y', 'z']\n"
     ]
    }
   ],
   "source": [
    "prac_result = [i for i in 'abcdefghijklmnopqrstuvwxyz']\n",
    "print(type(prac_result))\n",
    "print(prac_result)"
   ]
  },
  {
   "cell_type": "code",
   "execution_count": 98,
   "id": "4d08f75f-c3d0-4dd1-bbde-95f3a2a82c82",
   "metadata": {},
   "outputs": [
    {
     "name": "stdout",
     "output_type": "stream",
     "text": [
      "<class 'list'>\n",
      "[2, 3, 4, 5, 6, 7, 8, 9, 10] ['J', 'Q', 'K', 'A']\n"
     ]
    }
   ],
   "source": [
    "prac_result1 = [i for i in list(range(2, 11))]\n",
    "prac_result2 = [i for i in 'JQKA']\n",
    "print(type(prac_result))\n",
    "print(prac_result1, prac_result2)"
   ]
  },
  {
   "cell_type": "code",
   "execution_count": 103,
   "id": "5e7f504b-83f7-4945-a40e-7d329eef8c2b",
   "metadata": {},
   "outputs": [
    {
     "name": "stdout",
     "output_type": "stream",
     "text": [
      "['2', '3', '4', '5', '6', '7', '8', '9', '10', 'J', 'Q', 'K', 'A']\n"
     ]
    }
   ],
   "source": [
    "prac_result4 =[str(i) for i in range(2, 11)] + [ i for i in 'JQKA']\n",
    "print(prac_result4)"
   ]
  },
  {
   "cell_type": "code",
   "execution_count": 106,
   "id": "c8b14485-ad07-438f-9865-e5aced09ae20",
   "metadata": {},
   "outputs": [
    {
     "name": "stdout",
     "output_type": "stream",
     "text": [
      "[['2', '3', '4', '5', '6', '7', '8', '9', '10', 'J', 'Q', 'K', 'A', '2', '3', '4', '5', '6', '7', '8', '9', '10', 'J', 'Q', 'K', 'A', '2', '3', '4', '5', '6', '7', '8', '9', '10', 'J', 'Q', 'K', 'A', '2', '3', '4', '5', '6', '7', '8', '9', '10', 'J', 'Q', 'K', 'A']]\n"
     ]
    }
   ],
   "source": [
    "prac_result5 = [([str(i) for i in range(2, 11)] + [ i for i in 'JQKA']) *4]\n",
    "print(prac_result5)\n",
    "# 나의 방식의 코딩"
   ]
  },
  {
   "cell_type": "code",
   "execution_count": 107,
   "id": "b4f7ce7f-673d-4a29-9d12-f75753660e2a",
   "metadata": {},
   "outputs": [
    {
     "name": "stdout",
     "output_type": "stream",
     "text": [
      "[['2', '3', '4', '5', '6', '7', '8', '9', '10', 'J', 'Q', 'K', 'A'], ['2', '3', '4', '5', '6', '7', '8', '9', '10', 'J', 'Q', 'K', 'A'], ['2', '3', '4', '5', '6', '7', '8', '9', '10', 'J', 'Q', 'K', 'A'], ['2', '3', '4', '5', '6', '7', '8', '9', '10', 'J', 'Q', 'K', 'A']]\n"
     ]
    }
   ],
   "source": [
    "prac_result5 = [prac_result4 for _ in range(4)]\n",
    "print(prac_result5)\n",
    "# 강사님 방식의 코딩"
   ]
  },
  {
   "cell_type": "code",
   "execution_count": 109,
   "id": "c52ee4f9-008d-48ed-9660-dc9feeeaa5c7",
   "metadata": {},
   "outputs": [
    {
     "name": "stdout",
     "output_type": "stream",
     "text": [
      "['two', '3', '4', '5', '6', '7', '8', '9', '10', 'J', 'Q', 'K', 'A']\n"
     ]
    }
   ],
   "source": [
    "prac_result4[0] = 'two'\n",
    "print(prac_result4)"
   ]
  },
  {
   "cell_type": "code",
   "execution_count": 110,
   "id": "92eff975-4be9-401b-8729-a883f3d541cf",
   "metadata": {},
   "outputs": [
    {
     "name": "stdout",
     "output_type": "stream",
     "text": [
      "[['two', '3', '4', '5', '6', '7', '8', '9', '10', 'J', 'Q', 'K', 'A'], ['two', '3', '4', '5', '6', '7', '8', '9', '10', 'J', 'Q', 'K', 'A'], ['two', '3', '4', '5', '6', '7', '8', '9', '10', 'J', 'Q', 'K', 'A'], ['two', '3', '4', '5', '6', '7', '8', '9', '10', 'J', 'Q', 'K', 'A']]\n"
     ]
    }
   ],
   "source": [
    "print(prac_result5)\n",
    "# prac_result4이 4번 반복되었다."
   ]
  },
  {
   "cell_type": "code",
   "execution_count": null,
   "id": "9b8634c5-0914-4e53-9304-ad1f324d0f72",
   "metadata": {},
   "outputs": [],
   "source": [
    "# 파이썬은 순수 객체 지향이다.\n",
    "# 메모리는 bit들의 수많은 집합이다.\n",
    "# 메모리는 고유한 주소를 갖습니다. 주소를 통해서 접근이 가능합니다."
   ]
  },
  {
   "cell_type": "code",
   "execution_count": 115,
   "id": "ed55158c-2625-4e47-88ce-bc9de9e00933",
   "metadata": {},
   "outputs": [
    {
     "name": "stdout",
     "output_type": "stream",
     "text": [
      "prac_result4의 id: 2155026839616\n"
     ]
    },
    {
     "ename": "NameError",
     "evalue": "name 'prinnt' is not defined",
     "output_type": "error",
     "traceback": [
      "\u001b[1;31m---------------------------------------------------------------------------\u001b[0m",
      "\u001b[1;31mNameError\u001b[0m                                 Traceback (most recent call last)",
      "\u001b[1;32m~\\AppData\\Local\\Temp\\ipykernel_6268\\544023123.py\u001b[0m in \u001b[0;36m<module>\u001b[1;34m\u001b[0m\n\u001b[0;32m      2\u001b[0m \u001b[1;33m\u001b[0m\u001b[0m\n\u001b[0;32m      3\u001b[0m \u001b[1;32mfor\u001b[0m \u001b[0mi\u001b[0m\u001b[1;33m,\u001b[0m \u001b[0mv\u001b[0m \u001b[1;32min\u001b[0m \u001b[0menumerate\u001b[0m\u001b[1;33m(\u001b[0m\u001b[0mprac_result5\u001b[0m\u001b[1;33m)\u001b[0m\u001b[1;33m:\u001b[0m\u001b[1;33m\u001b[0m\u001b[1;33m\u001b[0m\u001b[0m\n\u001b[1;32m----> 4\u001b[1;33m       \u001b[0mprinnt\u001b[0m\u001b[1;33m(\u001b[0m\u001b[1;34m\"prac_result5[\"\u001b[0m\u001b[1;33m,\u001b[0m \u001b[0mi\u001b[0m\u001b[1;33m,\u001b[0m \u001b[1;34m\"] : \"\u001b[0m\u001b[1;33m,\u001b[0m \u001b[0mid\u001b[0m\u001b[1;33m(\u001b[0m\u001b[0mv\u001b[0m\u001b[1;33m)\u001b[0m\u001b[1;33m,\u001b[0m \u001b[0msep\u001b[0m\u001b[1;33m=\u001b[0m\u001b[1;34m\"\"\u001b[0m\u001b[1;33m)\u001b[0m\u001b[1;33m\u001b[0m\u001b[1;33m\u001b[0m\u001b[0m\n\u001b[0m",
      "\u001b[1;31mNameError\u001b[0m: name 'prinnt' is not defined"
     ]
    }
   ],
   "source": [
    "print(\"prac_result4의 id:\", id(prac_result4))\n",
    "      \n",
    "for i, v in enumerate(prac_result5):\n",
    "      prinnt(\"prac_result5[\", i, \"] : \", id(v), sep=\"\")\n",
    "# 슬라이드 보고 다시 연습하기"
   ]
  },
  {
   "cell_type": "code",
   "execution_count": 116,
   "id": "936ee180-aba7-4219-992f-9a1e12860724",
   "metadata": {},
   "outputs": [],
   "source": [
    "test = [i for i in range(10)]"
   ]
  },
  {
   "cell_type": "code",
   "execution_count": 117,
   "id": "b5753506-73a5-4641-8e67-4d0fa3d03656",
   "metadata": {},
   "outputs": [
    {
     "data": {
      "text/plain": [
       "[0, 1, 2, 3, 4, 5, 6, 7, 8, 9]"
      ]
     },
     "execution_count": 117,
     "metadata": {},
     "output_type": "execute_result"
    }
   ],
   "source": [
    "test"
   ]
  },
  {
   "cell_type": "code",
   "execution_count": 118,
   "id": "125c1e61-ec27-479e-afc8-32aba68f2e35",
   "metadata": {},
   "outputs": [
    {
     "data": {
      "text/plain": [
       "[0, 1, 2, 3, 4, 5, 6, 7, 8, 9]"
      ]
     },
     "execution_count": 118,
     "metadata": {},
     "output_type": "execute_result"
    }
   ],
   "source": [
    "test[:]"
   ]
  },
  {
   "cell_type": "code",
   "execution_count": 119,
   "id": "8a1ed609-ea61-4447-9b9b-25281f68a996",
   "metadata": {},
   "outputs": [
    {
     "data": {
      "text/plain": [
       "list"
      ]
     },
     "execution_count": 119,
     "metadata": {},
     "output_type": "execute_result"
    }
   ],
   "source": [
    "type(test)"
   ]
  },
  {
   "cell_type": "code",
   "execution_count": 121,
   "id": "f12cf80f-a415-40e8-910d-81940a52df48",
   "metadata": {},
   "outputs": [],
   "source": [
    "test2 = tuple(test)"
   ]
  },
  {
   "cell_type": "code",
   "execution_count": 122,
   "id": "d47bfa11-28d5-4a48-ba71-d8a0e0eab869",
   "metadata": {},
   "outputs": [
    {
     "data": {
      "text/plain": [
       "tuple"
      ]
     },
     "execution_count": 122,
     "metadata": {},
     "output_type": "execute_result"
    }
   ],
   "source": [
    "type(test2)"
   ]
  },
  {
   "cell_type": "code",
   "execution_count": 123,
   "id": "a3dc9212-79fa-46e4-bb0a-593c6fd69c54",
   "metadata": {},
   "outputs": [
    {
     "data": {
      "text/plain": [
       "(0, 1)"
      ]
     },
     "execution_count": 123,
     "metadata": {},
     "output_type": "execute_result"
    }
   ],
   "source": [
    "test2[:2]"
   ]
  },
  {
   "cell_type": "code",
   "execution_count": null,
   "id": "0aede708-0921-4400-b501-533ec4c6fcc1",
   "metadata": {},
   "outputs": [],
   "source": [
    "# 리스트 변수명[:] 으로 전체를 동일하게 가져오는, 즉 슬라이싱으로 반환받는 리슽 객체는 과연 같은 개체 일가요?\n"
   ]
  },
  {
   "cell_type": "code",
   "execution_count": 124,
   "id": "a53c4d41-54fd-45bc-afcc-1e285c90a94a",
   "metadata": {},
   "outputs": [
    {
     "name": "stdout",
     "output_type": "stream",
     "text": [
      "prac_reault4의 id: 2155026839616\n",
      "prac_result6[0] : 2155026875264\n",
      "prac_result6[1] : 2155026820480\n",
      "prac_result6[2] : 2155025851008\n",
      "prac_result6[3] : 2155026838208\n"
     ]
    }
   ],
   "source": [
    "prac_result6 = [prac_result4[:] for _ in range(4)]\n",
    "\n",
    "print(\"prac_reault4의 id:\", id(prac_result4))\n",
    "for i, v in enumerate(prac_result6):\n",
    "    print(\"prac_result6[\", i, \"] : \", id(v), sep=\"\")"
   ]
  },
  {
   "cell_type": "code",
   "execution_count": 125,
   "id": "fc5cdfb0-4820-47cc-b7e2-50204aa9ec9a",
   "metadata": {},
   "outputs": [
    {
     "name": "stdout",
     "output_type": "stream",
     "text": [
      "2155026839488\n",
      "2155025851776\n",
      "False\n",
      "True\n"
     ]
    }
   ],
   "source": [
    "# [1, 2, 3, 4, 5, 6, 7, 8, 9]\n",
    "old_list = list(range(10))\n",
    "new_list = old_list[:]\n",
    "\n",
    "print(id(old_list))\n",
    "print(id(new_list))\n",
    "# 슬라이싱으로 가져온 값은 같아보이지만 실제 의미는 다르다\n",
    "print(old_list is new_list)\n",
    "print(old_list == new_list)\n",
    "# is 와 == 의 의미 차이를 정확하게 구분하기\n",
    "\n",
    "# old list와 new list는 결과값은 같다. 하지만 둘이 일치하는 것은 아니다.\n",
    "# 따라서 결과값은 같지만 실제로 old_list와 new_list가 의미하는 값은 다른 것이다."
   ]
  },
  {
   "cell_type": "code",
   "execution_count": 126,
   "id": "87871205-4bf3-4942-be16-4a8bc8e7bed3",
   "metadata": {},
   "outputs": [
    {
     "name": "stdout",
     "output_type": "stream",
     "text": [
      "True\n"
     ]
    }
   ],
   "source": [
    "old_str = \"abcd\"\n",
    "new_str = old_str[:]\n",
    "\n",
    "print(old_str is new_str)\n",
    "#위의 결과값과 차이를 구분하기(튜플과 str의 차이를 구분하기)"
   ]
  },
  {
   "cell_type": "code",
   "execution_count": 127,
   "id": "1c98f3ef-00d5-4ff8-93ac-06fe1e04ea23",
   "metadata": {},
   "outputs": [
    {
     "name": "stdout",
     "output_type": "stream",
     "text": [
      "[0, 1, 8, 27, 64, 125, 216, 343, 512, 729]\n"
     ]
    }
   ],
   "source": [
    "# 리스트 컴프리헨션과는 방식이 다르다.\n",
    "list_d = list(i**3 for i in range(10))\n",
    "print(list_d)"
   ]
  },
  {
   "cell_type": "code",
   "execution_count": 128,
   "id": "f43eb215-ef51-48d3-9ee2-ab7e3c83849e",
   "metadata": {},
   "outputs": [
    {
     "name": "stdout",
     "output_type": "stream",
     "text": [
      "[0, 1, 2, 3, 4, 5, 6, 7, 8, 9]\n"
     ]
    }
   ],
   "source": [
    "list_e = [i for i in range(10)]\n",
    "print(list_e)"
   ]
  },
  {
   "cell_type": "code",
   "execution_count": 129,
   "id": "0250e860-7648-470e-a39e-0b3fef3ba5bb",
   "metadata": {},
   "outputs": [],
   "source": [
    "list_f = list_e"
   ]
  },
  {
   "cell_type": "code",
   "execution_count": 130,
   "id": "db4eae0b-1a35-4086-adff-5ee86ac52e7e",
   "metadata": {},
   "outputs": [
    {
     "name": "stdout",
     "output_type": "stream",
     "text": [
      "[0, 1, 2, 3, 4, 5, 6, 7, 8, 9]\n"
     ]
    }
   ],
   "source": [
    "print(list_f)"
   ]
  },
  {
   "cell_type": "code",
   "execution_count": 132,
   "id": "4706aec4-9187-4fbd-a662-7bea505e24e6",
   "metadata": {},
   "outputs": [
    {
     "name": "stdout",
     "output_type": "stream",
     "text": [
      "2155026875456\n",
      "2155026875456\n"
     ]
    }
   ],
   "source": [
    "print(id(list_e))\n",
    "print(id(list_f))"
   ]
  },
  {
   "cell_type": "code",
   "execution_count": 133,
   "id": "9f89a2b4-fc66-473e-a61a-5ba7a3d0edd5",
   "metadata": {},
   "outputs": [
    {
     "ename": "SyntaxError",
     "evalue": "invalid syntax (920416509.py, line 2)",
     "output_type": "error",
     "traceback": [
      "\u001b[1;36m  File \u001b[1;32m\"C:\\Users\\Playdata\\AppData\\Local\\Temp\\ipykernel_6268\\920416509.py\"\u001b[1;36m, line \u001b[1;32m2\u001b[0m\n\u001b[1;33m    list_h = list_g.copy()\u001b[0m\n\u001b[1;37m    ^\u001b[0m\n\u001b[1;31mSyntaxError\u001b[0m\u001b[1;31m:\u001b[0m invalid syntax\n"
     ]
    }
   ],
   "source": [
    "list_g = list(range(10)\n",
    "list_h = list_g.copy()\n",
    "print(id(list_g))\n",
    "print(id(list_h))\n",
    "print(list_g is list_h)"
   ]
  },
  {
   "cell_type": "code",
   "execution_count": 134,
   "id": "66d795f4-4fa0-45cf-a407-39ae8d435858",
   "metadata": {},
   "outputs": [
    {
     "ename": "NameError",
     "evalue": "name 'list_g' is not defined",
     "output_type": "error",
     "traceback": [
      "\u001b[1;31m---------------------------------------------------------------------------\u001b[0m",
      "\u001b[1;31mNameError\u001b[0m                                 Traceback (most recent call last)",
      "\u001b[1;32m~\\AppData\\Local\\Temp\\ipykernel_6268\\226585091.py\u001b[0m in \u001b[0;36m<module>\u001b[1;34m\u001b[0m\n\u001b[1;32m----> 1\u001b[1;33m \u001b[0mlist_g\u001b[0m\u001b[1;33m[\u001b[0m\u001b[1;36m0\u001b[0m\u001b[1;33m]\u001b[0m \u001b[1;33m=\u001b[0m \u001b[1;36m999\u001b[0m\u001b[1;33m\u001b[0m\u001b[1;33m\u001b[0m\u001b[0m\n\u001b[0m\u001b[0;32m      2\u001b[0m \u001b[0mprint\u001b[0m\u001b[1;33m(\u001b[0m\u001b[0mlist_g\u001b[0m\u001b[1;33m)\u001b[0m\u001b[1;33m\u001b[0m\u001b[1;33m\u001b[0m\u001b[0m\n\u001b[0;32m      3\u001b[0m \u001b[0mprint\u001b[0m\u001b[1;33m(\u001b[0m\u001b[0mlist_h\u001b[0m\u001b[1;33m)\u001b[0m\u001b[1;33m\u001b[0m\u001b[1;33m\u001b[0m\u001b[0m\n",
      "\u001b[1;31mNameError\u001b[0m: name 'list_g' is not defined"
     ]
    }
   ],
   "source": [
    "list_g[0] = 999\n",
    "print(list_g)\n",
    "print(list_h)"
   ]
  },
  {
   "cell_type": "code",
   "execution_count": 135,
   "id": "e8187cc4-0389-49ce-a987-4d357854e99c",
   "metadata": {},
   "outputs": [],
   "source": [
    "# 얕은 복사, 리스트에 에스터리스크(*)를 사용하면 얕은 복사가 된다.\n",
    "list_i = [[0]] * 3"
   ]
  },
  {
   "cell_type": "code",
   "execution_count": 136,
   "id": "ec44bc31-4c61-41c6-a493-c8b99b36ec21",
   "metadata": {},
   "outputs": [
    {
     "name": "stdout",
     "output_type": "stream",
     "text": [
      "[[0], [0], [0]]\n"
     ]
    }
   ],
   "source": [
    "print(list_i)"
   ]
  },
  {
   "cell_type": "code",
   "execution_count": 138,
   "id": "5df155fc-faa5-4a85-a99b-76b109b3b5eb",
   "metadata": {},
   "outputs": [],
   "source": [
    "list_i[0][0] = 999"
   ]
  },
  {
   "cell_type": "code",
   "execution_count": 139,
   "id": "b292c574-2207-4761-aeca-9a04e2cda357",
   "metadata": {},
   "outputs": [
    {
     "name": "stdout",
     "output_type": "stream",
     "text": [
      "[[999], [999], [999]]\n"
     ]
    }
   ],
   "source": [
    "print(list_i)"
   ]
  },
  {
   "cell_type": "code",
   "execution_count": null,
   "id": "080a03b6-d180-4d26-800a-530f0e1bf4e5",
   "metadata": {},
   "outputs": [],
   "source": [
    "#<Day1 복습>\n",
    "# 변수의 이름은 따옴표 없이 만든다. 따옴표 안의 문자열은 리터럴 입니다.\n",
    "# 리터럴은 X=1로 값 그자체를 의미한다. 여기서 등호는 대입연산자의 의미이다.\n",
    "#  X=1의 의미 : x라는 변수가 뒤의 입력값을 가지고 있다.\n",
    "# Print(x) 의 x는 Argument라는 의미이다.\n",
    "# 계산기 처럼 연산자를 이용하기 - > 덧셈, 뺄셈, 곱셈은 항상 정수 but 나누기는 항상 실수가 나온다.(표현범위가 넓은 값으로 표현가능하다)\n",
    "# 몫을 구하기 : //, 나머지 구하기 : %, 거듭제곱 : **, \n",
    "# int(정수로 변환), float(실수로 변환)\n",
    "\n",
    "#<Day2 복습>\n",
    "# \\ 는 문자 그대로 출력한다는 의미이다.\n",
    "# \\\"t는 줄바꿈의 의미이다.\n",
    "# 시퀀스 자료형\n",
    " #- > str불변 따옴표로 표현/ list가변 대괄호로 표현/ tuple는 소괄호/ range는 숫자의 범위 표현에 주로 사용\n",
    " # 인뎃스는 영의 숫자와 음의 숫자의 의미가 다르다.\n",
    "# 슬라이싱 - > 범위에 대해서 해당요소를 가져오는 방법이다./\n",
    "# 문자열은 시퀀스 자료형 중 불변의 특징을 가진다.\n",
    "# list는 가장 융통성이 있는 자료형 중 하나이다. 가변의 특성을 가지고 있어서 변경이 용이하다.\n",
    "\n",
    "#<Day 3복습>\n",
    "# 함수이름(arg1, arg2, ...)\n",
    "# 메서드는 함수와 차이가 있다. 차이를 정확히 구분해서 이해하고 넘어가기\n",
    "# MAP이라는 함수를 통해서 각각의 요소에 대해서 함수를 적용 가능하다.\n",
    "# split는 종류를 나누는 기능이 있다.\n",
    "# if문은 특정 조건이 되는 경우 실행하는 것이다. 뒤에 콜론을 붙이고 아래에서는 들여쓰기를 실행한다.\n",
    "# if문은 논리 연산자를 사용한다. AND, OR을 사용한다. elif는 옆에 조건식이 필요하다.\n",
    "# if 와 elif는 겹치는 부분이 있는 경우 순서가 바뀌면 결과가 바뀔수 있다.\n",
    "# if는 중첩이 되는 경우 들여쓰기를 하여서 쓴다.\n",
    "\n",
    "# <Day4 복습>\n",
    "# 연속되는 정수를 생성시 range함수를 사용하기\n",
    "# range는 interate할 때 원하는 시퀀스 항목들을 순서대로 불러낸다.\n",
    "# list_varialbe = '[ expression for 변수 in iterable]\n",
    "# 얕은 복사는 리스트 내에 있는 값을 그대로 복사한다, 리스트 요소 중 메모리 주소를 담고 있는 참조 변수는 객체 주소만 복사해온다.\n",
    " # 리스트는 단 하나의 요소만 변경해도 모든 요소의 값이 변경된다. \n",
    " # "
   ]
  },
  {
   "cell_type": "code",
   "execution_count": 5,
   "id": "1fefe6bb-0047-40a2-890f-1483c37354c8",
   "metadata": {},
   "outputs": [
    {
     "data": {
      "text/plain": [
       "[[0], [0], [0]]"
      ]
     },
     "execution_count": 5,
     "metadata": {},
     "output_type": "execute_result"
    }
   ],
   "source": [
    "a = [[0]] * 3\n",
    "a"
   ]
  },
  {
   "cell_type": "code",
   "execution_count": 8,
   "id": "cf093d30-8100-4b1a-aa6d-36a0231ca9ae",
   "metadata": {},
   "outputs": [
    {
     "name": "stdout",
     "output_type": "stream",
     "text": [
      "2064253544720\n",
      "2064253544720\n",
      "2064253544720\n"
     ]
    }
   ],
   "source": [
    "print(id(a[0] [0]))\n",
    "print(id(a[0] [0]))\n",
    "print(id(a[0] [0]))"
   ]
  },
  {
   "cell_type": "code",
   "execution_count": 10,
   "id": "ca5a7c4f-6c1a-4a0b-8c93-15afdb780ebf",
   "metadata": {},
   "outputs": [],
   "source": [
    "row = [0]\n",
    "a = []\n",
    "for i in range(30) :\n",
    "    a.append(row)"
   ]
  },
  {
   "cell_type": "code",
   "execution_count": 11,
   "id": "948d67bb-6f93-446b-9712-770727611c3a",
   "metadata": {},
   "outputs": [
    {
     "name": "stdout",
     "output_type": "stream",
     "text": [
      "2064253544720\n",
      "2064253544720\n",
      "2064253544720\n"
     ]
    }
   ],
   "source": [
    "# 위의 코딩의 동작을 실행한것이다.\n",
    "print(id(a[0] [0]))\n",
    "print(id(a[0] [0]))\n",
    "print(id(a[0] [0]))"
   ]
  },
  {
   "cell_type": "code",
   "execution_count": 12,
   "id": "9355655e-6732-460d-be87-e55f1f5fbf8d",
   "metadata": {},
   "outputs": [],
   "source": [
    "b = []\n",
    "for i in range(3):\n",
    "    row = [0] #for문이 반복될 대 마다 새롭게 생성되는 변수입니다.\n",
    "    b.append(row)"
   ]
  },
  {
   "cell_type": "code",
   "execution_count": 15,
   "id": "4a1da147-254d-4f5a-988d-289856b82fef",
   "metadata": {},
   "outputs": [
    {
     "name": "stdout",
     "output_type": "stream",
     "text": [
      "2064336242560\n",
      "2064336242560\n",
      "2064336242560\n"
     ]
    }
   ],
   "source": [
    "#위의 코딩에 대한 결과값이다.\n",
    "print(id(a[0]))\n",
    "print(id(a[2]))\n",
    "print(id(a[2]))"
   ]
  },
  {
   "cell_type": "code",
   "execution_count": 16,
   "id": "7bbbc21f-3603-4545-b310-714af825161c",
   "metadata": {},
   "outputs": [
    {
     "data": {
      "text/plain": [
       "True"
      ]
     },
     "execution_count": 16,
     "metadata": {},
     "output_type": "execute_result"
    }
   ],
   "source": [
    "#정수의 범위가 256이하인 경우는 같다고 나온다.\n",
    "e = 256\n",
    "f = 256\n",
    "e is f"
   ]
  },
  {
   "cell_type": "code",
   "execution_count": 18,
   "id": "5cbb7f04-4ef4-42c3-8869-5e6f81acac60",
   "metadata": {},
   "outputs": [
    {
     "data": {
      "text/plain": [
       "False"
      ]
     },
     "execution_count": 18,
     "metadata": {},
     "output_type": "execute_result"
    }
   ],
   "source": [
    "# 정수의 범위가 257이상인 경우는 다르다고 나온다.\n",
    "g = 257\n",
    "h = 257\n",
    "g is h"
   ]
  },
  {
   "cell_type": "code",
   "execution_count": 20,
   "id": "af9d2380-1686-4908-8055-bcea21227932",
   "metadata": {},
   "outputs": [
    {
     "ename": "SyntaxError",
     "evalue": "unmatched ']' (2464059001.py, line 1)",
     "output_type": "error",
     "traceback": [
      "\u001b[1;36m  File \u001b[1;32m\"C:\\Users\\Playdata\\AppData\\Local\\Temp\\ipykernel_2856\\2464059001.py\"\u001b[1;36m, line \u001b[1;32m1\u001b[0m\n\u001b[1;33m    list_j = [1,2], [3,4]]\u001b[0m\n\u001b[1;37m                         ^\u001b[0m\n\u001b[1;31mSyntaxError\u001b[0m\u001b[1;31m:\u001b[0m unmatched ']'\n"
     ]
    }
   ],
   "source": [
    "# 얕은 복사는 list안에 list만 생각하기.(같은 것은 바라보는 주소만 복사한다)\n",
    "# list는 주소값만 가지고 있어서 별개의 값으로 생성을 하더라도 주소는 같게 나온다.\n",
    "# 깊은복사 리스트의 값은 같으나 객체는 완전히 다르다. - > deepcopy()는 import_copy라는 명령어를 사용한다.\n",
    " # -> 안에 있는 내용들까지도 모두 중첩적으로 복사를 한다."
   ]
  },
  {
   "cell_type": "code",
   "execution_count": 22,
   "id": "2cb8c960-fb65-4037-b2d6-8baaaed97172",
   "metadata": {},
   "outputs": [
    {
     "data": {
      "text/plain": [
       "False"
      ]
     },
     "execution_count": 22,
     "metadata": {},
     "output_type": "execute_result"
    }
   ],
   "source": [
    "l1 = [1, 2, [3, 4]]\n",
    "l2 = l1.copy()\n",
    "l1 is l2"
   ]
  },
  {
   "cell_type": "code",
   "execution_count": 23,
   "id": "32752532-c6ea-4538-9640-fb476e622cce",
   "metadata": {},
   "outputs": [
    {
     "data": {
      "text/plain": [
       "False"
      ]
     },
     "execution_count": 23,
     "metadata": {},
     "output_type": "execute_result"
    }
   ],
   "source": [
    "l5 = [5, 6]\n",
    "l6 = l5.copy()\n",
    "l5 is l6"
   ]
  },
  {
   "cell_type": "code",
   "execution_count": 24,
   "id": "2bc4a120-0dfb-4386-b523-427768b2c170",
   "metadata": {},
   "outputs": [
    {
     "data": {
      "text/plain": [
       "True"
      ]
     },
     "execution_count": 24,
     "metadata": {},
     "output_type": "execute_result"
    }
   ],
   "source": [
    "l1[-1] is l2[-1]"
   ]
  },
  {
   "cell_type": "code",
   "execution_count": 25,
   "id": "de67edb1-7f1c-4e58-b6a1-8fac5fa89399",
   "metadata": {},
   "outputs": [
    {
     "data": {
      "text/plain": [
       "False"
      ]
     },
     "execution_count": 25,
     "metadata": {},
     "output_type": "execute_result"
    }
   ],
   "source": [
    "l5 = [7, 8, (9, 10)]\n",
    "l6 = l5.copy()\n",
    "\n",
    "l5 is l6"
   ]
  },
  {
   "cell_type": "code",
   "execution_count": null,
   "id": "c1b6992f-c68c-4417-a7a3-d3f1b0b5052a",
   "metadata": {},
   "outputs": [],
   "source": [
    "# 리스트 컴프리헨션(compreshension)\n",
    "# list_variable = [expression for 변수 in iterable if 조건식]\n",
    "# list_p = [i for i in range(10) if i % 3 == 0]\n",
    " # print(list_p)\n",
    "# for문을 여러개 작성 가능하다. 그럴 때 동작 순서는 우축에서 좌측으로 진행된다.\n",
    " # expression a(1,2,3), b(3,4,5)라고 표현을 하는 경우 -> (1,3) (1,4) (1,5) (2,3)(2,4)(2,5)(3,3)(3,4)(3,5)\n",
    "    # -> 데카르트 곱으로 표현한다./ 직접 코딩을 해보면 더 확실하게 이해가 된다.\n",
    "# [expression for 변수 in iterable\n",
    "#                 변수 in iterable\n",
    "#                 변수 in iterable] - > 복잡한 경우 가독성을 위해서 들여쓰기 및 줄바꿈을 통해서 구분한다."
   ]
  },
  {
   "cell_type": "code",
   "execution_count": 28,
   "id": "42760019-0b43-478c-a7aa-08a69ffbfa86",
   "metadata": {},
   "outputs": [
    {
     "name": "stdout",
     "output_type": "stream",
     "text": [
      "[0, 3, 6, 9]\n"
     ]
    }
   ],
   "source": [
    "list_p = [i for i in range(10) if i % 3 == 0] \n",
    "print(list_p)"
   ]
  },
  {
   "cell_type": "code",
   "execution_count": null,
   "id": "8d340c57-3133-4ba9-8f7f-9431606dcbb4",
   "metadata": {},
   "outputs": [],
   "source": [
    "# 중첩리스트 - > 리스트는 수학의 배열과는 다르다\n",
    "# easy_list = [[1,2,3,4,5], [3,4]]\n",
    "# for item in easy_list:\n",
    "#     for i in item:\n",
    "#         print(i)\n",
    "# - > [1,2,3,4,5] = a/ [3,4] =b의 인덱싱을 가지고 있다.\n",
    "# 리스트안에 리스트가 포함되는 경우 사용하는 것이 중첩 리스트 이다.\n",
    "# easy_list = [[1,2,3,4,5],[3,4]]\n",
    " # easy_list[0] = [1,2,3,4,5]/ easy_;ist[1] = [3,4]\n",
    "    # easy_list[0][0]\n",
    "    # easy_list[0][1]\n",
    "#while문으로 looping을 해도 동일한 결과가 나온다.\n",
    "\n",
    "# list 메서드\n",
    " # 10개가 있다 -> 그 중 index, count 두가지만 튜플에서 사용가능하다.(그 이유는 list와의 차이를 생각하면 답이나온다.)"
   ]
  },
  {
   "cell_type": "code",
   "execution_count": 29,
   "id": "fbcabc70-8f10-4bd1-9df9-1ead40d8911d",
   "metadata": {},
   "outputs": [
    {
     "name": "stdout",
     "output_type": "stream",
     "text": [
      "1\n",
      "2\n",
      "3\n",
      "4\n",
      "5\n",
      "3\n",
      "4\n"
     ]
    }
   ],
   "source": [
    "easy_list = [[1,2,3,4,5],[3,4]]\n",
    "i = 0\n",
    "\n",
    "while i < len(easy_list):\n",
    "    j = 0\n",
    "    while j < len(easy_list[i]):\n",
    "        print(easy_list[i][j])\n",
    "        j += 1\n",
    "    i += 1"
   ]
  },
  {
   "cell_type": "code",
   "execution_count": null,
   "id": "1d646796-156a-44f8-9451-771eb5829178",
   "metadata": {},
   "outputs": [],
   "source": [
    "# 제너레이터 컴프리헨션\n",
    "generator_comprehension\n",
    "# generator_variable = (experssion for 변수 in iterable)\n",
    "# tuple_variable = tuple(experssion for 변수 in iterable)"
   ]
  },
  {
   "cell_type": "code",
   "execution_count": 30,
   "id": "da5adb9b-1835-4982-a13c-b16cbbc84fdb",
   "metadata": {},
   "outputs": [],
   "source": [
    "gen = (i for i in range(10))"
   ]
  },
  {
   "cell_type": "code",
   "execution_count": 31,
   "id": "19704819-4ece-4599-a130-e8f42d4ba240",
   "metadata": {},
   "outputs": [
    {
     "data": {
      "text/plain": [
       "generator"
      ]
     },
     "execution_count": 31,
     "metadata": {},
     "output_type": "execute_result"
    }
   ],
   "source": [
    "type(gen)"
   ]
  },
  {
   "cell_type": "code",
   "execution_count": 32,
   "id": "729c29c8-3356-45c0-9701-eb15ca840a9c",
   "metadata": {},
   "outputs": [
    {
     "data": {
      "text/plain": [
       "(0, 1, 2, 3, 4, 5, 6, 7, 8, 9)"
      ]
     },
     "execution_count": 32,
     "metadata": {},
     "output_type": "execute_result"
    }
   ],
   "source": [
    "tuple(gen)"
   ]
  },
  {
   "cell_type": "code",
   "execution_count": 33,
   "id": "1658c068-b430-4f12-8cf9-4eed3c205d00",
   "metadata": {},
   "outputs": [
    {
     "data": {
      "text/plain": [
       "(0, 1, 2, 3, 4, 5, 6, 7, 8, 9)"
      ]
     },
     "execution_count": 33,
     "metadata": {},
     "output_type": "execute_result"
    }
   ],
   "source": [
    "tuple(i for i in range(10))"
   ]
  },
  {
   "cell_type": "code",
   "execution_count": 36,
   "id": "36d0afc7-5766-402f-8fe6-61d8961278b7",
   "metadata": {},
   "outputs": [],
   "source": [
    "lis = list(i for i in range(10))"
   ]
  },
  {
   "cell_type": "code",
   "execution_count": 37,
   "id": "fdb002f8-7c54-4cc5-8a3e-937c2f82899a",
   "metadata": {},
   "outputs": [
    {
     "data": {
      "text/plain": [
       "list"
      ]
     },
     "execution_count": 37,
     "metadata": {},
     "output_type": "execute_result"
    }
   ],
   "source": [
    "type(lis)"
   ]
  },
  {
   "cell_type": "code",
   "execution_count": 27,
   "id": "d624de35-8fc0-4d23-8a6b-f50425f32a95",
   "metadata": {},
   "outputs": [
    {
     "name": "stdout",
     "output_type": "stream",
     "text": [
      "['alpha', 'bravo', 'delta', 'hotel']\n"
     ]
    }
   ],
   "source": [
    "list_a = ['alpha', 'bravo', 'charile', 'delta', 'echo', ' foxtrot', 'golf', 'hotel', 'lindia']\n",
    "list_b = [x_1 for x_1 in  list_a if len(x_1) == 5]\n",
    "print(list_b)\n",
    "\n",
    "# 연습문제 나믜 코딩 방식(틀린부분 check 후 수정하기)\n",
    "# expression for 변수 in interable if 조건 에서\n",
    " # expression = 변수 = iterable는 내가 정하고 만든 이름으로 작성하면 된다, 그리고 if 조건문의 변수도 앞의 정한 변수값을 이용해서 정한다. \n",
    " # 변수 for 변수 in 리스트 if len(변수)의 방식을 이용하기."
   ]
  },
  {
   "cell_type": "code",
   "execution_count": 49,
   "id": "bef460d9-35a9-4498-97fc-e759b3755779",
   "metadata": {},
   "outputs": [
    {
     "ename": "IndentationError",
     "evalue": "unexpected indent (4157461428.py, line 3)",
     "output_type": "error",
     "traceback": [
      "\u001b[1;36m  File \u001b[1;32m\"C:\\Users\\Playdata\\AppData\\Local\\Temp\\ipykernel_2316\\4157461428.py\"\u001b[1;36m, line \u001b[1;32m3\u001b[0m\n\u001b[1;33m    if len(x_1) ==5:\u001b[0m\n\u001b[1;37m    ^\u001b[0m\n\u001b[1;31mIndentationError\u001b[0m\u001b[1;31m:\u001b[0m unexpected indent\n"
     ]
    }
   ],
   "source": [
    "list_a = ['alpha', 'bravo', 'charile', 'delta', 'echo', ' foxtrot', 'golf', 'hotel', 'lindia']\n",
    "list_a = x_1\n",
    " if len(x_1) ==5:\n",
    "        print(x_1)\n",
    " elif len(x_1) |=5:\n",
    "        print(\" \")\n",
    "#나만의 코딩 방식 틀린부분 고쳐서 해결해보기"
   ]
  },
  {
   "cell_type": "code",
   "execution_count": 55,
   "id": "548c8bae-272e-477f-aa81-b65172e32385",
   "metadata": {},
   "outputs": [
    {
     "name": "stdout",
     "output_type": "stream",
     "text": [
      "2097152000000000000000000000\n"
     ]
    }
   ],
   "source": [
    "list_a = [1, 2, 3, 4, 5, 6, 7, 8, 9, 10, 11, 12, 13, 14, 15, 16, 17, 18, 19, 20]\n",
    "list_b = [10, 11, 12, 13, 14, 15, 16, 17, 18, 19, 20, 21, 22, 23, 24, 25, 26, 27, 28, 29, 30]\n",
    "print(len(list_a) ** len(list_b))\n"
   ]
  },
  {
   "cell_type": "code",
   "execution_count": 13,
   "id": "5a2c9edb-a3cf-4d2a-9627-fb9236a2af56",
   "metadata": {},
   "outputs": [
    {
     "ename": "NameError",
     "evalue": "name 'true' is not defined",
     "output_type": "error",
     "traceback": [
      "\u001b[1;31m---------------------------------------------------------------------------\u001b[0m",
      "\u001b[1;31mNameError\u001b[0m                                 Traceback (most recent call last)",
      "\u001b[1;32m~\\AppData\\Local\\Temp\\ipykernel_4960\\1958440189.py\u001b[0m in \u001b[0;36m<module>\u001b[1;34m\u001b[0m\n\u001b[1;32m----> 1\u001b[1;33m \u001b[1;32mif\u001b[0m \u001b[0mtrue\u001b[0m\u001b[1;33m:\u001b[0m\u001b[1;33m\u001b[0m\u001b[1;33m\u001b[0m\u001b[0m\n\u001b[0m\u001b[0;32m      2\u001b[0m     \u001b[0mnum1\u001b[0m\u001b[1;33m,\u001b[0m \u001b[0mnum2\u001b[0m \u001b[1;33m=\u001b[0m \u001b[0mmap\u001b[0m\u001b[1;33m(\u001b[0m\u001b[0mint\u001b[0m\u001b[1;33m(\u001b[0m\u001b[0minput\u001b[0m\u001b[1;33m(\u001b[0m\u001b[1;34m\"정수 두 개 입력하세요\"\u001b[0m\u001b[1;33m)\u001b[0m\u001b[1;33m.\u001b[0m\u001b[0msplit\u001b[0m\u001b[1;33m(\u001b[0m\u001b[1;33m)\u001b[0m\u001b[1;33m)\u001b[0m\u001b[1;33m)\u001b[0m\u001b[1;33m\u001b[0m\u001b[1;33m\u001b[0m\u001b[0m\n\u001b[0;32m      3\u001b[0m     \u001b[1;32mif\u001b[0m \u001b[0mnum1\u001b[0m \u001b[1;33m>\u001b[0m \u001b[1;36m20\u001b[0m\u001b[1;33m:\u001b[0m\u001b[1;33m\u001b[0m\u001b[1;33m\u001b[0m\u001b[0m\n\u001b[0;32m      4\u001b[0m         \u001b[0mprint\u001b[0m\u001b[1;33m(\u001b[0m\u001b[1;34m\" 첫번째 값의 범위는 1 ~ 20입니다.\"\u001b[0m\u001b[1;33m)\u001b[0m\u001b[1;33m\u001b[0m\u001b[1;33m\u001b[0m\u001b[0m\n\u001b[0;32m      5\u001b[0m     \u001b[1;32melif\u001b[0m \u001b[0mnum2\u001b[0m \u001b[1;33m<\u001b[0m \u001b[1;36m10\u001b[0m\u001b[1;33m:\u001b[0m\u001b[1;33m\u001b[0m\u001b[1;33m\u001b[0m\u001b[0m\n",
      "\u001b[1;31mNameError\u001b[0m: name 'true' is not defined"
     ]
    }
   ],
   "source": [
    "if true:\n",
    "    num1, num2 = map(int(input(\"정수 두 개 입력하세요\").split()))\n",
    "    if num1 > 20:\n",
    "        print(\" 첫번째 값의 범위는 1 ~ 20입니다.\")\n",
    "    elif num2 < 10:\n",
    "        print(\"두번째 값의 범위는 10~30입니다.\")\n",
    "    elif num1 > num2:\n",
    "        print(\"첫번째 값의 크기는 두번째 값의 크기보다 작아야 합니다.\")\n",
    "        \n",
    "print(2**num1)"
   ]
  },
  {
   "cell_type": "code",
   "execution_count": 6,
   "id": "28208035-08b4-4539-a4b5-270d6f8d3e17",
   "metadata": {},
   "outputs": [
    {
     "ename": "SyntaxError",
     "evalue": "invalid syntax (1573001705.py, line 4)",
     "output_type": "error",
     "traceback": [
      "\u001b[1;36m  File \u001b[1;32m\"C:\\Users\\Playdata\\AppData\\Local\\Temp\\ipykernel_10616\\1573001705.py\"\u001b[1;36m, line \u001b[1;32m4\u001b[0m\n\u001b[1;33m    if num1 < 1 or num1 > 20:\u001b[0m\n\u001b[1;37m                            ^\u001b[0m\n\u001b[1;31mSyntaxError\u001b[0m\u001b[1;31m:\u001b[0m invalid syntax\n"
     ]
    }
   ],
   "source": [
    "# 틀린부분 체크 후 고쳐보기(나의 코딩)\n",
    "while  True:\n",
    "   num1, num2 = map(int(input('정수 두 개 입력하세요') .split())\n",
    "   if num1 < 1 or num1 > 20:\n",
    "        print(\"첫번째 값의 범위는 1~20입니다.\")\n",
    "   elif num2 < 10 or num2 > 30:\n",
    "        print('두번째 값의 범위는 10~30입니다.')\n",
    "   elif num1 >= num2:\n",
    "        print('첫 번째 입력 값은 두 번째 입력 값보다 작게 입력하세요.')\n",
    "   else:\n",
    "       power_of_2 = [2**i for i  in range(num1, num2 +1)]\n",
    "       del power_of_2 [1]\n",
    "       del power_of_2[len(power_of_2) - 2]\n",
    "       print(power_of_2)\n",
    "       break\n",
    "   contiume\n",
    "# contiune의 사용법 - > 중간에 위치하는 경우 처음으로 이동하여 조건을 다시 확인하게 된다.\n",
    "                   #-> 마지막에 있는 경우에는 필요가 없다. 즉 건너뛴다의 의미를 가지는 것이다. "
   ]
  },
  {
   "cell_type": "code",
   "execution_count": 23,
   "id": "f5e4f9ee-3736-410e-9922-f31cf42a7fc9",
   "metadata": {},
   "outputs": [
    {
     "ename": "SyntaxError",
     "evalue": "invalid syntax (922263495.py, line 9)",
     "output_type": "error",
     "traceback": [
      "\u001b[1;36m  File \u001b[1;32m\"C:\\Users\\Playdata\\AppData\\Local\\Temp\\ipykernel_856\\922263495.py\"\u001b[1;36m, line \u001b[1;32m9\u001b[0m\n\u001b[1;33m    else num + 1 >= num:\u001b[0m\n\u001b[1;37m         ^\u001b[0m\n\u001b[1;31mSyntaxError\u001b[0m\u001b[1;31m:\u001b[0m invalid syntax\n"
     ]
    }
   ],
   "source": [
    "# 틀린부분 고치기\n",
    "\n",
    "num = int(input(\"2부터 입력받은 수까지의 소수를 한줄에 7개식 보여주는 프로그램을 만드세요:\"))\n",
    "while True:\n",
    "    if num // 1 == num and num // num == 1:\n",
    "        print(\"range(num)\")\n",
    "    elif num // 2 == num and num // 3 == num and num // 6 == num:\n",
    "        print(\" \")\n",
    "    else num + 1 >= num:\n",
    "        break"
   ]
  },
  {
   "cell_type": "code",
   "execution_count": null,
   "id": "6ffbd0fb-cfad-4111-8c57-c9f584f35494",
   "metadata": {},
   "outputs": [
    {
     "name": "stdout",
     "output_type": "stream",
     "text": [
      "2부터 입력하신 수까지의 모든 소수를 찾는 프로그램입니다.\n"
     ]
    },
    {
     "name": "stdin",
     "output_type": "stream",
     "text": [
      "찾는 범위를 입력하세요: 200\n"
     ]
    }
   ],
   "source": [
    "# 강사님 방식의 코딩\n",
    "\n",
    "print(\"2부터 입력하신 수까지의 모든 소수를 찾는 프로그램입니다.\")\n",
    "inData = int(input(\"찾는 범위를 입력하세요:\"))\n",
    "i = 2\n",
    "line = 0\n",
    "while i <= inData:\n",
    "    j = 2\n",
    "    while j <= i :\n",
    "        if i % j == 0:\n",
    "            break\n",
    "        j += 1\n",
    "if i == j :\n",
    "    print(i, end = ' ')\n",
    "    line = line +1\n",
    "    if line == 7:\n",
    "        line = 0\n",
    "        print()\n",
    "i+=1"
   ]
  },
  {
   "cell_type": "code",
   "execution_count": 7,
   "id": "0df5392f-cb1d-47fb-a941-0f13e154f345",
   "metadata": {},
   "outputs": [
    {
     "name": "stdout",
     "output_type": "stream",
     "text": [
      "[2, 2, 1, 1, 2, 1, 2, 1, 1, 2]\n"
     ]
    }
   ],
   "source": [
    "import random\n",
    "random_list = [random.randint(1, 2) for _ in range(10)]\n",
    "print(random_list)"
   ]
  },
  {
   "cell_type": "code",
   "execution_count": 9,
   "id": "212b5eb8-b367-485d-8f4e-64fd2943eb4d",
   "metadata": {},
   "outputs": [
    {
     "name": "stdout",
     "output_type": "stream",
     "text": [
      "[16, 68, 42, 46, 57, 97, 44, 12, 95, 60]\n"
     ]
    }
   ],
   "source": [
    "import random\n",
    "random_list = [random.randint(1, 100) for _ in range(10)]\n",
    "print(random_list)"
   ]
  },
  {
   "cell_type": "code",
   "execution_count": 33,
   "id": "971f1ffd-c8e5-47ee-825f-954da494f01d",
   "metadata": {},
   "outputs": [
    {
     "name": "stdin",
     "output_type": "stream",
     "text": [
      "숫자를 입력하세요 -1\n"
     ]
    },
    {
     "ename": "TypeError",
     "evalue": "'>' not supported between instances of 'int' and 'list'",
     "output_type": "error",
     "traceback": [
      "\u001b[1;31m---------------------------------------------------------------------------\u001b[0m",
      "\u001b[1;31mTypeError\u001b[0m                                 Traceback (most recent call last)",
      "\u001b[1;32m~\\AppData\\Local\\Temp\\ipykernel_856\\3055919565.py\u001b[0m in \u001b[0;36m<module>\u001b[1;34m\u001b[0m\n\u001b[0;32m      3\u001b[0m     \u001b[0minput_value\u001b[0m \u001b[1;33m=\u001b[0m \u001b[0mint\u001b[0m\u001b[1;33m(\u001b[0m\u001b[0minput\u001b[0m\u001b[1;33m(\u001b[0m\u001b[1;34m'숫자를 입력하세요'\u001b[0m\u001b[1;33m)\u001b[0m\u001b[1;33m)\u001b[0m\u001b[1;33m\u001b[0m\u001b[1;33m\u001b[0m\u001b[0m\n\u001b[0;32m      4\u001b[0m \u001b[1;33m\u001b[0m\u001b[0m\n\u001b[1;32m----> 5\u001b[1;33m     \u001b[1;32mif\u001b[0m \u001b[0minput_value\u001b[0m \u001b[1;33m>\u001b[0m \u001b[0mrandom_list\u001b[0m\u001b[1;33m:\u001b[0m\u001b[1;33m\u001b[0m\u001b[1;33m\u001b[0m\u001b[0m\n\u001b[0m\u001b[0;32m      6\u001b[0m         \u001b[0mprint\u001b[0m\u001b[1;33m(\u001b[0m\u001b[1;34m'그보다 작습니다.'\u001b[0m\u001b[1;33m)\u001b[0m\u001b[1;33m\u001b[0m\u001b[1;33m\u001b[0m\u001b[0m\n\u001b[0;32m      7\u001b[0m     \u001b[1;32melif\u001b[0m \u001b[0minput_value\u001b[0m \u001b[1;33m<\u001b[0m \u001b[0mrandom_list\u001b[0m\u001b[1;33m:\u001b[0m\u001b[1;33m\u001b[0m\u001b[1;33m\u001b[0m\u001b[0m\n",
      "\u001b[1;31mTypeError\u001b[0m: '>' not supported between instances of 'int' and 'list'"
     ]
    }
   ],
   "source": [
    "#나의 코딩 방식\n",
    "\n",
    "while True:\n",
    "    random_list = [random.randint(1, 7) for _ in range(100)]\n",
    "    input_value = int(input('숫자를 입력하세요'))\n",
    "    \n",
    "    if input_value > random_list:\n",
    "        print('그보다 작습니다.')\n",
    "    elif input_value < random_list:\n",
    "        print('그보다 큽니다.')\n",
    "    elif input_value > 100:\n",
    "        print('1~100 사이의 숫자를 입력하세요.')\n",
    "    elif input_value == random_list:\n",
    "        print('맞췄습니다.')\n",
    "print(,'번 만에','맞추셨습니다,')\n",
    "print('입력한 숫자는 다음과 같습니다.', )"
   ]
  },
  {
   "cell_type": "code",
   "execution_count": null,
   "id": "6ffbea59-af59-45a1-a0b6-3beee9b42c26",
   "metadata": {},
   "outputs": [],
   "source": [
    "# set(세트 자료형)/ 순서가 없는 중복이 되지 않는 형태이다.\n",
    "# set_variable = {키1, 키2, 키3,...}\n",
    "# 빈세트 생성시 주의!!\n",
    " # {}는 빈 딕셔너리 객체를 만듭니다.\n",
    " # print(type({}))\n",
    " # print(se())\n",
    "# set 자료형은 키와 같은 요소를 가지게 된다. 따라서 중복된 요소를 가지지는 않는다. 오직 1개의 결과값만을 가진다.\n",
    "# set_varible = {expression for 변수 in iterable if 조건식} - > 중괄호가 된다.\n",
    "# set에 값을 넣는 방법 - > 세트 메서드 add() - > set 자료형.add(요소)라는 명령어로 추가한다.\n",
    " # add(요소) 메서드는 한번에 하나의 값만 넣을 수 있다.\n",
    "# for_in range(5): set_variable.add(1)-> 1이라는 값을 5번 넣었는데 실제로 출력되는 것은 1번이다. 그 이유는 1이 1개만 존재하기 때문에\n",
    "# Set은 순서는 고려되지 않는다.(순서가 보장되지 않는다)-> 비 시퀀스이기 때문이다.\n",
    "# 삭제하기 remove -> 삭제하려는 요소가 없는 경우에는 keyError를 발생시킵니다.\n",
    "# 삭제하기 discard -> 삭제하려는 요소가 없는 경우에도 keyError를 발생시키지 않습니다.\n",
    "# 삭제하기 pop -> 삭제하려는 요소를 임의로 선택하고 반환한 뒤 삭제합니다. 세트 자료형 내에서 더 이상 삭제할 요소가 없다면 keyError을 발생시킵니다.\n",
    "# 삭제하기 clear -> 요소 전체를 삭제한다.\n",
    "# len()내장 함수를 이용하여 개수(크기)를 구할 수 있습니다.\n",
    "# set - > 합집합: union(), vertical(|)로 표시하기. -> set,union(세트 자료형1, 세트 자료형2)"
   ]
  },
  {
   "cell_type": "code",
   "execution_count": 36,
   "id": "28a30e0b-2250-4ba4-aad5-3d5ddd057420",
   "metadata": {},
   "outputs": [
    {
     "name": "stdout",
     "output_type": "stream",
     "text": [
      "A: {1, 2, 3, 4} \n",
      "B: {2, 4, 5}\n",
      "set.union(A, B): {1, 2, 3, 4, 5}\n",
      "A | B: {1, 2, 3, 4, 5}\n"
     ]
    }
   ],
   "source": [
    "#set 자료형 합집합\n",
    "\n",
    "A = {_ for _ in range(1,5)}\n",
    "B = {_ for _ in range(2, 6) if _ != 3}\n",
    "print(\"A:\", A, \"\\nB:\", B)\n",
    "print(\"set.union(A, B):\", set.union(A, B))\n",
    "print(\"A | B:\", A | B)"
   ]
  },
  {
   "cell_type": "code",
   "execution_count": 27,
   "id": "4f6878a3-3b33-4383-a3c8-c8de3340bb86",
   "metadata": {},
   "outputs": [
    {
     "name": "stdout",
     "output_type": "stream",
     "text": [
      "A: {1, 2, 3, 4} \n",
      "B: {2, 4, 5}\n",
      "set.intersection(A, B): {2, 4}\n",
      "A | B: {1, 2, 3, 4, 5}\n"
     ]
    }
   ],
   "source": [
    "# set 자료형 교집합\n",
    "\n",
    "A = {_ for _ in range(1,5)}\n",
    "B = {_ for _ in range(2, 6) if _ != 3}\n",
    "print(\"A:\", A, \"\\nB:\", B)\n",
    "print(\"set.intersection(A, B):\", set.intersection(A, B))\n",
    "print(\"A | B:\", A | B)"
   ]
  },
  {
   "cell_type": "code",
   "execution_count": 39,
   "id": "2a4f9b7b-1c3a-46e5-979b-54ada99737c9",
   "metadata": {},
   "outputs": [
    {
     "name": "stdout",
     "output_type": "stream",
     "text": [
      "A: {1, 2, 3, 4} \n",
      "B: {2, 4, 5}\n",
      "set.difference(A, B): {1, 3}\n",
      "A - B: {1, 3}\n"
     ]
    }
   ],
   "source": [
    "# 차집합\n",
    "\n",
    "A = {_ for _ in range(1,5)}\n",
    "B = {_ for _ in range(2, 6) if _ != 3}\n",
    "print(\"A:\", A, \"\\nB:\", B)\n",
    "print(\"set.difference(A, B):\", set.difference(A, B))\n",
    "print(\"A - B:\", A - B)"
   ]
  },
  {
   "cell_type": "code",
   "execution_count": 40,
   "id": "1e429b60-61ee-4390-85cb-6ea4ccabd073",
   "metadata": {},
   "outputs": [
    {
     "name": "stdout",
     "output_type": "stream",
     "text": [
      "A: {1, 2, 3, 4} \n",
      "B: {2, 4, 5}\n"
     ]
    },
    {
     "ename": "AttributeError",
     "evalue": "type object 'set' has no attribute 'sysmmetric_difference'",
     "output_type": "error",
     "traceback": [
      "\u001b[1;31m---------------------------------------------------------------------------\u001b[0m",
      "\u001b[1;31mAttributeError\u001b[0m                            Traceback (most recent call last)",
      "\u001b[1;32m~\\AppData\\Local\\Temp\\ipykernel_856\\3355475571.py\u001b[0m in \u001b[0;36m<module>\u001b[1;34m\u001b[0m\n\u001b[0;32m      4\u001b[0m \u001b[0mB\u001b[0m \u001b[1;33m=\u001b[0m \u001b[1;33m{\u001b[0m\u001b[0m_\u001b[0m \u001b[1;32mfor\u001b[0m \u001b[0m_\u001b[0m \u001b[1;32min\u001b[0m \u001b[0mrange\u001b[0m\u001b[1;33m(\u001b[0m\u001b[1;36m2\u001b[0m\u001b[1;33m,\u001b[0m \u001b[1;36m6\u001b[0m\u001b[1;33m)\u001b[0m \u001b[1;32mif\u001b[0m \u001b[0m_\u001b[0m \u001b[1;33m!=\u001b[0m \u001b[1;36m3\u001b[0m\u001b[1;33m}\u001b[0m\u001b[1;33m\u001b[0m\u001b[1;33m\u001b[0m\u001b[0m\n\u001b[0;32m      5\u001b[0m \u001b[0mprint\u001b[0m\u001b[1;33m(\u001b[0m\u001b[1;34m\"A:\"\u001b[0m\u001b[1;33m,\u001b[0m \u001b[0mA\u001b[0m\u001b[1;33m,\u001b[0m \u001b[1;34m\"\\nB:\"\u001b[0m\u001b[1;33m,\u001b[0m \u001b[0mB\u001b[0m\u001b[1;33m)\u001b[0m\u001b[1;33m\u001b[0m\u001b[1;33m\u001b[0m\u001b[0m\n\u001b[1;32m----> 6\u001b[1;33m \u001b[0mprint\u001b[0m\u001b[1;33m(\u001b[0m\u001b[1;34m\"set.sysmmetric_difference(A, B):\"\u001b[0m\u001b[1;33m,\u001b[0m \u001b[0mset\u001b[0m\u001b[1;33m.\u001b[0m\u001b[0msysmmetric_difference\u001b[0m\u001b[1;33m(\u001b[0m\u001b[0mA\u001b[0m\u001b[1;33m,\u001b[0m \u001b[0mB\u001b[0m\u001b[1;33m)\u001b[0m\u001b[1;33m)\u001b[0m\u001b[1;33m\u001b[0m\u001b[1;33m\u001b[0m\u001b[0m\n\u001b[0m\u001b[0;32m      7\u001b[0m \u001b[0mprint\u001b[0m\u001b[1;33m(\u001b[0m\u001b[1;34m\"A ^ B:\"\u001b[0m\u001b[1;33m,\u001b[0m \u001b[0mA\u001b[0m \u001b[1;33m^\u001b[0m \u001b[0mB\u001b[0m\u001b[1;33m)\u001b[0m\u001b[1;33m\u001b[0m\u001b[1;33m\u001b[0m\u001b[0m\n",
      "\u001b[1;31mAttributeError\u001b[0m: type object 'set' has no attribute 'sysmmetric_difference'"
     ]
    }
   ],
   "source": [
    "# 대칭 차집합 - > 중복되지 않는 부분을 반환합니다.\n",
    "\n",
    "A = {_ for _ in range(1,5)}\n",
    "B = {_ for _ in range(2, 6) if _ != 3}\n",
    "print(\"A:\", A, \"\\nB:\", B)\n",
    "print(\"set.sysmmetric_difference(A, B):\", set.sysmmetric_difference(A, B))\n",
    "print(\"A ^ B:\", A ^ B)"
   ]
  },
  {
   "cell_type": "code",
   "execution_count": 41,
   "id": "ae52b782-5c0e-4b4b-8fcd-25d6c7425978",
   "metadata": {},
   "outputs": [
    {
     "name": "stdout",
     "output_type": "stream",
     "text": [
      "A: {1, 2, 3, 4} \n",
      "B: {2, 4, 5}\n",
      "A.update(B): {1, 2, 3, 4, 5}\n"
     ]
    }
   ],
   "source": [
    "# update 혹은 |=\n",
    "# 집합A에 B를 더해주는 개념으로 이해하면 된다.\n",
    "\n",
    "A = {_ for _ in range(1,5)}\n",
    "B = {_ for _ in range(2, 6) if _ != 3}\n",
    "print(\"A:\", A, \"\\nB:\", B)\n",
    "A.update(B)\n",
    "print(\"A.update(B):\", A)"
   ]
  },
  {
   "cell_type": "code",
   "execution_count": 43,
   "id": "94edbbb6-e1ea-4f40-ae32-714456aa4a20",
   "metadata": {},
   "outputs": [
    {
     "name": "stdout",
     "output_type": "stream",
     "text": [
      "A: {1, 2, 3, 4} \n",
      "B: {2, 4, 5}\n",
      "A.update(B): {2, 4}\n"
     ]
    }
   ],
   "source": [
    "# intersection_update 혹은 &=\n",
    "\n",
    "A = {_ for _ in range(1,5)}\n",
    "B = {_ for _ in range(2, 6) if _ != 3}\n",
    "print(\"A:\", A, \"\\nB:\", B)\n",
    "A.intersection_update(B)\n",
    "print(\"A.update(B):\", A)"
   ]
  },
  {
   "cell_type": "code",
   "execution_count": 44,
   "id": "fcd22f75-54f1-4004-a700-e5898ffccb45",
   "metadata": {},
   "outputs": [
    {
     "name": "stdout",
     "output_type": "stream",
     "text": [
      "A: {1, 2, 3, 4} \n",
      "B: {2, 4, 5}\n",
      "A.update(B): {1, 3}\n"
     ]
    }
   ],
   "source": [
    "# difference_update() 혹은 -=\n",
    "\n",
    "A = {_ for _ in range(1,5)}\n",
    "B = {_ for _ in range(2, 6) if _ != 3}\n",
    "print(\"A:\", A, \"\\nB:\", B)\n",
    "A.difference_update(B)\n",
    "print(\"A.update(B):\", A)"
   ]
  },
  {
   "cell_type": "code",
   "execution_count": 45,
   "id": "77292faf-8249-41eb-87b3-a06e7efefc41",
   "metadata": {},
   "outputs": [
    {
     "name": "stdout",
     "output_type": "stream",
     "text": [
      "A: {1, 2, 3, 4} \n",
      "B: {2, 4, 5}\n",
      "A.update(B): {1, 3, 5}\n"
     ]
    }
   ],
   "source": [
    "# symmetric_difference_update() 혹은 ^=\n",
    "\n",
    "A = {_ for _ in range(1,5)}\n",
    "B = {_ for _ in range(2, 6) if _ != 3}\n",
    "print(\"A:\", A, \"\\nB:\", B)\n",
    "A.symmetric_difference_update(B)\n",
    "print(\"A.update(B):\", A)"
   ]
  },
  {
   "cell_type": "code",
   "execution_count": 49,
   "id": "5e74a91c-5a6e-4b48-9067-6bc85de7716e",
   "metadata": {},
   "outputs": [
    {
     "name": "stdout",
     "output_type": "stream",
     "text": [
      "A: {1, 2, 3, 4} \n",
      "B: {2, 4, 5}\n",
      "A.issubset(B): False\n"
     ]
    }
   ],
   "source": [
    "# 부분집합 issubset()\n",
    "\n",
    "A = {_ for _ in range(1,5)}\n",
    "B = {_ for _ in range(2, 6) if _ != 3}\n",
    "print(\"A:\", A, \"\\nB:\", B)\n",
    "print(\"A.issubset(B):\", A.issubset(B))"
   ]
  },
  {
   "cell_type": "code",
   "execution_count": 50,
   "id": "bd4cc151-53c2-45ac-bcc8-9de04dce790a",
   "metadata": {},
   "outputs": [
    {
     "name": "stdout",
     "output_type": "stream",
     "text": [
      "A: {0, 1, 2} \n",
      "B: {0, 1}\n",
      "B.issubset(A): True\n"
     ]
    }
   ],
   "source": [
    "# 부분집합 issubset()\n",
    "\n",
    "A = {_ for _ in range(0, 3)}\n",
    "B = {_ for _ in range(0, 2)}\n",
    "print(\"A:\", A, \"\\nB:\", B)\n",
    "print(\"B.issubset(A):\", B.issubset(A))"
   ]
  },
  {
   "cell_type": "code",
   "execution_count": 52,
   "id": "b461b988-37e4-4a14-944e-9a9a0f236791",
   "metadata": {},
   "outputs": [
    {
     "name": "stdout",
     "output_type": "stream",
     "text": [
      "A: {0, 1, 2} \n",
      "B: {0, 1, 2}\n",
      "B.issuperset(A): True\n"
     ]
    }
   ],
   "source": [
    "# 상위집합 issuperset()\n",
    "\n",
    "A = {_ for _ in range(0, 3)}\n",
    "B = {_ for _ in range(0, 3)}\n",
    "print(\"A:\", A, \"\\nB:\", B)\n",
    "print(\"B.issuperset(A):\", B.issuperset(A))"
   ]
  },
  {
   "cell_type": "code",
   "execution_count": 54,
   "id": "c4c9df4f-0386-4cda-95fc-9b99b18bc543",
   "metadata": {},
   "outputs": [
    {
     "name": "stdout",
     "output_type": "stream",
     "text": [
      "A: {0, 1, 2} \n",
      "B: {0, 1}\n",
      "A.issuperset(B): True\n"
     ]
    }
   ],
   "source": [
    "# 상위집합 issuperset()\n",
    "\n",
    "A = {_ for _ in range(0, 3)}\n",
    "B = {_ for _ in range(0, 2)}\n",
    "print(\"A:\", A, \"\\nB:\", B)\n",
    "print(\"A.issuperset(B):\", A.issuperset(B))"
   ]
  },
  {
   "cell_type": "code",
   "execution_count": 11,
   "id": "24109057-7e9a-42ec-b0b6-02b88e78f9aa",
   "metadata": {},
   "outputs": [
    {
     "name": "stdout",
     "output_type": "stream",
     "text": [
      "A: {0, 1, 2} \n",
      "B: {0, 1}\n",
      "A > B: True\n",
      "A < B: False\n"
     ]
    }
   ],
   "source": [
    "# 진부분집합과 진상위집합 >. <\n",
    "A = {_ for _ in range(0, 3)}\n",
    "B = {_ for _ in range(0, 2)}\n",
    "print(\"A:\", A, \"\\nB:\", B)\n",
    "print(\"A > B:\", A > B)\n",
    "print(\"A < B:\", A < B)"
   ]
  },
  {
   "cell_type": "code",
   "execution_count": 57,
   "id": "fe4008e4-fcce-4106-b809-0ec4a5e6cec3",
   "metadata": {},
   "outputs": [
    {
     "name": "stdout",
     "output_type": "stream",
     "text": [
      "A: {0, 1, 2} \n",
      "B: {0, 1, 2}\n",
      "A == B: True\n"
     ]
    }
   ],
   "source": [
    "#set 자료형 같다\n",
    "\n",
    "A = {_ for _ in range(0, 3)}\n",
    "B = {_ for _ in range(0, 3)}\n",
    "print(\"A:\", A, \"\\nB:\", B)\n",
    "print(\"A == B:\", A == B)"
   ]
  },
  {
   "cell_type": "code",
   "execution_count": 16,
   "id": "14a51412-3421-4ca0-99aa-7db9631356a4",
   "metadata": {},
   "outputs": [
    {
     "ename": "SyntaxError",
     "evalue": "invalid syntax (1192103479.py, line 6)",
     "output_type": "error",
     "traceback": [
      "\u001b[1;36m  File \u001b[1;32m\"C:\\Users\\Playdata\\AppData\\Local\\Temp\\ipykernel_8860\\1192103479.py\"\u001b[1;36m, line \u001b[1;32m6\u001b[0m\n\u001b[1;33m    print(\"A.isdisjoint B:\", A.isdisjoint B)\u001b[0m\n\u001b[1;37m                                          ^\u001b[0m\n\u001b[1;31mSyntaxError\u001b[0m\u001b[1;31m:\u001b[0m invalid syntax\n"
     ]
    }
   ],
   "source": [
    "#set가 겹치지 않는지 확인 isdisjoint()\n",
    "\n",
    "A = {_ for _ in range(0, 3)}\n",
    "B = {_ for _ in range(0, 3)}\n",
    "print(\"A:\", A, \"\\nB:\", B)\n",
    "print(\"A.isdisjoint B:\", A.isdisjoint B)"
   ]
  },
  {
   "cell_type": "code",
   "execution_count": 60,
   "id": "47604f51-acd4-4081-a752-f71664e2fd4b",
   "metadata": {},
   "outputs": [
    {
     "name": "stdout",
     "output_type": "stream",
     "text": [
      "{1, 2, 3, 4}\n"
     ]
    }
   ],
   "source": [
    "#중복을 제거하고 출력을 해보세요\n",
    "list_sample = [1, 2, 2, 3, 3, 3, 4, 4, 4, 4]\n",
    "\n",
    "print(set(list_sample))"
   ]
  },
  {
   "cell_type": "code",
   "execution_count": null,
   "id": "4bc85eba-d2b1-4fe2-9fa5-aa651c2a2a73",
   "metadata": {},
   "outputs": [],
   "source": [
    "#중복을 제거하고 출력을 해보세요(Set을 제외한 함수를 이용해서 프로그램을 만들어 보기)\n",
    "list_sample = [1, 2, 2, 3, 3, 3, 4, 4, 4, 4]\n"
   ]
  },
  {
   "cell_type": "code",
   "execution_count": null,
   "id": "1c639dcb-3180-41f9-9505-546623c303e0",
   "metadata": {},
   "outputs": [],
   "source": [
    "# 21-02-21 어제 수업 복습\n",
    "# 리스트 컴프리헨션(comprehension)\n",
    " # 리스트 생성시 사용한다. - > for문과 if문에 동시에 사용 가능하다.\n",
    " #                        - > 변수 : 문자, 언더바, 숫자(맨앞에 불가능) 3가지가 가능 \n",
    "\n",
    "# 중첩 리스트\n",
    " # 리스트 안에 단지 리스트가 있을 뿐이다. 인덱싱으로 얻은 결과가 리스트이다. 따라서 그 값에 또 인덱싱을 한것이다.\n",
    "\n",
    "# 제너레이터 컴프리헨션\n",
    " # 튜플은 변경이 안된다. 따라서 제너레이터 컴프리헨션으로 튜플을 만들 수 있다.\n",
    " # generator_variable = (expression for 변수 in iterable)\n",
    "\n",
    "# random 라이브러리\n",
    "# set는 중복을 제거하는 것에 가장 효율적이다.\n",
    " # key는 고유한 값을 가지고 있다. 따라서 index값만으로 접근은 어렵다.\n",
    " # ex)휴대폰 전화를 하는 경우 각각의 번호는 고유한 값을 가지고 있다.\n",
    " # 콤마를 이용하여 하나의 값으로 구분을 짓고 있다.\n",
    " # { } 는 딕셔너리를 만드는 것이다.\n",
    " # 개수 구하기 len을 사용하기/ 모두 지우는 경우는 clear사용하기\n",
    " # 순환하는 관계의 포인트는 장애의 요소가 될 수 있다."
   ]
  },
  {
   "cell_type": "code",
   "execution_count": 6,
   "id": "bd952abe-479a-49c1-90f6-f683a2e3f2fb",
   "metadata": {},
   "outputs": [
    {
     "name": "stdout",
     "output_type": "stream",
     "text": [
      "[0, 3, 6, 9]\n"
     ]
    }
   ],
   "source": [
    "list_variable = [i for i in range(10) if i % 3 == 0]\n",
    "print(list_variable)\n",
    "# i는 1~9까지의 범위를 가지는 숫자이다. 그 숫자가 뒤의 if의 조건을 만족하는 참을 성립하면 for 앞의 변수 모양으로 추출이 된다.\n",
    "# 그리고 그 값은 list_variable가 되어 진다.\n",
    "# in range의 자리는 interable의 자리이다."
   ]
  },
  {
   "cell_type": "code",
   "execution_count": 7,
   "id": "e4ca5582-4026-4dd5-80ac-3cf1613b102f",
   "metadata": {},
   "outputs": [
    {
     "data": {
      "text/plain": [
       "['2', '3', '4', '5', '6', '7', '8', '9', '10', 'J', 'Q', 'K', 'A']"
      ]
     },
     "execution_count": 7,
     "metadata": {},
     "output_type": "execute_result"
    }
   ],
   "source": [
    "[str(i) for i in range(2,11)] + list(\"JQKA\")\n",
    "# list compression 표현 방법"
   ]
  },
  {
   "cell_type": "code",
   "execution_count": 43,
   "id": "ff5ef8a5-d8e8-4998-b8b7-f5954a7a9de0",
   "metadata": {},
   "outputs": [
    {
     "name": "stdout",
     "output_type": "stream",
     "text": [
      "[0, 3, 6, 9, 12, 15, 18, 21, 24, 27, 30, 33, 36, 39, 42, 45, 48, 51, 54, 57, 60, 63, 66, 69, 72, 75, 78, 81, 84, 87, 90, 93, 96, 99]\n",
      "[0, 5, 10, 15, 20, 25, 30, 35, 40, 45, 50, 55, 60, 65, 70, 75, 80, 85, 90, 95, 100]\n"
     ]
    },
    {
     "ename": "TypeError",
     "evalue": "descriptor 'intersection' for 'set' objects doesn't apply to a 'str' object",
     "output_type": "error",
     "traceback": [
      "\u001b[1;31m---------------------------------------------------------------------------\u001b[0m",
      "\u001b[1;31mTypeError\u001b[0m                                 Traceback (most recent call last)",
      "\u001b[1;32m~\\AppData\\Local\\Temp\\ipykernel_8860\\2735556111.py\u001b[0m in \u001b[0;36m<module>\u001b[1;34m\u001b[0m\n\u001b[0;32m      3\u001b[0m \u001b[0mprint\u001b[0m\u001b[1;33m(\u001b[0m\u001b[0mset_3\u001b[0m\u001b[1;33m)\u001b[0m\u001b[1;33m\u001b[0m\u001b[1;33m\u001b[0m\u001b[0m\n\u001b[0;32m      4\u001b[0m \u001b[0mprint\u001b[0m\u001b[1;33m(\u001b[0m\u001b[0mset_5\u001b[0m\u001b[1;33m)\u001b[0m\u001b[1;33m\u001b[0m\u001b[1;33m\u001b[0m\u001b[0m\n\u001b[1;32m----> 5\u001b[1;33m \u001b[0mresult_set\u001b[0m \u001b[1;33m=\u001b[0m \u001b[0mset\u001b[0m\u001b[1;33m.\u001b[0m\u001b[0mintersection\u001b[0m\u001b[1;33m(\u001b[0m\u001b[1;34m'set_3'\u001b[0m\u001b[1;33m,\u001b[0m \u001b[1;34m'set_5'\u001b[0m\u001b[1;33m)\u001b[0m\u001b[1;33m\u001b[0m\u001b[1;33m\u001b[0m\u001b[0m\n\u001b[0m\u001b[0;32m      6\u001b[0m \u001b[0mprint\u001b[0m\u001b[1;33m(\u001b[0m\u001b[0mresult_set\u001b[0m\u001b[1;33m)\u001b[0m\u001b[1;33m\u001b[0m\u001b[1;33m\u001b[0m\u001b[0m\n",
      "\u001b[1;31mTypeError\u001b[0m: descriptor 'intersection' for 'set' objects doesn't apply to a 'str' object"
     ]
    }
   ],
   "source": [
    "set_3 = [i for i in range(101) if i % 3 == 0]\n",
    "set_5 = [i for i in range(101) if i % 5 == 0]\n",
    "print(set_3)\n",
    "print(set_5)\n",
    "result_set = set.intersection(set_3, set_5)\n",
    "print(result_set)"
   ]
  },
  {
   "cell_type": "code",
   "execution_count": 68,
   "id": "863f5ec5-6d64-4f16-825a-8dadb88557d1",
   "metadata": {},
   "outputs": [
    {
     "name": "stdout",
     "output_type": "stream",
     "text": [
      "{'인사 관리', '근태 관리', '구매 관리', '시스템 관리', '개인정보 조회', '회계 관리'}\n"
     ]
    }
   ],
   "source": [
    "#나의 코딩 방식\n",
    "role_admin = (\"회계 관리\", \"인사 관리\", \"구매 관리\", \"시스템 관리\")\n",
    "role_hr = (\"인사 관리\", \"개인정보 조회\", \"회계 관리\", \"근태 관리\")\n",
    "role_user = (\"개인정보 조회\", \"근태 관리\")\n",
    "result_set = role_admin + role_hr + role_user\n",
    "print(set(list(result_set)))"
   ]
  },
  {
   "cell_type": "code",
   "execution_count": null,
   "id": "1c2146f3-5f0e-4085-90d8-52e4f7eafc5a",
   "metadata": {},
   "outputs": [],
   "source": [
    "# 강사님 코딩 방식\n",
    "menus = list(set(role_admin + role_hr + role_user))\n",
    "menus.sort()\n",
    "end_char = \", \"\n",
    "for menu in menu:\n",
    "    if menus [-1] == "
   ]
  },
  {
   "cell_type": "code",
   "execution_count": null,
   "id": "742973f6-ba0a-4950-885f-36de8db2ff0f",
   "metadata": {},
   "outputs": [],
   "source": [
    "# 23-02-21(function) :프로그래밍에서 독립적으로 설계된 프로그램 코드의 집합입니다.\n",
    "# x = 함수명(인수, 인수,,...) \n",
    "# print(\"결과 값:\", X)\n",
    " # def 함수명(인자, 인자,...):\n",
    "    # 함수코드\n",
    "    # return 반환값\n",
    "# 위의 def는 함수를 정의하는 용어이다. 함수명은 snake case롤 만드는 것이 표준이다.\n",
    "# 인수 = argument, 인자 = parameter -> argument가 parameter에게 전달이 된다고 이해하면 된다.\n",
    "# arg가 부르면 def의 parmeter이 반응하고 다시 return하게 된다.\n",
    "# return은 함수의 호출부로 다시 돌아간다는 의미이다. 즉, 메인 코드로 돌아가는 것이다.\n",
    "# 우리가 사용하는 print(), list(), len(), reversed() 등 모든 것이 다 함수이다.따라서 함수라는 것은 반복 사용되는 코드를 용도에 맞게 함수 바디에 모아두고 재사용 가능하도록 호출 가능하게 만든 것이다.\n",
    "# 코드의 중복을 줄일 수 있어서 유지보수에 좋다. 그리고 재사용할 수 있다.\n",
    "# 함수 VS 메서드\n",
    " # 함수는 class에 포함되지 않는다. but 메서드는 class에 포함이 되어 객체를 통해서 호출이 된다.\n",
    "    # 함수명((인수1), (인수2),..) / 객체.메서드명((인수1), (인수2),...) -> 객체마다 사용 할 수 있는 메서드가 정해져 있다.\n",
    "    # 메서드는 class로부터 정의가 되어 있기 때문에 쓸수 있는 범위에 제한이 있다.\n",
    "    # 함수는 인수를 전달한다./ 매서드는 항상 앞에 객체를 써서 인수를 추출 해야한다. ->함수와 메서드는 뒤의 인수 즉 def가 똑같이 온다.\n",
    "\n",
    "# 함수의 정의(def) -> def 함수_이름((위치)인자, 위치_인자2, *가변_위치, 키워드_인자, 키워드_인자2, **가변_키워드):\n",
    "# def 함수 이름(위치, 키워드, 가변): -> 순서로 오게된다.\n",
    "#\"\"\"\n",
    "# Doc String을 적는 곳입니다.\n",
    "# 작성자 : 유승현\n",
    "# 작성일자 : 2023.02.21\n",
    "\n",
    "#\"\"\"\n",
    "#함수의 바디\n",
    "#함수의 바디\n",
    "\n",
    "#return 반환값\n",
    "\n",
    "\n",
    "\n",
    "\n",
    "# 함수의 정의 인자(parameter) - > 함수의 정의에서 함수가 받을 수 있는 변수입니다. 함수인자 혹은 매게변수라고 불린다.\n",
    "# 인자는 함수의 정의절에서 소괄호 안에 정의 됩니다. -> 위치 키워드, 위치 전용, 키워드 전용, 가변 위치, 가변 키워드 등 5가지의 종류가 있다.\n",
    "# \n"
   ]
  },
  {
   "cell_type": "code",
   "execution_count": 72,
   "id": "570bdba5-f49f-4973-9da7-77a97e41b386",
   "metadata": {},
   "outputs": [],
   "source": [
    "def print_ten():\n",
    "    \"\"\"print(\"hello\")를 열변 출력합니다.\"\"\" #Doc String부분이다.\n",
    "    for _ in range(10):\n",
    "        print(\"hello\")"
   ]
  },
  {
   "cell_type": "code",
   "execution_count": 76,
   "id": "08793759-9eb4-48df-8976-8100672ec268",
   "metadata": {},
   "outputs": [
    {
     "name": "stdout",
     "output_type": "stream",
     "text": [
      "hello\n",
      "hello\n",
      "hello\n",
      "hello\n",
      "hello\n",
      "hello\n",
      "hello\n",
      "hello\n",
      "hello\n",
      "hello\n"
     ]
    }
   ],
   "source": [
    "print_ten()"
   ]
  },
  {
   "cell_type": "code",
   "execution_count": 71,
   "id": "d67122e6-0373-4c39-984a-00aa6310cd9a",
   "metadata": {},
   "outputs": [
    {
     "ename": "AttributeError",
     "evalue": "'function' object has no attribute '_doc_'",
     "output_type": "error",
     "traceback": [
      "\u001b[1;31m---------------------------------------------------------------------------\u001b[0m",
      "\u001b[1;31mAttributeError\u001b[0m                            Traceback (most recent call last)",
      "\u001b[1;32m~\\AppData\\Local\\Temp\\ipykernel_8860\\2080900319.py\u001b[0m in \u001b[0;36m<module>\u001b[1;34m\u001b[0m\n\u001b[1;32m----> 1\u001b[1;33m \u001b[0mprint\u001b[0m\u001b[1;33m(\u001b[0m\u001b[0mprint_ten\u001b[0m\u001b[1;33m.\u001b[0m\u001b[0m_doc_\u001b[0m\u001b[1;33m)\u001b[0m\u001b[1;33m\u001b[0m\u001b[1;33m\u001b[0m\u001b[0m\n\u001b[0m",
      "\u001b[1;31mAttributeError\u001b[0m: 'function' object has no attribute '_doc_'"
     ]
    }
   ],
   "source": [
    "print(print_ten._doc_)"
   ]
  },
  {
   "cell_type": "code",
   "execution_count": 80,
   "id": "658aaa8e-9913-4005-bace-3bf3979403c5",
   "metadata": {},
   "outputs": [],
   "source": [
    "def print_ten(some_str):\n",
    "    \"\"\"print(\"hello\")를 열번 출력합니다.\"\"\"\n",
    "    for _ in range(10):\n",
    "        print(some_str)"
   ]
  },
  {
   "cell_type": "code",
   "execution_count": 87,
   "id": "c0b5053c-31f4-4e0e-842d-413ebdf5a700",
   "metadata": {},
   "outputs": [],
   "source": [
    "def greeting(name, age):\n",
    "    print(f\"{name} 씨 안녕하세요. 약 {age * 362.25} 일 되었습니다.\")"
   ]
  },
  {
   "cell_type": "code",
   "execution_count": 88,
   "id": "478aec48-3ccd-4869-b5ea-856ba8bdf2b5",
   "metadata": {},
   "outputs": [
    {
     "ename": "SyntaxError",
     "evalue": "unmatched ')' (21274679.py, line 1)",
     "output_type": "error",
     "traceback": [
      "\u001b[1;36m  File \u001b[1;32m\"C:\\Users\\Playdata\\AppData\\Local\\Temp\\ipykernel_8860\\21274679.py\"\u001b[1;36m, line \u001b[1;32m1\u001b[0m\n\u001b[1;33m    greeting(32, \"파이썬\"))\u001b[0m\n\u001b[1;37m                       ^\u001b[0m\n\u001b[1;31mSyntaxError\u001b[0m\u001b[1;31m:\u001b[0m unmatched ')'\n"
     ]
    }
   ],
   "source": [
    "greeting(32, \"파이썬\"))"
   ]
  },
  {
   "cell_type": "code",
   "execution_count": 89,
   "id": "a2ac16a6-3c45-4870-b64f-951f6c3405ac",
   "metadata": {},
   "outputs": [],
   "source": [
    "def greeting(name, age):\n",
    "    print(f\"{name} 씨 안녕하세요. 약 {age * 362.25}일 되었습니다.\")"
   ]
  },
  {
   "cell_type": "code",
   "execution_count": 90,
   "id": "fb5f150e-4967-4618-b7cc-fdac58070d6d",
   "metadata": {},
   "outputs": [
    {
     "name": "stdout",
     "output_type": "stream",
     "text": [
      "파이썬 씨 안녕하세요. 약 11592.0일 되었습니다.\n"
     ]
    }
   ],
   "source": [
    "greeting(age = 32, name = \"파이썬\") \n",
    "#위의 코딩을 참고해서 보면 위치는 그렇게 중요하지 않다는 것을 알 수 있다.\n",
    "# key-word 인수끼리 있는 것 들은 위치가 별로 안 중요하다. but 위치가 인수로 있는 것은 위치의 선택이 중요하다.\n",
    "#  즉 dict의 자료형(key, value)을 생각해보면 답이 나온다."
   ]
  },
  {
   "cell_type": "code",
   "execution_count": 91,
   "id": "289ffa22-49b0-4de0-a4bc-a4b69ebfc377",
   "metadata": {},
   "outputs": [
    {
     "ename": "SyntaxError",
     "evalue": "positional argument follows keyword argument (937194150.py, line 1)",
     "output_type": "error",
     "traceback": [
      "\u001b[1;36m  File \u001b[1;32m\"C:\\Users\\Playdata\\AppData\\Local\\Temp\\ipykernel_8860\\937194150.py\"\u001b[1;36m, line \u001b[1;32m1\u001b[0m\n\u001b[1;33m    greeting(name=\"파이썬\", 32)\u001b[0m\n\u001b[1;37m                           ^\u001b[0m\n\u001b[1;31mSyntaxError\u001b[0m\u001b[1;31m:\u001b[0m positional argument follows keyword argument\n"
     ]
    }
   ],
   "source": [
    "greeting(name=\"파이썬\", 32)\n",
    "# 위치 인수를 먼저 작성하고 키워드 인수를 뒤에 작성해야 한다."
   ]
  },
  {
   "cell_type": "code",
   "execution_count": 92,
   "id": "8ca461a0-5975-428d-88f9-95b769827bfc",
   "metadata": {},
   "outputs": [],
   "source": [
    "# 함수 정의\n",
    "def greeting(name, age):\n",
    "    print(f\" {name}씨 안녕하세요. 약 {age * 365.25} 일 되었습니다.\")"
   ]
  },
  {
   "cell_type": "code",
   "execution_count": 93,
   "id": "35bda3ff-38bd-4c09-9307-3bfc3cd0bd8f",
   "metadata": {},
   "outputs": [
    {
     "name": "stdout",
     "output_type": "stream",
     "text": [
      " 파이썬씨 안녕하세요. 약 11688.0 일 되었습니다.\n"
     ]
    }
   ],
   "source": [
    "# 함수 호출(위치 인수만으로 호출 하고 있다. 위치 인수는 순서가 중요하다)\n",
    "greeting(\"파이썬\", 32)"
   ]
  },
  {
   "cell_type": "code",
   "execution_count": 94,
   "id": "da2d8580-6411-490c-b1fb-45b5e270a703",
   "metadata": {},
   "outputs": [
    {
     "name": "stdout",
     "output_type": "stream",
     "text": [
      " 파이썬씨 안녕하세요. 약 11688.0 일 되었습니다.\n"
     ]
    }
   ],
   "source": [
    "# 함수 호출(키워드 인수로만 호출하고 있다.)\n",
    "greeting(name=\"파이썬\", age=32)"
   ]
  },
  {
   "cell_type": "code",
   "execution_count": 95,
   "id": "7d1a68e5-fab7-4074-91c6-e7cc86926c82",
   "metadata": {},
   "outputs": [
    {
     "name": "stdout",
     "output_type": "stream",
     "text": [
      " 파이썬씨 안녕하세요. 약 11688.0 일 되었습니다.\n"
     ]
    }
   ],
   "source": [
    "#함수 호출(위치 인수와 키워드 인수로 호출하고 있습니다. 위치 인수가 키워드 인수보다 먼저 위치해야 합니다.\n",
    "greeting(\"파이썬\", age=32)"
   ]
  },
  {
   "cell_type": "code",
   "execution_count": 96,
   "id": "3ec3961d-4a07-4334-bc6f-8b0af6c97b29",
   "metadata": {},
   "outputs": [
    {
     "name": "stdout",
     "output_type": "stream",
     "text": [
      " 파이썬씨 안녕하세요. 약 11688.0 일 되었습니다.\n"
     ]
    }
   ],
   "source": [
    "# 함수 호출(키워드 인수만으로 호출할 때 키워드 인수 간에 순서는 상관 없습니다.)\n",
    "greeting(age=32, name=\"파이썬\")"
   ]
  },
  {
   "cell_type": "code",
   "execution_count": 99,
   "id": "d63d4f54-5e91-4e50-9bdb-d0f43e481117",
   "metadata": {},
   "outputs": [],
   "source": [
    "def posonly(posonly,/): # /를 인자로 위치시키면 그 왼편의 parameter는 positional-only parameter가 됩니다.\n",
    "    print(posonly)\n",
    "# 위치 전용 인자가 된다. 따라서 위치전용 인자는 /의 왼쪽에 적으면 된다."
   ]
  },
  {
   "cell_type": "code",
   "execution_count": 100,
   "id": "b3848f09-01e4-4d1f-8692-147319cdd444",
   "metadata": {},
   "outputs": [
    {
     "ename": "TypeError",
     "evalue": "posonly() got some positional-only arguments passed as keyword arguments: 'posonly'",
     "output_type": "error",
     "traceback": [
      "\u001b[1;31m---------------------------------------------------------------------------\u001b[0m",
      "\u001b[1;31mTypeError\u001b[0m                                 Traceback (most recent call last)",
      "\u001b[1;32m~\\AppData\\Local\\Temp\\ipykernel_8860\\2146950883.py\u001b[0m in \u001b[0;36m<module>\u001b[1;34m\u001b[0m\n\u001b[1;32m----> 1\u001b[1;33m \u001b[0mposonly\u001b[0m\u001b[1;33m(\u001b[0m\u001b[0mposonly\u001b[0m\u001b[1;33m=\u001b[0m\u001b[1;34m\"키워드 인수로 전달하면 오류 발생!\"\u001b[0m\u001b[1;33m)\u001b[0m\u001b[1;33m\u001b[0m\u001b[1;33m\u001b[0m\u001b[0m\n\u001b[0m",
      "\u001b[1;31mTypeError\u001b[0m: posonly() got some positional-only arguments passed as keyword arguments: 'posonly'"
     ]
    }
   ],
   "source": [
    "posonly(posonly=\"키워드 인수로 전달하면 오류 발생!\")"
   ]
  },
  {
   "cell_type": "code",
   "execution_count": 101,
   "id": "ff104a42-7c37-4a8e-a308-39985c7a7801",
   "metadata": {},
   "outputs": [],
   "source": [
    "def keyonly(*, keyonly=\"default\"):\n",
    "    print(keyonly)\n",
    "# keyword-only parameter도 기본 값 설정이 가능하다."
   ]
  },
  {
   "cell_type": "code",
   "execution_count": 103,
   "id": "85654c93-8160-4711-89ff-a227a4f776ba",
   "metadata": {},
   "outputs": [
    {
     "name": "stdout",
     "output_type": "stream",
     "text": [
      "print할 값\n"
     ]
    }
   ],
   "source": [
    "keyonly(keyonly=\"print할 값\")"
   ]
  },
  {
   "cell_type": "code",
   "execution_count": 104,
   "id": "70339192-e9ed-4c31-88fd-17f57fde979c",
   "metadata": {},
   "outputs": [],
   "source": [
    "def keyonly(*, keyonly):\n",
    "    print(keyonly)"
   ]
  },
  {
   "cell_type": "code",
   "execution_count": 105,
   "id": "c3cc6a0a-0771-4e51-b8ad-0a68e0410537",
   "metadata": {},
   "outputs": [
    {
     "ename": "TypeError",
     "evalue": "keyonly() takes 0 positional arguments but 1 was given",
     "output_type": "error",
     "traceback": [
      "\u001b[1;31m---------------------------------------------------------------------------\u001b[0m",
      "\u001b[1;31mTypeError\u001b[0m                                 Traceback (most recent call last)",
      "\u001b[1;32m~\\AppData\\Local\\Temp\\ipykernel_8860\\2852538585.py\u001b[0m in \u001b[0;36m<module>\u001b[1;34m\u001b[0m\n\u001b[1;32m----> 1\u001b[1;33m \u001b[0mkeyonly\u001b[0m\u001b[1;33m(\u001b[0m\u001b[1;34m\"키워드로만 입력해야 합니다.\"\u001b[0m\u001b[1;33m)\u001b[0m\u001b[1;33m\u001b[0m\u001b[1;33m\u001b[0m\u001b[0m\n\u001b[0m",
      "\u001b[1;31mTypeError\u001b[0m: keyonly() takes 0 positional arguments but 1 was given"
     ]
    }
   ],
   "source": [
    "keyonly(\"키워드로만 입력해야 합니다.\")"
   ]
  },
  {
   "cell_type": "code",
   "execution_count": 106,
   "id": "166c2a50-ce61-4868-82f1-8f8ed7c530d4",
   "metadata": {},
   "outputs": [],
   "source": [
    "def var_positional(*args):\n",
    "    print(type(args))\n",
    "    return sum([_ for _ in args])\n",
    "# 가변-위치인자 - > 가변 변수로 사용할 변수 앞에 *를 하나 붙이면 가변-위치 인자로 사용할 수 있습니다.\n",
    "# args : 가변-위치 인자에 전달할 위치 인수들을 tuple로 packing 한 뒤 전달 합니다."
   ]
  },
  {
   "cell_type": "code",
   "execution_count": 108,
   "id": "39352e84-aa02-47d8-8897-56b4cf9b91a2",
   "metadata": {},
   "outputs": [
    {
     "name": "stdout",
     "output_type": "stream",
     "text": [
      "<class 'tuple'>\n",
      "15\n"
     ]
    }
   ],
   "source": [
    "print(var_positional(1, 2, 3, 4, 5))"
   ]
  },
  {
   "cell_type": "code",
   "execution_count": 109,
   "id": "b82ff895-06c4-43bc-9976-9d243e74d85f",
   "metadata": {},
   "outputs": [],
   "source": [
    "def var_keyword(**kargs):\n",
    "    print(type(kargs))\n",
    "    return kargs\n",
    "# dict(key=\"value\", key2=\"value2\") - > packing이 되었다./ = kargs 이다."
   ]
  },
  {
   "cell_type": "code",
   "execution_count": null,
   "id": "4f6d2259-f977-4040-ae00-b03daf016f4f",
   "metadata": {},
   "outputs": [
    {
     "name": "stdout",
     "output_type": "stream",
     "text": [
      "<class 'dict'>\n",
      "{'key': 'value', 'key2': 'value2'}\n"
     ]
    }
   ],
   "source": [
    "print(var_keyword(key=\"value\", key2=\"value2\"))"
   ]
  },
  {
   "cell_type": "code",
   "execution_count": null,
   "id": "36c022e4-9578-4a70-84e8-9a0da0e44cf7",
   "metadata": {},
   "outputs": [],
   "source": [
    "# 함수의 정의(5가지 인자)\n",
    " # 미리 정의 해둔 정의절을 실행해야 호출이 가능하기 떄문에 5가지 인자에 대한 정의를 한다.\n",
    " # def 함수_이름(위치_인자*가변_위치,키워드_위치\n",
    "# return -> keyword를 만나면 함수를 빠져나간다.\n",
    "# x =함수명(인수, 인수,...)\n",
    "#  print(\"결과 값:\", X)\n",
    "# def 함수명(인자, 인자,...):"
   ]
  },
  {
   "cell_type": "code",
   "execution_count": 163,
   "id": "1aa8bfc0-e0b1-4d94-871d-1752bc2e4eb2",
   "metadata": {},
   "outputs": [],
   "source": [
    "# 각 입력받은 정수를 10씩 더해서 반환하는 함수를 만들어보세요.\n",
    "def plus_ten(num):\n",
    "    return num + 10"
   ]
  },
  {
   "cell_type": "code",
   "execution_count": 162,
   "id": "8f5137f2-a638-4de1-b5c2-91ac335d8022",
   "metadata": {},
   "outputs": [
    {
     "name": "stdout",
     "output_type": "stream",
     "text": [
      "80\n"
     ]
    }
   ],
   "source": [
    "print(plus_ten(70))"
   ]
  },
  {
   "cell_type": "code",
   "execution_count": 155,
   "id": "2c175ba7-3989-46cf-93fb-5cc6457677fc",
   "metadata": {},
   "outputs": [],
   "source": [
    "def 함수_이름(위치_인자, 위치_인자2, *가변_위치, 키워드_인자, 키워드_인자2, **가변_키원드):\n",
    "    \"\"\"Doc String\n",
    "    작성자 : 유승현\n",
    "    작성일자 : 23-02-21\n",
    "    \"\"\"\n",
    "    return 반환값\n",
    "# arg = 후출하는 부분 \n",
    "# par =정의되는 부분"
   ]
  },
  {
   "cell_type": "code",
   "execution_count": 156,
   "id": "deb27dd2-beef-4e19-ac1b-fcdb421cad08",
   "metadata": {},
   "outputs": [],
   "source": [
    "def to_celsius(temperature):\n",
    "    return ((temperature - 32) * (5/9))"
   ]
  },
  {
   "cell_type": "code",
   "execution_count": 158,
   "id": "7df5c81f-8a69-4c00-b5af-a119499cf72d",
   "metadata": {},
   "outputs": [
    {
     "name": "stdout",
     "output_type": "stream",
     "text": [
      "21.11111111111111\n"
     ]
    }
   ],
   "source": [
    "print(to_celsius(70))"
   ]
  },
  {
   "cell_type": "code",
   "execution_count": 166,
   "id": "b02c0fd6-48d2-4595-9d78-7bc094bd7c4f",
   "metadata": {},
   "outputs": [],
   "source": [
    "# 강사님 코딩 방식\n",
    "def to_celsius(fahrenheit):\n",
    "    return((fahrenheit -32) * (5/9))"
   ]
  },
  {
   "cell_type": "code",
   "execution_count": 22,
   "id": "cf16bb0e-3eb9-4176-98b7-6736793b7bbe",
   "metadata": {},
   "outputs": [],
   "source": [
    "def to_int(odd_even):\n",
    "    if odd_even % 2 == 0:\n",
    "        return (\"짝수\")\n",
    "    elif odd_even % 3 == 0:\n",
    "        return (\"홀수\")\n",
    "    elif odd_even is not float:\n",
    "        return (\"None\")"
   ]
  },
  {
   "cell_type": "code",
   "execution_count": 23,
   "id": "a97d28ea-7fd3-4c8d-ab82-09aaacb09c46",
   "metadata": {},
   "outputs": [
    {
     "name": "stdout",
     "output_type": "stream",
     "text": [
      "짝수\n",
      "홀수\n"
     ]
    },
    {
     "ename": "TypeError",
     "evalue": "not all arguments converted during string formatting",
     "output_type": "error",
     "traceback": [
      "\u001b[1;31m---------------------------------------------------------------------------\u001b[0m",
      "\u001b[1;31mTypeError\u001b[0m                                 Traceback (most recent call last)",
      "\u001b[1;32m~\\AppData\\Local\\Temp\\ipykernel_1064\\2624549419.py\u001b[0m in \u001b[0;36m<module>\u001b[1;34m\u001b[0m\n\u001b[0;32m      1\u001b[0m \u001b[0mprint\u001b[0m\u001b[1;33m(\u001b[0m\u001b[0mto_int\u001b[0m\u001b[1;33m(\u001b[0m\u001b[1;36m10\u001b[0m\u001b[1;33m)\u001b[0m\u001b[1;33m)\u001b[0m\u001b[1;33m\u001b[0m\u001b[1;33m\u001b[0m\u001b[0m\n\u001b[0;32m      2\u001b[0m \u001b[0mprint\u001b[0m\u001b[1;33m(\u001b[0m\u001b[0mto_int\u001b[0m\u001b[1;33m(\u001b[0m\u001b[1;36m9\u001b[0m\u001b[1;33m)\u001b[0m\u001b[1;33m)\u001b[0m\u001b[1;33m\u001b[0m\u001b[1;33m\u001b[0m\u001b[0m\n\u001b[1;32m----> 3\u001b[1;33m \u001b[0mprint\u001b[0m\u001b[1;33m(\u001b[0m\u001b[0mto_int\u001b[0m\u001b[1;33m(\u001b[0m\u001b[1;34m\"가\"\u001b[0m\u001b[1;33m)\u001b[0m\u001b[1;33m)\u001b[0m\u001b[1;33m\u001b[0m\u001b[1;33m\u001b[0m\u001b[0m\n\u001b[0m",
      "\u001b[1;32m~\\AppData\\Local\\Temp\\ipykernel_1064\\632501990.py\u001b[0m in \u001b[0;36mto_int\u001b[1;34m(odd_even)\u001b[0m\n\u001b[0;32m      1\u001b[0m \u001b[1;32mdef\u001b[0m \u001b[0mto_int\u001b[0m\u001b[1;33m(\u001b[0m\u001b[0modd_even\u001b[0m\u001b[1;33m)\u001b[0m\u001b[1;33m:\u001b[0m\u001b[1;33m\u001b[0m\u001b[1;33m\u001b[0m\u001b[0m\n\u001b[1;32m----> 2\u001b[1;33m     \u001b[1;32mif\u001b[0m \u001b[0modd_even\u001b[0m \u001b[1;33m%\u001b[0m \u001b[1;36m2\u001b[0m \u001b[1;33m==\u001b[0m \u001b[1;36m0\u001b[0m\u001b[1;33m:\u001b[0m\u001b[1;33m\u001b[0m\u001b[1;33m\u001b[0m\u001b[0m\n\u001b[0m\u001b[0;32m      3\u001b[0m         \u001b[1;32mreturn\u001b[0m \u001b[1;33m(\u001b[0m\u001b[1;34m\"짝수\"\u001b[0m\u001b[1;33m)\u001b[0m\u001b[1;33m\u001b[0m\u001b[1;33m\u001b[0m\u001b[0m\n\u001b[0;32m      4\u001b[0m     \u001b[1;32melif\u001b[0m \u001b[0modd_even\u001b[0m \u001b[1;33m%\u001b[0m \u001b[1;36m3\u001b[0m \u001b[1;33m==\u001b[0m \u001b[1;36m0\u001b[0m\u001b[1;33m:\u001b[0m\u001b[1;33m\u001b[0m\u001b[1;33m\u001b[0m\u001b[0m\n\u001b[0;32m      5\u001b[0m         \u001b[1;32mreturn\u001b[0m \u001b[1;33m(\u001b[0m\u001b[1;34m\"홀수\"\u001b[0m\u001b[1;33m)\u001b[0m\u001b[1;33m\u001b[0m\u001b[1;33m\u001b[0m\u001b[0m\n",
      "\u001b[1;31mTypeError\u001b[0m: not all arguments converted during string formatting"
     ]
    }
   ],
   "source": [
    "print(to_int(10))\n",
    "print(to_int(9))\n",
    "print(to_int(\"가\"))"
   ]
  },
  {
   "cell_type": "code",
   "execution_count": 24,
   "id": "fd8c63f0-c1e4-4ea8-b57e-a2e7baf1d884",
   "metadata": {},
   "outputs": [],
   "source": [
    "# 강사님 코딩 방식\n",
    "# 자연수를 인수로 전달하면 짝수일 때 \"짝수\"라는 문자열을, 홀수일 때\"홀수\"라는 문자열을 반환하는 함수를 만들어보세요\n",
    "def odd_even(number):\n",
    "    \"\"\"number가 짝수면 \"짝수\", 홀수면 \"홀수\" 반환\"\"\"\n",
    "    if type(number)is int and number > 0:\n",
    "        return \"짝수\" *(number % 2 == 0) or \"홀수\"\n",
    "    else:\n",
    "        return"
   ]
  },
  {
   "cell_type": "code",
   "execution_count": 30,
   "id": "1412a553-6389-4437-845b-70630a86f27e",
   "metadata": {},
   "outputs": [
    {
     "name": "stdout",
     "output_type": "stream",
     "text": [
      "짝수\n",
      "홀수\n",
      "None\n"
     ]
    }
   ],
   "source": [
    "print(odd_even(10))\n",
    "print(odd_even(9))\n",
    "print(odd_even(\"가\"))"
   ]
  },
  {
   "cell_type": "code",
   "execution_count": 41,
   "id": "625299f9-2a41-4e69-9e6c-72e2a41253e9",
   "metadata": {},
   "outputs": [],
   "source": [
    "def check_leap_year(year):\n",
    "    if(year % 100 == 0 and year % 400 != 0):\n",
    "        return(\"평년입니다.\")\n",
    "    elif(year % 4 == 0):\n",
    "        return(\"윤년입니다.\")\n",
    "    else:\n",
    "        return(\"평년입니다.\")"
   ]
  },
  {
   "cell_type": "code",
   "execution_count": 44,
   "id": "3466e036-6d5a-475e-81dc-840f11fa0ad1",
   "metadata": {},
   "outputs": [
    {
     "name": "stdout",
     "output_type": "stream",
     "text": [
      "윤년입니다.\n",
      "윤년입니다.\n",
      "평년입니다.\n"
     ]
    }
   ],
   "source": [
    "print(check_leap_year(2004))\n",
    "print(check_leap_year(2000))\n",
    "print(check_leap_year(1900))"
   ]
  },
  {
   "cell_type": "code",
   "execution_count": 18,
   "id": "8588156e-d98b-4179-82dc-1c64e7565466",
   "metadata": {},
   "outputs": [],
   "source": [
    "def check_leap_year(year):\n",
    "    if year % 4 == 0 or (year % 100 != 0 and year % 400 == 0):\n",
    "        return \"윤년입니다.\"\n",
    "    else:\n",
    "        return(\"평년입니다.\")"
   ]
  },
  {
   "cell_type": "code",
   "execution_count": 19,
   "id": "47e48784-fc70-4cf9-aad7-f812cb0e070e",
   "metadata": {},
   "outputs": [
    {
     "name": "stdout",
     "output_type": "stream",
     "text": [
      "윤년입니다.\n",
      "윤년입니다.\n",
      "윤년입니다.\n"
     ]
    }
   ],
   "source": [
    "print(check_leap_year(2004))\n",
    "print(check_leap_year(2000))\n",
    "print(check_leap_year(1900))"
   ]
  },
  {
   "cell_type": "code",
   "execution_count": 51,
   "id": "5649186f-c78d-4a25-b135-d66acb936e5a",
   "metadata": {},
   "outputs": [],
   "source": [
    "def check_leap_year(month):\n",
    "    if month == 1 and 3 and 5 and 7 and 8 and 10 and 12:\n",
    "        return \"31\"\n",
    "    elif month == 4 and 6 and 9 and 11:\n",
    "         return \"30\"\n",
    "    elif month == 2:\n",
    "        return \"28\"        "
   ]
  },
  {
   "cell_type": "code",
   "execution_count": 52,
   "id": "272232be-3b76-4fb2-8537-ec6be6f1dd65",
   "metadata": {},
   "outputs": [
    {
     "name": "stdout",
     "output_type": "stream",
     "text": [
      "None\n",
      "28\n",
      "31\n"
     ]
    }
   ],
   "source": [
    "print(check_leap_year(11))\n",
    "print(check_leap_year(2))    \n",
    "print(check_leap_year(1))     "
   ]
  },
  {
   "cell_type": "code",
   "execution_count": 94,
   "id": "290b6df3-896b-42f4-9c05-a6d055bc0da2",
   "metadata": {},
   "outputs": [],
   "source": [
    "def check_leap_year(year, month):\n",
    "    if (year % 100 == 0 and year % 400 != 0) and (month == 2):\n",
    "        return \"28\"\n",
    "    elif (year % 100 != 0 and year % 400 == 0) and (month == 2):\n",
    "        return \"29\"\n",
    "    elif (year % 4 != 0) and (month == 2):\n",
    "        return \"28\"    \n",
    "    elif (year % 4 == 0) and (month == 2):\n",
    "        return \"29\"\n",
    "    elif (year % 4 != 0) and (month == 4 or 6 or 9 or 11):\n",
    "        return \"30\"\n",
    "    elif (year % 4 == 0) and (month == 4 or 6 or 9 or 11):\n",
    "        return \"30\"\n",
    "    elif (year % 4 != 0) and (month == 1 or 3 or 5 or 7 or 8 or 10 or 12):\n",
    "        return \"31\"\n",
    "    elif (year % 4 == 0) and (month == 1 or 3 or 5 or 7 or 8 or 10 or 12):\n",
    "        return \"31\""
   ]
  },
  {
   "cell_type": "code",
   "execution_count": 95,
   "id": "23f0a9b7-8cad-4348-9180-dae3450f4d0a",
   "metadata": {},
   "outputs": [
    {
     "name": "stdout",
     "output_type": "stream",
     "text": [
      "30\n",
      "30\n",
      "28\n",
      "29\n"
     ]
    }
   ],
   "source": [
    "print(check_leap_year(1900, 11))\n",
    "print(check_leap_year(2004, 10))\n",
    "print(check_leap_year(1900, 2))\n",
    "print(check_leap_year(2000, 2))"
   ]
  },
  {
   "cell_type": "code",
   "execution_count": null,
   "id": "5a3b23aa-a869-467a-b042-9523ccddd002",
   "metadata": {},
   "outputs": [],
   "source": [
    "# 전역 변수(global variable)\n",
    "# 제일 바깥 영역(들여쓰기 없이 쓴 영역)인 전역 범위에서 변수를 선언하고 활용.\n",
    "# 전역 범위에서 선언했기 때문에 그 변수를 스트립트 전체에서 접근이 가능하다. 따라서 그 변수를 전역 변수라고 한다.\n",
    "# global_variable = \"this is gloabal world.\"\n",
    "\n",
    "# def local_world() -> 지역 변수 \n",
    "# def my_little_world():\n",
    "    # my_variable = \" This is my little world.'\n",
    "    #print(my_variable)\n",
    "#지역 변수는 범위가 정해져 있다. 따라서 범위를 벗어나게 되면 에러가 발생하므로 local scope에서만 사용이 가능하다."
   ]
  },
  {
   "cell_type": "code",
   "execution_count": 97,
   "id": "adab6f74-4c0a-4485-b903-fb3422c187c3",
   "metadata": {},
   "outputs": [
    {
     "name": "stdout",
     "output_type": "stream",
     "text": [
      "중요한 것은 꺽이지 않는 마음\n"
     ]
    }
   ],
   "source": [
    "inportant_is_an_unbroken_heart = \"중요한 것은 꺽이지 않는 마음\"\n",
    "def trials_and_tribulations():\n",
    "    important_is_an_unbroken_heart = \"흔들흔들\"\n",
    "trials_and_tribulations()\n",
    "print(inportant_is_an_unbroken_heart)"
   ]
  },
  {
   "cell_type": "code",
   "execution_count": 98,
   "id": "8635f84d-7f9a-4665-ae8a-9f275c50f9eb",
   "metadata": {},
   "outputs": [
    {
     "name": "stdout",
     "output_type": "stream",
     "text": [
      "global 키워드 활용해서 변경 완료\n"
     ]
    }
   ],
   "source": [
    "global_variable = \"변경이 됩니까?\"\n",
    "def heartbreaker():\n",
    "    global global_variable\n",
    "    global_variable = \"global 키워드 활용해서 변경 완료\"\n",
    "    \n",
    "heartbreaker()\n",
    "print(global_variable)\n",
    "\n",
    "# 지역범위에서 전역 변수를 변경하고자 한다면 global을 사용하면 변경이 가능하다.\n",
    "# global을 사용할 경우 반드시 띄어쓰기 실시 할 것."
   ]
  },
  {
   "cell_type": "code",
   "execution_count": 99,
   "id": "bea54f63-9192-4dc9-b0d9-bdfc96708696",
   "metadata": {},
   "outputs": [],
   "source": [
    "def level1():\n",
    "    message = \"This is level 1.\"\n",
    "    def level2():\n",
    "        print(message)\n",
    "    level2()       \n",
    "\n",
    "# def level1은 바깥 함수/ def level2는 안쪽 함수\n",
    "# 안쪽 함수는 바깥쪽 함수의 변수 값 변경에 실패했다."
   ]
  },
  {
   "cell_type": "code",
   "execution_count": 102,
   "id": "567b3ecf-b8fc-4aa4-a67e-ade4d0cd1714",
   "metadata": {},
   "outputs": [
    {
     "name": "stdout",
     "output_type": "stream",
     "text": [
      "This is level 1.\n"
     ]
    }
   ],
   "source": [
    "level1()"
   ]
  },
  {
   "cell_type": "code",
   "execution_count": null,
   "id": "e06b926a-e040-4227-a886-dc2be3672ccb",
   "metadata": {},
   "outputs": [],
   "source": [
    "# 안쪽 함수에서 바깥쪽 함수 변경을 하고자 하는 경우 nonlocal 함수를 사용하면 된다.\n",
    "def level1():\n",
    "    message = \" This is level 1.\"\n",
    "    def level2():\n",
    "        nonlocal message"
   ]
  },
  {
   "cell_type": "code",
   "execution_count": null,
   "id": "08d22d8b-252d-4970-9088-fe459a6c7797",
   "metadata": {},
   "outputs": [],
   "source": [
    "#global, nonlocal 특징과 권고사항\n",
    " # 1. global 키워드는 함수의 중첩된 정도와 상관없이 전역 범위의 변수를 매칭합니다. \n",
    " # 2. 중첩된 함수마다 같은 이름의 변수가 있다면 nonlocal 키워드는 제일 가까운 바깥 변수를 매칭 합니다.\n",
    " # 3. 가급적이면 함수마다 이름이 같은 변수를 사용하기보단 다른 변수명을 사용하는게 좋습니다.\n",
    "    \n",
    "# 람다(Lambda)\n",
    "# lambda[parameters]:expression\n",
    "# def func_name(parameter):\n",
    "  # return expression    "
   ]
  },
  {
   "cell_type": "code",
   "execution_count": 106,
   "id": "4cbe0b76-1072-4441-b6b0-80c4f8b06071",
   "metadata": {},
   "outputs": [
    {
     "data": {
      "text/plain": [
       "20"
      ]
     },
     "execution_count": 106,
     "metadata": {},
     "output_type": "execute_result"
    }
   ],
   "source": [
    "(lambda x: x + 10)(10)\n",
    "# 뒤쪽의 괄호는 arg\n",
    "# variable = lambda[parameters]: expression\n",
    "# variable(argument)"
   ]
  },
  {
   "cell_type": "code",
   "execution_count": 110,
   "id": "e9347763-8747-46ed-a267-44388c84a437",
   "metadata": {},
   "outputs": [
    {
     "name": "stdout",
     "output_type": "stream",
     "text": [
      "20\n"
     ]
    }
   ],
   "source": [
    "twice = lambda x: x*2\n",
    "print(twice(10))"
   ]
  },
  {
   "cell_type": "code",
   "execution_count": 111,
   "id": "00d542ea-87d0-41db-b689-a03a0fe6965f",
   "metadata": {},
   "outputs": [
    {
     "ename": "SyntaxError",
     "evalue": "invalid syntax (3639894973.py, line 3)",
     "output_type": "error",
     "traceback": [
      "\u001b[1;36m  File \u001b[1;32m\"C:\\Users\\Playdata\\AppData\\Local\\Temp\\ipykernel_1532\\3639894973.py\"\u001b[1;36m, line \u001b[1;32m3\u001b[0m\n\u001b[1;33m    (lambda x: y=10; x + y)(1)\u001b[0m\n\u001b[1;37m                ^\u001b[0m\n\u001b[1;31mSyntaxError\u001b[0m\u001b[1;31m:\u001b[0m invalid syntax\n"
     ]
    }
   ],
   "source": [
    "#lambda의 expression\n",
    "# 람다의 expression부분은 변수 없이 식 한줄로 표현 가능해야 한다.\n",
    "(lambda x: y=10; x + y)(1) # 콜론의 오른쪽에는 변수를 설정 할 수 없다.\n",
    "# 유효하지 않는 문법적인 오류가 나오게 된다."
   ]
  },
  {
   "cell_type": "code",
   "execution_count": 120,
   "id": "a2bd8512-36df-43fd-80bd-52fd194b7603",
   "metadata": {},
   "outputs": [
    {
     "name": "stdout",
     "output_type": "stream",
     "text": [
      "[2, 8, 18, 32, 50]\n"
     ]
    },
    {
     "data": {
      "text/plain": [
       "[3, 9, 9]"
      ]
     },
     "execution_count": 120,
     "metadata": {},
     "output_type": "execute_result"
    }
   ],
   "source": [
    "# if else를 한줄로 작성하기/ 중첩이 많은 경우 가독성이 떨어지게 된다 그러니 필요한 순간에만 사용하자.\n",
    "# True일때 값 if 조건식 else False일때 값\n",
    "score = 90\n",
    "'A' if 90<score<=100 else 'B' if 80<score else 'C'\n",
    "\n",
    "# lambda와 map 함수를 같이 쓸때\n",
    "# map(lambda parameter1, paramater2, ...: expression, iterable1, iterable2, ...)\n",
    "a = [_ for _ in range(1, 6)]\n",
    "b = [_ for _ in range(2, 11, 2)]\n",
    "print(list(map(lambda x, y: x * y, a, b)))\n",
    "# lambda는 여러번 사용하는 함수를 지속적으로 작성하면 시간이 불필요하게 소비되니 자주 사용하는 것은 미리 만들어 놓는 다는 개념이다.\n",
    "\n",
    "a = [3, 2, 8, 22, 10, 7, 0, 11, 9 , 9]\n",
    "list(filter(lambda x: x % 3 == 0 and 0 < x < 10, a))\n",
    "\n",
    "# 객체지향 프로그래밍 이란 무엇인가?\n",
    " # 복잡한 문제를 잘게 나누어 객체로 만들고, 객체를 조합해서 문제를 해결하는 것이다.\n",
    " # 현실 세계의 복잡한 문제를 처리하는데 유용하며 기능을 개선하고 발전시킬 때도 해당 클래스만 수정하면 되므로 큰 프로젝트의 유지보수에도 매우 유용하디.\n",
    " # 객체가 가진 데이터를 클래스의 속성이라고 부르고 객체가 갖는 기능을 매서드 라고 부릅니다.\n",
    " #    "
   ]
  },
  {
   "cell_type": "code",
   "execution_count": null,
   "id": "d1aa153f-c5a1-4df7-a8a5-b96d612eb843",
   "metadata": {},
   "outputs": [],
   "source": [
    "# 클래스는 사용자 정의 객체를 만들기 위한 주형(주조틀)이다. 클래스 정의는 보통 클래스의 인스턴스를 대상으로 연산하는 메서드 정의를 포함하고 있다.\n",
    "# 클래스 이름은 한칸 띄고 PascalCase방식으로 기입한다.\n",
    "# int, list, dict등도 모두 클래스 입니다. 이 클래스를 통해서 인스턴스를 만들고 메서드를 만듭니다.\n",
    "#class Classname:\n",
    "    #def method_name(self):\n",
    "        #method_body\n",
    "        \n",
    "    #class_body\n",
    "    #...\n",
    "\n",
    "# 객체? 인스턴스?\n",
    " # 객체를 언급할 때 단어 하나만 활용하여 단지 '객체'라고 표한합니다. 인스턴스는 특정 클래스로부터 만들어진 실체로 언급되어진다.\n",
    " # 객체는 일반적으로 표현하는 말, 인스턴스는 구체적으로 표현하는 말이다.\n",
    " # 인스턴스의 생성은 -> instance_variable = Classname() \n",
    "\n",
    "# 메서드\n",
    " # 클래스 바디안에 정의되어 있는 함수이다.\n",
    " # 첫번째 인자를 인스턴스 객체를 self라고 서술해야 한다. 그렇지 않으면 오류가 나게 된다.\n",
    "\n",
    "# 클래스 속성\n",
    " # _init_메서드 안에서 self.속성에 값을 할당하면 됩니다. "
   ]
  },
  {
   "cell_type": "code",
   "execution_count": null,
   "id": "f938db77-1e20-4d73-a293-efc581bf8218",
   "metadata": {},
   "outputs": [],
   "source": [
    "# 23-02-22(yesterday review)\n",
    "# 오늘 내일은 SQL 나간다(기본적인 것만 학습 나머지는 튜토리얼을 보고 학습하기)\n",
    "# 함수(function)\n",
    " # def 함수명(리터럴):\n",
    "     # return(리터럴)\n",
    "\n",
    "# return (리터럴) -> 리터럴에 입력되는 값이 print되어서 나오게 되는 것이다.\n",
    "# return과 print는 다른 개념이다. 정리를 제대로 하기.\n",
    "# 객체지향 파스칼 케이스 : 단어마다 대문자로 형성하는 것을 의미한다.\n",
    " # 객체가 기진 데이터는 클래스라고 부른다. 그리고 객체가 가지는 기능은 메서드라고 부른다.\n",
    " # 클래스(instance) = 객체/ \n",
    " # 클래스를 만들때 -> class ClassName:\n",
    "                         def method_name(self):\n",
    "                            method_body\n",
    "                        class_body\n",
    "                        ...\n",
    " # ClassName를 '개'라고 하면 뒤에 오는 것은 '동물'이라는 단어가 온다.\n",
    " # "
   ]
  },
  {
   "cell_type": "code",
   "execution_count": 28,
   "id": "5de6700c-90dd-42f4-8e15-5a02e8245f6b",
   "metadata": {},
   "outputs": [],
   "source": [
    "class Student:\n",
    "    # 생성자 : 객체가 최초 실행될 때\n",
    "    # 단 한 번 실행되는 메서드\n",
    "    def __init__(self):\n",
    "        # self라는 것은 내 자신의 인스텐스\n",
    "        self.name = \"홍길동\"\n",
    "        \n",
    "# 언더바는 두번 입력한다.(더블 언더바) = 덤더 메서드"
   ]
  },
  {
   "cell_type": "code",
   "execution_count": null,
   "id": "c190719e-c66a-4803-aaa4-d6b0799d586e",
   "metadata": {},
   "outputs": [],
   "source": [
    "# Student 클래스로부터 객체를 하나 생성\n",
    "s1 = Student()\n",
    "\n",
    "s2 = Student()"
   ]
  },
  {
   "cell_type": "code",
   "execution_count": 24,
   "id": "39ef10e0-4645-4283-97be-b90662307f58",
   "metadata": {},
   "outputs": [],
   "source": [
    "s1.age = 32"
   ]
  },
  {
   "cell_type": "code",
   "execution_count": 4,
   "id": "ccbf2fa6-3160-4632-9ea0-5af2be23068f",
   "metadata": {},
   "outputs": [],
   "source": [
    "s1 = Student()"
   ]
  },
  {
   "cell_type": "code",
   "execution_count": 5,
   "id": "ecc5ce45-87ac-4296-9a7b-27737f711377",
   "metadata": {},
   "outputs": [
    {
     "data": {
      "text/plain": [
       "__main__.Student"
      ]
     },
     "execution_count": 5,
     "metadata": {},
     "output_type": "execute_result"
    }
   ],
   "source": [
    "type(s1)"
   ]
  },
  {
   "cell_type": "code",
   "execution_count": 9,
   "id": "db94a600-e684-4e9b-948b-25380559d357",
   "metadata": {},
   "outputs": [],
   "source": [
    "s1.name = \"홍길동\""
   ]
  },
  {
   "cell_type": "code",
   "execution_count": 10,
   "id": "ffd237c4-116e-4625-8a84-c0c15ce91295",
   "metadata": {},
   "outputs": [
    {
     "name": "stdout",
     "output_type": "stream",
     "text": [
      "홍길동\n"
     ]
    }
   ],
   "source": [
    "print(s1.name)"
   ]
  },
  {
   "cell_type": "code",
   "execution_count": 11,
   "id": "e5f1334d-a790-4787-b3cf-0b2653dfcf1e",
   "metadata": {},
   "outputs": [],
   "source": [
    "s1.name = \"이몽룡\""
   ]
  },
  {
   "cell_type": "code",
   "execution_count": 12,
   "id": "acac648c-ff6c-4e1b-a737-dee52a0b2dc6",
   "metadata": {},
   "outputs": [
    {
     "name": "stdout",
     "output_type": "stream",
     "text": [
      "이몽룡\n"
     ]
    }
   ],
   "source": [
    "print(s1.name)"
   ]
  },
  {
   "cell_type": "code",
   "execution_count": 27,
   "id": "6d798795-2dfa-4cbe-ba7c-05bb56a928c2",
   "metadata": {},
   "outputs": [
    {
     "name": "stdout",
     "output_type": "stream",
     "text": [
      "안녕하세요\n"
     ]
    }
   ],
   "source": [
    "class Person:\n",
    "    def __init__(self):\n",
    "        self.hello = \"안녕하세요\"\n",
    "        \n",
    "    def greeting(self):\n",
    "        print(self.hello)\n",
    "        \n",
    "james = Person()\n",
    "james.greeting()\n",
    "\n",
    "\n",
    "#  class ClassName:\n",
    "     #def __init__(self):\n",
    "        #self.속성 = 값"
   ]
  },
  {
   "cell_type": "code",
   "execution_count": null,
   "id": "5c122328-0182-4732-bce6-b174880e816c",
   "metadata": {},
   "outputs": [],
   "source": [
    "# __init__ 메서드는 james = Person() 처럼 클래스에 소괄호(())를 붙여서 인스턴스를 만들 때 호출되는 특별한 메서드(Special Method, Magic Method)라고 부릅니다.\n",
    " # 언더바가 붙은 메서드는 스페셜 메서드, 매직 메서드 이다.\n",
    " # __init__는 initialize의 줄임말로 인스턴스(개체)를 초기화(메모리에 공간을 할당하고 값을 부여함)합니다.\n",
    " # 밑줄 두개(__ double under, 던더)가 양옆으로 붙어있는 메서드는 파이썬이 자동으로 호출하는 메서드 입니다.\n",
    "  # 스페셜 메서드(Special Method) 혹은 매직 메서드(Magic Method), 던더 메서드라고 부릅니다.\n",
    "\n",
    "# 속성은 __init__메서드에서 만든다는 점과 self에 마침표(.)를 붙여 속성명을 붙이고 할당하는 점을 기억해주세요.\n",
    " # class 바디에서도 속성을 접근할 때 self.속성과 같이 self에 마침표를 찍고 사용하면 된다.\n",
    "\n",
    "# Class Person:\n",
    "    #def __init__(self): - > 첫번째는 무조건 self가 온다고 외우기\n",
    "       # self.~~ = \"~~\"\n",
    "\n",
    "# Class 속성(Attribute)\n",
    " # 인스턴스를 생성할 때 속성 값을 할당하려면 -> __init__메서드에서\n",
    "                                              # class ClassName:\n",
    "                                              #     def __init__(self, parameter1):\n",
    "                                              #         self.attr1 = param1\n",
    "                                              #         self.attr2 = param2"
   ]
  },
  {
   "cell_type": "code",
   "execution_count": 29,
   "id": "f35c945a-2f55-457c-9733-86adeac24c85",
   "metadata": {},
   "outputs": [],
   "source": [
    "class Person:\n",
    "    def __init__(self, name, age):\n",
    "        self.name = name\n",
    "        self.age = age"
   ]
  },
  {
   "cell_type": "code",
   "execution_count": 30,
   "id": "4662bfc0-71d4-48ef-add0-1b5c970342e4",
   "metadata": {},
   "outputs": [],
   "source": [
    "p1 = Person(\"홍길동\", 22)"
   ]
  },
  {
   "cell_type": "code",
   "execution_count": 35,
   "id": "209e3492-0a59-45b6-a582-8062b32a2bc5",
   "metadata": {},
   "outputs": [
    {
     "name": "stdout",
     "output_type": "stream",
     "text": [
      "홍길동\n",
      "22\n"
     ]
    }
   ],
   "source": [
    "print(p1.name)\n",
    "print(p1.age)"
   ]
  },
  {
   "cell_type": "code",
   "execution_count": 34,
   "id": "2c150985-1840-4fa4-9bc4-c7e77d977393",
   "metadata": {},
   "outputs": [],
   "source": [
    "p2 = Person(name=\"성춘향\", age=18)"
   ]
  },
  {
   "cell_type": "code",
   "execution_count": 39,
   "id": "33b1d565-01ef-4c3a-99d9-034e40f6bb56",
   "metadata": {},
   "outputs": [
    {
     "name": "stdout",
     "output_type": "stream",
     "text": [
      "성춘향\n"
     ]
    }
   ],
   "source": [
    "print(p2.name)"
   ]
  },
  {
   "cell_type": "code",
   "execution_count": 73,
   "id": "64c25d3f-1b1d-4d43-9a33-9880ac7552bc",
   "metadata": {},
   "outputs": [
    {
     "name": "stdout",
     "output_type": "stream",
     "text": [
      "안녕하세요 제 이름은 마리아입니다.\n",
      "저의 나이는 20 입니다.\n",
      "제가 거주하는 곳은 서울시 서초구 반포동입니다.\n",
      "이름: 마리아\n",
      "이름: 20\n",
      "이름: 서울시 서초구 반포동\n"
     ]
    }
   ],
   "source": [
    "# 클래스 인스턴스 생성할때 속성 할당하기\n",
    "class Person:\n",
    "    def __init__(self, name, age, address):\n",
    "        self.hello = \"안녕하세요\"\n",
    "        self.name = name\n",
    "        self.age = age\n",
    "        self.address = address\n",
    "        \n",
    "    def greeting(self):\n",
    "        print(f\"{self.hello} 제 이름은 {self.name}입니다.\")\n",
    "        print(f\"저의 나이는 {self.age} 입니다.\")\n",
    "        print(f\"제가 거주하는 곳은 {self.address}입니다.\")\n",
    "        \n",
    "maria = Person(\"마리아\", 20, \"서울시 서초구 반포동\")\n",
    "maria.greeting()\n",
    "\n",
    "print(\"이름:\", maria.name)\n",
    "print(\"이름:\", maria.age)\n",
    "print(\"이름:\", maria.address)"
   ]
  },
  {
   "cell_type": "code",
   "execution_count": 84,
   "id": "4141cfaf-ef36-434d-b4b6-36bf2bfd907b",
   "metadata": {},
   "outputs": [
    {
     "name": "stdin",
     "output_type": "stream",
     "text": [
      "이름은 무엇인가요? 마리아\n",
      "나이는 무엇인가요? 20\n",
      "주소는 무엇인가요? 서울시 강남구\n",
      "이름은 무엇인가요? 제임스\n",
      "나이는 무엇인가요? 21\n",
      "주소는 무엇인가요? 서울시 구로구\n"
     ]
    },
    {
     "name": "stdout",
     "output_type": "stream",
     "text": [
      "첫번째 이름: 마리아\n",
      "첫번째 나이: 20\n",
      "첫번째 주소: 서울시 강남구\n",
      "두번째 이름: 제임스\n",
      "두번째 나이: 21\n",
      "두번째 주소: 서울시 구로구\n"
     ]
    }
   ],
   "source": [
    "#나만의 방식의 코딩\n",
    "\n",
    "class Person:\n",
    "    def __init__(self, name, age, address):\n",
    "        self.name = name\n",
    "        self.age = age\n",
    "        self.address = address  \n",
    "        \n",
    "input_value = input(\"이름은 무엇인가요?\")\n",
    "input_value2 = input(\"나이는 무엇인가요?\")\n",
    "input_value3 = input(\"주소는 무엇인가요?\")\n",
    "input_value4 = input(\"이름은 무엇인가요?\")\n",
    "input_value5 = input(\"나이는 무엇인가요?\")\n",
    "input_value6 = input(\"주소는 무엇인가요?\")\n",
    "        \n",
    "maria = Person(\"마리아\", 20, \"서울시 강남구\")\n",
    "james = Person(\"제임스\", 21, \"서울시 구로구\")\n",
    "\n",
    "print(\"첫번째 이름:\", maria.name)\n",
    "print(\"첫번째 나이:\", maria.age)\n",
    "print(\"첫번째 주소:\", maria.address)\n",
    "print(\"두번째 이름:\", james.name)\n",
    "print(\"두번째 나이:\", james.age)\n",
    "print(\"두번째 주소:\", james.address)"
   ]
  },
  {
   "cell_type": "code",
   "execution_count": 85,
   "id": "e2d3d50c-9b36-4207-8b7c-87567d94eaf9",
   "metadata": {},
   "outputs": [],
   "source": [
    "# 비공개 속성 : 속성 값을 변경 못하도록 막고 싶을 때 비공개 속성을 사용한다.\n",
    "# class ClassName:\n",
    "   #def __init__(self, param1, param2):\n",
    "      # self.attr1 = param1\n",
    "      # self.__arrt2 = param2  \n",
    "    \n",
    "class ClassExam:\n",
    "    def __init__(self):\n",
    "        self.__secret = \"비밀입니다.\""
   ]
  },
  {
   "cell_type": "code",
   "execution_count": 16,
   "id": "3e848272-5f73-4cb4-bc8f-b4eeba33be4e",
   "metadata": {},
   "outputs": [],
   "source": [
    "# 강사님 방식의 코딩\n",
    "class Annie:\n",
    "    def __init__(self, hp, mp, ap):\n",
    "        self.hp = hp\n",
    "        self.mp = mp\n",
    "        self.ap = ap\n",
    "        \n",
    "    def tibbers(self):\n",
    "        return self.ap * 0.65 + 400"
   ]
  },
  {
   "cell_type": "code",
   "execution_count": 13,
   "id": "faba7a6d-f0f2-4b14-b9fe-8e26f6efe84a",
   "metadata": {},
   "outputs": [],
   "source": [
    "a1 = Annie()"
   ]
  },
  {
   "cell_type": "code",
   "execution_count": 14,
   "id": "1027f24e-5d00-415d-8cb9-da219d71a25e",
   "metadata": {},
   "outputs": [
    {
     "name": "stdout",
     "output_type": "stream",
     "text": [
      "0 0 0\n"
     ]
    }
   ],
   "source": [
    "print(a1.hp, a1.mp, a1.ap)"
   ]
  },
  {
   "cell_type": "code",
   "execution_count": 17,
   "id": "3393aa94-0b45-45a6-acb5-31a14ce21a60",
   "metadata": {},
   "outputs": [
    {
     "name": "stdin",
     "output_type": "stream",
     "text": [
      "애니 511.68 334.0 298\n"
     ]
    }
   ],
   "source": [
    "hp, mp, ap = map(float, input(\"애니\").split())"
   ]
  },
  {
   "cell_type": "code",
   "execution_count": 18,
   "id": "3d81ef04-0c60-4543-8197-4db7d93ecd7b",
   "metadata": {},
   "outputs": [],
   "source": [
    "a2 = Annie(hp, mp, ap)"
   ]
  },
  {
   "cell_type": "code",
   "execution_count": 19,
   "id": "6ac3572a-4889-4a7f-9d8b-c1b0940563ca",
   "metadata": {},
   "outputs": [
    {
     "name": "stdout",
     "output_type": "stream",
     "text": [
      "511.68 334.0 298.0\n"
     ]
    }
   ],
   "source": [
    "print(a2.hp, a2.mp, a2.ap)"
   ]
  },
  {
   "cell_type": "code",
   "execution_count": 20,
   "id": "504ef5ac-9ee6-4d42-99d9-4aceedfe8280",
   "metadata": {},
   "outputs": [
    {
     "data": {
      "text/plain": [
       "593.7"
      ]
     },
     "execution_count": 20,
     "metadata": {},
     "output_type": "execute_result"
    }
   ],
   "source": [
    "a2.tibbers()"
   ]
  },
  {
   "cell_type": "code",
   "execution_count": 11,
   "id": "60f4c96d-f3f5-4965-b38a-3b968507a3db",
   "metadata": {},
   "outputs": [],
   "source": [
    "import pymysql"
   ]
  },
  {
   "cell_type": "code",
   "execution_count": 13,
   "id": "16968888-4159-46da-892e-4cc1c1389338",
   "metadata": {},
   "outputs": [],
   "source": [
    "import pymysql.cursors #(DB를 열고 확인 하는 기능)\n",
    "\n",
    "# database 접속할 객체를 만듭니다.\n",
    "connection = pymysql.connect(host='localhost',\n",
    "                             user='root',\n",
    "                             password='python1234',\n",
    "                             database='python',\n",
    "                             cursorclass=pymysql.cursors.DictCursor)\n",
    "\n",
    "# 파이썬에서 DB로 접근한다는 개념이다."
   ]
  },
  {
   "cell_type": "code",
   "execution_count": 4,
   "id": "23fe5645-01cf-4b6f-84b7-921f7ca36012",
   "metadata": {},
   "outputs": [],
   "source": [
    "with connection: #(DB를 닫고 확인 하는 기능)\n",
    "    with connection.cursor() as cursor:\n",
    "        # 새로운 값을 삽입합니다.\n",
    "        sql = \"INSERT INTO `users` (`email`, `password`) VALUES (%s, %s)\"\n",
    "        cursor.execute(sql, ('webmaster@python.org', 'very-secret'))\n",
    "\n",
    "    connection.commit()"
   ]
  },
  {
   "cell_type": "code",
   "execution_count": 14,
   "id": "30bdeae7-1538-4591-b616-979de5a5995c",
   "metadata": {},
   "outputs": [
    {
     "name": "stdout",
     "output_type": "stream",
     "text": [
      "{'id': 1, 'password': 'very-secret'}\n"
     ]
    }
   ],
   "source": [
    "with connection: #(열기 실행 후 실행/ 닫기 실행 후 닫기 -> 실행을 하면서 Data의 결과를 도출하는 기능)\n",
    "    with connection.cursor() as cursor:\n",
    "        # 데이터를 불러옵니다.\n",
    "        sql = \"SELECT `id`, `password` FROM `users` WHERE `email`=%s\"\n",
    "        cursor.execute(sql, ('webmaster@python.org',))\n",
    "        result = cursor.fetchone()\n",
    "        print(result)"
   ]
  },
  {
   "cell_type": "code",
   "execution_count": null,
   "id": "0416155c-1e23-4ed7-904e-745442053c63",
   "metadata": {},
   "outputs": [],
   "source": []
  }
 ],
 "metadata": {
  "kernelspec": {
   "display_name": "Python 3 (ipykernel)",
   "language": "python",
   "name": "python3"
  },
  "language_info": {
   "codemirror_mode": {
    "name": "ipython",
    "version": 3
   },
   "file_extension": ".py",
   "mimetype": "text/x-python",
   "name": "python",
   "nbconvert_exporter": "python",
   "pygments_lexer": "ipython3",
   "version": "3.9.13"
  }
 },
 "nbformat": 4,
 "nbformat_minor": 5
}
