{
 "cells": [
  {
   "cell_type": "code",
   "execution_count": null,
   "id": "289f046c-3069-4ea5-a8fe-f310803661ea",
   "metadata": {},
   "outputs": [],
   "source": [
    "# API 데이터 수집 방법\n",
    " # server간의 의사소통 방식이다.(인터페이스)\n",
    " # 인증토큰, 페이지 매김, 속도 제한, 데이터 추출 자동화 등 4가지 방식으로 데이터를 추출한다.\n",
    " # 통신에 필요한 것을 Check(직렬화 필요)\n",
    " # API는 요청의 종류, 데이터 형식, 예상 응답을 포함하는 일련의 프로토콜을 제공합니다.\n",
    " # list public repositories, search repositories, issue repositries등 3가지의 방법이 있다..\n",
    " # 서버와 내PC를 연결해주는 통로 역할은 인터넷이 하고 있다. \n",
    "   #  서버에서 사용자가 원하는 자료를 사용자의 PC에서 보기 좋게 보여주는 것은 HTTP가 한다.\n",
    " # API는 구조가 명확하고 자동화가 편리합니다. - > 웹사이트의 스크랩은 웹의 구조 변경에 따른 코드 갱신이 필요하다.\n",
    " # HTTP는 요청과 응답을 해주는 네트워크 통신의 한 종류 이다.\n",
    " # get방식은 주로 resource 조회의 용도로 사용된다. \n",
    "# API로 통신할 때 주로 사용하는 콘텐츠 타입은 Json과 xmL이 있다.\n",
    "  # JSON(제이슨) ->\n",
    "# TCP School.com 홈페이지 참고\n",
    "# 딥러닝 프레임워크 파이토치(메타에서 제작)\n",
    "# "
   ]
  },
  {
   "cell_type": "code",
   "execution_count": 1,
   "id": "ec14d605-148c-442b-ad69-c65076f28276",
   "metadata": {},
   "outputs": [
    {
     "data": {
      "text/plain": [
       "1677547955.6691508"
      ]
     },
     "execution_count": 1,
     "metadata": {},
     "output_type": "execute_result"
    }
   ],
   "source": [
    "import time\n",
    "time.time()"
   ]
  },
  {
   "cell_type": "code",
   "execution_count": 3,
   "id": "dfa6448d-8e3e-4407-96db-be5f4fa93376",
   "metadata": {},
   "outputs": [
    {
     "name": "stdout",
     "output_type": "stream",
     "text": [
      "hello\n",
      "hello\n",
      "hello\n"
     ]
    }
   ],
   "source": [
    "for _ in range(3):\n",
    "    time.sleep(3)\n",
    "    print(\"hello\")\n",
    "    \n",
    "# 3초의 시간을 대기 후 결과값을 도출하게 되는 코딩    "
   ]
  },
  {
   "cell_type": "code",
   "execution_count": 9,
   "id": "233bfaa7-6395-4299-84c1-3069a878a061",
   "metadata": {},
   "outputs": [
    {
     "name": "stdout",
     "output_type": "stream",
     "text": [
      "200\n"
     ]
    }
   ],
   "source": [
    "import requests\n",
    "reponse = requests.get('https://opendart.fss.or.kr/disclosureinfo/biz/main.do', \n",
    "                       headers={'Accept' : 'application/vnd.github.v3+json'})\n",
    "print(reponse.status_code)"
   ]
  },
  {
   "cell_type": "code",
   "execution_count": 25,
   "id": "a48845ef-3562-4e72-aabb-2ddba0bdce3d",
   "metadata": {},
   "outputs": [],
   "source": [
    "import json"
   ]
  },
  {
   "cell_type": "code",
   "execution_count": 28,
   "id": "a3fa123c-f66e-44d4-8023-af07d85fc3c1",
   "metadata": {},
   "outputs": [
    {
     "data": {
      "text/plain": [
       "<bound method Response.json of <Response [200]>>"
      ]
     },
     "execution_count": 28,
     "metadata": {},
     "output_type": "execute_result"
    }
   ],
   "source": [
    "response.json"
   ]
  },
  {
   "cell_type": "code",
   "execution_count": 79,
   "id": "54e249d7-6919-4475-86c9-27052eafbe65",
   "metadata": {},
   "outputs": [],
   "source": [
    "import requests\n",
    "import zipfile\n",
    "\n",
    "url = \"https://opendart.fss.or.kr/api/company.json\"\n",
    "\n",
    "api_key = \"085677614ebb701e21d2d347f14f5e506b6ff89f\"\n",
    "\n",
    "params = {\"crtfc_key\" : api_key, 'corp_code': '00126380'}\n",
    "\n",
    "response = requests.get(url, params=params)"
   ]
  },
  {
   "cell_type": "code",
   "execution_count": 80,
   "id": "6aa35426-a824-4b18-ad59-261a5ae36e8c",
   "metadata": {},
   "outputs": [
    {
     "data": {
      "text/plain": [
       "{'Cache-Control': 'no-cache, no-store', 'Connection': 'keep-alive', 'Set-Cookie': 'WMONID=z-sMHeI-o2K; Expires=Wed, 28-Feb-2024 12:38:55 GMT; Path=/', 'Pragma': 'no-cache', 'Expires': 'Thu, 01 Jan 1970 00:00:00 GMT', 'Date': 'Tue, 28 Feb 2023 03:38:55 GMT', 'Content-Type': 'application/json;charset=UTF-8', 'Transfer-Encoding': 'chunked'}"
      ]
     },
     "execution_count": 80,
     "metadata": {},
     "output_type": "execute_result"
    }
   ],
   "source": [
    "response.headers"
   ]
  },
  {
   "cell_type": "code",
   "execution_count": 81,
   "id": "bf730d71-5ed9-42e3-9b4d-c89fac93f662",
   "metadata": {},
   "outputs": [
    {
     "data": {
      "text/plain": [
       "{'status': '000',\n",
       " 'message': '정상',\n",
       " 'corp_code': '00126380',\n",
       " 'corp_name': '삼성전자(주)',\n",
       " 'corp_name_eng': 'SAMSUNG ELECTRONICS CO,.LTD',\n",
       " 'stock_name': '삼성전자',\n",
       " 'stock_code': '005930',\n",
       " 'ceo_nm': '한종희, 경계현',\n",
       " 'corp_cls': 'Y',\n",
       " 'jurir_no': '1301110006246',\n",
       " 'bizr_no': '1248100998',\n",
       " 'adres': '경기도 수원시 영통구  삼성로 129 (매탄동)',\n",
       " 'hm_url': 'www.samsung.com/sec',\n",
       " 'ir_url': '',\n",
       " 'phn_no': '02-2255-0114',\n",
       " 'fax_no': '031-200-7538',\n",
       " 'induty_code': '264',\n",
       " 'est_dt': '19690113',\n",
       " 'acc_mt': '12'}"
      ]
     },
     "execution_count": 81,
     "metadata": {},
     "output_type": "execute_result"
    }
   ],
   "source": [
    "response.json()"
   ]
  },
  {
   "cell_type": "code",
   "execution_count": null,
   "id": "b3b30d91-e852-4a20-8ba7-b68b00df50f8",
   "metadata": {},
   "outputs": [],
   "source": [
    "\n",
    "\n",
    "with open('./id.zip', 'wb') as fp:\n",
    "          fp.write(response.text.encode('utf-8'))\n",
    "          \n",
    "zf = zipfile.ZipFile('./id.zip')\n",
    "\n",
    "zf.extractall()\n",
    "          \n",
    "xml_path = os.path.abspath('./CORPCODE.xml')"
   ]
  },
  {
   "cell_type": "code",
   "execution_count": 51,
   "id": "590e14f4-9217-4f77-826e-b02da5353c68",
   "metadata": {},
   "outputs": [],
   "source": [
    "corp_codes = requests.get('https://opendart.fss.or.kr/api/corpCode.xml',\n",
    "                          params={\"crtfc_key\": api_key})"
   ]
  },
  {
   "cell_type": "code",
   "execution_count": 52,
   "id": "008837ab-a0e1-4486-a116-867dd96b4a43",
   "metadata": {},
   "outputs": [
    {
     "data": {
      "text/plain": [
       "{'Cache-Control': 'no-cache, no-store', 'Connection': 'keep-alive', 'Set-Cookie': 'WMONID=QC6WJArKYRC; Expires=Wed, 28-Feb-2024 12:23:44 GMT; Path=/', 'Pragma': 'no-cache', 'Expires': '0', 'Content-Transfer-Encoding': 'binary', 'Content-Disposition': ': attachment; filename=CORPCODE.zip', 'Date': 'Tue, 28 Feb 2023 03:23:44 GMT', 'Content-Type': 'application/x-msdownload;charset=UTF-8', 'Content-Length': '1646889'}"
      ]
     },
     "execution_count": 52,
     "metadata": {},
     "output_type": "execute_result"
    }
   ],
   "source": [
    "corp_codes.headers"
   ]
  },
  {
   "cell_type": "code",
   "execution_count": 59,
   "id": "d1137376-549d-40f2-9332-e3d9b567fe76",
   "metadata": {},
   "outputs": [],
   "source": [
    "with open('./corp_codes.zip', 'wb') as fp:\n",
    "          fp.write(response.content)"
   ]
  },
  {
   "cell_type": "code",
   "execution_count": 64,
   "id": "4fca5a03-7114-4114-acc7-4de1f892ef4f",
   "metadata": {},
   "outputs": [],
   "source": [
    "import os\n",
    "xml_path = os.path.abspath('corp_codes/CORPCODE.xml')"
   ]
  },
  {
   "cell_type": "code",
   "execution_count": 68,
   "id": "0070d0b6-74df-4c9e-9847-810342002da1",
   "metadata": {},
   "outputs": [],
   "source": [
    "with open(xml_path, 'r', encoding=\"UTF8\") as f:\n",
    "    corp_codes_file = f.read()"
   ]
  },
  {
   "cell_type": "code",
   "execution_count": 72,
   "id": "0307c76e-e348-40bf-a796-e16b3139557b",
   "metadata": {},
   "outputs": [],
   "source": [
    "corp_codes_dict = xmltodict.parse(corp_codes_file)"
   ]
  },
  {
   "cell_type": "code",
   "execution_count": 75,
   "id": "fde694a1-09e0-4297-9454-6d7af40b5cbc",
   "metadata": {},
   "outputs": [
    {
     "data": {
      "text/plain": [
       "97457"
      ]
     },
     "execution_count": 75,
     "metadata": {},
     "output_type": "execute_result"
    }
   ],
   "source": [
    "len(corp_codes_dict['result']['list'])"
   ]
  },
  {
   "cell_type": "code",
   "execution_count": 78,
   "id": "f8a48e3e-17c5-49b0-9924-a55c701763f4",
   "metadata": {},
   "outputs": [
    {
     "data": {
      "text/plain": [
       "[{'corp_code': '00258999',\n",
       "  'corp_name': '삼성전자서비스',\n",
       "  'stock_code': None,\n",
       "  'modify_date': '20220324'},\n",
       " {'corp_code': '01345812',\n",
       "  'corp_name': '삼성전자서비스씨에스',\n",
       "  'stock_code': None,\n",
       "  'modify_date': '20230125'},\n",
       " {'corp_code': '00252074',\n",
       "  'corp_name': '삼성전자판매',\n",
       "  'stock_code': None,\n",
       "  'modify_date': '20230220'},\n",
       " {'corp_code': '00126380',\n",
       "  'corp_name': '삼성전자',\n",
       "  'stock_code': '005930',\n",
       "  'modify_date': '20230110'},\n",
       " {'corp_code': '00366997',\n",
       "  'corp_name': '삼성전자로지텍',\n",
       "  'stock_code': None,\n",
       "  'modify_date': '20230223'}]"
      ]
     },
     "execution_count": 78,
     "metadata": {},
     "output_type": "execute_result"
    }
   ],
   "source": [
    "[var for var in corp_codes_dict['result']['list'] if '삼성전자' in var['corp_name']]"
   ]
  },
  {
   "cell_type": "code",
   "execution_count": 47,
   "id": "0dee25a5-d1d3-49f1-9ce2-ce2b1269c80c",
   "metadata": {},
   "outputs": [
    {
     "name": "stdout",
     "output_type": "stream",
     "text": [
      "Collecting xmltodict\n",
      "  Downloading xmltodict-0.13.0-py2.py3-none-any.whl (10.0 kB)\n",
      "Installing collected packages: xmltodict\n",
      "Successfully installed xmltodict-0.13.0\n"
     ]
    }
   ],
   "source": [
    "!pip install  xmltodict"
   ]
  },
  {
   "cell_type": "code",
   "execution_count": 53,
   "id": "2619f47c-7733-4276-9f67-7b9428313e1b",
   "metadata": {},
   "outputs": [
    {
     "ename": "ExpatError",
     "evalue": "not well-formed (invalid token): line 1, column 2",
     "output_type": "error",
     "traceback": [
      "\u001b[1;31m---------------------------------------------------------------------------\u001b[0m",
      "\u001b[1;31mExpatError\u001b[0m                                Traceback (most recent call last)",
      "\u001b[1;32m~\\AppData\\Local\\Temp\\ipykernel_2496\\2630876291.py\u001b[0m in \u001b[0;36m<module>\u001b[1;34m\u001b[0m\n\u001b[0;32m      1\u001b[0m \u001b[1;32mimport\u001b[0m \u001b[0mxmltodict\u001b[0m\u001b[1;33m\u001b[0m\u001b[1;33m\u001b[0m\u001b[0m\n\u001b[1;32m----> 2\u001b[1;33m \u001b[0mcorp_codes_dict\u001b[0m \u001b[1;33m=\u001b[0m \u001b[0mxmltodict\u001b[0m\u001b[1;33m.\u001b[0m\u001b[0mparse\u001b[0m\u001b[1;33m(\u001b[0m\u001b[0mcorp_codes\u001b[0m\u001b[1;33m.\u001b[0m\u001b[0mtext\u001b[0m\u001b[1;33m)\u001b[0m\u001b[1;33m\u001b[0m\u001b[1;33m\u001b[0m\u001b[0m\n\u001b[0m",
      "\u001b[1;32m~\\anaconda3\\lib\\site-packages\\xmltodict.py\u001b[0m in \u001b[0;36mparse\u001b[1;34m(xml_input, encoding, expat, process_namespaces, namespace_separator, disable_entities, process_comments, **kwargs)\u001b[0m\n\u001b[0;32m    376\u001b[0m         \u001b[0mparser\u001b[0m\u001b[1;33m.\u001b[0m\u001b[0mParse\u001b[0m\u001b[1;33m(\u001b[0m\u001b[1;34mb''\u001b[0m\u001b[1;33m,\u001b[0m\u001b[1;32mTrue\u001b[0m\u001b[1;33m)\u001b[0m\u001b[1;33m\u001b[0m\u001b[1;33m\u001b[0m\u001b[0m\n\u001b[0;32m    377\u001b[0m     \u001b[1;32melse\u001b[0m\u001b[1;33m:\u001b[0m\u001b[1;33m\u001b[0m\u001b[1;33m\u001b[0m\u001b[0m\n\u001b[1;32m--> 378\u001b[1;33m         \u001b[0mparser\u001b[0m\u001b[1;33m.\u001b[0m\u001b[0mParse\u001b[0m\u001b[1;33m(\u001b[0m\u001b[0mxml_input\u001b[0m\u001b[1;33m,\u001b[0m \u001b[1;32mTrue\u001b[0m\u001b[1;33m)\u001b[0m\u001b[1;33m\u001b[0m\u001b[1;33m\u001b[0m\u001b[0m\n\u001b[0m\u001b[0;32m    379\u001b[0m     \u001b[1;32mreturn\u001b[0m \u001b[0mhandler\u001b[0m\u001b[1;33m.\u001b[0m\u001b[0mitem\u001b[0m\u001b[1;33m\u001b[0m\u001b[1;33m\u001b[0m\u001b[0m\n\u001b[0;32m    380\u001b[0m \u001b[1;33m\u001b[0m\u001b[0m\n",
      "\u001b[1;31mExpatError\u001b[0m: not well-formed (invalid token): line 1, column 2"
     ]
    }
   ],
   "source": [
    "import xmltodict\n",
    "corp_codes_dict = xmltodict.parse(corp_codes.text)"
   ]
  },
  {
   "cell_type": "code",
   "execution_count": null,
   "id": "9aa604cd-a4a3-40a9-a377-604a2a087100",
   "metadata": {},
   "outputs": [],
   "source": [
    "# 웹 스크래핑 프로세스\n",
    "  # 웹사이트에 요청 -> HTML 파일 수신 -> 파일 분석 및 데이터 추출 -> 데이터 저장\n",
    "  # 웹 페이지로부터 데이터를 추출 하는 것\n",
    "  # 웹페이지를 분석\n",
    "  # 대규모 데이터 추출, 비용 효율성, 유연성 및 체계적인 접근 방식\n",
    "  # 웹 페이지의 데이터를 추출하는 것을 목적으로 한다\n",
    "    \n",
    "# 웹 크롤링\n",
    "  # 웹 페이지를 발견하고 인덱싱 합니다.\n",
    "  # 웹 페이지를 이해\n",
    "  # 데이터 베이스 최신성 유지, 컨텍스트 부재, 비균일 구조\n",
    "  # 하이퍼링크를 기반으로 계속해서 링크를 따라 URL을 수집하는 것이다. \n",
    "\n",
    "# "
   ]
  },
  {
   "cell_type": "code",
   "execution_count": 86,
   "id": "a416644e-01e6-47ba-8b44-1518f007ba54",
   "metadata": {},
   "outputs": [
    {
     "data": {
      "text/plain": [
       "True"
      ]
     },
     "execution_count": 86,
     "metadata": {},
     "output_type": "execute_result"
    }
   ],
   "source": [
    "import urllib.robotparser\n",
    "rp = urllib.robotparser.RobotFileParser()\n",
    "rp.set_url(\"https://www.reuters.com/robots.txt\")\n",
    "rp.read()\n",
    "rp.can_fetch(useragent=\"*\", url=\"https://www.reuters.com/sitemap.xml\")"
   ]
  },
  {
   "cell_type": "code",
   "execution_count": 89,
   "id": "69cf0302-994e-4b72-9f68-0c091c9e7f93",
   "metadata": {},
   "outputs": [
    {
     "data": {
      "text/plain": [
       "['https://www.reuters.com/arc/outboundfeeds/sitemap-index/?outputType=xml',\n",
       " 'https://www.reuters.com/arc/outboundfeeds/news-sitemap-index/?outputType=xml',\n",
       " 'https://www.reuters.com/sitemap_video_index.xml',\n",
       " 'https://www.reuters.com/brandfeature/sitemap']"
      ]
     },
     "execution_count": 89,
     "metadata": {},
     "output_type": "execute_result"
    }
   ],
   "source": [
    "sitemaps = rp.site_maps()\n",
    "sitemaps"
   ]
  },
  {
   "cell_type": "code",
   "execution_count": null,
   "id": "7e70f16c-6243-403d-9a1c-67758fa40847",
   "metadata": {},
   "outputs": [],
   "source": [
    "import xmltodict\n",
    "import requests\n",
    "\n",
    "url = sitemaps [0]\n",
    "sitemaps = xmltodict.parse(requests.get(url).text)"
   ]
  },
  {
   "cell_type": "code",
   "execution_count": 98,
   "id": "8511caca-b501-41ab-b10d-6b3f74938c55",
   "metadata": {},
   "outputs": [
    {
     "name": "stdout",
     "output_type": "stream",
     "text": [
      "Requirement already satisfied: xmltodict in c:\\users\\playdata\\anaconda3\\lib\\site-packages (0.13.0)\n"
     ]
    }
   ],
   "source": [
    "!pip install xmltodict"
   ]
  },
  {
   "cell_type": "code",
   "execution_count": null,
   "id": "4047f998-3017-488a-a836-07aaf05b9f35",
   "metadata": {},
   "outputs": [],
   "source": [
    "sitemaps"
   ]
  },
  {
   "cell_type": "code",
   "execution_count": 125,
   "id": "81b8f7dc-c5b5-46d8-9633-244f3334fb59",
   "metadata": {},
   "outputs": [],
   "source": [
    "sitemaps = rp.site_maps()"
   ]
  },
  {
   "cell_type": "code",
   "execution_count": 126,
   "id": "51e556e4-cab3-4983-bbe4-1d6d32236083",
   "metadata": {},
   "outputs": [],
   "source": [
    "import xmltodict\n",
    "import requests\n",
    "\n",
    "url = sitemaps[0]\n",
    "sub_sitemaps = xmltodict.parse(requests.get(url).text)\n",
    "# interable 요소를 순서대로 하나씩 꺼낼 수 있는 객체\n",
    "# for var in itterable"
   ]
  },
  {
   "cell_type": "code",
   "execution_count": 192,
   "id": "cbf40973-f33c-4aa3-a570-186a87fd7a92",
   "metadata": {
    "tags": []
   },
   "outputs": [
    {
     "data": {
      "text/plain": [
       "['https://www.reuters.com/arc/outboundfeeds/sitemap/?outputType=xml',\n",
       " 'https://www.reuters.com/arc/outboundfeeds/sitemap/?outputType=xml&from=100',\n",
       " 'https://www.reuters.com/arc/outboundfeeds/sitemap/?outputType=xml&from=200',\n",
       " 'https://www.reuters.com/arc/outboundfeeds/sitemap/?outputType=xml&from=300',\n",
       " 'https://www.reuters.com/arc/outboundfeeds/sitemap/?outputType=xml&from=400',\n",
       " 'https://www.reuters.com/arc/outboundfeeds/sitemap/?outputType=xml&from=500',\n",
       " 'https://www.reuters.com/arc/outboundfeeds/sitemap/?outputType=xml&from=600',\n",
       " 'https://www.reuters.com/arc/outboundfeeds/sitemap/?outputType=xml&from=700',\n",
       " 'https://www.reuters.com/arc/outboundfeeds/sitemap/?outputType=xml&from=800',\n",
       " 'https://www.reuters.com/arc/outboundfeeds/sitemap/?outputType=xml&from=900',\n",
       " 'https://www.reuters.com/arc/outboundfeeds/sitemap/?outputType=xml&from=1000',\n",
       " 'https://www.reuters.com/arc/outboundfeeds/sitemap/?outputType=xml&from=1100',\n",
       " 'https://www.reuters.com/arc/outboundfeeds/sitemap/?outputType=xml&from=1200',\n",
       " 'https://www.reuters.com/arc/outboundfeeds/sitemap/?outputType=xml&from=1300',\n",
       " 'https://www.reuters.com/arc/outboundfeeds/sitemap/?outputType=xml&from=1400',\n",
       " 'https://www.reuters.com/arc/outboundfeeds/sitemap/?outputType=xml&from=1500',\n",
       " 'https://www.reuters.com/arc/outboundfeeds/sitemap/?outputType=xml&from=1600',\n",
       " 'https://www.reuters.com/arc/outboundfeeds/sitemap/?outputType=xml&from=1700',\n",
       " 'https://www.reuters.com/arc/outboundfeeds/sitemap/?outputType=xml&from=1800',\n",
       " 'https://www.reuters.com/arc/outboundfeeds/sitemap/?outputType=xml&from=1900',\n",
       " 'https://www.reuters.com/arc/outboundfeeds/sitemap/?outputType=xml&from=2000',\n",
       " 'https://www.reuters.com/arc/outboundfeeds/sitemap/?outputType=xml&from=2100',\n",
       " 'https://www.reuters.com/arc/outboundfeeds/sitemap/?outputType=xml&from=2200',\n",
       " 'https://www.reuters.com/arc/outboundfeeds/sitemap/?outputType=xml&from=2300',\n",
       " 'https://www.reuters.com/arc/outboundfeeds/sitemap/?outputType=xml&from=2400',\n",
       " 'https://www.reuters.com/arc/outboundfeeds/sitemap/?outputType=xml&from=2500',\n",
       " 'https://www.reuters.com/arc/outboundfeeds/sitemap/?outputType=xml&from=2600',\n",
       " 'https://www.reuters.com/arc/outboundfeeds/sitemap/?outputType=xml&from=2700',\n",
       " 'https://www.reuters.com/arc/outboundfeeds/sitemap/?outputType=xml&from=2800',\n",
       " 'https://www.reuters.com/arc/outboundfeeds/sitemap/?outputType=xml&from=2900',\n",
       " 'https://www.reuters.com/arc/outboundfeeds/sitemap/?outputType=xml&from=3000',\n",
       " 'https://www.reuters.com/arc/outboundfeeds/sitemap/?outputType=xml&from=3100',\n",
       " 'https://www.reuters.com/arc/outboundfeeds/sitemap/?outputType=xml&from=3200',\n",
       " 'https://www.reuters.com/arc/outboundfeeds/sitemap/?outputType=xml&from=3300',\n",
       " 'https://www.reuters.com/arc/outboundfeeds/sitemap/?outputType=xml&from=3400',\n",
       " 'https://www.reuters.com/arc/outboundfeeds/sitemap/?outputType=xml&from=3500',\n",
       " 'https://www.reuters.com/arc/outboundfeeds/sitemap/?outputType=xml&from=3600',\n",
       " 'https://www.reuters.com/arc/outboundfeeds/sitemap/?outputType=xml&from=3700',\n",
       " 'https://www.reuters.com/arc/outboundfeeds/sitemap/?outputType=xml&from=3800',\n",
       " 'https://www.reuters.com/arc/outboundfeeds/sitemap/?outputType=xml&from=3900',\n",
       " 'https://www.reuters.com/arc/outboundfeeds/sitemap/?outputType=xml&from=4000',\n",
       " 'https://www.reuters.com/arc/outboundfeeds/sitemap/?outputType=xml&from=4100',\n",
       " 'https://www.reuters.com/arc/outboundfeeds/sitemap/?outputType=xml&from=4200',\n",
       " 'https://www.reuters.com/arc/outboundfeeds/sitemap/?outputType=xml&from=4300',\n",
       " 'https://www.reuters.com/arc/outboundfeeds/sitemap/?outputType=xml&from=4400',\n",
       " 'https://www.reuters.com/arc/outboundfeeds/sitemap/?outputType=xml&from=4500',\n",
       " 'https://www.reuters.com/arc/outboundfeeds/sitemap/?outputType=xml&from=4600',\n",
       " 'https://www.reuters.com/arc/outboundfeeds/sitemap/?outputType=xml&from=4700',\n",
       " 'https://www.reuters.com/arc/outboundfeeds/sitemap/?outputType=xml&from=4800',\n",
       " 'https://www.reuters.com/arc/outboundfeeds/sitemap/?outputType=xml&from=4900',\n",
       " 'https://www.reuters.com/arc/outboundfeeds/sitemap/?outputType=xml&from=5000',\n",
       " 'https://www.reuters.com/arc/outboundfeeds/sitemap/?outputType=xml&from=5100',\n",
       " 'https://www.reuters.com/arc/outboundfeeds/sitemap/?outputType=xml&from=5200',\n",
       " 'https://www.reuters.com/arc/outboundfeeds/sitemap/?outputType=xml&from=5300',\n",
       " 'https://www.reuters.com/arc/outboundfeeds/sitemap/?outputType=xml&from=5400',\n",
       " 'https://www.reuters.com/arc/outboundfeeds/sitemap/?outputType=xml&from=5500',\n",
       " 'https://www.reuters.com/arc/outboundfeeds/sitemap/?outputType=xml&from=5600',\n",
       " 'https://www.reuters.com/arc/outboundfeeds/sitemap/?outputType=xml&from=5700',\n",
       " 'https://www.reuters.com/arc/outboundfeeds/sitemap/?outputType=xml&from=5800',\n",
       " 'https://www.reuters.com/arc/outboundfeeds/sitemap/?outputType=xml&from=5900',\n",
       " 'https://www.reuters.com/arc/outboundfeeds/sitemap/?outputType=xml&from=6000',\n",
       " 'https://www.reuters.com/arc/outboundfeeds/sitemap/?outputType=xml&from=6100',\n",
       " 'https://www.reuters.com/arc/outboundfeeds/sitemap/?outputType=xml&from=6200',\n",
       " 'https://www.reuters.com/arc/outboundfeeds/sitemap/?outputType=xml&from=6300',\n",
       " 'https://www.reuters.com/arc/outboundfeeds/sitemap/?outputType=xml&from=6400',\n",
       " 'https://www.reuters.com/arc/outboundfeeds/sitemap/?outputType=xml&from=6500',\n",
       " 'https://www.reuters.com/arc/outboundfeeds/sitemap/?outputType=xml&from=6600',\n",
       " 'https://www.reuters.com/arc/outboundfeeds/sitemap/?outputType=xml&from=6700',\n",
       " 'https://www.reuters.com/arc/outboundfeeds/sitemap/?outputType=xml&from=6800',\n",
       " 'https://www.reuters.com/arc/outboundfeeds/sitemap/?outputType=xml&from=6900',\n",
       " 'https://www.reuters.com/arc/outboundfeeds/sitemap/?outputType=xml&from=7000',\n",
       " 'https://www.reuters.com/arc/outboundfeeds/sitemap/?outputType=xml&from=7100',\n",
       " 'https://www.reuters.com/arc/outboundfeeds/sitemap/?outputType=xml&from=7200',\n",
       " 'https://www.reuters.com/arc/outboundfeeds/sitemap/?outputType=xml&from=7300',\n",
       " 'https://www.reuters.com/arc/outboundfeeds/sitemap/?outputType=xml&from=7400',\n",
       " 'https://www.reuters.com/arc/outboundfeeds/sitemap/?outputType=xml&from=7500',\n",
       " 'https://www.reuters.com/arc/outboundfeeds/sitemap/?outputType=xml&from=7600',\n",
       " 'https://www.reuters.com/arc/outboundfeeds/sitemap/?outputType=xml&from=7700',\n",
       " 'https://www.reuters.com/arc/outboundfeeds/sitemap/?outputType=xml&from=7800',\n",
       " 'https://www.reuters.com/arc/outboundfeeds/sitemap/?outputType=xml&from=7900',\n",
       " 'https://www.reuters.com/arc/outboundfeeds/sitemap/?outputType=xml&from=8000',\n",
       " 'https://www.reuters.com/arc/outboundfeeds/sitemap/?outputType=xml&from=8100',\n",
       " 'https://www.reuters.com/arc/outboundfeeds/sitemap/?outputType=xml&from=8200',\n",
       " 'https://www.reuters.com/arc/outboundfeeds/sitemap/?outputType=xml&from=8300',\n",
       " 'https://www.reuters.com/arc/outboundfeeds/sitemap/?outputType=xml&from=8400',\n",
       " 'https://www.reuters.com/arc/outboundfeeds/sitemap/?outputType=xml&from=8500',\n",
       " 'https://www.reuters.com/arc/outboundfeeds/sitemap/?outputType=xml&from=8600',\n",
       " 'https://www.reuters.com/arc/outboundfeeds/sitemap/?outputType=xml&from=8700',\n",
       " 'https://www.reuters.com/arc/outboundfeeds/sitemap/?outputType=xml&from=8800',\n",
       " 'https://www.reuters.com/arc/outboundfeeds/sitemap/?outputType=xml&from=8900',\n",
       " 'https://www.reuters.com/arc/outboundfeeds/sitemap/?outputType=xml&from=9000',\n",
       " 'https://www.reuters.com/arc/outboundfeeds/sitemap/?outputType=xml&from=9100',\n",
       " 'https://www.reuters.com/arc/outboundfeeds/sitemap/?outputType=xml&from=9200',\n",
       " 'https://www.reuters.com/arc/outboundfeeds/sitemap/?outputType=xml&from=9300',\n",
       " 'https://www.reuters.com/arc/outboundfeeds/sitemap/?outputType=xml&from=9400',\n",
       " 'https://www.reuters.com/arc/outboundfeeds/sitemap/?outputType=xml&from=9500']"
      ]
     },
     "execution_count": 192,
     "metadata": {},
     "output_type": "execute_result"
    }
   ],
   "source": [
    "[sitemap['loc'] for sitemap in sub_sitemaps['sitemapindex']['sitemap']]\n",
    "# sitemap urls을 확보"
   ]
  },
  {
   "cell_type": "code",
   "execution_count": 222,
   "id": "2e6ee85d-6061-46aa-89da-3762a4ca7fc2",
   "metadata": {},
   "outputs": [],
   "source": [
    "import urllib.robotparser\n",
    "rp = urllib.robotparser.RobotFileParser()\n",
    "rp.set_url(\"https://www.reuters.com/robots.txt\")\n",
    "rp.read()\n",
    "sitemaps = rp.site_maps()\n",
    "import xmltodict\n",
    "import requests\n",
    "url = sitemaps[0]\n",
    "sub_sitemaps = xmltodict.parse(requests.get(url).text)\n",
    "# sitemap urls을 확보\n",
    "sub_sitemaps_urls = [sitemap['loc'] for sitemap in sub_sitemaps['sitemapindex']['sitemap']]\n",
    "response = requests.get(sub_sitemaps_urls[0])\n",
    "urls = xmltodict.parse(response.text)\n",
    "news_urls = [url['loc'] for url in urls['urlset']['url']]"
   ]
  },
  {
   "cell_type": "code",
   "execution_count": 224,
   "id": "1a187ade-0a12-487b-b1bb-4020f0fb8588",
   "metadata": {},
   "outputs": [
    {
     "name": "stdout",
     "output_type": "stream",
     "text": [
      "Wall time: 3.04 s\n"
     ]
    }
   ],
   "source": [
    "%%time\n",
    "session = requests.Session()\n",
    "for url in news_urls[:5]:\n",
    "    file = url.split(\"/\")[-2] + '.html'\n",
    "    response = session.get(url)\n",
    "    if response.status_code == 200:\n",
    "        with open(\"datas/\" + file, \"w+b\") as f:\n",
    "            f.write(response.text.encode(\"utf-8\"))\n",
    "    else:\n",
    "        print(f\"error with URL: {url}\")"
   ]
  },
  {
   "cell_type": "code",
   "execution_count": 203,
   "id": "108aa7fa-f7c5-4d52-b187-3ff260f9ee61",
   "metadata": {},
   "outputs": [],
   "source": [
    "file = open('filename.txt', 'w', encoding=\"utf-8\")\n",
    "\n",
    "file.write(\"파일에 작성할 문자열\")\n",
    "           \n",
    "file.close()"
   ]
  },
  {
   "cell_type": "code",
   "execution_count": 204,
   "id": "0376102f-5408-4ce9-9ad7-ad970db560ee",
   "metadata": {},
   "outputs": [],
   "source": [
    "with open('filename.txt', 'w') as file:\n",
    "    file.write('파일에 작성할 문자열')"
   ]
  },
  {
   "cell_type": "code",
   "execution_count": 205,
   "id": "108825c1-722c-4df3-aa6e-a394e5353280",
   "metadata": {},
   "outputs": [
    {
     "name": "stdout",
     "output_type": "stream",
     "text": [
      "파일에 작성할 문자열\n"
     ]
    }
   ],
   "source": [
    "with open('filename.txt', 'r') as file:\n",
    "    print(file.read())"
   ]
  },
  {
   "cell_type": "code",
   "execution_count": 225,
   "id": "07a51ec2-fb3f-4221-a81b-5204f50d3196",
   "metadata": {},
   "outputs": [
    {
     "data": {
      "text/plain": [
       "['./datas/apple-supplier-foxlink-unlikely-resume-full-india-operations-two-months-source-2023-02-28.html',\n",
       " './datas/investors-consider-battle-plans-amid-risk-china-taiwan-conflict-2023-02-28.html',\n",
       " './datas/northern-irelands-dup-new-deal-does-give-stormont-ability-apply-brake-2023-02-28.html',\n",
       " './datas/pakistan-central-bank-may-hike-rates-another-200-bps-unlock-imf-funds-2023-02-28.html',\n",
       " './datas/swiss-economic-growth-flat-q4-exports-manufacturing-drop-2023-02-28.html']"
      ]
     },
     "execution_count": 225,
     "metadata": {},
     "output_type": "execute_result"
    }
   ],
   "source": [
    "import os\n",
    "path = \"./datas/\"\n",
    "files = [path +file for file in os.listdir(path)]\n",
    "files"
   ]
  },
  {
   "cell_type": "code",
   "execution_count": 236,
   "id": "4e2f2004-af1c-43c7-b57e-0027d2ded9ab",
   "metadata": {},
   "outputs": [],
   "source": [
    "with open(files[2],\"r\",encoding=\"utf-8\") as f:\n",
    "    html = f.read()"
   ]
  },
  {
   "cell_type": "code",
   "execution_count": 238,
   "id": "660fad93-c7ab-48ff-a92d-e0d4294c4f9d",
   "metadata": {},
   "outputs": [
    {
     "name": "stdout",
     "output_type": "stream",
     "text": [
      "Northern Ireland's DUP: New deal does give Stormont ability to apply brake\n"
     ]
    }
   ],
   "source": [
    "from bs4 import BeautifulSoup\n",
    "soup = BeautifulSoup(html, 'html.parser')\n",
    "title = soup.select_one(\"#main-content > article > div.article__main__33WV2 > div.article__content__6hMn9 > header > div > div > h1\")\n",
    "print(title.text)"
   ]
  },
  {
   "cell_type": "code",
   "execution_count": 239,
   "id": "1282df3d-69fe-46fd-af03-6ff553b459e5",
   "metadata": {},
   "outputs": [
    {
     "data": {
      "text/plain": [
       "<h1 class=\"text__text__1FZLe text__dark-grey__3Ml43 text__medium__1kbOh text__heading_3__1kDhc heading__base__2T28j heading__heading_3__3aL54 article-header__title__3Y2hh\" data-testid=\"Heading\">Northern Ireland's DUP: New deal does give Stormont ability to apply brake</h1>"
      ]
     },
     "execution_count": 239,
     "metadata": {},
     "output_type": "execute_result"
    }
   ],
   "source": [
    "soup.h1"
   ]
  },
  {
   "cell_type": "code",
   "execution_count": 240,
   "id": "dda7d8b2-4858-4181-9f6c-0835a11e33d1",
   "metadata": {},
   "outputs": [
    {
     "data": {
      "text/plain": [
       "\"Northern Ireland's DUP: New deal does give Stormont ability to apply brake | Reuters\""
      ]
     },
     "execution_count": 240,
     "metadata": {},
     "output_type": "execute_result"
    }
   ],
   "source": [
    "soup.title.text"
   ]
  },
  {
   "cell_type": "code",
   "execution_count": 252,
   "id": "2102af20-d343-4079-857b-1794f46d8d57",
   "metadata": {},
   "outputs": [
    {
     "data": {
      "text/plain": [
       "\"LONDON, Feb 28 (Reuters) - The leader of Northern Ireland's Democratic Unionist Party (DUP) said a new provision to stop new European Union trade rules from applying to goods in Northern Ireland did appear to give its Stormont regional assembly the ability to apply a brake.\""
      ]
     },
     "execution_count": 252,
     "metadata": {},
     "output_type": "execute_result"
    }
   ],
   "source": [
    "soup.select_one(\"#main-content > article > div.article__main__33WV2 > div.article__content__6hMn9 > div > div > div.article-body__content__17Yit.paywall-article > p:nth-child(2)\").text"
   ]
  },
  {
   "cell_type": "code",
   "execution_count": null,
   "id": "d4c2bcd7-a877-4cc4-af9c-e986cd7fb047",
   "metadata": {},
   "outputs": [],
   "source": [
    "soup.select_one(\"#main-content > article > div.article__main__33WV2 > div.article__content__6hMn9 > div > div > div.article-body__content__17Yit.paywall-article > p:nth-child(3), #main-content > article > div.article__main__33WV2 > div.article__content__6hMn9 > div > div > div.article-body__content__17Yit.paywall-article > p:nth-child(5)\").split\n",
    "print(soup.select_one)\n",
    "\n",
    "# 내가 하면서 다양하게 해본 코딩\n",
    "#  어떻게 고치면 답이 나올지 해결 해보기기"
   ]
  },
  {
   "cell_type": "code",
   "execution_count": 259,
   "id": "f1823b77-dbe3-409c-9fe5-f9f6a2337343",
   "metadata": {},
   "outputs": [
    {
     "data": {
      "text/plain": [
       "'https://www.reuters.com/world/uk/northern-irelands-dup-new-deal-does-give-stormont-ability-apply-brake-2023-02-28/'"
      ]
     },
     "execution_count": 259,
     "metadata": {},
     "output_type": "execute_result"
    }
   ],
   "source": [
    "soup.find(\"link\", {\"rel\":\"canonical\"})[\"href\"]"
   ]
  },
  {
   "cell_type": "code",
   "execution_count": 9,
   "id": "f254e38f-9ca9-404e-95d3-69cb1511c822",
   "metadata": {},
   "outputs": [],
   "source": [
    "s = (\"서울\", \" 부산\", \"인천\", \"대구\")"
   ]
  },
  {
   "cell_type": "code",
   "execution_count": 10,
   "id": "abc64b6f-af6f-4029-a610-14eb101e5354",
   "metadata": {},
   "outputs": [
    {
     "name": "stdout",
     "output_type": "stream",
     "text": [
      "('서울', ' 부산', '인천', '대구')\n"
     ]
    }
   ],
   "source": [
    "print(s2)"
   ]
  },
  {
   "cell_type": "code",
   "execution_count": 11,
   "id": "338dfc90-0ea1-41ce-a936-b180a52fe0f7",
   "metadata": {},
   "outputs": [
    {
     "data": {
      "text/plain": [
       "('서울', ' 부산', '인천', '대구')"
      ]
     },
     "execution_count": 11,
     "metadata": {},
     "output_type": "execute_result"
    }
   ],
   "source": [
    "s2"
   ]
  },
  {
   "cell_type": "code",
   "execution_count": 12,
   "id": "aac76337-935b-4183-89cf-25f74316059f",
   "metadata": {},
   "outputs": [
    {
     "data": {
      "text/plain": [
       "('서울', ' 부산', '인천', '대구')"
      ]
     },
     "execution_count": 12,
     "metadata": {},
     "output_type": "execute_result"
    }
   ],
   "source": [
    "s"
   ]
  },
  {
   "cell_type": "code",
   "execution_count": 75,
   "id": "ecaad254-6c77-4884-a6a7-62ae86b49224",
   "metadata": {},
   "outputs": [],
   "source": [
    "import pandas as pd\n",
    "import numpy as np"
   ]
  },
  {
   "cell_type": "code",
   "execution_count": 42,
   "id": "6e4606d2-96d4-4a70-8a79-c952c9049064",
   "metadata": {},
   "outputs": [
    {
     "data": {
      "text/plain": [
       "0    10\n",
       "1    11\n",
       "2    12\n",
       "3    13\n",
       "dtype: int64"
      ]
     },
     "execution_count": 42,
     "metadata": {},
     "output_type": "execute_result"
    }
   ],
   "source": [
    "pd.Series(range(10, 14))"
   ]
  },
  {
   "cell_type": "code",
   "execution_count": 44,
   "id": "8feb098f-b453-4b93-9afd-530e5a04c006",
   "metadata": {},
   "outputs": [
    {
     "data": {
      "text/plain": [
       "<function tuple.index(value, start=0, stop=9223372036854775807, /)>"
      ]
     },
     "execution_count": 44,
     "metadata": {},
     "output_type": "execute_result"
    }
   ],
   "source": [
    "s. index"
   ]
  },
  {
   "cell_type": "code",
   "execution_count": 45,
   "id": "515f8be1-86c2-4166-847e-7396d42a41e7",
   "metadata": {},
   "outputs": [],
   "source": [
    "nums = pd.Series(range(500))"
   ]
  },
  {
   "cell_type": "code",
   "execution_count": 46,
   "id": "51c95826-2084-4e91-9c37-ec638aaebf43",
   "metadata": {},
   "outputs": [
    {
     "name": "stdout",
     "output_type": "stream",
     "text": [
      "0        0\n",
      "1        1\n",
      "2        2\n",
      "3        3\n",
      "4        4\n",
      "      ... \n",
      "495    495\n",
      "496    496\n",
      "497    497\n",
      "498    498\n",
      "499    499\n",
      "Length: 500, dtype: int64\n"
     ]
    }
   ],
   "source": [
    "# 500개의 값을 갖는 시리즈 생성\n",
    "nums = pd.Series(range(500))\n",
    "print(nums)"
   ]
  },
  {
   "cell_type": "code",
   "execution_count": 47,
   "id": "d2094239-9671-42b8-a95f-f4f0c58377b7",
   "metadata": {},
   "outputs": [
    {
     "data": {
      "text/plain": [
       "0    0\n",
       "1    1\n",
       "2    2\n",
       "3    3\n",
       "4    4\n",
       "5    5\n",
       "6    6\n",
       "7    7\n",
       "8    8\n",
       "9    9\n",
       "dtype: int64"
      ]
     },
     "execution_count": 47,
     "metadata": {},
     "output_type": "execute_result"
    }
   ],
   "source": [
    "nums.head(10)"
   ]
  },
  {
   "cell_type": "code",
   "execution_count": 49,
   "id": "a118cae0-8c05-4218-bf28-87407e129758",
   "metadata": {},
   "outputs": [
    {
     "data": {
      "text/plain": [
       "490    490\n",
       "491    491\n",
       "492    492\n",
       "493    493\n",
       "494    494\n",
       "495    495\n",
       "496    496\n",
       "497    497\n",
       "498    498\n",
       "499    499\n",
       "dtype: int64"
      ]
     },
     "execution_count": 49,
     "metadata": {},
     "output_type": "execute_result"
    }
   ],
   "source": [
    "nums.tail(10)"
   ]
  },
  {
   "cell_type": "code",
   "execution_count": 76,
   "id": "2ecbb5b2-826e-41c9-bef1-f4242bcbcd77",
   "metadata": {},
   "outputs": [
    {
     "data": {
      "text/plain": [
       "0    1.0\n",
       "1    2.0\n",
       "2    NaN\n",
       "3    4.0\n",
       "4    5.0\n",
       "dtype: float64"
      ]
     },
     "execution_count": 76,
     "metadata": {},
     "output_type": "execute_result"
    }
   ],
   "source": [
    "nums = pd.Series([1, 2, np.nan, 4, 5])\n",
    "nums"
   ]
  },
  {
   "cell_type": "code",
   "execution_count": 52,
   "id": "a649aa27-58f6-440d-9331-f76a68b4084e",
   "metadata": {},
   "outputs": [
    {
     "data": {
      "text/plain": [
       "0    h\n",
       "1    e\n",
       "2    l\n",
       "3    l\n",
       "4    o\n",
       "dtype: object"
      ]
     },
     "execution_count": 52,
     "metadata": {},
     "output_type": "execute_result"
    }
   ],
   "source": [
    "hello = pd.Series(list(\"hello\"))\n",
    "hello"
   ]
  },
  {
   "cell_type": "code",
   "execution_count": 54,
   "id": "d7d753ee-049d-4bdd-86e4-8e1a9d6c29bf",
   "metadata": {},
   "outputs": [
    {
     "data": {
      "text/plain": [
       "500"
      ]
     },
     "execution_count": 54,
     "metadata": {},
     "output_type": "execute_result"
    }
   ],
   "source": [
    "nums.count()"
   ]
  },
  {
   "cell_type": "code",
   "execution_count": 55,
   "id": "e973cd73-742f-48ff-8e3e-1d779f193afc",
   "metadata": {},
   "outputs": [
    {
     "data": {
      "text/plain": [
       "500"
      ]
     },
     "execution_count": 55,
     "metadata": {},
     "output_type": "execute_result"
    }
   ],
   "source": [
    "len(nums)"
   ]
  },
  {
   "cell_type": "code",
   "execution_count": 60,
   "id": "00ae8394-04e4-4f87-9867-f9a678fa688d",
   "metadata": {},
   "outputs": [
    {
     "data": {
      "text/plain": [
       "124750"
      ]
     },
     "execution_count": 60,
     "metadata": {},
     "output_type": "execute_result"
    }
   ],
   "source": [
    "nums.sum()"
   ]
  },
  {
   "cell_type": "code",
   "execution_count": 62,
   "id": "8f0740d6-1005-49c6-80af-098594af741e",
   "metadata": {},
   "outputs": [
    {
     "data": {
      "text/plain": [
       "249.5"
      ]
     },
     "execution_count": 62,
     "metadata": {},
     "output_type": "execute_result"
    }
   ],
   "source": [
    "nums.mean()"
   ]
  },
  {
   "cell_type": "code",
   "execution_count": 63,
   "id": "0c53aa86-7008-4af6-a2ec-6690f059009d",
   "metadata": {},
   "outputs": [
    {
     "data": {
      "text/plain": [
       "249.5"
      ]
     },
     "execution_count": 63,
     "metadata": {},
     "output_type": "execute_result"
    }
   ],
   "source": [
    "nums.median()"
   ]
  },
  {
   "cell_type": "code",
   "execution_count": 64,
   "id": "81b0dc1a-c201-4bdb-a3eb-b80979ecd979",
   "metadata": {},
   "outputs": [
    {
     "data": {
      "text/plain": [
       "144.4818327679989"
      ]
     },
     "execution_count": 64,
     "metadata": {},
     "output_type": "execute_result"
    }
   ],
   "source": [
    "nums.std()"
   ]
  },
  {
   "cell_type": "code",
   "execution_count": 65,
   "id": "e56d3533-a9a7-4877-8903-b90aa03311d8",
   "metadata": {},
   "outputs": [
    {
     "data": {
      "text/plain": [
       "499"
      ]
     },
     "execution_count": 65,
     "metadata": {},
     "output_type": "execute_result"
    }
   ],
   "source": [
    "nums.max()"
   ]
  },
  {
   "cell_type": "code",
   "execution_count": 66,
   "id": "79b4f36a-95e7-4855-a626-31e54572cc82",
   "metadata": {},
   "outputs": [
    {
     "data": {
      "text/plain": [
       "0"
      ]
     },
     "execution_count": 66,
     "metadata": {},
     "output_type": "execute_result"
    }
   ],
   "source": [
    "nums.min()"
   ]
  },
  {
   "cell_type": "code",
   "execution_count": 67,
   "id": "d8c1545f-d0b2-4f6a-8398-50146babf6be",
   "metadata": {},
   "outputs": [
    {
     "data": {
      "text/plain": [
       "0        0\n",
       "1        1\n",
       "2        2\n",
       "3        3\n",
       "4        4\n",
       "      ... \n",
       "495    495\n",
       "496    496\n",
       "497    497\n",
       "498    498\n",
       "499    499\n",
       "Length: 500, dtype: int64"
      ]
     },
     "execution_count": 67,
     "metadata": {},
     "output_type": "execute_result"
    }
   ],
   "source": [
    "nums"
   ]
  },
  {
   "cell_type": "code",
   "execution_count": null,
   "id": "77709bc0-d2f5-46dc-a03a-1bf2c06b068f",
   "metadata": {},
   "outputs": [],
   "source": [
    "superheros = [\"Ba"
   ]
  },
  {
   "cell_type": "code",
   "execution_count": 71,
   "id": "50111674-a207-4905-a993-ee86b66ce557",
   "metadata": {},
   "outputs": [],
   "source": [
    "import pandas as pd\n",
    "import numpy as np"
   ]
  },
  {
   "cell_type": "code",
   "execution_count": 72,
   "id": "a9618d01-35a3-404e-a122-93fce8663121",
   "metadata": {},
   "outputs": [],
   "source": [
    "superheros = [\n",
    "    \"Batman\",\n",
    "    \"Superman\",\n",
    "    \"Spider-Man\",\n",
    "    \"Iron Man\",\n",
    "    \"Captain America\",\n",
    "    \"Wonder Woman\"\n",
    "]\n",
    "strength_levels = (100, 120, 90, 95, 110, 120)"
   ]
  },
  {
   "cell_type": "code",
   "execution_count": 73,
   "id": "2cf2a934-239b-4344-a821-79f5d0c9866f",
   "metadata": {},
   "outputs": [],
   "source": [
    "heros = pd.Series(data=strength_levels, index=superheros)"
   ]
  },
  {
   "cell_type": "code",
   "execution_count": 74,
   "id": "253498af-e437-4726-a8d3-52d849bb3dd8",
   "metadata": {},
   "outputs": [
    {
     "data": {
      "text/plain": [
       "Batman             100\n",
       "Superman           120\n",
       "Spider-Man          90\n",
       "Iron Man            95\n",
       "Captain America    110\n",
       "Wonder Woman       120\n",
       "dtype: int64"
      ]
     },
     "execution_count": 74,
     "metadata": {},
     "output_type": "execute_result"
    }
   ],
   "source": [
    "heros"
   ]
  },
  {
   "cell_type": "code",
   "execution_count": 77,
   "id": "9df3a100-90d9-4f95-a857-7129b51790b1",
   "metadata": {},
   "outputs": [
    {
     "data": {
      "text/plain": [
       "1    2.0\n",
       "2    NaN\n",
       "3    4.0\n",
       "4    5.0\n",
       "dtype: float64"
      ]
     },
     "execution_count": 77,
     "metadata": {},
     "output_type": "execute_result"
    }
   ],
   "source": [
    "nums.tail(4)"
   ]
  }
 ],
 "metadata": {
  "kernelspec": {
   "display_name": "Python 3 (ipykernel)",
   "language": "python",
   "name": "python3"
  },
  "language_info": {
   "codemirror_mode": {
    "name": "ipython",
    "version": 3
   },
   "file_extension": ".py",
   "mimetype": "text/x-python",
   "name": "python",
   "nbconvert_exporter": "python",
   "pygments_lexer": "ipython3",
   "version": "3.9.13"
  }
 },
 "nbformat": 4,
 "nbformat_minor": 5
}
