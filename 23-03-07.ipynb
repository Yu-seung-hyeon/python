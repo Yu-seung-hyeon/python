{
 "cells": [
  {
   "cell_type": "code",
   "execution_count": 1,
   "id": "82848982-83d3-4291-a991-d8db11c40e62",
   "metadata": {},
   "outputs": [],
   "source": [
    "import pandas as pd\n",
    "import numpy as np"
   ]
  },
  {
   "cell_type": "code",
   "execution_count": 2,
   "id": "79e50208-b1c8-45df-b5f2-feb37321fd2f",
   "metadata": {},
   "outputs": [
    {
     "data": {
      "text/plain": [
       "0    10\n",
       "1    11\n",
       "2    12\n",
       "3    13\n",
       "dtype: int64"
      ]
     },
     "execution_count": 2,
     "metadata": {},
     "output_type": "execute_result"
    }
   ],
   "source": [
    "pd.Series(range(10, 14))"
   ]
  },
  {
   "cell_type": "code",
   "execution_count": 3,
   "id": "4724d0df-8222-4895-b89c-1a64a421bb30",
   "metadata": {},
   "outputs": [
    {
     "ename": "NameError",
     "evalue": "name 's' is not defined",
     "output_type": "error",
     "traceback": [
      "\u001b[1;31m---------------------------------------------------------------------------\u001b[0m",
      "\u001b[1;31mNameError\u001b[0m                                 Traceback (most recent call last)",
      "\u001b[1;32m~\\AppData\\Local\\Temp\\ipykernel_9740\\2486291878.py\u001b[0m in \u001b[0;36m<module>\u001b[1;34m\u001b[0m\n\u001b[1;32m----> 1\u001b[1;33m \u001b[0ms\u001b[0m\u001b[1;33m.\u001b[0m \u001b[0mindex\u001b[0m\u001b[1;33m\u001b[0m\u001b[1;33m\u001b[0m\u001b[0m\n\u001b[0m",
      "\u001b[1;31mNameError\u001b[0m: name 's' is not defined"
     ]
    }
   ],
   "source": [
    "s. index"
   ]
  },
  {
   "cell_type": "code",
   "execution_count": 4,
   "id": "1d51ba54-ecad-4ee3-9958-0e5658950fcf",
   "metadata": {},
   "outputs": [],
   "source": [
    "nums = pd.Series(range(500))"
   ]
  },
  {
   "cell_type": "code",
   "execution_count": 5,
   "id": "0fa22645-7012-4f45-8268-baa3b0d1b778",
   "metadata": {},
   "outputs": [
    {
     "name": "stdout",
     "output_type": "stream",
     "text": [
      "0        0\n",
      "1        1\n",
      "2        2\n",
      "3        3\n",
      "4        4\n",
      "      ... \n",
      "495    495\n",
      "496    496\n",
      "497    497\n",
      "498    498\n",
      "499    499\n",
      "Length: 500, dtype: int64\n"
     ]
    }
   ],
   "source": [
    "# 500개의 값을 갖는 시리즈 생성\n",
    "nums = pd.Series(range(500))\n",
    "print(nums)"
   ]
  },
  {
   "cell_type": "code",
   "execution_count": 6,
   "id": "402f4039-3dbe-4643-ab57-b844aaf3c2f6",
   "metadata": {},
   "outputs": [
    {
     "data": {
      "text/plain": [
       "0    0\n",
       "1    1\n",
       "2    2\n",
       "3    3\n",
       "4    4\n",
       "5    5\n",
       "6    6\n",
       "7    7\n",
       "8    8\n",
       "9    9\n",
       "dtype: int64"
      ]
     },
     "execution_count": 6,
     "metadata": {},
     "output_type": "execute_result"
    }
   ],
   "source": [
    "nums.head(10)"
   ]
  },
  {
   "cell_type": "code",
   "execution_count": 7,
   "id": "0777939a-872f-4011-b738-f334409db004",
   "metadata": {},
   "outputs": [
    {
     "data": {
      "text/plain": [
       "490    490\n",
       "491    491\n",
       "492    492\n",
       "493    493\n",
       "494    494\n",
       "495    495\n",
       "496    496\n",
       "497    497\n",
       "498    498\n",
       "499    499\n",
       "dtype: int64"
      ]
     },
     "execution_count": 7,
     "metadata": {},
     "output_type": "execute_result"
    }
   ],
   "source": [
    "nums.tail(10)"
   ]
  },
  {
   "cell_type": "code",
   "execution_count": 8,
   "id": "84c555fc-b0a6-4988-b66f-e551bad87f85",
   "metadata": {},
   "outputs": [
    {
     "data": {
      "text/plain": [
       "0    1.0\n",
       "1    2.0\n",
       "2    NaN\n",
       "3    4.0\n",
       "4    5.0\n",
       "dtype: float64"
      ]
     },
     "execution_count": 8,
     "metadata": {},
     "output_type": "execute_result"
    }
   ],
   "source": [
    "nums = pd.Series([1, 2, np.nan, 4, 5])\n",
    "nums"
   ]
  },
  {
   "cell_type": "code",
   "execution_count": 9,
   "id": "dcdc79a0-23da-4318-97ef-7e6d38b75d40",
   "metadata": {},
   "outputs": [
    {
     "data": {
      "text/plain": [
       "0    h\n",
       "1    e\n",
       "2    l\n",
       "3    l\n",
       "4    o\n",
       "dtype: object"
      ]
     },
     "execution_count": 9,
     "metadata": {},
     "output_type": "execute_result"
    }
   ],
   "source": [
    "hello = pd.Series(list(\"hello\"))\n",
    "hello"
   ]
  },
  {
   "cell_type": "code",
   "execution_count": 10,
   "id": "8a074358-89d1-4db8-8426-8e331ffef1f0",
   "metadata": {},
   "outputs": [
    {
     "data": {
      "text/plain": [
       "4"
      ]
     },
     "execution_count": 10,
     "metadata": {},
     "output_type": "execute_result"
    }
   ],
   "source": [
    "nums.count()"
   ]
  },
  {
   "cell_type": "code",
   "execution_count": 11,
   "id": "f11031ce-9fdb-43c6-8d6f-1bedbf8a3687",
   "metadata": {},
   "outputs": [
    {
     "data": {
      "text/plain": [
       "5"
      ]
     },
     "execution_count": 11,
     "metadata": {},
     "output_type": "execute_result"
    }
   ],
   "source": [
    "len(nums)"
   ]
  },
  {
   "cell_type": "code",
   "execution_count": 12,
   "id": "46ad1525-acaa-4428-b675-e1752748373c",
   "metadata": {},
   "outputs": [
    {
     "data": {
      "text/plain": [
       "12.0"
      ]
     },
     "execution_count": 12,
     "metadata": {},
     "output_type": "execute_result"
    }
   ],
   "source": [
    "nums.sum()"
   ]
  },
  {
   "cell_type": "code",
   "execution_count": 13,
   "id": "10792a36-62d7-4960-948c-307337198886",
   "metadata": {},
   "outputs": [
    {
     "data": {
      "text/plain": [
       "3.0"
      ]
     },
     "execution_count": 13,
     "metadata": {},
     "output_type": "execute_result"
    }
   ],
   "source": [
    "nums.mean()"
   ]
  },
  {
   "cell_type": "code",
   "execution_count": 14,
   "id": "11225ff5-c478-4830-a0af-bcf8be92d91c",
   "metadata": {},
   "outputs": [
    {
     "data": {
      "text/plain": [
       "3.0"
      ]
     },
     "execution_count": 14,
     "metadata": {},
     "output_type": "execute_result"
    }
   ],
   "source": [
    "nums.median()"
   ]
  },
  {
   "cell_type": "code",
   "execution_count": 15,
   "id": "b8976976-807b-46ba-bd79-4455d67654c6",
   "metadata": {},
   "outputs": [
    {
     "data": {
      "text/plain": [
       "1.8257418583505538"
      ]
     },
     "execution_count": 15,
     "metadata": {},
     "output_type": "execute_result"
    }
   ],
   "source": [
    "nums.std()"
   ]
  },
  {
   "cell_type": "code",
   "execution_count": 16,
   "id": "66ebf825-1a21-4346-8bca-263a2154f417",
   "metadata": {},
   "outputs": [
    {
     "data": {
      "text/plain": [
       "5.0"
      ]
     },
     "execution_count": 16,
     "metadata": {},
     "output_type": "execute_result"
    }
   ],
   "source": [
    "nums.max()"
   ]
  },
  {
   "cell_type": "code",
   "execution_count": 17,
   "id": "f6250ca8-4faa-4c83-9c3a-b4bf23dfdcb9",
   "metadata": {},
   "outputs": [
    {
     "data": {
      "text/plain": [
       "1.0"
      ]
     },
     "execution_count": 17,
     "metadata": {},
     "output_type": "execute_result"
    }
   ],
   "source": [
    "nums.min()"
   ]
  },
  {
   "cell_type": "code",
   "execution_count": 18,
   "id": "a6405e32-8024-449b-a9e6-132e5ac2cb49",
   "metadata": {},
   "outputs": [
    {
     "data": {
      "text/plain": [
       "0    1.0\n",
       "1    2.0\n",
       "2    NaN\n",
       "3    4.0\n",
       "4    5.0\n",
       "dtype: float64"
      ]
     },
     "execution_count": 18,
     "metadata": {},
     "output_type": "execute_result"
    }
   ],
   "source": [
    "nums"
   ]
  },
  {
   "cell_type": "code",
   "execution_count": 20,
   "id": "137601fe-1023-40a2-b677-2d6c23ababba",
   "metadata": {},
   "outputs": [],
   "source": [
    "superheros = [\n",
    "    \"Batman\",\n",
    "    \"Superman\",\n",
    "    \"Spider-Man\",\n",
    "    \"Iron Man\",\n",
    "    \"Captain America\",\n",
    "    \"Wonder Woman\"\n",
    "]\n",
    "strength_levels = (100, 120, 90, 95, 110, 120)"
   ]
  },
  {
   "cell_type": "code",
   "execution_count": 21,
   "id": "adf9557f-c9f1-4752-80dd-3adef8025fbb",
   "metadata": {},
   "outputs": [],
   "source": [
    "heros = pd.Series(data=strength_levels, index=superheros)"
   ]
  },
  {
   "cell_type": "code",
   "execution_count": 22,
   "id": "2c433826-a093-4052-8c63-7eddfa1279a2",
   "metadata": {},
   "outputs": [
    {
     "data": {
      "text/plain": [
       "Batman             100\n",
       "Superman           120\n",
       "Spider-Man          90\n",
       "Iron Man            95\n",
       "Captain America    110\n",
       "Wonder Woman       120\n",
       "dtype: int64"
      ]
     },
     "execution_count": 22,
     "metadata": {},
     "output_type": "execute_result"
    }
   ],
   "source": [
    "heros"
   ]
  },
  {
   "cell_type": "code",
   "execution_count": 36,
   "id": "50c232f4-7a11-4025-a413-394a3a9ae71c",
   "metadata": {},
   "outputs": [
    {
     "data": {
      "text/plain": [
       "Spider-Man          90\n",
       "Iron Man            95\n",
       "Captain America    110\n",
       "Wonder Woman       120\n",
       "dtype: int64"
      ]
     },
     "execution_count": 36,
     "metadata": {},
     "output_type": "execute_result"
    }
   ],
   "source": [
    "heros.tail(4)"
   ]
  },
  {
   "cell_type": "code",
   "execution_count": 38,
   "id": "b6ba8292-0a68-440d-9f13-0cfc5fbabc18",
   "metadata": {},
   "outputs": [
    {
     "data": {
      "text/plain": [
       "5"
      ]
     },
     "execution_count": 38,
     "metadata": {},
     "output_type": "execute_result"
    }
   ],
   "source": [
    "heros.nunique()"
   ]
  },
  {
   "cell_type": "code",
   "execution_count": 28,
   "id": "02450aa0-caf4-4f85-b09b-ed7cb9f52516",
   "metadata": {},
   "outputs": [
    {
     "data": {
      "text/plain": [
       "105.83333333333333"
      ]
     },
     "execution_count": 28,
     "metadata": {},
     "output_type": "execute_result"
    }
   ],
   "source": [
    "heros.mean()\n",
    "#평균 구하기"
   ]
  },
  {
   "cell_type": "code",
   "execution_count": 29,
   "id": "8f197d4b-cb07-4319-a79c-9a15cda7734c",
   "metadata": {},
   "outputs": [
    {
     "data": {
      "text/plain": [
       "105.0"
      ]
     },
     "execution_count": 29,
     "metadata": {},
     "output_type": "execute_result"
    }
   ],
   "source": [
    "heros.median()\n",
    "# 중간값 구하기"
   ]
  },
  {
   "cell_type": "code",
   "execution_count": 30,
   "id": "d000234d-72ad-44b3-9b40-85bfd612b0bb",
   "metadata": {},
   "outputs": [
    {
     "data": {
      "text/plain": [
       "120"
      ]
     },
     "execution_count": 30,
     "metadata": {},
     "output_type": "execute_result"
    }
   ],
   "source": [
    "heros.max()\n",
    "# 최대값 구하기"
   ]
  },
  {
   "cell_type": "code",
   "execution_count": 31,
   "id": "9387b754-b936-46c5-9667-89b333deae80",
   "metadata": {},
   "outputs": [
    {
     "data": {
      "text/plain": [
       "90"
      ]
     },
     "execution_count": 31,
     "metadata": {},
     "output_type": "execute_result"
    }
   ],
   "source": [
    "heros.min()\n",
    "# 최소값 구하기"
   ]
  },
  {
   "cell_type": "code",
   "execution_count": 32,
   "id": "512966ec-64a4-43ac-9bef-88c0bd89bff8",
   "metadata": {},
   "outputs": [
    {
     "data": {
      "text/plain": [
       "Batman             100\n",
       "Superman           120\n",
       "Spider-Man          90\n",
       "Iron Man            95\n",
       "Captain America    110\n",
       "Wonder Woman       120\n",
       "dtype: int64"
      ]
     },
     "execution_count": 32,
     "metadata": {},
     "output_type": "execute_result"
    }
   ],
   "source": [
    "heros"
   ]
  },
  {
   "cell_type": "code",
   "execution_count": 33,
   "id": "c982b80b-22a6-4cb6-aadf-673c5403451c",
   "metadata": {},
   "outputs": [
    {
     "data": {
      "text/plain": [
       "[100, 120, 90, 95, 110, 120]"
      ]
     },
     "execution_count": 33,
     "metadata": {},
     "output_type": "execute_result"
    }
   ],
   "source": [
    "list(heros)"
   ]
  },
  {
   "cell_type": "code",
   "execution_count": 35,
   "id": "b735e042-7ef6-44d3-bef5-4d094de2270d",
   "metadata": {},
   "outputs": [
    {
     "data": {
      "text/plain": [
       "{'Batman': 100,\n",
       " 'Superman': 120,\n",
       " 'Spider-Man': 90,\n",
       " 'Iron Man': 95,\n",
       " 'Captain America': 110,\n",
       " 'Wonder Woman': 120}"
      ]
     },
     "execution_count": 35,
     "metadata": {},
     "output_type": "execute_result"
    }
   ],
   "source": [
    "dict(heros)"
   ]
  },
  {
   "cell_type": "code",
   "execution_count": 42,
   "id": "9aceeba8-c72e-4507-8469-95063953fa00",
   "metadata": {},
   "outputs": [
    {
     "name": "stderr",
     "output_type": "stream",
     "text": [
      "C:\\Users\\Playdata\\AppData\\Local\\Temp\\ipykernel_9740\\644558881.py:1: FutureWarning: The squeeze argument has been deprecated and will be removed in a future version. Append .squeeze(\"columns\") to the call to squeeze.\n",
      "\n",
      "\n",
      "  pd.read_csv(\"datas/pokemon.csv\", index_col=\"Pokemon\", squeeze=True)\n"
     ]
    },
    {
     "data": {
      "text/plain": [
       "Pokemon\n",
       "Bulbasaur      Grass / Poison\n",
       "Ivysaur        Grass / Poison\n",
       "Venusaur       Grass / Poison\n",
       "Charmander               Fire\n",
       "Charmeleon               Fire\n",
       "                    ...      \n",
       "Stakataka        Rock / Steel\n",
       "Blacephalon      Fire / Ghost\n",
       "Zeraora              Electric\n",
       "Meltan                  Steel\n",
       "Melmetal                Steel\n",
       "Name: Type, Length: 809, dtype: object"
      ]
     },
     "execution_count": 42,
     "metadata": {},
     "output_type": "execute_result"
    }
   ],
   "source": [
    "pd.read_csv(\"datas/pokemon.csv\", index_col=\"Pokemon\", squeeze=True)"
   ]
  },
  {
   "cell_type": "code",
   "execution_count": 43,
   "id": "c33a3ad0-2de0-4749-931e-35ef9efedb70",
   "metadata": {},
   "outputs": [
    {
     "data": {
      "text/plain": [
       "<bound method NDFrame.squeeze of                        Type\n",
       "Pokemon                    \n",
       "Bulbasaur    Grass / Poison\n",
       "Ivysaur      Grass / Poison\n",
       "Venusaur     Grass / Poison\n",
       "Charmander             Fire\n",
       "Charmeleon             Fire\n",
       "...                     ...\n",
       "Stakataka      Rock / Steel\n",
       "Blacephalon    Fire / Ghost\n",
       "Zeraora            Electric\n",
       "Meltan                Steel\n",
       "Melmetal              Steel\n",
       "\n",
       "[809 rows x 1 columns]>"
      ]
     },
     "execution_count": 43,
     "metadata": {},
     "output_type": "execute_result"
    }
   ],
   "source": [
    "pd.read_csv(\"datas/pokemon.csv\", index_col=\"Pokemon\"). squeeze"
   ]
  },
  {
   "cell_type": "code",
   "execution_count": 46,
   "id": "f5a32424-30d0-4acd-b750-ee9a197397bc",
   "metadata": {},
   "outputs": [
    {
     "name": "stderr",
     "output_type": "stream",
     "text": [
      "C:\\Users\\Playdata\\AppData\\Local\\Temp\\ipykernel_9740\\2752634572.py:1: FutureWarning: The squeeze argument has been deprecated and will be removed in a future version. Append .squeeze(\"columns\") to the call to squeeze.\n",
      "\n",
      "\n",
      "  pokemons = pd.read_csv(\"datas/pokemon.csv\", index_col=\"Pokemon\", squeeze=True)\n"
     ]
    },
    {
     "data": {
      "text/plain": [
       "Pokemon\n",
       "Bulbasaur      Grass / Poison\n",
       "Ivysaur        Grass / Poison\n",
       "Venusaur       Grass / Poison\n",
       "Charmander               Fire\n",
       "Charmeleon               Fire\n",
       "                    ...      \n",
       "Stakataka        Rock / Steel\n",
       "Blacephalon      Fire / Ghost\n",
       "Zeraora              Electric\n",
       "Meltan                  Steel\n",
       "Melmetal                Steel\n",
       "Name: Type, Length: 809, dtype: object"
      ]
     },
     "execution_count": 46,
     "metadata": {},
     "output_type": "execute_result"
    }
   ],
   "source": [
    "pokemons = pd.read_csv(\"datas/pokemon.csv\", index_col=\"Pokemon\", squeeze=True)\n",
    "pokemons"
   ]
  },
  {
   "cell_type": "code",
   "execution_count": 50,
   "id": "b8ab0721-0b2d-4754-8944-b2b65af2b3c4",
   "metadata": {},
   "outputs": [
    {
     "data": {
      "text/plain": [
       "809"
      ]
     },
     "execution_count": 50,
     "metadata": {},
     "output_type": "execute_result"
    }
   ],
   "source": [
    "pokemons.count()\n",
    "# 데이터의 총 개수"
   ]
  },
  {
   "cell_type": "code",
   "execution_count": 54,
   "id": "03088de4-c52d-466b-bb24-94d5da425f6c",
   "metadata": {},
   "outputs": [
    {
     "data": {
      "text/plain": [
       "159"
      ]
     },
     "execution_count": 54,
     "metadata": {},
     "output_type": "execute_result"
    }
   ],
   "source": [
    "pokemons.nunique()\n",
    "# 데이터의 고유한 값의 종류"
   ]
  },
  {
   "cell_type": "code",
   "execution_count": 56,
   "id": "9b565585-cde4-4cf8-989c-0160028b46b1",
   "metadata": {},
   "outputs": [
    {
     "data": {
      "text/plain": [
       "'Water / Steel'"
      ]
     },
     "execution_count": 56,
     "metadata": {},
     "output_type": "execute_result"
    }
   ],
   "source": [
    "pokemons.max()\n",
    "# 데이터의 최대값"
   ]
  },
  {
   "cell_type": "code",
   "execution_count": 59,
   "id": "7c5ad085-a30e-4740-9e34-30c539c3f44f",
   "metadata": {},
   "outputs": [
    {
     "data": {
      "text/plain": [
       "'Bug'"
      ]
     },
     "execution_count": 59,
     "metadata": {},
     "output_type": "execute_result"
    }
   ],
   "source": [
    "pokemons.min()\n",
    "# 데이터의 최소값"
   ]
  },
  {
   "cell_type": "code",
   "execution_count": 58,
   "id": "2095f1b3-869a-4837-890b-62cc25ca3e3b",
   "metadata": {},
   "outputs": [
    {
     "data": {
      "text/plain": [
       "count        809\n",
       "unique       159\n",
       "top       Normal\n",
       "freq          65\n",
       "Name: Type, dtype: object"
      ]
     },
     "execution_count": 58,
     "metadata": {},
     "output_type": "execute_result"
    }
   ],
   "source": [
    "pokemons.describe()\n",
    "#데이터의 특징을 파악하는 방법(데이터의 형태를 설명하는 방법)\n",
    " # 데이터의 총 개수 \n",
    " # 데이터의 고유한 값의 종류\n",
    " # 제일 많이 가지고 있는 값\n",
    " # 제일 많이 갖는 값의 개수"
   ]
  },
  {
   "cell_type": "code",
   "execution_count": 62,
   "id": "37694585-89e1-44a4-8377-85771856c5d2",
   "metadata": {},
   "outputs": [
    {
     "data": {
      "text/plain": [
       "Pokemon\n",
       "Blacephalon    Fire / Ghost\n",
       "Zeraora            Electric\n",
       "Meltan                Steel\n",
       "Melmetal              Steel\n",
       "Name: Type, dtype: object"
      ]
     },
     "execution_count": 62,
     "metadata": {},
     "output_type": "execute_result"
    }
   ],
   "source": [
    "pokemons.tail(4)\n",
    "# 데이터의 끝에서 4개를 추출 하는 방법"
   ]
  },
  {
   "cell_type": "code",
   "execution_count": 63,
   "id": "c91a3e24-8133-4ec7-955c-bfe411c0b0bb",
   "metadata": {},
   "outputs": [
    {
     "data": {
      "text/plain": [
       "Pokemon\n",
       "Illumise                Bug\n",
       "Silcoon                 Bug\n",
       "Pinsir                  Bug\n",
       "Burmy                   Bug\n",
       "Wurmple                 Bug\n",
       "                  ...      \n",
       "Tirtouga       Water / Rock\n",
       "Relicanth      Water / Rock\n",
       "Corsola        Water / Rock\n",
       "Carracosta     Water / Rock\n",
       "Empoleon      Water / Steel\n",
       "Name: Type, Length: 809, dtype: object"
      ]
     },
     "execution_count": 63,
     "metadata": {},
     "output_type": "execute_result"
    }
   ],
   "source": [
    "pokemons.sort_values()\n",
    "#series의 값을 정렬하는 방법\n",
    "# 오름차순으로 값이 정렬되어 있는 것을 볼 수 있다.\n",
    "# "
   ]
  },
  {
   "cell_type": "code",
   "execution_count": 64,
   "id": "da107ad1-7da6-4221-b9fe-f27cc833a6cf",
   "metadata": {},
   "outputs": [
    {
     "data": {
      "text/plain": [
       "Pokemon\n",
       "Empoleon      Water / Steel\n",
       "Corsola        Water / Rock\n",
       "Relicanth      Water / Rock\n",
       "Carracosta     Water / Rock\n",
       "Tirtouga       Water / Rock\n",
       "                  ...      \n",
       "Kricketune              Bug\n",
       "Cascoon                 Bug\n",
       "Scatterbug              Bug\n",
       "Kricketot               Bug\n",
       "Grubbin                 Bug\n",
       "Name: Type, Length: 809, dtype: object"
      ]
     },
     "execution_count": 64,
     "metadata": {},
     "output_type": "execute_result"
    }
   ],
   "source": [
    "pokemons.sort_values(ascending = False)\n",
    "#accending 의 값이 True인 경우 오름차순/ False인 경우 내림차순으로 정리 한다."
   ]
  },
  {
   "cell_type": "code",
   "execution_count": 69,
   "id": "592733d4-fd01-4522-af27-1af7a6cddc5c",
   "metadata": {},
   "outputs": [
    {
     "data": {
      "text/plain": [
       "Date\n",
       "2004-08-19      49.98\n",
       "2004-08-20      53.95\n",
       "2004-08-23      54.50\n",
       "2004-08-24      52.24\n",
       "2004-08-25      52.80\n",
       "               ...   \n",
       "2019-10-21    1246.15\n",
       "2019-10-22    1242.80\n",
       "2019-10-23    1259.13\n",
       "2019-10-24    1260.99\n",
       "2019-10-25    1265.13\n",
       "Name: Close, Length: 3824, dtype: float64"
      ]
     },
     "execution_count": 69,
     "metadata": {},
     "output_type": "execute_result"
    }
   ],
   "source": [
    "pd.read_csv(\"datas/google_stocks.csv\",\n",
    "             parse_dates=[\"Date\"],\n",
    "             index_col=\"Date\").squeeze()"
   ]
  },
  {
   "cell_type": "code",
   "execution_count": null,
   "id": "6174f9b1-dfb5-4d83-a1da-dd39254475af",
   "metadata": {},
   "outputs": [],
   "source": [
    "war= pd.read_csv(\"datas/revolutionary_war.csv\",\n",
    "             parse_dates=[\"Start Date\"],\n",
    "             index_col=\"Start Date\",\n",
    "             usecols=[\"Start Date\", \"State\"],\n",
    "             squeeze = True)"
   ]
  },
  {
   "cell_type": "code",
   "execution_count": 78,
   "id": "039e583d-8ba0-4faa-b1e8-9485442f2fdf",
   "metadata": {},
   "outputs": [
    {
     "data": {
      "text/plain": [
       "Start Date\n",
       "1774-09-01    Massachusetts\n",
       "1774-12-14    New Hampshire\n",
       "1775-04-19    Massachusetts\n",
       "1775-04-19    Massachusetts\n",
       "1775-04-20         Virginia\n",
       "                  ...      \n",
       "1782-09-11         Virginia\n",
       "1782-09-13              NaN\n",
       "1782-10-18              NaN\n",
       "1782-12-06              NaN\n",
       "1783-01-22         Virginia\n",
       "Name: State, Length: 232, dtype: object"
      ]
     },
     "execution_count": 78,
     "metadata": {},
     "output_type": "execute_result"
    }
   ],
   "source": [
    "war"
   ]
  },
  {
   "cell_type": "code",
   "execution_count": 76,
   "id": "a740315a-1df4-4377-8cd0-ecfa84c9b421",
   "metadata": {},
   "outputs": [
    {
     "data": {
      "text/plain": [
       "count                162\n",
       "unique                17\n",
       "top       South Carolina\n",
       "freq                  31\n",
       "Name: State, dtype: object"
      ]
     },
     "execution_count": 76,
     "metadata": {},
     "output_type": "execute_result"
    }
   ],
   "source": [
    "war.describe()"
   ]
  },
  {
   "cell_type": "code",
   "execution_count": 79,
   "id": "15e1bbe9-2dfd-42f1-8038-047397566246",
   "metadata": {},
   "outputs": [
    {
     "data": {
      "text/plain": [
       "Start Date\n",
       "1781-09-06    Connecticut\n",
       "1779-07-05    Connecticut\n",
       "1777-04-27    Connecticut\n",
       "1777-09-03       Delaware\n",
       "1777-05-17        Florida\n",
       "                 ...     \n",
       "1782-08-08            NaN\n",
       "1782-08-25            NaN\n",
       "1782-09-13            NaN\n",
       "1782-10-18            NaN\n",
       "1782-12-06            NaN\n",
       "Name: State, Length: 232, dtype: object"
      ]
     },
     "execution_count": 79,
     "metadata": {},
     "output_type": "execute_result"
    }
   ],
   "source": [
    "war.sort_values()"
   ]
  },
  {
   "cell_type": "code",
   "execution_count": 103,
   "id": "17ed1916-0236-490b-9d72-28ff29eec75f",
   "metadata": {},
   "outputs": [
    {
     "data": {
      "text/plain": [
       "70"
      ]
     },
     "execution_count": 103,
     "metadata": {},
     "output_type": "execute_result"
    }
   ],
   "source": [
    "war.isnull().sum()\n",
    "len(war) - war.count()\n",
    "#nan값을 갖는 데이터는 몇개 인가요?"
   ]
  },
  {
   "cell_type": "code",
   "execution_count": 105,
   "id": "f189c8b4-63e8-4b48-a835-eac9e1c77e78",
   "metadata": {},
   "outputs": [
    {
     "data": {
      "text/plain": [
       "162"
      ]
     },
     "execution_count": 105,
     "metadata": {},
     "output_type": "execute_result"
    }
   ],
   "source": [
    "war.count()\n",
    "# 결측치(비어있는 값)를 제외한 개수를 구하는 방법은?\n",
    "# count는 기본적으로 nan(비어있는 값)을 계산하지 않는다."
   ]
  },
  {
   "cell_type": "code",
   "execution_count": 84,
   "id": "6aace5a2-5b67-408d-8a19-23336de8bb52",
   "metadata": {},
   "outputs": [
    {
     "data": {
      "text/plain": [
       "17"
      ]
     },
     "execution_count": 84,
     "metadata": {},
     "output_type": "execute_result"
    }
   ],
   "source": [
    "war.nunique(\"nan\")\n",
    "# 유일한 값의 개수는 몇개인가?\n",
    "# 유일한 state의 개수는 17개 이다."
   ]
  },
  {
   "cell_type": "code",
   "execution_count": 106,
   "id": "a99ffdf6-6408-4dad-88ec-0ed85b24bfb2",
   "metadata": {},
   "outputs": [
    {
     "data": {
      "text/plain": [
       "Start Date\n",
       "1775-09-17         NaN\n",
       "1775-12-31         NaN\n",
       "1776-03-03         NaN\n",
       "1776-03-25         NaN\n",
       "1776-05-18         NaN\n",
       "                ...   \n",
       "1781-07-06    Virginia\n",
       "1781-07-01    Virginia\n",
       "1781-06-26    Virginia\n",
       "1781-04-25    Virginia\n",
       "1783-01-22    Virginia\n",
       "Name: State, Length: 232, dtype: object"
      ]
     },
     "execution_count": 106,
     "metadata": {},
     "output_type": "execute_result"
    }
   ],
   "source": [
    "war.sort_values(na_position=\"first\")\n",
    "#nan 값을 정렬하는 방법은 인수에 first와 lsat값을 사용하면 된다."
   ]
  },
  {
   "cell_type": "code",
   "execution_count": 107,
   "id": "2824fb47-0bbc-44e0-9019-7ea3eaab85af",
   "metadata": {},
   "outputs": [
    {
     "data": {
      "text/plain": [
       "Start Date\n",
       "1781-09-06    Connecticut\n",
       "1779-07-05    Connecticut\n",
       "1777-04-27    Connecticut\n",
       "1777-09-03       Delaware\n",
       "1777-05-17        Florida\n",
       "                 ...     \n",
       "1782-08-08            NaN\n",
       "1782-08-25            NaN\n",
       "1782-09-13            NaN\n",
       "1782-10-18            NaN\n",
       "1782-12-06            NaN\n",
       "Name: State, Length: 232, dtype: object"
      ]
     },
     "execution_count": 107,
     "metadata": {},
     "output_type": "execute_result"
    }
   ],
   "source": [
    "war.sort_values(na_position=\"last\")\n",
    "#nan 값을 정렬하는 방법은 인수에 first와 lsat값을 사용하면 된다."
   ]
  },
  {
   "cell_type": "code",
   "execution_count": 109,
   "id": "43b82491-63c7-4d3d-9446-5298d9478ac1",
   "metadata": {},
   "outputs": [
    {
     "data": {
      "text/plain": [
       "Start Date\n",
       "1774-09-01     Massachusetts\n",
       "1774-12-14     New Hampshire\n",
       "1775-04-19     Massachusetts\n",
       "1775-04-19     Massachusetts\n",
       "1775-04-20          Virginia\n",
       "                   ...      \n",
       "1782-08-15          Virginia\n",
       "1782-08-19          Virginia\n",
       "1782-08-26    South Carolina\n",
       "1782-09-11          Virginia\n",
       "1783-01-22          Virginia\n",
       "Name: State, Length: 162, dtype: object"
      ]
     },
     "execution_count": 109,
     "metadata": {},
     "output_type": "execute_result"
    }
   ],
   "source": [
    "war.dropna()"
   ]
  },
  {
   "cell_type": "code",
   "execution_count": 111,
   "id": "94ea188b-3c59-4146-9067-d6755108dbee",
   "metadata": {},
   "outputs": [
    {
     "data": {
      "text/plain": [
       "Pokemon\n",
       "Abomasnow        Grass / Ice\n",
       "Abra                 Psychic\n",
       "Absol                   Dark\n",
       "Accelgor                 Bug\n",
       "Aegislash      Steel / Ghost\n",
       "                  ...       \n",
       "Zoroark                 Dark\n",
       "Zorua                   Dark\n",
       "Zubat        Poison / Flying\n",
       "Zweilous       Dark / Dragon\n",
       "Zygarde      Dragon / Ground\n",
       "Name: Type, Length: 809, dtype: object"
      ]
     },
     "execution_count": 111,
     "metadata": {},
     "output_type": "execute_result"
    }
   ],
   "source": [
    "pokemons.sort_index(ascending=True)"
   ]
  },
  {
   "cell_type": "code",
   "execution_count": 112,
   "id": "02aaa85f-93b2-46e0-95cf-60464a3f0ef2",
   "metadata": {},
   "outputs": [
    {
     "data": {
      "text/plain": [
       "Start Date\n",
       "1774-09-01    Massachusetts\n",
       "1774-12-14    New Hampshire\n",
       "1775-04-19    Massachusetts\n",
       "1775-04-19    Massachusetts\n",
       "1775-04-20         Virginia\n",
       "                  ...      \n",
       "1783-01-22         Virginia\n",
       "NaT              New Jersey\n",
       "NaT                Virginia\n",
       "NaT                     NaN\n",
       "NaT                     NaN\n",
       "Name: State, Length: 232, dtype: object"
      ]
     },
     "execution_count": 112,
     "metadata": {},
     "output_type": "execute_result"
    }
   ],
   "source": [
    "war.sort_index()\n",
    "#data를 inplace 시키는 방법이다."
   ]
  },
  {
   "cell_type": "code",
   "execution_count": 113,
   "id": "3e7e5a50-e6b5-473a-b823-0fd618fbb7ac",
   "metadata": {},
   "outputs": [
    {
     "data": {
      "text/plain": [
       "Start Date\n",
       "NaT              New Jersey\n",
       "NaT                Virginia\n",
       "NaT                     NaN\n",
       "NaT                     NaN\n",
       "1774-09-01    Massachusetts\n",
       "                  ...      \n",
       "1782-09-11         Virginia\n",
       "1782-09-13              NaN\n",
       "1782-10-18              NaN\n",
       "1782-12-06              NaN\n",
       "1783-01-22         Virginia\n",
       "Name: State, Length: 232, dtype: object"
      ]
     },
     "execution_count": 113,
     "metadata": {},
     "output_type": "execute_result"
    }
   ],
   "source": [
    "war.sort_index(na_position=\"first\")\n",
    "#na의 위치를 앞쪽에 설정 하는 경우"
   ]
  },
  {
   "cell_type": "code",
   "execution_count": 115,
   "id": "edbe9682-5e1f-4fae-9ce8-373b56435ad0",
   "metadata": {},
   "outputs": [
    {
     "data": {
      "text/plain": [
       "Start Date\n",
       "1774-09-01    Massachusetts\n",
       "1774-12-14    New Hampshire\n",
       "1775-04-19    Massachusetts\n",
       "1775-04-19    Massachusetts\n",
       "1775-04-20         Virginia\n",
       "                  ...      \n",
       "1783-01-22         Virginia\n",
       "NaT              New Jersey\n",
       "NaT                Virginia\n",
       "NaT                     NaN\n",
       "NaT                     NaN\n",
       "Name: State, Length: 232, dtype: object"
      ]
     },
     "execution_count": 115,
     "metadata": {},
     "output_type": "execute_result"
    }
   ],
   "source": [
    "war.sort_index(na_position=\"last\")\n",
    "#na의 위치를 뒤쪽에 설정 하는 경우"
   ]
  },
  {
   "cell_type": "code",
   "execution_count": 121,
   "id": "85c6c81d-aea9-4307-82f9-751b3c943fa5",
   "metadata": {},
   "outputs": [
    {
     "data": {
      "text/plain": [
       "DatetimeIndex(['1774-09-01', '1774-12-14', '1775-04-19', '1775-04-19',\n",
       "               '1775-04-20', '1775-05-10', '1775-05-27', '1775-06-11',\n",
       "               '1775-06-17', '1775-08-08',\n",
       "               ...\n",
       "               '1782-08-08', '1782-08-15', '1782-08-19', '1782-08-26',\n",
       "               '1782-08-25', '1782-09-11', '1782-09-13', '1782-10-18',\n",
       "               '1782-12-06', '1783-01-22'],\n",
       "              dtype='datetime64[ns]', name='Start Date', length=228, freq=None)"
      ]
     },
     "execution_count": 121,
     "metadata": {},
     "output_type": "execute_result"
    }
   ],
   "source": [
    "war.index.dropna()"
   ]
  },
  {
   "cell_type": "code",
   "execution_count": 122,
   "id": "2a17948e-9fc3-465b-9ae8-0ae073d8ea2d",
   "metadata": {},
   "outputs": [
    {
     "data": {
      "text/plain": [
       "217"
      ]
     },
     "execution_count": 122,
     "metadata": {},
     "output_type": "execute_result"
    }
   ],
   "source": [
    "war.index.dropna().nunique()"
   ]
  },
  {
   "cell_type": "code",
   "execution_count": 119,
   "id": "1d54b04b-8fd6-4102-853f-207de724613a",
   "metadata": {},
   "outputs": [
    {
     "data": {
      "text/plain": [
       "array([ True,  True,  True,  True,  True,  True,  True,  True,  True,\n",
       "        True,  True,  True,  True,  True,  True,  True,  True,  True,\n",
       "        True,  True,  True,  True,  True,  True,  True,  True,  True,\n",
       "        True,  True,  True,  True,  True,  True,  True,  True,  True,\n",
       "        True,  True,  True,  True,  True,  True, False,  True,  True,\n",
       "        True,  True,  True,  True,  True,  True,  True,  True,  True,\n",
       "        True,  True,  True,  True, False,  True,  True,  True,  True,\n",
       "        True,  True,  True,  True,  True,  True,  True,  True,  True,\n",
       "        True,  True,  True,  True,  True,  True,  True,  True,  True,\n",
       "        True,  True,  True,  True,  True,  True,  True,  True,  True,\n",
       "        True,  True,  True,  True,  True,  True,  True,  True,  True,\n",
       "        True,  True,  True,  True,  True,  True,  True,  True,  True,\n",
       "        True,  True,  True,  True,  True,  True,  True,  True,  True,\n",
       "        True,  True,  True,  True,  True,  True,  True,  True,  True,\n",
       "        True,  True, False,  True,  True,  True,  True,  True,  True,\n",
       "        True,  True,  True,  True,  True,  True,  True,  True,  True,\n",
       "        True,  True,  True,  True,  True,  True,  True,  True,  True,\n",
       "        True,  True,  True,  True,  True,  True,  True,  True,  True,\n",
       "        True,  True,  True,  True,  True,  True,  True,  True,  True,\n",
       "        True,  True,  True,  True,  True,  True,  True,  True,  True,\n",
       "        True,  True,  True,  True,  True,  True,  True,  True,  True,\n",
       "        True,  True,  True,  True,  True,  True,  True,  True,  True,\n",
       "        True,  True,  True,  True,  True,  True,  True,  True,  True,\n",
       "        True,  True,  True,  True,  True,  True,  True, False,  True,\n",
       "        True,  True,  True,  True,  True,  True,  True,  True,  True,\n",
       "        True,  True,  True,  True,  True,  True,  True])"
      ]
     },
     "execution_count": 119,
     "metadata": {},
     "output_type": "execute_result"
    }
   ],
   "source": [
    "war.index.notnull()"
   ]
  },
  {
   "cell_type": "code",
   "execution_count": 117,
   "id": "5f1798c7-afed-44e6-8265-a96566c57a7b",
   "metadata": {},
   "outputs": [
    {
     "data": {
      "text/plain": [
       "Start Date\n",
       "1774-09-01    Massachusetts\n",
       "1774-12-14    New Hampshire\n",
       "1775-04-19    Massachusetts\n",
       "1775-04-19    Massachusetts\n",
       "1775-04-20         Virginia\n",
       "                  ...      \n",
       "1782-09-11         Virginia\n",
       "1782-09-13              NaN\n",
       "1782-10-18              NaN\n",
       "1782-12-06              NaN\n",
       "1783-01-22         Virginia\n",
       "Name: State, Length: 228, dtype: object"
      ]
     },
     "execution_count": 117,
     "metadata": {},
     "output_type": "execute_result"
    }
   ],
   "source": [
    "#series의 index안에 포함되어 있는 Nat 값을 배제하는 두가지 방법입니다.\n",
    "war.loc[war.index.dropna()] \n",
    "war.loc[war.index.notnull()] \n",
    "# 두개의 코딩의 차이가 무엇인지 체크하기"
   ]
  },
  {
   "cell_type": "code",
   "execution_count": 132,
   "id": "8cb43385-83a6-4842-8de3-be63f698cd86",
   "metadata": {},
   "outputs": [
    {
     "data": {
      "text/plain": [
       "Start Date\n",
       "1781-09-06    Connecticut\n",
       "1779-07-05    Connecticut\n",
       "1777-04-27    Connecticut\n",
       "1777-09-03       Delaware\n",
       "1777-05-17        Florida\n",
       "1779-09-10        Florida\n",
       "1779-09-07        Florida\n",
       "1780-03-02        Florida\n",
       "1778-06-30        Florida\n",
       "1781-01-07        Florida\n",
       "Name: State, dtype: object"
      ]
     },
     "execution_count": 132,
     "metadata": {},
     "output_type": "execute_result"
    }
   ],
   "source": [
    "war.sort_values(ascending = True). head(10)\n",
    "#앞에서 데이터를 추출하는 경우 사용하는 메서드가 바로 head이다.\n",
    "#반대로 데이터를 뒤에서 추출하는 경우 사용하는 메서드는 바로 Tail이다.\n",
    "#ascending은 오름차순(큰 값)으로 값을 정렬하는 함수이다.\n",
    "#head()는 뽑아내고자 하는 index의 개수를 설정하는 방법이다."
   ]
  },
  {
   "cell_type": "code",
   "execution_count": 133,
   "id": "8a72d6bf-7c59-47d7-a45a-d85a1c87bde3",
   "metadata": {},
   "outputs": [
    {
     "data": {
      "text/plain": [
       "Start Date\n",
       "1783-01-22    Virginia\n",
       "1781-09-28    Virginia\n",
       "1779-05-10    Virginia\n",
       "1781-09-05    Virginia\n",
       "1781-07-06    Virginia\n",
       "1781-07-01    Virginia\n",
       "1780-05-25    Virginia\n",
       "1776-01-01    Virginia\n",
       "1778-09-07    Virginia\n",
       "1775-12-09    Virginia\n",
       "Name: State, dtype: object"
      ]
     },
     "execution_count": 133,
     "metadata": {},
     "output_type": "execute_result"
    }
   ],
   "source": [
    "war.sort_values(ascending = False). head(10)"
   ]
  },
  {
   "cell_type": "code",
   "execution_count": 141,
   "id": "bfb8827c-b9e6-40de-8d99-506257c4c567",
   "metadata": {},
   "outputs": [
    {
     "data": {
      "text/plain": [
       "Start Date\n",
       "1774-09-01    Massachusetts\n",
       "1774-12-14    New Hampshire\n",
       "1775-04-19    Massachusetts\n",
       "1775-04-19    Massachusetts\n",
       "1775-04-19    Massachusetts\n",
       "                  ...      \n",
       "1782-09-11         Virginia\n",
       "1782-09-13              NaN\n",
       "1782-10-18              NaN\n",
       "1782-12-06              NaN\n",
       "1783-01-22         Virginia\n",
       "Name: State, Length: 250, dtype: object"
      ]
     },
     "execution_count": 141,
     "metadata": {},
     "output_type": "execute_result"
    }
   ],
   "source": [
    "war.loc[war.index.dropna()]"
   ]
  },
  {
   "cell_type": "code",
   "execution_count": 147,
   "id": "43ccd698-e763-472b-b183-06ee0a29369b",
   "metadata": {},
   "outputs": [
    {
     "data": {
      "text/plain": [
       "Date\n",
       "2004-08-19      49.98\n",
       "2004-08-20      53.95\n",
       "2004-08-23      54.50\n",
       "2004-08-24      52.24\n",
       "2004-08-25      52.80\n",
       "               ...   \n",
       "2019-10-21    1246.15\n",
       "2019-10-22    1242.80\n",
       "2019-10-23    1259.13\n",
       "2019-10-24    1260.99\n",
       "2019-10-25    1265.13\n",
       "Name: Close, Length: 3824, dtype: float64"
      ]
     },
     "execution_count": 147,
     "metadata": {},
     "output_type": "execute_result"
    }
   ],
   "source": [
    "pd.read_csv(\"datas/google_stocks.csv\",\n",
    "             parse_dates=[\"Date\"],\n",
    "             index_col=\"Date\").squeeze()"
   ]
  },
  {
   "cell_type": "code",
   "execution_count": 159,
   "id": "aebd9502-8542-4a71-b2a7-d4337f245bca",
   "metadata": {},
   "outputs": [
    {
     "data": {
      "text/html": [
       "<div>\n",
       "<style scoped>\n",
       "    .dataframe tbody tr th:only-of-type {\n",
       "        vertical-align: middle;\n",
       "    }\n",
       "\n",
       "    .dataframe tbody tr th {\n",
       "        vertical-align: top;\n",
       "    }\n",
       "\n",
       "    .dataframe thead th {\n",
       "        text-align: right;\n",
       "    }\n",
       "</style>\n",
       "<table border=\"1\" class=\"dataframe\">\n",
       "  <thead>\n",
       "    <tr style=\"text-align: right;\">\n",
       "      <th></th>\n",
       "      <th>Date</th>\n",
       "      <th>Close</th>\n",
       "    </tr>\n",
       "  </thead>\n",
       "  <tbody>\n",
       "    <tr>\n",
       "      <th>0</th>\n",
       "      <td>2004-08-19</td>\n",
       "      <td>49.98</td>\n",
       "    </tr>\n",
       "    <tr>\n",
       "      <th>1</th>\n",
       "      <td>2004-08-20</td>\n",
       "      <td>53.95</td>\n",
       "    </tr>\n",
       "    <tr>\n",
       "      <th>2</th>\n",
       "      <td>2004-08-23</td>\n",
       "      <td>54.50</td>\n",
       "    </tr>\n",
       "    <tr>\n",
       "      <th>3</th>\n",
       "      <td>2004-08-24</td>\n",
       "      <td>52.24</td>\n",
       "    </tr>\n",
       "    <tr>\n",
       "      <th>4</th>\n",
       "      <td>2004-08-25</td>\n",
       "      <td>52.80</td>\n",
       "    </tr>\n",
       "    <tr>\n",
       "      <th>...</th>\n",
       "      <td>...</td>\n",
       "      <td>...</td>\n",
       "    </tr>\n",
       "    <tr>\n",
       "      <th>3819</th>\n",
       "      <td>2019-10-21</td>\n",
       "      <td>1246.15</td>\n",
       "    </tr>\n",
       "    <tr>\n",
       "      <th>3820</th>\n",
       "      <td>2019-10-22</td>\n",
       "      <td>1242.80</td>\n",
       "    </tr>\n",
       "    <tr>\n",
       "      <th>3821</th>\n",
       "      <td>2019-10-23</td>\n",
       "      <td>1259.13</td>\n",
       "    </tr>\n",
       "    <tr>\n",
       "      <th>3822</th>\n",
       "      <td>2019-10-24</td>\n",
       "      <td>1260.99</td>\n",
       "    </tr>\n",
       "    <tr>\n",
       "      <th>3823</th>\n",
       "      <td>2019-10-25</td>\n",
       "      <td>1265.13</td>\n",
       "    </tr>\n",
       "  </tbody>\n",
       "</table>\n",
       "<p>3824 rows × 2 columns</p>\n",
       "</div>"
      ],
      "text/plain": [
       "            Date    Close\n",
       "0     2004-08-19    49.98\n",
       "1     2004-08-20    53.95\n",
       "2     2004-08-23    54.50\n",
       "3     2004-08-24    52.24\n",
       "4     2004-08-25    52.80\n",
       "...          ...      ...\n",
       "3819  2019-10-21  1246.15\n",
       "3820  2019-10-22  1242.80\n",
       "3821  2019-10-23  1259.13\n",
       "3822  2019-10-24  1260.99\n",
       "3823  2019-10-25  1265.13\n",
       "\n",
       "[3824 rows x 2 columns]"
      ]
     },
     "execution_count": 159,
     "metadata": {},
     "output_type": "execute_result"
    }
   ],
   "source": [
    "pd.read_csv(\"datas/google_stocks.csv\")"
   ]
  },
  {
   "cell_type": "code",
   "execution_count": 13,
   "id": "5b010bda-a7f0-4b5e-a126-28454c57fe93",
   "metadata": {},
   "outputs": [
    {
     "name": "stderr",
     "output_type": "stream",
     "text": [
      "C:\\Users\\Playdata\\AppData\\Local\\Temp\\ipykernel_7428\\3630592457.py:1: FutureWarning: The squeeze argument has been deprecated and will be removed in a future version. Append .squeeze(\"columns\") to the call to squeeze.\n",
      "\n",
      "\n",
      "  google= pd.read_csv(\"datas/google_stocks.csv\",\n"
     ]
    }
   ],
   "source": [
    "google= pd.read_csv(\"datas/google_stocks.csv\",\n",
    "                    parse_dates=[\"Date\"],\n",
    "                    index_col=\"Date\",\n",
    "                    usecols=[\"Date\", \"Close\"],\n",
    "                    squeeze = True)"
   ]
  },
  {
   "cell_type": "code",
   "execution_count": 14,
   "id": "85d282e2-8e01-4eac-87b0-81cfc2b17c88",
   "metadata": {},
   "outputs": [
    {
     "data": {
      "text/plain": [
       "Date\n",
       "2019-04-29    1287.58\n",
       "2019-04-26    1272.18\n",
       "2018-07-26    1268.33\n",
       "2019-10-25    1265.13\n",
       "2019-04-23    1264.55\n",
       "2018-07-25    1263.70\n",
       "2019-04-25    1263.45\n",
       "2019-10-24    1260.99\n",
       "2019-10-23    1259.13\n",
       "2019-04-24    1256.00\n",
       "Name: Close, dtype: float64"
      ]
     },
     "execution_count": 14,
     "metadata": {},
     "output_type": "execute_result"
    }
   ],
   "source": [
    "google.sort_values(ascending=False).head(10)"
   ]
  },
  {
   "cell_type": "code",
   "execution_count": 12,
   "id": "a1c64975-1341-4949-a248-72f788fed92a",
   "metadata": {},
   "outputs": [
    {
     "data": {
      "text/plain": [
       "Date\n",
       "2004-09-03    49.82\n",
       "2004-09-01    49.94\n",
       "2004-08-19    49.98\n",
       "2004-09-02    50.57\n",
       "2004-09-07    50.60\n",
       "2004-08-30    50.81\n",
       "2004-09-08    50.96\n",
       "2004-09-09    50.96\n",
       "2004-08-31    50.99\n",
       "2004-08-24    52.24\n",
       "Name: Close, dtype: float64"
      ]
     },
     "execution_count": 12,
     "metadata": {},
     "output_type": "execute_result"
    }
   ],
   "source": [
    "google.sort_values(ascending=True).head(10)"
   ]
  },
  {
   "cell_type": "code",
   "execution_count": 15,
   "id": "60f39cea-26c4-49a5-aed1-e07e1176d009",
   "metadata": {},
   "outputs": [
    {
     "data": {
      "text/plain": [
       "Date\n",
       "2019-04-29    1287.58\n",
       "2019-04-26    1272.18\n",
       "2018-07-26    1268.33\n",
       "2019-10-25    1265.13\n",
       "2019-04-23    1264.55\n",
       "2018-07-25    1263.70\n",
       "2019-04-25    1263.45\n",
       "2019-10-24    1260.99\n",
       "2019-10-23    1259.13\n",
       "2019-04-24    1256.00\n",
       "Name: Close, dtype: float64"
      ]
     },
     "execution_count": 15,
     "metadata": {},
     "output_type": "execute_result"
    }
   ],
   "source": [
    "google.nlargest(10)"
   ]
  },
  {
   "cell_type": "code",
   "execution_count": 16,
   "id": "e85cbdb1-fb07-4e47-ad5c-64af64fbaf15",
   "metadata": {},
   "outputs": [
    {
     "data": {
      "text/plain": [
       "Date\n",
       "2004-09-03    49.82\n",
       "2004-09-01    49.94\n",
       "2004-08-19    49.98\n",
       "2004-09-02    50.57\n",
       "2004-09-07    50.60\n",
       "2004-08-30    50.81\n",
       "2004-09-08    50.96\n",
       "2004-09-09    50.96\n",
       "2004-08-31    50.99\n",
       "2004-08-24    52.24\n",
       "Name: Close, dtype: float64"
      ]
     },
     "execution_count": 16,
     "metadata": {},
     "output_type": "execute_result"
    }
   ],
   "source": [
    "google.nsmallest(10)"
   ]
  },
  {
   "cell_type": "code",
   "execution_count": 3,
   "id": "c2dfd26e-e988-41dd-bc7f-d365ccfd8133",
   "metadata": {},
   "outputs": [
    {
     "data": {
      "text/plain": [
       "array([   0.,  200.,  400.,  600.,  800., 1000., 1200., 1400.])"
      ]
     },
     "execution_count": 3,
     "metadata": {},
     "output_type": "execute_result"
    }
   ],
   "source": [
    "bins = np.linspace(0, 1400, 8)\n",
    "bins"
   ]
  },
  {
   "cell_type": "code",
   "execution_count": 18,
   "id": "00f179e0-ce33-4b93-a6e5-85df6d0ecefe",
   "metadata": {},
   "outputs": [
    {
     "data": {
      "text/plain": [
       "(200.0, 400.0]      1568\n",
       "(-0.001, 200.0]      595\n",
       "(400.0, 600.0]       575\n",
       "(1000.0, 1200.0]     406\n",
       "(600.0, 800.0]       380\n",
       "(800.0, 1000.0]      207\n",
       "(1200.0, 1400.0]      93\n",
       "Name: Close, dtype: int64"
      ]
     },
     "execution_count": 18,
     "metadata": {},
     "output_type": "execute_result"
    }
   ],
   "source": [
    "google.value_counts(bins=bins)"
   ]
  },
  {
   "cell_type": "code",
   "execution_count": 20,
   "id": "7aaa6a21-2584-474f-9cec-6293ad9874c8",
   "metadata": {},
   "outputs": [
    {
     "data": {
      "text/plain": [
       "(-0.001, 200.0]      595\n",
       "(200.0, 400.0]      1568\n",
       "(400.0, 600.0]       575\n",
       "(600.0, 800.0]       380\n",
       "(800.0, 1000.0]      207\n",
       "(1000.0, 1200.0]     406\n",
       "(1200.0, 1400.0]      93\n",
       "Name: Close, dtype: int64"
      ]
     },
     "execution_count": 20,
     "metadata": {},
     "output_type": "execute_result"
    }
   ],
   "source": [
    "google.value_counts(bins = [0, 200, 400, 600, 800, 1000, 1200, 1400]).sort_index()"
   ]
  },
  {
   "cell_type": "code",
   "execution_count": 21,
   "id": "628929b3-4979-4f70-b1d0-91b4d006886b",
   "metadata": {},
   "outputs": [
    {
     "data": {
      "text/plain": [
       "(48.581, 204.54]       651\n",
       "(204.54, 359.26]      1435\n",
       "(359.26, 513.98]       263\n",
       "(513.98, 668.7]        466\n",
       "(668.7, 823.42]        334\n",
       "(823.42, 978.14]       161\n",
       "(978.14, 1132.86]      283\n",
       "(1132.86, 1287.58]     231\n",
       "Name: Close, dtype: int64"
      ]
     },
     "execution_count": 21,
     "metadata": {},
     "output_type": "execute_result"
    }
   ],
   "source": [
    "google.value_counts(bins=8, sort=False)"
   ]
  },
  {
   "cell_type": "code",
   "execution_count": 27,
   "id": "f2fb6021-5f13-4cc7-bea3-04405f23316f",
   "metadata": {},
   "outputs": [
    {
     "data": {
      "text/html": [
       "<div>\n",
       "<style scoped>\n",
       "    .dataframe tbody tr th:only-of-type {\n",
       "        vertical-align: middle;\n",
       "    }\n",
       "\n",
       "    .dataframe tbody tr th {\n",
       "        vertical-align: top;\n",
       "    }\n",
       "\n",
       "    .dataframe thead th {\n",
       "        text-align: right;\n",
       "    }\n",
       "</style>\n",
       "<table border=\"1\" class=\"dataframe\">\n",
       "  <thead>\n",
       "    <tr style=\"text-align: right;\">\n",
       "      <th></th>\n",
       "      <th>c1</th>\n",
       "      <th>c2</th>\n",
       "      <th>c3</th>\n",
       "    </tr>\n",
       "  </thead>\n",
       "  <tbody>\n",
       "    <tr>\n",
       "      <th>0</th>\n",
       "      <td>1</td>\n",
       "      <td>1.11</td>\n",
       "      <td>one</td>\n",
       "    </tr>\n",
       "    <tr>\n",
       "      <th>1</th>\n",
       "      <td>2</td>\n",
       "      <td></td>\n",
       "      <td>two</td>\n",
       "    </tr>\n",
       "    <tr>\n",
       "      <th>2</th>\n",
       "      <td>누락</td>\n",
       "      <td>3.33</td>\n",
       "      <td>three</td>\n",
       "    </tr>\n",
       "  </tbody>\n",
       "</table>\n",
       "</div>"
      ],
      "text/plain": [
       "   c1    c2     c3\n",
       "0   1  1.11    one\n",
       "1   2          two\n",
       "2  누락  3.33  three"
      ]
     },
     "execution_count": 27,
     "metadata": {},
     "output_type": "execute_result"
    }
   ],
   "source": [
    "nan_dic =[\n",
    "    {\"c1\" : 1, \"c2\" : 1.11, \"c3\" : 'one'},\n",
    "    {\"c1\" : 2, \"c2\" : \" \" , \"c3\" : 'two'},\n",
    "    {\"c1\" : \"누락\", \"c2\" : 3.33, \"c3\" : 'three'}]\n",
    "\n",
    "df_csv = pd.DataFrame(nan_dic)\n",
    "df_csv"
   ]
  },
  {
   "cell_type": "code",
   "execution_count": 28,
   "id": "d0adf1d4-a552-4bfb-bd66-c4925aa99e70",
   "metadata": {},
   "outputs": [
    {
     "data": {
      "text/html": [
       "<div>\n",
       "<style scoped>\n",
       "    .dataframe tbody tr th:only-of-type {\n",
       "        vertical-align: middle;\n",
       "    }\n",
       "\n",
       "    .dataframe tbody tr th {\n",
       "        vertical-align: top;\n",
       "    }\n",
       "\n",
       "    .dataframe thead th {\n",
       "        text-align: right;\n",
       "    }\n",
       "</style>\n",
       "<table border=\"1\" class=\"dataframe\">\n",
       "  <thead>\n",
       "    <tr style=\"text-align: right;\">\n",
       "      <th></th>\n",
       "      <th>c1</th>\n",
       "      <th>c2</th>\n",
       "      <th>c3</th>\n",
       "    </tr>\n",
       "  </thead>\n",
       "  <tbody>\n",
       "    <tr>\n",
       "      <th>0</th>\n",
       "      <td>1</td>\n",
       "      <td>1.11</td>\n",
       "      <td>one</td>\n",
       "    </tr>\n",
       "    <tr>\n",
       "      <th>1</th>\n",
       "      <td>2</td>\n",
       "      <td></td>\n",
       "      <td>two</td>\n",
       "    </tr>\n",
       "    <tr>\n",
       "      <th>2</th>\n",
       "      <td>누락</td>\n",
       "      <td>3.33</td>\n",
       "      <td>three</td>\n",
       "    </tr>\n",
       "  </tbody>\n",
       "</table>\n",
       "</div>"
      ],
      "text/plain": [
       "   c1    c2     c3\n",
       "0   1  1.11    one\n",
       "1   2          two\n",
       "2  누락  3.33  three"
      ]
     },
     "execution_count": 28,
     "metadata": {},
     "output_type": "execute_result"
    }
   ],
   "source": [
    "# 강사님 방식의 코딩\n",
    "\n",
    "data = {\n",
    "    \"c1\" : [1, 2, \"누락\"],\n",
    "    \"c2\" : [1.11, \"\", 3.33],\n",
    "    \"c3\" : [\"one\", \"two\", \"three\"]}\n",
    "df_csv = pd.DataFrame(data)\n",
    "df_csv"
   ]
  },
  {
   "cell_type": "code",
   "execution_count": 37,
   "id": "f6ad332f-7a05-4865-890d-7473c6c4be86",
   "metadata": {},
   "outputs": [],
   "source": [
    "df_csv.to_csv(\"datas/sample1.csv\", index=False)"
   ]
  },
  {
   "cell_type": "code",
   "execution_count": null,
   "id": "1793e57a-e01c-4b2e-bb12-52afbdaa54dd",
   "metadata": {},
   "outputs": [],
   "source": [
    "csv01.to_csv(\"datas/sample1.csv\", index=False)"
   ]
  },
  {
   "cell_type": "code",
   "execution_count": 44,
   "id": "f8736fcb-1d2d-410b-a835-64206de58c6d",
   "metadata": {},
   "outputs": [],
   "source": [
    "df_csv.to_csv(\"sample.csv\", index=False)\n",
    "# csv로부터 파일을 불러와서 데이터를 읽어내는 방식이다.\n",
    "# 위의 과정을 위해서 데이터를 입력하는 과정이다.\n",
    "# 이파일의 폴더의 절대경로 이름은 sample.csv"
   ]
  },
  {
   "cell_type": "code",
   "execution_count": 45,
   "id": "d1a2c085-9c5a-469f-b0ed-7e178c3822d4",
   "metadata": {},
   "outputs": [
    {
     "data": {
      "text/html": [
       "<div>\n",
       "<style scoped>\n",
       "    .dataframe tbody tr th:only-of-type {\n",
       "        vertical-align: middle;\n",
       "    }\n",
       "\n",
       "    .dataframe tbody tr th {\n",
       "        vertical-align: top;\n",
       "    }\n",
       "\n",
       "    .dataframe thead th {\n",
       "        text-align: right;\n",
       "    }\n",
       "</style>\n",
       "<table border=\"1\" class=\"dataframe\">\n",
       "  <thead>\n",
       "    <tr style=\"text-align: right;\">\n",
       "      <th></th>\n",
       "      <th>c1</th>\n",
       "      <th>c2</th>\n",
       "      <th>c3</th>\n",
       "    </tr>\n",
       "  </thead>\n",
       "  <tbody>\n",
       "    <tr>\n",
       "      <th>0</th>\n",
       "      <td>1</td>\n",
       "      <td>1.11</td>\n",
       "      <td>one</td>\n",
       "    </tr>\n",
       "    <tr>\n",
       "      <th>1</th>\n",
       "      <td>2</td>\n",
       "      <td>NaN</td>\n",
       "      <td>two</td>\n",
       "    </tr>\n",
       "    <tr>\n",
       "      <th>2</th>\n",
       "      <td>누락</td>\n",
       "      <td>3.33</td>\n",
       "      <td>three</td>\n",
       "    </tr>\n",
       "  </tbody>\n",
       "</table>\n",
       "</div>"
      ],
      "text/plain": [
       "   c1    c2     c3\n",
       "0   1  1.11    one\n",
       "1   2   NaN    two\n",
       "2  누락  3.33  three"
      ]
     },
     "execution_count": 45,
     "metadata": {},
     "output_type": "execute_result"
    }
   ],
   "source": [
    "df_read = pd.read_csv(\"sample.csv\")\n",
    "df_read"
   ]
  },
  {
   "cell_type": "code",
   "execution_count": 57,
   "id": "cf4e92f2-2006-4f07-9126-399691044257",
   "metadata": {},
   "outputs": [],
   "source": [
    "df_csv.to_csv(\"datas/sample2.csv\", index=False, header=False)\n",
    "# csv로부터 파일을 불러와서 데이터를 읽어내는 방식이다.\n",
    "# 위의 과정을 위해서 데이터를 입력하는 과정이다.\n",
    "# 이파일의 폴더의 절대경로 이름은 sample2.csv\n",
    "# header=False 키워드를 추가해서 파일명을 sample2.csv로 지정하고 실행하는 방식이다.\n",
    "# 구체적인 폴더의 이름을 설정을 해주어야만 해당 폴더에 sample2가 생성이 되게 된다."
   ]
  },
  {
   "cell_type": "code",
   "execution_count": 58,
   "id": "90e030aa-200a-4e9a-aff0-bf6c38b5950f",
   "metadata": {},
   "outputs": [
    {
     "data": {
      "text/html": [
       "<div>\n",
       "<style scoped>\n",
       "    .dataframe tbody tr th:only-of-type {\n",
       "        vertical-align: middle;\n",
       "    }\n",
       "\n",
       "    .dataframe tbody tr th {\n",
       "        vertical-align: top;\n",
       "    }\n",
       "\n",
       "    .dataframe thead th {\n",
       "        text-align: right;\n",
       "    }\n",
       "</style>\n",
       "<table border=\"1\" class=\"dataframe\">\n",
       "  <thead>\n",
       "    <tr style=\"text-align: right;\">\n",
       "      <th></th>\n",
       "      <th>c1</th>\n",
       "      <th>c2</th>\n",
       "      <th>c3</th>\n",
       "    </tr>\n",
       "  </thead>\n",
       "  <tbody>\n",
       "    <tr>\n",
       "      <th>0</th>\n",
       "      <td>1</td>\n",
       "      <td>1.11</td>\n",
       "      <td>one</td>\n",
       "    </tr>\n",
       "    <tr>\n",
       "      <th>1</th>\n",
       "      <td>2</td>\n",
       "      <td>NaN</td>\n",
       "      <td>two</td>\n",
       "    </tr>\n",
       "    <tr>\n",
       "      <th>2</th>\n",
       "      <td>누락</td>\n",
       "      <td>3.33</td>\n",
       "      <td>three</td>\n",
       "    </tr>\n",
       "  </tbody>\n",
       "</table>\n",
       "</div>"
      ],
      "text/plain": [
       "   c1    c2     c3\n",
       "0   1  1.11    one\n",
       "1   2   NaN    two\n",
       "2  누락  3.33  three"
      ]
     },
     "execution_count": 58,
     "metadata": {},
     "output_type": "execute_result"
    }
   ],
   "source": [
    "pd.read_csv('datas/sample2.csv', names=['c1', 'c2', 'c3'])\n",
    "# names라는 키워드를 통하여 column인덱스 정보를 직접 추가 해보기\n",
    "# "
   ]
  },
  {
   "cell_type": "code",
   "execution_count": 70,
   "id": "cd2a2e7c-d2ef-4018-acea-883f1f5c7665",
   "metadata": {},
   "outputs": [
    {
     "name": "stdout",
     "output_type": "stream",
     "text": [
      "Writing sample3.txt\n"
     ]
    }
   ],
   "source": [
    "%%writefile sample3.txt\n",
    "c1        c2        c3        c4\n",
    "0.179181 -1.538472  1.347553  0.43381\n",
    "1.024209  0.087307 -1.281997  0.49265\n",
    "0.417899 -2.002308  0.255245 -1.10515"
   ]
  },
  {
   "cell_type": "code",
   "execution_count": 73,
   "id": "f31e6a4a-6266-4ab0-b13a-eb922b87056b",
   "metadata": {},
   "outputs": [
    {
     "data": {
      "text/plain": [
       "'C:\\\\python'"
      ]
     },
     "execution_count": 73,
     "metadata": {},
     "output_type": "execute_result"
    }
   ],
   "source": [
    "%pwd"
   ]
  },
  {
   "cell_type": "code",
   "execution_count": 74,
   "id": "c31fe8e8-e476-4bb7-b6bb-5dc30f508a98",
   "metadata": {},
   "outputs": [
    {
     "data": {
      "text/html": [
       "<div>\n",
       "<style scoped>\n",
       "    .dataframe tbody tr th:only-of-type {\n",
       "        vertical-align: middle;\n",
       "    }\n",
       "\n",
       "    .dataframe tbody tr th {\n",
       "        vertical-align: top;\n",
       "    }\n",
       "\n",
       "    .dataframe thead th {\n",
       "        text-align: right;\n",
       "    }\n",
       "</style>\n",
       "<table border=\"1\" class=\"dataframe\">\n",
       "  <thead>\n",
       "    <tr style=\"text-align: right;\">\n",
       "      <th></th>\n",
       "      <th>c1</th>\n",
       "      <th>c2</th>\n",
       "      <th>c3</th>\n",
       "      <th>c4</th>\n",
       "    </tr>\n",
       "  </thead>\n",
       "  <tbody>\n",
       "    <tr>\n",
       "      <th>0</th>\n",
       "      <td>0.179181</td>\n",
       "      <td>-1.538472</td>\n",
       "      <td>1.347553</td>\n",
       "      <td>0.43381</td>\n",
       "    </tr>\n",
       "    <tr>\n",
       "      <th>1</th>\n",
       "      <td>1.024209</td>\n",
       "      <td>0.087307</td>\n",
       "      <td>-1.281997</td>\n",
       "      <td>0.49265</td>\n",
       "    </tr>\n",
       "    <tr>\n",
       "      <th>2</th>\n",
       "      <td>0.417899</td>\n",
       "      <td>-2.002308</td>\n",
       "      <td>0.255245</td>\n",
       "      <td>-1.10515</td>\n",
       "    </tr>\n",
       "  </tbody>\n",
       "</table>\n",
       "</div>"
      ],
      "text/plain": [
       "         c1        c2        c3       c4\n",
       "0  0.179181 -1.538472  1.347553  0.43381\n",
       "1  1.024209  0.087307 -1.281997  0.49265\n",
       "2  0.417899 -2.002308  0.255245 -1.10515"
      ]
     },
     "execution_count": 74,
     "metadata": {},
     "output_type": "execute_result"
    }
   ],
   "source": [
    "pd.read_table('datas/sample3.txt', sep='\\s+')"
   ]
  },
  {
   "cell_type": "code",
   "execution_count": 76,
   "id": "c48c0ee6-673a-46b0-92c8-eb7ecf2fcddb",
   "metadata": {},
   "outputs": [
    {
     "name": "stdout",
     "output_type": "stream",
     "text": [
      "Writing sample4.txt\n"
     ]
    }
   ],
   "source": [
    "%%writefile sample4.txt\n",
    "파일 제목: sample4.txt\n",
    "데이터 포맷의 설명:\n",
    "c1, c2, c3\n",
    "1, 1.11, one\n",
    "2, 2.22, two\n",
    "3, 3.33, three"
   ]
  },
  {
   "cell_type": "code",
   "execution_count": 77,
   "id": "fd9dd246-b4b2-42fe-9221-0d43a2480072",
   "metadata": {},
   "outputs": [
    {
     "data": {
      "text/html": [
       "<div>\n",
       "<style scoped>\n",
       "    .dataframe tbody tr th:only-of-type {\n",
       "        vertical-align: middle;\n",
       "    }\n",
       "\n",
       "    .dataframe tbody tr th {\n",
       "        vertical-align: top;\n",
       "    }\n",
       "\n",
       "    .dataframe thead th {\n",
       "        text-align: right;\n",
       "    }\n",
       "</style>\n",
       "<table border=\"1\" class=\"dataframe\">\n",
       "  <thead>\n",
       "    <tr style=\"text-align: right;\">\n",
       "      <th></th>\n",
       "      <th>c1, c2, c3</th>\n",
       "    </tr>\n",
       "  </thead>\n",
       "  <tbody>\n",
       "    <tr>\n",
       "      <th>0</th>\n",
       "      <td>1, 1.11, one</td>\n",
       "    </tr>\n",
       "    <tr>\n",
       "      <th>1</th>\n",
       "      <td>2, 2.22, two</td>\n",
       "    </tr>\n",
       "    <tr>\n",
       "      <th>2</th>\n",
       "      <td>3, 3.33, three</td>\n",
       "    </tr>\n",
       "  </tbody>\n",
       "</table>\n",
       "</div>"
      ],
      "text/plain": [
       "       c1, c2, c3\n",
       "0    1, 1.11, one\n",
       "1    2, 2.22, two\n",
       "2  3, 3.33, three"
      ]
     },
     "execution_count": 77,
     "metadata": {},
     "output_type": "execute_result"
    }
   ],
   "source": [
    "pd.read_table('datas/sample4.txt', skiprows=[0, 1])"
   ]
  },
  {
   "cell_type": "code",
   "execution_count": 79,
   "id": "8cfd25d7-9ab7-43db-b391-4f4f45f76d38",
   "metadata": {},
   "outputs": [
    {
     "data": {
      "text/html": [
       "<div>\n",
       "<style scoped>\n",
       "    .dataframe tbody tr th:only-of-type {\n",
       "        vertical-align: middle;\n",
       "    }\n",
       "\n",
       "    .dataframe tbody tr th {\n",
       "        vertical-align: top;\n",
       "    }\n",
       "\n",
       "    .dataframe thead th {\n",
       "        text-align: right;\n",
       "    }\n",
       "</style>\n",
       "<table border=\"1\" class=\"dataframe\">\n",
       "  <thead>\n",
       "    <tr style=\"text-align: right;\">\n",
       "      <th></th>\n",
       "      <th>c1</th>\n",
       "      <th>c2</th>\n",
       "      <th>c3</th>\n",
       "    </tr>\n",
       "  </thead>\n",
       "  <tbody>\n",
       "    <tr>\n",
       "      <th>0</th>\n",
       "      <td>1.0</td>\n",
       "      <td>1.11</td>\n",
       "      <td>one</td>\n",
       "    </tr>\n",
       "    <tr>\n",
       "      <th>1</th>\n",
       "      <td>2.0</td>\n",
       "      <td>NaN</td>\n",
       "      <td>two</td>\n",
       "    </tr>\n",
       "    <tr>\n",
       "      <th>2</th>\n",
       "      <td>NaN</td>\n",
       "      <td>3.33</td>\n",
       "      <td>three</td>\n",
       "    </tr>\n",
       "  </tbody>\n",
       "</table>\n",
       "</div>"
      ],
      "text/plain": [
       "    c1    c2     c3\n",
       "0  1.0  1.11    one\n",
       "1  2.0   NaN    two\n",
       "2  NaN  3.33  three"
      ]
     },
     "execution_count": 79,
     "metadata": {},
     "output_type": "execute_result"
    }
   ],
   "source": [
    "df_na_val = pd.read_csv('datas/sample1.csv', na_values=['누락'])\n",
    "df_na_val"
   ]
  },
  {
   "cell_type": "code",
   "execution_count": 80,
   "id": "e5f1be40-ac53-4d7b-beec-1f619d636e54",
   "metadata": {},
   "outputs": [],
   "source": [
    "df_na_val.to_csv('datas/sample5.txt', sep='|')\n",
    "\n",
    "#sep 인수로 구분자를 변경 할 수 있다."
   ]
  },
  {
   "cell_type": "code",
   "execution_count": 81,
   "id": "279c4c9a-685d-4b45-bee9-45086a4c2345",
   "metadata": {},
   "outputs": [
    {
     "data": {
      "text/html": [
       "<div>\n",
       "<style scoped>\n",
       "    .dataframe tbody tr th:only-of-type {\n",
       "        vertical-align: middle;\n",
       "    }\n",
       "\n",
       "    .dataframe tbody tr th {\n",
       "        vertical-align: top;\n",
       "    }\n",
       "\n",
       "    .dataframe thead th {\n",
       "        text-align: right;\n",
       "    }\n",
       "</style>\n",
       "<table border=\"1\" class=\"dataframe\">\n",
       "  <thead>\n",
       "    <tr style=\"text-align: right;\">\n",
       "      <th></th>\n",
       "      <th>c1</th>\n",
       "      <th>c2</th>\n",
       "      <th>c3</th>\n",
       "    </tr>\n",
       "  </thead>\n",
       "  <tbody>\n",
       "    <tr>\n",
       "      <th>0</th>\n",
       "      <td>1.0</td>\n",
       "      <td>1.11</td>\n",
       "      <td>one</td>\n",
       "    </tr>\n",
       "    <tr>\n",
       "      <th>1</th>\n",
       "      <td>2.0</td>\n",
       "      <td>NaN</td>\n",
       "      <td>two</td>\n",
       "    </tr>\n",
       "    <tr>\n",
       "      <th>2</th>\n",
       "      <td>NaN</td>\n",
       "      <td>3.33</td>\n",
       "      <td>three</td>\n",
       "    </tr>\n",
       "  </tbody>\n",
       "</table>\n",
       "</div>"
      ],
      "text/plain": [
       "    c1    c2     c3\n",
       "0  1.0  1.11    one\n",
       "1  2.0   NaN    two\n",
       "2  NaN  3.33  three"
      ]
     },
     "execution_count": 81,
     "metadata": {},
     "output_type": "execute_result"
    }
   ],
   "source": [
    "df_na_val"
   ]
  },
  {
   "cell_type": "code",
   "execution_count": 83,
   "id": "be942daf-06af-4063-a95a-51993f49ae0c",
   "metadata": {},
   "outputs": [],
   "source": [
    "df_na_val.to_csv('sample6.csv', na_rep=\"누락\")\n",
    "#na_rep 키워드 인수를 통해서 NaN 표시 값을 바꿀 수 있다."
   ]
  },
  {
   "cell_type": "code",
   "execution_count": 84,
   "id": "6aeb405f-034c-41c0-bf68-7c4d7e0ca8b5",
   "metadata": {},
   "outputs": [],
   "source": [
    "titanic = pd.read_csv(\"https://storage.googleapis.com/tf-datasets/titanic/train.csv\")"
   ]
  },
  {
   "cell_type": "code",
   "execution_count": 88,
   "id": "ce81c1ee-2d8e-4240-b23b-6b5f96659f70",
   "metadata": {},
   "outputs": [
    {
     "data": {
      "text/html": [
       "<div>\n",
       "<style scoped>\n",
       "    .dataframe tbody tr th:only-of-type {\n",
       "        vertical-align: middle;\n",
       "    }\n",
       "\n",
       "    .dataframe tbody tr th {\n",
       "        vertical-align: top;\n",
       "    }\n",
       "\n",
       "    .dataframe thead th {\n",
       "        text-align: right;\n",
       "    }\n",
       "</style>\n",
       "<table border=\"1\" class=\"dataframe\">\n",
       "  <thead>\n",
       "    <tr style=\"text-align: right;\">\n",
       "      <th></th>\n",
       "      <th>survived</th>\n",
       "      <th>sex</th>\n",
       "      <th>age</th>\n",
       "      <th>n_siblings_spouses</th>\n",
       "      <th>parch</th>\n",
       "      <th>fare</th>\n",
       "      <th>class</th>\n",
       "      <th>deck</th>\n",
       "      <th>embark_town</th>\n",
       "      <th>alone</th>\n",
       "    </tr>\n",
       "  </thead>\n",
       "  <tbody>\n",
       "    <tr>\n",
       "      <th>0</th>\n",
       "      <td>0</td>\n",
       "      <td>male</td>\n",
       "      <td>22.0</td>\n",
       "      <td>1</td>\n",
       "      <td>0</td>\n",
       "      <td>7.2500</td>\n",
       "      <td>Third</td>\n",
       "      <td>unknown</td>\n",
       "      <td>Southampton</td>\n",
       "      <td>n</td>\n",
       "    </tr>\n",
       "    <tr>\n",
       "      <th>1</th>\n",
       "      <td>1</td>\n",
       "      <td>female</td>\n",
       "      <td>38.0</td>\n",
       "      <td>1</td>\n",
       "      <td>0</td>\n",
       "      <td>71.2833</td>\n",
       "      <td>First</td>\n",
       "      <td>C</td>\n",
       "      <td>Cherbourg</td>\n",
       "      <td>n</td>\n",
       "    </tr>\n",
       "    <tr>\n",
       "      <th>2</th>\n",
       "      <td>1</td>\n",
       "      <td>female</td>\n",
       "      <td>26.0</td>\n",
       "      <td>0</td>\n",
       "      <td>0</td>\n",
       "      <td>7.9250</td>\n",
       "      <td>Third</td>\n",
       "      <td>unknown</td>\n",
       "      <td>Southampton</td>\n",
       "      <td>y</td>\n",
       "    </tr>\n",
       "    <tr>\n",
       "      <th>3</th>\n",
       "      <td>1</td>\n",
       "      <td>female</td>\n",
       "      <td>35.0</td>\n",
       "      <td>1</td>\n",
       "      <td>0</td>\n",
       "      <td>53.1000</td>\n",
       "      <td>First</td>\n",
       "      <td>C</td>\n",
       "      <td>Southampton</td>\n",
       "      <td>n</td>\n",
       "    </tr>\n",
       "    <tr>\n",
       "      <th>4</th>\n",
       "      <td>0</td>\n",
       "      <td>male</td>\n",
       "      <td>28.0</td>\n",
       "      <td>0</td>\n",
       "      <td>0</td>\n",
       "      <td>8.4583</td>\n",
       "      <td>Third</td>\n",
       "      <td>unknown</td>\n",
       "      <td>Queenstown</td>\n",
       "      <td>y</td>\n",
       "    </tr>\n",
       "    <tr>\n",
       "      <th>...</th>\n",
       "      <td>...</td>\n",
       "      <td>...</td>\n",
       "      <td>...</td>\n",
       "      <td>...</td>\n",
       "      <td>...</td>\n",
       "      <td>...</td>\n",
       "      <td>...</td>\n",
       "      <td>...</td>\n",
       "      <td>...</td>\n",
       "      <td>...</td>\n",
       "    </tr>\n",
       "    <tr>\n",
       "      <th>622</th>\n",
       "      <td>0</td>\n",
       "      <td>male</td>\n",
       "      <td>28.0</td>\n",
       "      <td>0</td>\n",
       "      <td>0</td>\n",
       "      <td>10.5000</td>\n",
       "      <td>Second</td>\n",
       "      <td>unknown</td>\n",
       "      <td>Southampton</td>\n",
       "      <td>y</td>\n",
       "    </tr>\n",
       "    <tr>\n",
       "      <th>623</th>\n",
       "      <td>0</td>\n",
       "      <td>male</td>\n",
       "      <td>25.0</td>\n",
       "      <td>0</td>\n",
       "      <td>0</td>\n",
       "      <td>7.0500</td>\n",
       "      <td>Third</td>\n",
       "      <td>unknown</td>\n",
       "      <td>Southampton</td>\n",
       "      <td>y</td>\n",
       "    </tr>\n",
       "    <tr>\n",
       "      <th>624</th>\n",
       "      <td>1</td>\n",
       "      <td>female</td>\n",
       "      <td>19.0</td>\n",
       "      <td>0</td>\n",
       "      <td>0</td>\n",
       "      <td>30.0000</td>\n",
       "      <td>First</td>\n",
       "      <td>B</td>\n",
       "      <td>Southampton</td>\n",
       "      <td>y</td>\n",
       "    </tr>\n",
       "    <tr>\n",
       "      <th>625</th>\n",
       "      <td>0</td>\n",
       "      <td>female</td>\n",
       "      <td>28.0</td>\n",
       "      <td>1</td>\n",
       "      <td>2</td>\n",
       "      <td>23.4500</td>\n",
       "      <td>Third</td>\n",
       "      <td>unknown</td>\n",
       "      <td>Southampton</td>\n",
       "      <td>n</td>\n",
       "    </tr>\n",
       "    <tr>\n",
       "      <th>626</th>\n",
       "      <td>0</td>\n",
       "      <td>male</td>\n",
       "      <td>32.0</td>\n",
       "      <td>0</td>\n",
       "      <td>0</td>\n",
       "      <td>7.7500</td>\n",
       "      <td>Third</td>\n",
       "      <td>unknown</td>\n",
       "      <td>Queenstown</td>\n",
       "      <td>y</td>\n",
       "    </tr>\n",
       "  </tbody>\n",
       "</table>\n",
       "<p>627 rows × 10 columns</p>\n",
       "</div>"
      ],
      "text/plain": [
       "     survived     sex   age  n_siblings_spouses  parch     fare   class  \\\n",
       "0           0    male  22.0                   1      0   7.2500   Third   \n",
       "1           1  female  38.0                   1      0  71.2833   First   \n",
       "2           1  female  26.0                   0      0   7.9250   Third   \n",
       "3           1  female  35.0                   1      0  53.1000   First   \n",
       "4           0    male  28.0                   0      0   8.4583   Third   \n",
       "..        ...     ...   ...                 ...    ...      ...     ...   \n",
       "622         0    male  28.0                   0      0  10.5000  Second   \n",
       "623         0    male  25.0                   0      0   7.0500   Third   \n",
       "624         1  female  19.0                   0      0  30.0000   First   \n",
       "625         0  female  28.0                   1      2  23.4500   Third   \n",
       "626         0    male  32.0                   0      0   7.7500   Third   \n",
       "\n",
       "        deck  embark_town alone  \n",
       "0    unknown  Southampton     n  \n",
       "1          C    Cherbourg     n  \n",
       "2    unknown  Southampton     y  \n",
       "3          C  Southampton     n  \n",
       "4    unknown   Queenstown     y  \n",
       "..       ...          ...   ...  \n",
       "622  unknown  Southampton     y  \n",
       "623  unknown  Southampton     y  \n",
       "624        B  Southampton     y  \n",
       "625  unknown  Southampton     n  \n",
       "626  unknown   Queenstown     y  \n",
       "\n",
       "[627 rows x 10 columns]"
      ]
     },
     "execution_count": 88,
     "metadata": {},
     "output_type": "execute_result"
    }
   ],
   "source": [
    "titanic\n",
    "#타이타닉이라는 데이터 프레임 파일은 웹사이트에서 데이터를 불러오는 경우 많이 사용한다.\n",
    "# 627개의 데이터를 가지고 있다."
   ]
  },
  {
   "cell_type": "code",
   "execution_count": 91,
   "id": "1e1ff3ed-0f18-487d-b441-04185251efc9",
   "metadata": {},
   "outputs": [
    {
     "data": {
      "text/html": [
       "<div>\n",
       "<style scoped>\n",
       "    .dataframe tbody tr th:only-of-type {\n",
       "        vertical-align: middle;\n",
       "    }\n",
       "\n",
       "    .dataframe tbody tr th {\n",
       "        vertical-align: top;\n",
       "    }\n",
       "\n",
       "    .dataframe thead th {\n",
       "        text-align: right;\n",
       "    }\n",
       "</style>\n",
       "<table border=\"1\" class=\"dataframe\">\n",
       "  <thead>\n",
       "    <tr style=\"text-align: right;\">\n",
       "      <th></th>\n",
       "      <th>survived</th>\n",
       "      <th>sex</th>\n",
       "      <th>age</th>\n",
       "      <th>n_siblings_spouses</th>\n",
       "      <th>parch</th>\n",
       "      <th>fare</th>\n",
       "      <th>class</th>\n",
       "      <th>deck</th>\n",
       "      <th>embark_town</th>\n",
       "      <th>alone</th>\n",
       "    </tr>\n",
       "  </thead>\n",
       "  <tbody>\n",
       "    <tr>\n",
       "      <th>0</th>\n",
       "      <td>0</td>\n",
       "      <td>male</td>\n",
       "      <td>22.0</td>\n",
       "      <td>1</td>\n",
       "      <td>0</td>\n",
       "      <td>7.2500</td>\n",
       "      <td>Third</td>\n",
       "      <td>unknown</td>\n",
       "      <td>Southampton</td>\n",
       "      <td>n</td>\n",
       "    </tr>\n",
       "    <tr>\n",
       "      <th>1</th>\n",
       "      <td>1</td>\n",
       "      <td>female</td>\n",
       "      <td>38.0</td>\n",
       "      <td>1</td>\n",
       "      <td>0</td>\n",
       "      <td>71.2833</td>\n",
       "      <td>First</td>\n",
       "      <td>C</td>\n",
       "      <td>Cherbourg</td>\n",
       "      <td>n</td>\n",
       "    </tr>\n",
       "    <tr>\n",
       "      <th>2</th>\n",
       "      <td>1</td>\n",
       "      <td>female</td>\n",
       "      <td>26.0</td>\n",
       "      <td>0</td>\n",
       "      <td>0</td>\n",
       "      <td>7.9250</td>\n",
       "      <td>Third</td>\n",
       "      <td>unknown</td>\n",
       "      <td>Southampton</td>\n",
       "      <td>y</td>\n",
       "    </tr>\n",
       "    <tr>\n",
       "      <th>3</th>\n",
       "      <td>1</td>\n",
       "      <td>female</td>\n",
       "      <td>35.0</td>\n",
       "      <td>1</td>\n",
       "      <td>0</td>\n",
       "      <td>53.1000</td>\n",
       "      <td>First</td>\n",
       "      <td>C</td>\n",
       "      <td>Southampton</td>\n",
       "      <td>n</td>\n",
       "    </tr>\n",
       "    <tr>\n",
       "      <th>4</th>\n",
       "      <td>0</td>\n",
       "      <td>male</td>\n",
       "      <td>28.0</td>\n",
       "      <td>0</td>\n",
       "      <td>0</td>\n",
       "      <td>8.4583</td>\n",
       "      <td>Third</td>\n",
       "      <td>unknown</td>\n",
       "      <td>Queenstown</td>\n",
       "      <td>y</td>\n",
       "    </tr>\n",
       "    <tr>\n",
       "      <th>5</th>\n",
       "      <td>0</td>\n",
       "      <td>male</td>\n",
       "      <td>2.0</td>\n",
       "      <td>3</td>\n",
       "      <td>1</td>\n",
       "      <td>21.0750</td>\n",
       "      <td>Third</td>\n",
       "      <td>unknown</td>\n",
       "      <td>Southampton</td>\n",
       "      <td>n</td>\n",
       "    </tr>\n",
       "    <tr>\n",
       "      <th>6</th>\n",
       "      <td>1</td>\n",
       "      <td>female</td>\n",
       "      <td>27.0</td>\n",
       "      <td>0</td>\n",
       "      <td>2</td>\n",
       "      <td>11.1333</td>\n",
       "      <td>Third</td>\n",
       "      <td>unknown</td>\n",
       "      <td>Southampton</td>\n",
       "      <td>n</td>\n",
       "    </tr>\n",
       "    <tr>\n",
       "      <th>7</th>\n",
       "      <td>1</td>\n",
       "      <td>female</td>\n",
       "      <td>14.0</td>\n",
       "      <td>1</td>\n",
       "      <td>0</td>\n",
       "      <td>30.0708</td>\n",
       "      <td>Second</td>\n",
       "      <td>unknown</td>\n",
       "      <td>Cherbourg</td>\n",
       "      <td>n</td>\n",
       "    </tr>\n",
       "    <tr>\n",
       "      <th>8</th>\n",
       "      <td>1</td>\n",
       "      <td>female</td>\n",
       "      <td>4.0</td>\n",
       "      <td>1</td>\n",
       "      <td>1</td>\n",
       "      <td>16.7000</td>\n",
       "      <td>Third</td>\n",
       "      <td>G</td>\n",
       "      <td>Southampton</td>\n",
       "      <td>n</td>\n",
       "    </tr>\n",
       "    <tr>\n",
       "      <th>9</th>\n",
       "      <td>0</td>\n",
       "      <td>male</td>\n",
       "      <td>20.0</td>\n",
       "      <td>0</td>\n",
       "      <td>0</td>\n",
       "      <td>8.0500</td>\n",
       "      <td>Third</td>\n",
       "      <td>unknown</td>\n",
       "      <td>Southampton</td>\n",
       "      <td>y</td>\n",
       "    </tr>\n",
       "  </tbody>\n",
       "</table>\n",
       "</div>"
      ],
      "text/plain": [
       "   survived     sex   age  n_siblings_spouses  parch     fare   class  \\\n",
       "0         0    male  22.0                   1      0   7.2500   Third   \n",
       "1         1  female  38.0                   1      0  71.2833   First   \n",
       "2         1  female  26.0                   0      0   7.9250   Third   \n",
       "3         1  female  35.0                   1      0  53.1000   First   \n",
       "4         0    male  28.0                   0      0   8.4583   Third   \n",
       "5         0    male   2.0                   3      1  21.0750   Third   \n",
       "6         1  female  27.0                   0      2  11.1333   Third   \n",
       "7         1  female  14.0                   1      0  30.0708  Second   \n",
       "8         1  female   4.0                   1      1  16.7000   Third   \n",
       "9         0    male  20.0                   0      0   8.0500   Third   \n",
       "\n",
       "      deck  embark_town alone  \n",
       "0  unknown  Southampton     n  \n",
       "1        C    Cherbourg     n  \n",
       "2  unknown  Southampton     y  \n",
       "3        C  Southampton     n  \n",
       "4  unknown   Queenstown     y  \n",
       "5  unknown  Southampton     n  \n",
       "6  unknown  Southampton     n  \n",
       "7  unknown    Cherbourg     n  \n",
       "8        G  Southampton     n  \n",
       "9  unknown  Southampton     y  "
      ]
     },
     "execution_count": 91,
     "metadata": {},
     "output_type": "execute_result"
    }
   ],
   "source": [
    "# 만약 앞이나 뒤의 특정 개수를 보고 싶은 경우에는 head, tail을 통해서 개수를 조회가능하다.\n",
    "titanic.head(10)"
   ]
  },
  {
   "cell_type": "code",
   "execution_count": 92,
   "id": "2cb71f67-dcd4-45bd-9889-7dc1906439f6",
   "metadata": {},
   "outputs": [
    {
     "data": {
      "text/html": [
       "<div>\n",
       "<style scoped>\n",
       "    .dataframe tbody tr th:only-of-type {\n",
       "        vertical-align: middle;\n",
       "    }\n",
       "\n",
       "    .dataframe tbody tr th {\n",
       "        vertical-align: top;\n",
       "    }\n",
       "\n",
       "    .dataframe thead th {\n",
       "        text-align: right;\n",
       "    }\n",
       "</style>\n",
       "<table border=\"1\" class=\"dataframe\">\n",
       "  <thead>\n",
       "    <tr style=\"text-align: right;\">\n",
       "      <th></th>\n",
       "      <th>survived</th>\n",
       "      <th>sex</th>\n",
       "      <th>age</th>\n",
       "      <th>n_siblings_spouses</th>\n",
       "      <th>parch</th>\n",
       "      <th>fare</th>\n",
       "      <th>class</th>\n",
       "      <th>deck</th>\n",
       "      <th>embark_town</th>\n",
       "      <th>alone</th>\n",
       "    </tr>\n",
       "  </thead>\n",
       "  <tbody>\n",
       "    <tr>\n",
       "      <th>617</th>\n",
       "      <td>1</td>\n",
       "      <td>female</td>\n",
       "      <td>15.0</td>\n",
       "      <td>0</td>\n",
       "      <td>0</td>\n",
       "      <td>7.2250</td>\n",
       "      <td>Third</td>\n",
       "      <td>unknown</td>\n",
       "      <td>Cherbourg</td>\n",
       "      <td>y</td>\n",
       "    </tr>\n",
       "    <tr>\n",
       "      <th>618</th>\n",
       "      <td>0</td>\n",
       "      <td>male</td>\n",
       "      <td>20.0</td>\n",
       "      <td>0</td>\n",
       "      <td>0</td>\n",
       "      <td>9.8458</td>\n",
       "      <td>Third</td>\n",
       "      <td>unknown</td>\n",
       "      <td>Southampton</td>\n",
       "      <td>y</td>\n",
       "    </tr>\n",
       "    <tr>\n",
       "      <th>619</th>\n",
       "      <td>0</td>\n",
       "      <td>male</td>\n",
       "      <td>19.0</td>\n",
       "      <td>0</td>\n",
       "      <td>0</td>\n",
       "      <td>7.8958</td>\n",
       "      <td>Third</td>\n",
       "      <td>unknown</td>\n",
       "      <td>Southampton</td>\n",
       "      <td>y</td>\n",
       "    </tr>\n",
       "    <tr>\n",
       "      <th>620</th>\n",
       "      <td>0</td>\n",
       "      <td>male</td>\n",
       "      <td>28.0</td>\n",
       "      <td>0</td>\n",
       "      <td>0</td>\n",
       "      <td>7.8958</td>\n",
       "      <td>Third</td>\n",
       "      <td>unknown</td>\n",
       "      <td>Southampton</td>\n",
       "      <td>y</td>\n",
       "    </tr>\n",
       "    <tr>\n",
       "      <th>621</th>\n",
       "      <td>0</td>\n",
       "      <td>female</td>\n",
       "      <td>22.0</td>\n",
       "      <td>0</td>\n",
       "      <td>0</td>\n",
       "      <td>10.5167</td>\n",
       "      <td>Third</td>\n",
       "      <td>unknown</td>\n",
       "      <td>Southampton</td>\n",
       "      <td>y</td>\n",
       "    </tr>\n",
       "    <tr>\n",
       "      <th>622</th>\n",
       "      <td>0</td>\n",
       "      <td>male</td>\n",
       "      <td>28.0</td>\n",
       "      <td>0</td>\n",
       "      <td>0</td>\n",
       "      <td>10.5000</td>\n",
       "      <td>Second</td>\n",
       "      <td>unknown</td>\n",
       "      <td>Southampton</td>\n",
       "      <td>y</td>\n",
       "    </tr>\n",
       "    <tr>\n",
       "      <th>623</th>\n",
       "      <td>0</td>\n",
       "      <td>male</td>\n",
       "      <td>25.0</td>\n",
       "      <td>0</td>\n",
       "      <td>0</td>\n",
       "      <td>7.0500</td>\n",
       "      <td>Third</td>\n",
       "      <td>unknown</td>\n",
       "      <td>Southampton</td>\n",
       "      <td>y</td>\n",
       "    </tr>\n",
       "    <tr>\n",
       "      <th>624</th>\n",
       "      <td>1</td>\n",
       "      <td>female</td>\n",
       "      <td>19.0</td>\n",
       "      <td>0</td>\n",
       "      <td>0</td>\n",
       "      <td>30.0000</td>\n",
       "      <td>First</td>\n",
       "      <td>B</td>\n",
       "      <td>Southampton</td>\n",
       "      <td>y</td>\n",
       "    </tr>\n",
       "    <tr>\n",
       "      <th>625</th>\n",
       "      <td>0</td>\n",
       "      <td>female</td>\n",
       "      <td>28.0</td>\n",
       "      <td>1</td>\n",
       "      <td>2</td>\n",
       "      <td>23.4500</td>\n",
       "      <td>Third</td>\n",
       "      <td>unknown</td>\n",
       "      <td>Southampton</td>\n",
       "      <td>n</td>\n",
       "    </tr>\n",
       "    <tr>\n",
       "      <th>626</th>\n",
       "      <td>0</td>\n",
       "      <td>male</td>\n",
       "      <td>32.0</td>\n",
       "      <td>0</td>\n",
       "      <td>0</td>\n",
       "      <td>7.7500</td>\n",
       "      <td>Third</td>\n",
       "      <td>unknown</td>\n",
       "      <td>Queenstown</td>\n",
       "      <td>y</td>\n",
       "    </tr>\n",
       "  </tbody>\n",
       "</table>\n",
       "</div>"
      ],
      "text/plain": [
       "     survived     sex   age  n_siblings_spouses  parch     fare   class  \\\n",
       "617         1  female  15.0                   0      0   7.2250   Third   \n",
       "618         0    male  20.0                   0      0   9.8458   Third   \n",
       "619         0    male  19.0                   0      0   7.8958   Third   \n",
       "620         0    male  28.0                   0      0   7.8958   Third   \n",
       "621         0  female  22.0                   0      0  10.5167   Third   \n",
       "622         0    male  28.0                   0      0  10.5000  Second   \n",
       "623         0    male  25.0                   0      0   7.0500   Third   \n",
       "624         1  female  19.0                   0      0  30.0000   First   \n",
       "625         0  female  28.0                   1      2  23.4500   Third   \n",
       "626         0    male  32.0                   0      0   7.7500   Third   \n",
       "\n",
       "        deck  embark_town alone  \n",
       "617  unknown    Cherbourg     y  \n",
       "618  unknown  Southampton     y  \n",
       "619  unknown  Southampton     y  \n",
       "620  unknown  Southampton     y  \n",
       "621  unknown  Southampton     y  \n",
       "622  unknown  Southampton     y  \n",
       "623  unknown  Southampton     y  \n",
       "624        B  Southampton     y  \n",
       "625  unknown  Southampton     n  \n",
       "626  unknown   Queenstown     y  "
      ]
     },
     "execution_count": 92,
     "metadata": {},
     "output_type": "execute_result"
    }
   ],
   "source": [
    "titanic.tail(10)"
   ]
  },
  {
   "cell_type": "code",
   "execution_count": 127,
   "id": "4857405b-37e6-4f77-8e4a-49dc6d8f54ea",
   "metadata": {},
   "outputs": [],
   "source": [
    "import pandas as pd"
   ]
  },
  {
   "cell_type": "code",
   "execution_count": 132,
   "id": "bdf844d6-d678-4b35-ac84-bd64a822dbdc",
   "metadata": {},
   "outputs": [],
   "source": [
    "file_path=\"datas/traffic_accident_2016.csv\""
   ]
  },
  {
   "cell_type": "code",
   "execution_count": 133,
   "id": "6f37a32a-f219-4c23-8bd7-ead0b60cba34",
   "metadata": {},
   "outputs": [],
   "source": [
    "df = pd.read_csv(file_path)"
   ]
  },
  {
   "cell_type": "code",
   "execution_count": 134,
   "id": "9d5416c9-bdf7-46ed-afa3-79e5071f7719",
   "metadata": {},
   "outputs": [
    {
     "data": {
      "text/html": [
       "<div>\n",
       "<style scoped>\n",
       "    .dataframe tbody tr th:only-of-type {\n",
       "        vertical-align: middle;\n",
       "    }\n",
       "\n",
       "    .dataframe tbody tr th {\n",
       "        vertical-align: top;\n",
       "    }\n",
       "\n",
       "    .dataframe thead th {\n",
       "        text-align: right;\n",
       "    }\n",
       "</style>\n",
       "<table border=\"1\" class=\"dataframe\">\n",
       "  <thead>\n",
       "    <tr style=\"text-align: right;\">\n",
       "      <th></th>\n",
       "      <th>발생년</th>\n",
       "      <th>발생년월일시</th>\n",
       "      <th>발생분</th>\n",
       "      <th>주야</th>\n",
       "      <th>요일</th>\n",
       "      <th>사망자수</th>\n",
       "      <th>사상자수</th>\n",
       "      <th>중상자수</th>\n",
       "      <th>경상자수</th>\n",
       "      <th>부상신고자수</th>\n",
       "      <th>...</th>\n",
       "      <th>도로형태_대분류</th>\n",
       "      <th>도로형태</th>\n",
       "      <th>당사자종별_1당_대분류</th>\n",
       "      <th>당사자종별_1당</th>\n",
       "      <th>당사자종별_2당_대분류</th>\n",
       "      <th>당사자종별_2당</th>\n",
       "      <th>발생위치X_UTMK</th>\n",
       "      <th>발생위치Y_UTMK</th>\n",
       "      <th>경도</th>\n",
       "      <th>위도</th>\n",
       "    </tr>\n",
       "  </thead>\n",
       "  <tbody>\n",
       "    <tr>\n",
       "      <th>0</th>\n",
       "      <td>2016</td>\n",
       "      <td>2016122320</td>\n",
       "      <td>35</td>\n",
       "      <td>야간</td>\n",
       "      <td>금</td>\n",
       "      <td>1</td>\n",
       "      <td>1</td>\n",
       "      <td>0</td>\n",
       "      <td>0</td>\n",
       "      <td>0</td>\n",
       "      <td>...</td>\n",
       "      <td>교차로</td>\n",
       "      <td>교차로내</td>\n",
       "      <td>승용차</td>\n",
       "      <td>중형</td>\n",
       "      <td>보행자</td>\n",
       "      <td>보행자</td>\n",
       "      <td>981731</td>\n",
       "      <td>1932086</td>\n",
       "      <td>127.293623</td>\n",
       "      <td>37.387686</td>\n",
       "    </tr>\n",
       "    <tr>\n",
       "      <th>1</th>\n",
       "      <td>2016</td>\n",
       "      <td>2016122517</td>\n",
       "      <td>48</td>\n",
       "      <td>주간</td>\n",
       "      <td>일</td>\n",
       "      <td>1</td>\n",
       "      <td>1</td>\n",
       "      <td>0</td>\n",
       "      <td>0</td>\n",
       "      <td>0</td>\n",
       "      <td>...</td>\n",
       "      <td>단일로</td>\n",
       "      <td>기타단일로</td>\n",
       "      <td>승용차</td>\n",
       "      <td>중형</td>\n",
       "      <td>보행자</td>\n",
       "      <td>보행자</td>\n",
       "      <td>945989</td>\n",
       "      <td>1942347</td>\n",
       "      <td>126.889123</td>\n",
       "      <td>37.478777</td>\n",
       "    </tr>\n",
       "    <tr>\n",
       "      <th>2</th>\n",
       "      <td>2016</td>\n",
       "      <td>2016122519</td>\n",
       "      <td>5</td>\n",
       "      <td>야간</td>\n",
       "      <td>일</td>\n",
       "      <td>1</td>\n",
       "      <td>1</td>\n",
       "      <td>0</td>\n",
       "      <td>0</td>\n",
       "      <td>0</td>\n",
       "      <td>...</td>\n",
       "      <td>단일로</td>\n",
       "      <td>기타단일로</td>\n",
       "      <td>화물차</td>\n",
       "      <td>소형</td>\n",
       "      <td>보행자</td>\n",
       "      <td>보행자</td>\n",
       "      <td>993981</td>\n",
       "      <td>1879534</td>\n",
       "      <td>127.431592</td>\n",
       "      <td>36.915926</td>\n",
       "    </tr>\n",
       "    <tr>\n",
       "      <th>3</th>\n",
       "      <td>2016</td>\n",
       "      <td>2016122610</td>\n",
       "      <td>40</td>\n",
       "      <td>주간</td>\n",
       "      <td>월</td>\n",
       "      <td>1</td>\n",
       "      <td>1</td>\n",
       "      <td>0</td>\n",
       "      <td>0</td>\n",
       "      <td>0</td>\n",
       "      <td>...</td>\n",
       "      <td>단일로</td>\n",
       "      <td>기타단일로</td>\n",
       "      <td>승합차</td>\n",
       "      <td>경형</td>\n",
       "      <td>보행자</td>\n",
       "      <td>보행자</td>\n",
       "      <td>1161153</td>\n",
       "      <td>1751026</td>\n",
       "      <td>129.282183</td>\n",
       "      <td>35.742393</td>\n",
       "    </tr>\n",
       "    <tr>\n",
       "      <th>4</th>\n",
       "      <td>2016</td>\n",
       "      <td>2016122819</td>\n",
       "      <td>40</td>\n",
       "      <td>야간</td>\n",
       "      <td>수</td>\n",
       "      <td>1</td>\n",
       "      <td>1</td>\n",
       "      <td>0</td>\n",
       "      <td>0</td>\n",
       "      <td>0</td>\n",
       "      <td>...</td>\n",
       "      <td>단일로</td>\n",
       "      <td>기타단일로</td>\n",
       "      <td>승용차</td>\n",
       "      <td>소형</td>\n",
       "      <td>보행자</td>\n",
       "      <td>보행자</td>\n",
       "      <td>1056276</td>\n",
       "      <td>1686645</td>\n",
       "      <td>128.118016</td>\n",
       "      <td>35.173512</td>\n",
       "    </tr>\n",
       "  </tbody>\n",
       "</table>\n",
       "<p>5 rows × 27 columns</p>\n",
       "</div>"
      ],
      "text/plain": [
       "    발생년      발생년월일시  발생분  주야 요일  사망자수  사상자수  중상자수  경상자수  부상신고자수  ... 도로형태_대분류  \\\n",
       "0  2016  2016122320   35  야간  금     1     1     0     0       0  ...      교차로   \n",
       "1  2016  2016122517   48  주간  일     1     1     0     0       0  ...      단일로   \n",
       "2  2016  2016122519    5  야간  일     1     1     0     0       0  ...      단일로   \n",
       "3  2016  2016122610   40  주간  월     1     1     0     0       0  ...      단일로   \n",
       "4  2016  2016122819   40  야간  수     1     1     0     0       0  ...      단일로   \n",
       "\n",
       "    도로형태 당사자종별_1당_대분류 당사자종별_1당 당사자종별_2당_대분류 당사자종별_2당 발생위치X_UTMK 발생위치Y_UTMK  \\\n",
       "0   교차로내          승용차       중형          보행자      보행자     981731    1932086   \n",
       "1  기타단일로          승용차       중형          보행자      보행자     945989    1942347   \n",
       "2  기타단일로          화물차       소형          보행자      보행자     993981    1879534   \n",
       "3  기타단일로          승합차       경형          보행자      보행자    1161153    1751026   \n",
       "4  기타단일로          승용차       소형          보행자      보행자    1056276    1686645   \n",
       "\n",
       "           경도         위도  \n",
       "0  127.293623  37.387686  \n",
       "1  126.889123  37.478777  \n",
       "2  127.431592  36.915926  \n",
       "3  129.282183  35.742393  \n",
       "4  128.118016  35.173512  \n",
       "\n",
       "[5 rows x 27 columns]"
      ]
     },
     "execution_count": 134,
     "metadata": {},
     "output_type": "execute_result"
    }
   ],
   "source": [
    "df.head(5)"
   ]
  },
  {
   "cell_type": "code",
   "execution_count": 135,
   "id": "5cda7bd5-50f6-4f83-8f0f-7231200a4e92",
   "metadata": {},
   "outputs": [],
   "source": [
    "import pandas as pd"
   ]
  },
  {
   "cell_type": "code",
   "execution_count": 138,
   "id": "d9de1615-4489-4cb7-85a6-c5e6b775c99f",
   "metadata": {},
   "outputs": [],
   "source": [
    "file_path=\"datas/foreign exchange reserves.csv\""
   ]
  },
  {
   "cell_type": "code",
   "execution_count": 139,
   "id": "708552fb-0213-4a28-9a11-608a42080f76",
   "metadata": {},
   "outputs": [],
   "source": [
    "df = pd.read_csv(file_path)"
   ]
  },
  {
   "cell_type": "code",
   "execution_count": 140,
   "id": "c1a702d2-ebb9-473a-a32d-ccf87be54ce9",
   "metadata": {},
   "outputs": [
    {
     "data": {
      "text/html": [
       "<div>\n",
       "<style scoped>\n",
       "    .dataframe tbody tr th:only-of-type {\n",
       "        vertical-align: middle;\n",
       "    }\n",
       "\n",
       "    .dataframe tbody tr th {\n",
       "        vertical-align: top;\n",
       "    }\n",
       "\n",
       "    .dataframe thead th {\n",
       "        text-align: right;\n",
       "    }\n",
       "</style>\n",
       "<table border=\"1\" class=\"dataframe\">\n",
       "  <thead>\n",
       "    <tr style=\"text-align: right;\">\n",
       "      <th></th>\n",
       "      <th>통계표</th>\n",
       "      <th>계정항목</th>\n",
       "      <th>단위</th>\n",
       "      <th>변환</th>\n",
       "      <th>2021/02</th>\n",
       "      <th>2021/03</th>\n",
       "      <th>2021/04</th>\n",
       "      <th>2021/05</th>\n",
       "      <th>2021/06</th>\n",
       "      <th>2021/07</th>\n",
       "      <th>...</th>\n",
       "      <th>2022/05</th>\n",
       "      <th>2022/06</th>\n",
       "      <th>2022/07</th>\n",
       "      <th>2022/08</th>\n",
       "      <th>2022/09</th>\n",
       "      <th>2022/10</th>\n",
       "      <th>2022/11</th>\n",
       "      <th>2022/12</th>\n",
       "      <th>2023/01</th>\n",
       "      <th>2023/02</th>\n",
       "    </tr>\n",
       "  </thead>\n",
       "  <tbody>\n",
       "    <tr>\n",
       "      <th>0</th>\n",
       "      <td>3.5. 외환보유액</td>\n",
       "      <td>외환</td>\n",
       "      <td>천달러</td>\n",
       "      <td>원자료</td>\n",
       "      <td>434,365,551</td>\n",
       "      <td>433,222,626</td>\n",
       "      <td>439,294,230</td>\n",
       "      <td>443,481,045</td>\n",
       "      <td>441,229,418</td>\n",
       "      <td>445,714,839</td>\n",
       "      <td>...</td>\n",
       "      <td>423,355,152</td>\n",
       "      <td>414,491,928</td>\n",
       "      <td>415,046,922</td>\n",
       "      <td>412,848,791</td>\n",
       "      <td>393,596,481</td>\n",
       "      <td>390,643,871</td>\n",
       "      <td>392,302,775</td>\n",
       "      <td>399,043,064</td>\n",
       "      <td>405,587,805</td>\n",
       "      <td>401,243,805</td>\n",
       "    </tr>\n",
       "  </tbody>\n",
       "</table>\n",
       "<p>1 rows × 29 columns</p>\n",
       "</div>"
      ],
      "text/plain": [
       "          통계표  계정항목    단위   변환      2021/02      2021/03      2021/04  \\\n",
       "0  3.5. 외환보유액    외환  천달러   원자료  434,365,551  433,222,626  439,294,230   \n",
       "\n",
       "       2021/05      2021/06      2021/07  ...      2022/05      2022/06  \\\n",
       "0  443,481,045  441,229,418  445,714,839  ...  423,355,152  414,491,928   \n",
       "\n",
       "       2022/07      2022/08      2022/09      2022/10      2022/11  \\\n",
       "0  415,046,922  412,848,791  393,596,481  390,643,871  392,302,775   \n",
       "\n",
       "       2022/12      2023/01      2023/02  \n",
       "0  399,043,064  405,587,805  401,243,805  \n",
       "\n",
       "[1 rows x 29 columns]"
      ]
     },
     "execution_count": 140,
     "metadata": {},
     "output_type": "execute_result"
    }
   ],
   "source": [
    "df.head(5)"
   ]
  },
  {
   "cell_type": "code",
   "execution_count": 141,
   "id": "3e7dc33d-ee8a-4edb-b0d5-27bbaae227bd",
   "metadata": {},
   "outputs": [
    {
     "name": "stdout",
     "output_type": "stream",
     "text": [
      "<class 'pandas.core.frame.DataFrame'>\n",
      "RangeIndex: 1 entries, 0 to 0\n",
      "Data columns (total 29 columns):\n",
      " #   Column   Non-Null Count  Dtype \n",
      "---  ------   --------------  ----- \n",
      " 0   통계표      1 non-null      object\n",
      " 1   계정항목     1 non-null      object\n",
      " 2   단위       1 non-null      object\n",
      " 3   변환       1 non-null      object\n",
      " 4   2021/02  1 non-null      object\n",
      " 5   2021/03  1 non-null      object\n",
      " 6   2021/04  1 non-null      object\n",
      " 7   2021/05  1 non-null      object\n",
      " 8   2021/06  1 non-null      object\n",
      " 9   2021/07  1 non-null      object\n",
      " 10  2021/08  1 non-null      object\n",
      " 11  2021/09  1 non-null      object\n",
      " 12  2021/10  1 non-null      object\n",
      " 13  2021/11  1 non-null      object\n",
      " 14  2021/12  1 non-null      object\n",
      " 15  2022/01  1 non-null      object\n",
      " 16  2022/02  1 non-null      object\n",
      " 17  2022/03  1 non-null      object\n",
      " 18  2022/04  1 non-null      object\n",
      " 19  2022/05  1 non-null      object\n",
      " 20  2022/06  1 non-null      object\n",
      " 21  2022/07  1 non-null      object\n",
      " 22  2022/08  1 non-null      object\n",
      " 23  2022/09  1 non-null      object\n",
      " 24  2022/10  1 non-null      object\n",
      " 25  2022/11  1 non-null      object\n",
      " 26  2022/12  1 non-null      object\n",
      " 27  2023/01  1 non-null      object\n",
      " 28  2023/02  1 non-null      object\n",
      "dtypes: object(29)\n",
      "memory usage: 360.0+ bytes\n"
     ]
    }
   ],
   "source": [
    "df.info()"
   ]
  },
  {
   "cell_type": "code",
   "execution_count": 142,
   "id": "d4620f73-6bce-4052-b213-d8e8c6f2eac3",
   "metadata": {},
   "outputs": [
    {
     "data": {
      "text/html": [
       "<div>\n",
       "<style scoped>\n",
       "    .dataframe tbody tr th:only-of-type {\n",
       "        vertical-align: middle;\n",
       "    }\n",
       "\n",
       "    .dataframe tbody tr th {\n",
       "        vertical-align: top;\n",
       "    }\n",
       "\n",
       "    .dataframe thead th {\n",
       "        text-align: right;\n",
       "    }\n",
       "</style>\n",
       "<table border=\"1\" class=\"dataframe\">\n",
       "  <thead>\n",
       "    <tr style=\"text-align: right;\">\n",
       "      <th></th>\n",
       "      <th>통계표</th>\n",
       "      <th>계정항목</th>\n",
       "      <th>단위</th>\n",
       "      <th>변환</th>\n",
       "      <th>2021/02</th>\n",
       "      <th>2021/03</th>\n",
       "      <th>2021/04</th>\n",
       "      <th>2021/05</th>\n",
       "      <th>2021/06</th>\n",
       "      <th>2021/07</th>\n",
       "      <th>...</th>\n",
       "      <th>2022/05</th>\n",
       "      <th>2022/06</th>\n",
       "      <th>2022/07</th>\n",
       "      <th>2022/08</th>\n",
       "      <th>2022/09</th>\n",
       "      <th>2022/10</th>\n",
       "      <th>2022/11</th>\n",
       "      <th>2022/12</th>\n",
       "      <th>2023/01</th>\n",
       "      <th>2023/02</th>\n",
       "    </tr>\n",
       "  </thead>\n",
       "  <tbody>\n",
       "    <tr>\n",
       "      <th>count</th>\n",
       "      <td>1</td>\n",
       "      <td>1</td>\n",
       "      <td>1</td>\n",
       "      <td>1</td>\n",
       "      <td>1</td>\n",
       "      <td>1</td>\n",
       "      <td>1</td>\n",
       "      <td>1</td>\n",
       "      <td>1</td>\n",
       "      <td>1</td>\n",
       "      <td>...</td>\n",
       "      <td>1</td>\n",
       "      <td>1</td>\n",
       "      <td>1</td>\n",
       "      <td>1</td>\n",
       "      <td>1</td>\n",
       "      <td>1</td>\n",
       "      <td>1</td>\n",
       "      <td>1</td>\n",
       "      <td>1</td>\n",
       "      <td>1</td>\n",
       "    </tr>\n",
       "    <tr>\n",
       "      <th>unique</th>\n",
       "      <td>1</td>\n",
       "      <td>1</td>\n",
       "      <td>1</td>\n",
       "      <td>1</td>\n",
       "      <td>1</td>\n",
       "      <td>1</td>\n",
       "      <td>1</td>\n",
       "      <td>1</td>\n",
       "      <td>1</td>\n",
       "      <td>1</td>\n",
       "      <td>...</td>\n",
       "      <td>1</td>\n",
       "      <td>1</td>\n",
       "      <td>1</td>\n",
       "      <td>1</td>\n",
       "      <td>1</td>\n",
       "      <td>1</td>\n",
       "      <td>1</td>\n",
       "      <td>1</td>\n",
       "      <td>1</td>\n",
       "      <td>1</td>\n",
       "    </tr>\n",
       "    <tr>\n",
       "      <th>top</th>\n",
       "      <td>3.5. 외환보유액</td>\n",
       "      <td>외환</td>\n",
       "      <td>천달러</td>\n",
       "      <td>원자료</td>\n",
       "      <td>434,365,551</td>\n",
       "      <td>433,222,626</td>\n",
       "      <td>439,294,230</td>\n",
       "      <td>443,481,045</td>\n",
       "      <td>441,229,418</td>\n",
       "      <td>445,714,839</td>\n",
       "      <td>...</td>\n",
       "      <td>423,355,152</td>\n",
       "      <td>414,491,928</td>\n",
       "      <td>415,046,922</td>\n",
       "      <td>412,848,791</td>\n",
       "      <td>393,596,481</td>\n",
       "      <td>390,643,871</td>\n",
       "      <td>392,302,775</td>\n",
       "      <td>399,043,064</td>\n",
       "      <td>405,587,805</td>\n",
       "      <td>401,243,805</td>\n",
       "    </tr>\n",
       "    <tr>\n",
       "      <th>freq</th>\n",
       "      <td>1</td>\n",
       "      <td>1</td>\n",
       "      <td>1</td>\n",
       "      <td>1</td>\n",
       "      <td>1</td>\n",
       "      <td>1</td>\n",
       "      <td>1</td>\n",
       "      <td>1</td>\n",
       "      <td>1</td>\n",
       "      <td>1</td>\n",
       "      <td>...</td>\n",
       "      <td>1</td>\n",
       "      <td>1</td>\n",
       "      <td>1</td>\n",
       "      <td>1</td>\n",
       "      <td>1</td>\n",
       "      <td>1</td>\n",
       "      <td>1</td>\n",
       "      <td>1</td>\n",
       "      <td>1</td>\n",
       "      <td>1</td>\n",
       "    </tr>\n",
       "  </tbody>\n",
       "</table>\n",
       "<p>4 rows × 29 columns</p>\n",
       "</div>"
      ],
      "text/plain": [
       "               통계표  계정항목    단위   변환      2021/02      2021/03      2021/04  \\\n",
       "count            1     1     1    1            1            1            1   \n",
       "unique           1     1     1    1            1            1            1   \n",
       "top     3.5. 외환보유액    외환  천달러   원자료  434,365,551  433,222,626  439,294,230   \n",
       "freq             1     1     1    1            1            1            1   \n",
       "\n",
       "            2021/05      2021/06      2021/07  ...      2022/05      2022/06  \\\n",
       "count             1            1            1  ...            1            1   \n",
       "unique            1            1            1  ...            1            1   \n",
       "top     443,481,045  441,229,418  445,714,839  ...  423,355,152  414,491,928   \n",
       "freq              1            1            1  ...            1            1   \n",
       "\n",
       "            2022/07      2022/08      2022/09      2022/10      2022/11  \\\n",
       "count             1            1            1            1            1   \n",
       "unique            1            1            1            1            1   \n",
       "top     415,046,922  412,848,791  393,596,481  390,643,871  392,302,775   \n",
       "freq              1            1            1            1            1   \n",
       "\n",
       "            2022/12      2023/01      2023/02  \n",
       "count             1            1            1  \n",
       "unique            1            1            1  \n",
       "top     399,043,064  405,587,805  401,243,805  \n",
       "freq              1            1            1  \n",
       "\n",
       "[4 rows x 29 columns]"
      ]
     },
     "execution_count": 142,
     "metadata": {},
     "output_type": "execute_result"
    }
   ],
   "source": [
    "df.describe()"
   ]
  },
  {
   "cell_type": "code",
   "execution_count": 143,
   "id": "a9594cf1-21f6-4b14-a791-c8cbb159c7ff",
   "metadata": {},
   "outputs": [
    {
     "data": {
      "text/html": [
       "<div>\n",
       "<style scoped>\n",
       "    .dataframe tbody tr th:only-of-type {\n",
       "        vertical-align: middle;\n",
       "    }\n",
       "\n",
       "    .dataframe tbody tr th {\n",
       "        vertical-align: top;\n",
       "    }\n",
       "\n",
       "    .dataframe thead th {\n",
       "        text-align: right;\n",
       "    }\n",
       "</style>\n",
       "<table border=\"1\" class=\"dataframe\">\n",
       "  <thead>\n",
       "    <tr style=\"text-align: right;\">\n",
       "      <th></th>\n",
       "      <th>통계표</th>\n",
       "      <th>계정항목</th>\n",
       "      <th>단위</th>\n",
       "      <th>변환</th>\n",
       "      <th>2021/02</th>\n",
       "      <th>2021/03</th>\n",
       "      <th>2021/04</th>\n",
       "      <th>2021/05</th>\n",
       "      <th>2021/06</th>\n",
       "      <th>2021/07</th>\n",
       "      <th>...</th>\n",
       "      <th>2022/05</th>\n",
       "      <th>2022/06</th>\n",
       "      <th>2022/07</th>\n",
       "      <th>2022/08</th>\n",
       "      <th>2022/09</th>\n",
       "      <th>2022/10</th>\n",
       "      <th>2022/11</th>\n",
       "      <th>2022/12</th>\n",
       "      <th>2023/01</th>\n",
       "      <th>2023/02</th>\n",
       "    </tr>\n",
       "  </thead>\n",
       "  <tbody>\n",
       "    <tr>\n",
       "      <th>0</th>\n",
       "      <td>3.5. 외환보유액</td>\n",
       "      <td>외환</td>\n",
       "      <td>천달러</td>\n",
       "      <td>원자료</td>\n",
       "      <td>434,365,551</td>\n",
       "      <td>433,222,626</td>\n",
       "      <td>439,294,230</td>\n",
       "      <td>443,481,045</td>\n",
       "      <td>441,229,418</td>\n",
       "      <td>445,714,839</td>\n",
       "      <td>...</td>\n",
       "      <td>423,355,152</td>\n",
       "      <td>414,491,928</td>\n",
       "      <td>415,046,922</td>\n",
       "      <td>412,848,791</td>\n",
       "      <td>393,596,481</td>\n",
       "      <td>390,643,871</td>\n",
       "      <td>392,302,775</td>\n",
       "      <td>399,043,064</td>\n",
       "      <td>405,587,805</td>\n",
       "      <td>401,243,805</td>\n",
       "    </tr>\n",
       "  </tbody>\n",
       "</table>\n",
       "<p>1 rows × 29 columns</p>\n",
       "</div>"
      ],
      "text/plain": [
       "          통계표  계정항목    단위   변환      2021/02      2021/03      2021/04  \\\n",
       "0  3.5. 외환보유액    외환  천달러   원자료  434,365,551  433,222,626  439,294,230   \n",
       "\n",
       "       2021/05      2021/06      2021/07  ...      2022/05      2022/06  \\\n",
       "0  443,481,045  441,229,418  445,714,839  ...  423,355,152  414,491,928   \n",
       "\n",
       "       2022/07      2022/08      2022/09      2022/10      2022/11  \\\n",
       "0  415,046,922  412,848,791  393,596,481  390,643,871  392,302,775   \n",
       "\n",
       "       2022/12      2023/01      2023/02  \n",
       "0  399,043,064  405,587,805  401,243,805  \n",
       "\n",
       "[1 rows x 29 columns]"
      ]
     },
     "execution_count": 143,
     "metadata": {},
     "output_type": "execute_result"
    }
   ],
   "source": [
    "df.head(5)"
   ]
  }
 ],
 "metadata": {
  "kernelspec": {
   "display_name": "Python 3 (ipykernel)",
   "language": "python",
   "name": "python3"
  },
  "language_info": {
   "codemirror_mode": {
    "name": "ipython",
    "version": 3
   },
   "file_extension": ".py",
   "mimetype": "text/x-python",
   "name": "python",
   "nbconvert_exporter": "python",
   "pygments_lexer": "ipython3",
   "version": "3.9.13"
  }
 },
 "nbformat": 4,
 "nbformat_minor": 5
}
