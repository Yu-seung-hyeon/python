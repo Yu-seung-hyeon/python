{
 "cells": [
  {
   "cell_type": "code",
   "execution_count": 1,
   "id": "3011fc9f-2af1-48e3-a4a5-200122911426",
   "metadata": {},
   "outputs": [],
   "source": [
    "import pandas as pd"
   ]
  },
  {
   "cell_type": "code",
   "execution_count": 2,
   "id": "f00684ed-06c9-410c-a597-039f70296c56",
   "metadata": {},
   "outputs": [],
   "source": [
    "from glob import glob"
   ]
  },
  {
   "cell_type": "code",
   "execution_count": 3,
   "id": "dc1003d1-cdf5-441b-9241-ba5f993f5cbd",
   "metadata": {},
   "outputs": [
    {
     "data": {
      "text/plain": [
       "['datas/Mini Project']"
      ]
     },
     "execution_count": 3,
     "metadata": {},
     "output_type": "execute_result"
    }
   ],
   "source": [
    "file_name = glob(\"datas/Mini Project\")\n",
    "file_name"
   ]
  },
  {
   "cell_type": "code",
   "execution_count": 4,
   "id": "d9115c4f-e8b5-4a15-9400-035efd8308ca",
   "metadata": {},
   "outputs": [
    {
     "data": {
      "text/plain": [
       "'C:\\\\python'"
      ]
     },
     "execution_count": 4,
     "metadata": {},
     "output_type": "execute_result"
    }
   ],
   "source": [
    "%pwd"
   ]
  },
  {
   "cell_type": "code",
   "execution_count": 5,
   "id": "948c748b-a81f-4b33-b765-99a760f91546",
   "metadata": {
    "tags": []
   },
   "outputs": [
    {
     "data": {
      "text/html": [
       "<div>\n",
       "<style scoped>\n",
       "    .dataframe tbody tr th:only-of-type {\n",
       "        vertical-align: middle;\n",
       "    }\n",
       "\n",
       "    .dataframe tbody tr th {\n",
       "        vertical-align: top;\n",
       "    }\n",
       "\n",
       "    .dataframe thead th {\n",
       "        text-align: right;\n",
       "    }\n",
       "</style>\n",
       "<table border=\"1\" class=\"dataframe\">\n",
       "  <thead>\n",
       "    <tr style=\"text-align: right;\">\n",
       "      <th></th>\n",
       "      <th>Unnamed: 0</th>\n",
       "      <th>방문자 연령</th>\n",
       "      <th>방문자 수(남성)</th>\n",
       "      <th>방문자 비율(남성)</th>\n",
       "      <th>방문자 수(여성)</th>\n",
       "      <th>방문자 비율(여성)</th>\n",
       "      <th>지역</th>\n",
       "      <th>기준 월</th>\n",
       "      <th>연령별 총합</th>\n",
       "    </tr>\n",
       "  </thead>\n",
       "  <tbody>\n",
       "  </tbody>\n",
       "</table>\n",
       "</div>"
      ],
      "text/plain": [
       "Empty DataFrame\n",
       "Columns: [Unnamed: 0, 방문자 연령, 방문자 수(남성), 방문자 비율(남성), 방문자 수(여성), 방문자 비율(여성), 지역, 기준 월, 연령별 총합]\n",
       "Index: []"
      ]
     },
     "execution_count": 5,
     "metadata": {},
     "output_type": "execute_result"
    }
   ],
   "source": [
    "survey_raw_df = pd.read_csv(\"datas/Mini Project/visitor_total.csv.csv\")\n",
    "survey_raw_df "
   ]
  },
  {
   "cell_type": "code",
   "execution_count": 6,
   "id": "45b45e4b-9082-4bf6-aa12-c96821f6a787",
   "metadata": {},
   "outputs": [],
   "source": [
    "pd.set_option(\"display.max_rows\", 2399)"
   ]
  },
  {
   "cell_type": "code",
   "execution_count": 7,
   "id": "8e3dca24-91be-41ce-8b43-4171d7c0660a",
   "metadata": {
    "tags": []
   },
   "outputs": [],
   "source": [
    "msg = survey_raw_df"
   ]
  },
  {
   "cell_type": "code",
   "execution_count": 8,
   "id": "b9c3cb57-65f6-4b67-b545-b21034cae05c",
   "metadata": {},
   "outputs": [],
   "source": [
    "msg.to_csv(\"visitor_total.csv.csv\", index=False)"
   ]
  },
  {
   "cell_type": "code",
   "execution_count": 9,
   "id": "c180e99e-7ef3-4b4f-8bf7-586e554193dc",
   "metadata": {
    "tags": []
   },
   "outputs": [
    {
     "data": {
      "text/html": [
       "<div>\n",
       "<style scoped>\n",
       "    .dataframe tbody tr th:only-of-type {\n",
       "        vertical-align: middle;\n",
       "    }\n",
       "\n",
       "    .dataframe tbody tr th {\n",
       "        vertical-align: top;\n",
       "    }\n",
       "\n",
       "    .dataframe thead th {\n",
       "        text-align: right;\n",
       "    }\n",
       "</style>\n",
       "<table border=\"1\" class=\"dataframe\">\n",
       "  <thead>\n",
       "    <tr style=\"text-align: right;\">\n",
       "      <th></th>\n",
       "      <th>Unnamed: 0</th>\n",
       "      <th>방문자 연령</th>\n",
       "      <th>방문자 수(남성)</th>\n",
       "      <th>방문자 비율(남성)</th>\n",
       "      <th>방문자 수(여성)</th>\n",
       "      <th>방문자 비율(여성)</th>\n",
       "      <th>지역</th>\n",
       "      <th>기준 월</th>\n",
       "      <th>연령별 총합</th>\n",
       "    </tr>\n",
       "  </thead>\n",
       "  <tbody>\n",
       "  </tbody>\n",
       "</table>\n",
       "</div>"
      ],
      "text/plain": [
       "Empty DataFrame\n",
       "Columns: [Unnamed: 0, 방문자 연령, 방문자 수(남성), 방문자 비율(남성), 방문자 수(여성), 방문자 비율(여성), 지역, 기준 월, 연령별 총합]\n",
       "Index: []"
      ]
     },
     "execution_count": 9,
     "metadata": {},
     "output_type": "execute_result"
    }
   ],
   "source": [
    "survey_raw_df = survey_raw_df[survey_raw_df['지역'] == \"서울 강남구\"]\n",
    "survey_raw_df"
   ]
  },
  {
   "cell_type": "code",
   "execution_count": 10,
   "id": "79835b79-5196-421e-adcd-5ce78c1c75f4",
   "metadata": {},
   "outputs": [
    {
     "data": {
      "text/plain": [
       "Index(['Unnamed: 0', '방문자 연령', '방문자 수(남성)', '방문자 비율(남성)', '방문자 수(여성)',\n",
       "       '방문자 비율(여성)', '지역', '기준 월', '연령별 총합'],\n",
       "      dtype='object')"
      ]
     },
     "execution_count": 10,
     "metadata": {},
     "output_type": "execute_result"
    }
   ],
   "source": [
    "survey_raw_df.columns"
   ]
  },
  {
   "cell_type": "code",
   "execution_count": 11,
   "id": "03211861-9a15-473b-b10d-503cee6738b3",
   "metadata": {},
   "outputs": [],
   "source": [
    "age20_29 = survey_raw_df['방문자 연령'] == '20~29세'\n",
    "sungdonggu = survey_raw_df['지역'] == \"서울 강남구\""
   ]
  },
  {
   "cell_type": "code",
   "execution_count": 12,
   "id": "ef73503c-c7e7-47bf-837a-e2d52a113659",
   "metadata": {
    "tags": []
   },
   "outputs": [
    {
     "data": {
      "text/html": [
       "<div>\n",
       "<style scoped>\n",
       "    .dataframe tbody tr th:only-of-type {\n",
       "        vertical-align: middle;\n",
       "    }\n",
       "\n",
       "    .dataframe tbody tr th {\n",
       "        vertical-align: top;\n",
       "    }\n",
       "\n",
       "    .dataframe thead th {\n",
       "        text-align: right;\n",
       "    }\n",
       "</style>\n",
       "<table border=\"1\" class=\"dataframe\">\n",
       "  <thead>\n",
       "    <tr style=\"text-align: right;\">\n",
       "      <th></th>\n",
       "      <th>Unnamed: 0</th>\n",
       "      <th>방문자 연령</th>\n",
       "      <th>방문자 수(남성)</th>\n",
       "      <th>방문자 비율(남성)</th>\n",
       "      <th>방문자 수(여성)</th>\n",
       "      <th>방문자 비율(여성)</th>\n",
       "      <th>지역</th>\n",
       "      <th>기준 월</th>\n",
       "      <th>연령별 총합</th>\n",
       "    </tr>\n",
       "  </thead>\n",
       "  <tbody>\n",
       "  </tbody>\n",
       "</table>\n",
       "</div>"
      ],
      "text/plain": [
       "Empty DataFrame\n",
       "Columns: [Unnamed: 0, 방문자 연령, 방문자 수(남성), 방문자 비율(남성), 방문자 수(여성), 방문자 비율(여성), 지역, 기준 월, 연령별 총합]\n",
       "Index: []"
      ]
     },
     "execution_count": 12,
     "metadata": {},
     "output_type": "execute_result"
    }
   ],
   "source": [
    "survey_raw_df[age20_29 & sungdonggu ]"
   ]
  },
  {
   "cell_type": "code",
   "execution_count": 13,
   "id": "17a2070c-3efc-4c26-b4a5-06b6f5635176",
   "metadata": {
    "tags": []
   },
   "outputs": [
    {
     "data": {
      "text/html": [
       "<div>\n",
       "<style scoped>\n",
       "    .dataframe tbody tr th:only-of-type {\n",
       "        vertical-align: middle;\n",
       "    }\n",
       "\n",
       "    .dataframe tbody tr th {\n",
       "        vertical-align: top;\n",
       "    }\n",
       "\n",
       "    .dataframe thead th {\n",
       "        text-align: right;\n",
       "    }\n",
       "</style>\n",
       "<table border=\"1\" class=\"dataframe\">\n",
       "  <thead>\n",
       "    <tr style=\"text-align: right;\">\n",
       "      <th></th>\n",
       "      <th></th>\n",
       "    </tr>\n",
       "    <tr>\n",
       "      <th>방문자 연령</th>\n",
       "      <th>지역</th>\n",
       "    </tr>\n",
       "  </thead>\n",
       "  <tbody>\n",
       "  </tbody>\n",
       "</table>\n",
       "</div>"
      ],
      "text/plain": [
       "Empty DataFrame\n",
       "Columns: []\n",
       "Index: []"
      ]
     },
     "execution_count": 13,
     "metadata": {},
     "output_type": "execute_result"
    }
   ],
   "source": [
    "survey_raw_df.groupby(by=[\"방문자 연령\", \"지역\"]).sum(numeric_only=True) "
   ]
  },
  {
   "cell_type": "code",
   "execution_count": 14,
   "id": "b88afc6a-2dee-41fd-a2ce-076a9aea05ec",
   "metadata": {
    "tags": []
   },
   "outputs": [
    {
     "data": {
      "text/html": [
       "<div>\n",
       "<style scoped>\n",
       "    .dataframe tbody tr th:only-of-type {\n",
       "        vertical-align: middle;\n",
       "    }\n",
       "\n",
       "    .dataframe tbody tr th {\n",
       "        vertical-align: top;\n",
       "    }\n",
       "\n",
       "    .dataframe thead th {\n",
       "        text-align: right;\n",
       "    }\n",
       "</style>\n",
       "<table border=\"1\" class=\"dataframe\">\n",
       "  <thead>\n",
       "    <tr style=\"text-align: right;\">\n",
       "      <th></th>\n",
       "      <th></th>\n",
       "    </tr>\n",
       "    <tr>\n",
       "      <th>지역</th>\n",
       "      <th>방문자 연령</th>\n",
       "    </tr>\n",
       "  </thead>\n",
       "  <tbody>\n",
       "  </tbody>\n",
       "</table>\n",
       "</div>"
      ],
      "text/plain": [
       "Empty DataFrame\n",
       "Columns: []\n",
       "Index: []"
      ]
     },
     "execution_count": 14,
     "metadata": {},
     "output_type": "execute_result"
    }
   ],
   "source": [
    "dist_age = survey_raw_df.groupby(['지역', '방문자 연령']).sum()\n",
    "dist_age"
   ]
  },
  {
   "cell_type": "code",
   "execution_count": 15,
   "id": "14bae9d8-470c-4e32-a8f2-81384a8db6bf",
   "metadata": {
    "tags": []
   },
   "outputs": [
    {
     "data": {
      "text/plain": [
       "MultiIndex([], names=['지역', '방문자 연령'])"
      ]
     },
     "execution_count": 15,
     "metadata": {},
     "output_type": "execute_result"
    }
   ],
   "source": [
    "dist_age.index"
   ]
  },
  {
   "cell_type": "code",
   "execution_count": 16,
   "id": "5745fe3f-48f5-4de6-bf06-45a805caf95a",
   "metadata": {
    "tags": []
   },
   "outputs": [
    {
     "data": {
      "text/html": [
       "<div>\n",
       "<style scoped>\n",
       "    .dataframe tbody tr th:only-of-type {\n",
       "        vertical-align: middle;\n",
       "    }\n",
       "\n",
       "    .dataframe tbody tr th {\n",
       "        vertical-align: top;\n",
       "    }\n",
       "\n",
       "    .dataframe thead th {\n",
       "        text-align: right;\n",
       "    }\n",
       "</style>\n",
       "<table border=\"1\" class=\"dataframe\">\n",
       "  <thead>\n",
       "    <tr style=\"text-align: right;\">\n",
       "      <th></th>\n",
       "      <th></th>\n",
       "    </tr>\n",
       "    <tr>\n",
       "      <th>지역</th>\n",
       "      <th>방문자 연령</th>\n",
       "    </tr>\n",
       "  </thead>\n",
       "  <tbody>\n",
       "  </tbody>\n",
       "</table>\n",
       "</div>"
      ],
      "text/plain": [
       "Empty DataFrame\n",
       "Columns: []\n",
       "Index: []"
      ]
     },
     "execution_count": 16,
     "metadata": {},
     "output_type": "execute_result"
    }
   ],
   "source": [
    "dist_age"
   ]
  },
  {
   "cell_type": "code",
   "execution_count": 17,
   "id": "dd92b0ec-bd20-4b6a-98d5-663d5bdd6912",
   "metadata": {},
   "outputs": [],
   "source": [
    "name_re = {'0~9세':'미성년자',\n",
    "           '10~19세':'미성년자',\n",
    "           '20~29세':'청년',\n",
    "           '30~39세':'청년',\n",
    "           '40~49세':'중장년',\n",
    "           '50~59세':'중장년',\n",
    "           '60~69세':'노년',\n",
    "           '70세 이상':'노년',}\n",
    "\n",
    "#특정 행의 index를 바꾸어 주기 위한 변수 설정"
   ]
  },
  {
   "cell_type": "code",
   "execution_count": 18,
   "id": "5ca4e385-1253-4ec2-b905-035641de80c0",
   "metadata": {
    "tags": []
   },
   "outputs": [],
   "source": [
    "survey_raw_df = survey_raw_df.replace(name_re)\n",
    "# 특정 행의 index를 특정 index로 바꾸는 코딩"
   ]
  },
  {
   "cell_type": "code",
   "execution_count": 19,
   "id": "0d447ccc-c619-4040-9ba4-5cfd1ca37441",
   "metadata": {},
   "outputs": [],
   "source": [
    "dist_age = survey_raw_df.groupby(['지역', '방문자 연령',]). sum()\n",
    "# 전체 데이터의 총합을 구하는 코딩"
   ]
  },
  {
   "cell_type": "code",
   "execution_count": 20,
   "id": "b8787f1a-06f5-4f84-9f27-271767f45b36",
   "metadata": {
    "tags": []
   },
   "outputs": [
    {
     "data": {
      "text/html": [
       "<div>\n",
       "<style scoped>\n",
       "    .dataframe tbody tr th:only-of-type {\n",
       "        vertical-align: middle;\n",
       "    }\n",
       "\n",
       "    .dataframe tbody tr th {\n",
       "        vertical-align: top;\n",
       "    }\n",
       "\n",
       "    .dataframe thead th {\n",
       "        text-align: right;\n",
       "    }\n",
       "</style>\n",
       "<table border=\"1\" class=\"dataframe\">\n",
       "  <thead>\n",
       "    <tr style=\"text-align: right;\">\n",
       "      <th></th>\n",
       "      <th></th>\n",
       "    </tr>\n",
       "    <tr>\n",
       "      <th>지역</th>\n",
       "      <th>방문자 연령</th>\n",
       "    </tr>\n",
       "  </thead>\n",
       "  <tbody>\n",
       "  </tbody>\n",
       "</table>\n",
       "</div>"
      ],
      "text/plain": [
       "Empty DataFrame\n",
       "Columns: []\n",
       "Index: []"
      ]
     },
     "execution_count": 20,
     "metadata": {},
     "output_type": "execute_result"
    }
   ],
   "source": [
    "dist_age"
   ]
  },
  {
   "cell_type": "code",
   "execution_count": 21,
   "id": "c6b23466-f8a4-4277-872d-e17dde989211",
   "metadata": {
    "tags": []
   },
   "outputs": [
    {
     "ename": "KeyError",
     "evalue": "\"['Unnamed: 0', '방문자 수(남성)', '방문자 비율(남성)', '방문자 수(여성)', '방문자 비율(여성)'] not found in axis\"",
     "output_type": "error",
     "traceback": [
      "\u001b[1;31m---------------------------------------------------------------------------\u001b[0m",
      "\u001b[1;31mKeyError\u001b[0m                                  Traceback (most recent call last)",
      "\u001b[1;32m~\\AppData\\Local\\Temp\\ipykernel_5276\\3421670967.py\u001b[0m in \u001b[0;36m<module>\u001b[1;34m\u001b[0m\n\u001b[1;32m----> 1\u001b[1;33m \u001b[0mdist_age\u001b[0m\u001b[1;33m.\u001b[0m\u001b[0mdrop\u001b[0m\u001b[1;33m(\u001b[0m\u001b[1;33m[\u001b[0m\u001b[1;34m'Unnamed: 0'\u001b[0m\u001b[1;33m,\u001b[0m\u001b[1;34m'방문자 수(남성)'\u001b[0m\u001b[1;33m,\u001b[0m \u001b[1;34m'방문자 비율(남성)'\u001b[0m\u001b[1;33m,\u001b[0m \u001b[1;34m'방문자 수(여성)'\u001b[0m\u001b[1;33m,\u001b[0m \u001b[1;34m'방문자 비율(여성)'\u001b[0m\u001b[1;33m]\u001b[0m\u001b[1;33m,\u001b[0m \u001b[0maxis\u001b[0m\u001b[1;33m=\u001b[0m\u001b[1;36m1\u001b[0m\u001b[1;33m)\u001b[0m\u001b[1;33m\u001b[0m\u001b[1;33m\u001b[0m\u001b[0m\n\u001b[0m\u001b[0;32m      2\u001b[0m \u001b[1;31m# 연련병 총합을 제외한 나머지 열을 모두 삭제하는 코딩\u001b[0m\u001b[1;33m\u001b[0m\u001b[1;33m\u001b[0m\u001b[0m\n",
      "\u001b[1;32m~\\anaconda3\\lib\\site-packages\\pandas\\util\\_decorators.py\u001b[0m in \u001b[0;36mwrapper\u001b[1;34m(*args, **kwargs)\u001b[0m\n\u001b[0;32m    309\u001b[0m                     \u001b[0mstacklevel\u001b[0m\u001b[1;33m=\u001b[0m\u001b[0mstacklevel\u001b[0m\u001b[1;33m,\u001b[0m\u001b[1;33m\u001b[0m\u001b[1;33m\u001b[0m\u001b[0m\n\u001b[0;32m    310\u001b[0m                 )\n\u001b[1;32m--> 311\u001b[1;33m             \u001b[1;32mreturn\u001b[0m \u001b[0mfunc\u001b[0m\u001b[1;33m(\u001b[0m\u001b[1;33m*\u001b[0m\u001b[0margs\u001b[0m\u001b[1;33m,\u001b[0m \u001b[1;33m**\u001b[0m\u001b[0mkwargs\u001b[0m\u001b[1;33m)\u001b[0m\u001b[1;33m\u001b[0m\u001b[1;33m\u001b[0m\u001b[0m\n\u001b[0m\u001b[0;32m    312\u001b[0m \u001b[1;33m\u001b[0m\u001b[0m\n\u001b[0;32m    313\u001b[0m         \u001b[1;32mreturn\u001b[0m \u001b[0mwrapper\u001b[0m\u001b[1;33m\u001b[0m\u001b[1;33m\u001b[0m\u001b[0m\n",
      "\u001b[1;32m~\\anaconda3\\lib\\site-packages\\pandas\\core\\frame.py\u001b[0m in \u001b[0;36mdrop\u001b[1;34m(self, labels, axis, index, columns, level, inplace, errors)\u001b[0m\n\u001b[0;32m   4955\u001b[0m                 \u001b[0mweight\u001b[0m  \u001b[1;36m1.0\u001b[0m     \u001b[1;36m0.8\u001b[0m\u001b[1;33m\u001b[0m\u001b[1;33m\u001b[0m\u001b[0m\n\u001b[0;32m   4956\u001b[0m         \"\"\"\n\u001b[1;32m-> 4957\u001b[1;33m         return super().drop(\n\u001b[0m\u001b[0;32m   4958\u001b[0m             \u001b[0mlabels\u001b[0m\u001b[1;33m=\u001b[0m\u001b[0mlabels\u001b[0m\u001b[1;33m,\u001b[0m\u001b[1;33m\u001b[0m\u001b[1;33m\u001b[0m\u001b[0m\n\u001b[0;32m   4959\u001b[0m             \u001b[0maxis\u001b[0m\u001b[1;33m=\u001b[0m\u001b[0maxis\u001b[0m\u001b[1;33m,\u001b[0m\u001b[1;33m\u001b[0m\u001b[1;33m\u001b[0m\u001b[0m\n",
      "\u001b[1;32m~\\anaconda3\\lib\\site-packages\\pandas\\core\\generic.py\u001b[0m in \u001b[0;36mdrop\u001b[1;34m(self, labels, axis, index, columns, level, inplace, errors)\u001b[0m\n\u001b[0;32m   4265\u001b[0m         \u001b[1;32mfor\u001b[0m \u001b[0maxis\u001b[0m\u001b[1;33m,\u001b[0m \u001b[0mlabels\u001b[0m \u001b[1;32min\u001b[0m \u001b[0maxes\u001b[0m\u001b[1;33m.\u001b[0m\u001b[0mitems\u001b[0m\u001b[1;33m(\u001b[0m\u001b[1;33m)\u001b[0m\u001b[1;33m:\u001b[0m\u001b[1;33m\u001b[0m\u001b[1;33m\u001b[0m\u001b[0m\n\u001b[0;32m   4266\u001b[0m             \u001b[1;32mif\u001b[0m \u001b[0mlabels\u001b[0m \u001b[1;32mis\u001b[0m \u001b[1;32mnot\u001b[0m \u001b[1;32mNone\u001b[0m\u001b[1;33m:\u001b[0m\u001b[1;33m\u001b[0m\u001b[1;33m\u001b[0m\u001b[0m\n\u001b[1;32m-> 4267\u001b[1;33m                 \u001b[0mobj\u001b[0m \u001b[1;33m=\u001b[0m \u001b[0mobj\u001b[0m\u001b[1;33m.\u001b[0m\u001b[0m_drop_axis\u001b[0m\u001b[1;33m(\u001b[0m\u001b[0mlabels\u001b[0m\u001b[1;33m,\u001b[0m \u001b[0maxis\u001b[0m\u001b[1;33m,\u001b[0m \u001b[0mlevel\u001b[0m\u001b[1;33m=\u001b[0m\u001b[0mlevel\u001b[0m\u001b[1;33m,\u001b[0m \u001b[0merrors\u001b[0m\u001b[1;33m=\u001b[0m\u001b[0merrors\u001b[0m\u001b[1;33m)\u001b[0m\u001b[1;33m\u001b[0m\u001b[1;33m\u001b[0m\u001b[0m\n\u001b[0m\u001b[0;32m   4268\u001b[0m \u001b[1;33m\u001b[0m\u001b[0m\n\u001b[0;32m   4269\u001b[0m         \u001b[1;32mif\u001b[0m \u001b[0minplace\u001b[0m\u001b[1;33m:\u001b[0m\u001b[1;33m\u001b[0m\u001b[1;33m\u001b[0m\u001b[0m\n",
      "\u001b[1;32m~\\anaconda3\\lib\\site-packages\\pandas\\core\\generic.py\u001b[0m in \u001b[0;36m_drop_axis\u001b[1;34m(self, labels, axis, level, errors, consolidate, only_slice)\u001b[0m\n\u001b[0;32m   4309\u001b[0m                 \u001b[0mnew_axis\u001b[0m \u001b[1;33m=\u001b[0m \u001b[0maxis\u001b[0m\u001b[1;33m.\u001b[0m\u001b[0mdrop\u001b[0m\u001b[1;33m(\u001b[0m\u001b[0mlabels\u001b[0m\u001b[1;33m,\u001b[0m \u001b[0mlevel\u001b[0m\u001b[1;33m=\u001b[0m\u001b[0mlevel\u001b[0m\u001b[1;33m,\u001b[0m \u001b[0merrors\u001b[0m\u001b[1;33m=\u001b[0m\u001b[0merrors\u001b[0m\u001b[1;33m)\u001b[0m\u001b[1;33m\u001b[0m\u001b[1;33m\u001b[0m\u001b[0m\n\u001b[0;32m   4310\u001b[0m             \u001b[1;32melse\u001b[0m\u001b[1;33m:\u001b[0m\u001b[1;33m\u001b[0m\u001b[1;33m\u001b[0m\u001b[0m\n\u001b[1;32m-> 4311\u001b[1;33m                 \u001b[0mnew_axis\u001b[0m \u001b[1;33m=\u001b[0m \u001b[0maxis\u001b[0m\u001b[1;33m.\u001b[0m\u001b[0mdrop\u001b[0m\u001b[1;33m(\u001b[0m\u001b[0mlabels\u001b[0m\u001b[1;33m,\u001b[0m \u001b[0merrors\u001b[0m\u001b[1;33m=\u001b[0m\u001b[0merrors\u001b[0m\u001b[1;33m)\u001b[0m\u001b[1;33m\u001b[0m\u001b[1;33m\u001b[0m\u001b[0m\n\u001b[0m\u001b[0;32m   4312\u001b[0m             \u001b[0mindexer\u001b[0m \u001b[1;33m=\u001b[0m \u001b[0maxis\u001b[0m\u001b[1;33m.\u001b[0m\u001b[0mget_indexer\u001b[0m\u001b[1;33m(\u001b[0m\u001b[0mnew_axis\u001b[0m\u001b[1;33m)\u001b[0m\u001b[1;33m\u001b[0m\u001b[1;33m\u001b[0m\u001b[0m\n\u001b[0;32m   4313\u001b[0m \u001b[1;33m\u001b[0m\u001b[0m\n",
      "\u001b[1;32m~\\anaconda3\\lib\\site-packages\\pandas\\core\\indexes\\base.py\u001b[0m in \u001b[0;36mdrop\u001b[1;34m(self, labels, errors)\u001b[0m\n\u001b[0;32m   6659\u001b[0m         \u001b[1;32mif\u001b[0m \u001b[0mmask\u001b[0m\u001b[1;33m.\u001b[0m\u001b[0many\u001b[0m\u001b[1;33m(\u001b[0m\u001b[1;33m)\u001b[0m\u001b[1;33m:\u001b[0m\u001b[1;33m\u001b[0m\u001b[1;33m\u001b[0m\u001b[0m\n\u001b[0;32m   6660\u001b[0m             \u001b[1;32mif\u001b[0m \u001b[0merrors\u001b[0m \u001b[1;33m!=\u001b[0m \u001b[1;34m\"ignore\"\u001b[0m\u001b[1;33m:\u001b[0m\u001b[1;33m\u001b[0m\u001b[1;33m\u001b[0m\u001b[0m\n\u001b[1;32m-> 6661\u001b[1;33m                 \u001b[1;32mraise\u001b[0m \u001b[0mKeyError\u001b[0m\u001b[1;33m(\u001b[0m\u001b[1;34mf\"{list(labels[mask])} not found in axis\"\u001b[0m\u001b[1;33m)\u001b[0m\u001b[1;33m\u001b[0m\u001b[1;33m\u001b[0m\u001b[0m\n\u001b[0m\u001b[0;32m   6662\u001b[0m             \u001b[0mindexer\u001b[0m \u001b[1;33m=\u001b[0m \u001b[0mindexer\u001b[0m\u001b[1;33m[\u001b[0m\u001b[1;33m~\u001b[0m\u001b[0mmask\u001b[0m\u001b[1;33m]\u001b[0m\u001b[1;33m\u001b[0m\u001b[1;33m\u001b[0m\u001b[0m\n\u001b[0;32m   6663\u001b[0m         \u001b[1;32mreturn\u001b[0m \u001b[0mself\u001b[0m\u001b[1;33m.\u001b[0m\u001b[0mdelete\u001b[0m\u001b[1;33m(\u001b[0m\u001b[0mindexer\u001b[0m\u001b[1;33m)\u001b[0m\u001b[1;33m\u001b[0m\u001b[1;33m\u001b[0m\u001b[0m\n",
      "\u001b[1;31mKeyError\u001b[0m: \"['Unnamed: 0', '방문자 수(남성)', '방문자 비율(남성)', '방문자 수(여성)', '방문자 비율(여성)'] not found in axis\""
     ]
    }
   ],
   "source": [
    "dist_age.drop(['Unnamed: 0','방문자 수(남성)', '방문자 비율(남성)', '방문자 수(여성)', '방문자 비율(여성)'], axis=1)\n",
    "# 연련병 총합을 제외한 나머지 열을 모두 삭제하는 코딩"
   ]
  },
  {
   "cell_type": "code",
   "execution_count": null,
   "id": "ca1ff1df-54a0-4cff-8a7d-76e81a2d9961",
   "metadata": {
    "tags": []
   },
   "outputs": [],
   "source": [
    "dist_age1= dist_age.drop(['Unnamed: 0','방문자 수(남성)', '방문자 비율(남성)', '방문자 수(여성)', '방문자 비율(여성)'], axis=1)\n",
    "dist_age1"
   ]
  },
  {
   "cell_type": "code",
   "execution_count": null,
   "id": "82522de5-215a-4480-ad73-6b42a2f322a2",
   "metadata": {
    "tags": []
   },
   "outputs": [],
   "source": [
    "dist_age2 = dist_age1.swaplevel(0, 1, axis=0).sort_index()\n",
    "dist_age2"
   ]
  },
  {
   "cell_type": "code",
   "execution_count": null,
   "id": "39ba09e7-f50f-48e2-b9a6-c838856811e6",
   "metadata": {
    "tags": []
   },
   "outputs": [],
   "source": [
    "dist_age2.loc[('노년', slice(None))].sort_values(\"연령별 총합\", ascending=False).head(10)"
   ]
  },
  {
   "cell_type": "code",
   "execution_count": null,
   "id": "0404d5cc-fc5a-401a-9df6-e468c25c0f6d",
   "metadata": {
    "tags": []
   },
   "outputs": [],
   "source": [
    "dist_age2.loc[('청년', slice(None))].sort_values(\"연령별 총합\", ascending=False).head(10)"
   ]
  },
  {
   "cell_type": "code",
   "execution_count": null,
   "id": "a1817f60-1858-4f6f-b9bd-524c634bddbe",
   "metadata": {
    "tags": []
   },
   "outputs": [],
   "source": [
    "dist_age2.loc[('중장년', slice(None))].sort_values(\"연령별 총합\", ascending=False).head(10)"
   ]
  },
  {
   "cell_type": "code",
   "execution_count": null,
   "id": "42418fa1-3978-4377-8be9-7271a3545b5c",
   "metadata": {
    "tags": []
   },
   "outputs": [],
   "source": [
    "dist_age2.loc[('미성년자', slice(None))].sort_values(\"연령별 총합\", ascending=False).head(10)"
   ]
  },
  {
   "cell_type": "code",
   "execution_count": null,
   "id": "40c98c5c-c2d2-4b4c-81f9-fabcbb3e8596",
   "metadata": {},
   "outputs": [],
   "source": [
    "dist_age1.loc[('서울 중랑구', '노년')]"
   ]
  },
  {
   "cell_type": "code",
   "execution_count": null,
   "id": "88b5bc6d-b302-4571-ba0a-13a2f3692f70",
   "metadata": {},
   "outputs": [],
   "source": [
    "pip install folium"
   ]
  },
  {
   "cell_type": "code",
   "execution_count": null,
   "id": "526df4e3-9c5f-427f-8b60-4eb73e321e2f",
   "metadata": {},
   "outputs": [],
   "source": [
    "import folium"
   ]
  },
  {
   "cell_type": "code",
   "execution_count": null,
   "id": "c2cdf348-49eb-45c8-9091-11a1a9b4c617",
   "metadata": {},
   "outputs": [],
   "source": [
    "folium.Choropleth"
   ]
  },
  {
   "cell_type": "code",
   "execution_count": null,
   "id": "f517c793-173d-4817-bb61-70fb7c61445c",
   "metadata": {},
   "outputs": [],
   "source": [
    "import requests\n",
    "import json"
   ]
  },
  {
   "cell_type": "code",
   "execution_count": null,
   "id": "adbfcc90-43dc-42ad-ae03-58775234afd2",
   "metadata": {},
   "outputs": [],
   "source": [
    "map = requests.get('https://raw.githubusercontent.com/southkorea/seoul-maps/master/kostat/2013/json/seoul_municipalities_geo_simple.json')\n",
    "c = map.content\n",
    "seoul_geojson = json.loads(c)"
   ]
  },
  {
   "cell_type": "code",
   "execution_count": null,
   "id": "0d4d9d9a-0bf6-47a8-89ce-17a070cfb675",
   "metadata": {},
   "outputs": [],
   "source": [
    "m = folium.Map(location=[37.55, 126.98], zoom_start=11)\n",
    "# 서울 구 경계 표시\n",
    "folium.Choropleth(\n",
    "    geo_data=seoul_geojson,\n",
    "    fill_color='#22AA44',\n",
    "    fill_opacity=0.4,\n",
    "    line_opacity=1,\n",
    ").add_to(m)\n",
    "\n",
    "m"
   ]
  },
  {
   "cell_type": "code",
   "execution_count": null,
   "id": "1b7491d9-98ea-402d-88fb-18ed3b59d3a1",
   "metadata": {},
   "outputs": [],
   "source": [
    "import matplotlib.pyplot as plt\n",
    "import seaborn as sns"
   ]
  },
  {
   "cell_type": "code",
   "execution_count": null,
   "id": "c9694652-9a6f-4e25-a5eb-2ef7823bd6e7",
   "metadata": {
    "tags": []
   },
   "outputs": [],
   "source": [
    "dist_age3 = dist_age2.loc[('미성년자', slice(None))].sort_values(\"연령별 총합\", ascending=False)\n",
    "dist_age3"
   ]
  },
  {
   "cell_type": "code",
   "execution_count": null,
   "id": "ec997cb4-693b-468a-985d-eae8abd5c815",
   "metadata": {
    "tags": []
   },
   "outputs": [],
   "source": [
    "dist_age3 = dist_age3.reset_index()\n",
    "dist_age3"
   ]
  },
  {
   "cell_type": "code",
   "execution_count": null,
   "id": "baade823-2ca7-4494-9e06-21a591e6fe52",
   "metadata": {
    "tags": []
   },
   "outputs": [],
   "source": [
    "dist_age3"
   ]
  },
  {
   "cell_type": "code",
   "execution_count": null,
   "id": "2c26aec1-6728-4a1c-9de5-67d02920acec",
   "metadata": {},
   "outputs": [],
   "source": [
    "dist_age3[\"지역\"] = dist_age3[\"지역\"].str.split().str[1]"
   ]
  },
  {
   "cell_type": "code",
   "execution_count": null,
   "id": "2d78fa49-66a5-415b-b088-a29ec49dafc2",
   "metadata": {
    "tags": []
   },
   "outputs": [],
   "source": [
    "dist_age3"
   ]
  },
  {
   "cell_type": "code",
   "execution_count": null,
   "id": "fdd02030-fc48-4581-83ae-7d5397b8f779",
   "metadata": {
    "tags": []
   },
   "outputs": [],
   "source": [
    "m = folium.Map(location=[37.55, 126.98], zoom_start=11, tiles='cartodbpositron')\n",
    "\n",
    "# folium.GeoJson(seoul_geo, name = \"지역구\").add_to(m)\n",
    "\n",
    "folium.Choropleth(\n",
    "    geo_data=seoul_geojson,\n",
    "    data=dist_age3, \n",
    "    columns=[\"지역\", \"연령별 총합\"],\n",
    "    fill_color='OrRd', # 색상 변경도 가능하다\n",
    "    fill_opacity=0.7,\n",
    "    line_opacity=0.5,\n",
    "    key_on='feature.properties.name',\n",
    "    legend_name=\"지역구별 방문객 수\", \n",
    ").add_to(m)\n",
    "m\n",
    "\n",
    "# 미성년자"
   ]
  },
  {
   "cell_type": "code",
   "execution_count": null,
   "id": "88e2fe24-910b-4e3f-a23d-6f4354402f35",
   "metadata": {
    "tags": []
   },
   "outputs": [],
   "source": [
    "dist_age4 = dist_age2.loc[('중장년', slice(None))].sort_values(\"연령별 총합\", ascending=False)\n",
    "dist_age4"
   ]
  },
  {
   "cell_type": "code",
   "execution_count": null,
   "id": "5c6e224f-7c8f-4feb-8cf3-c8aa74dc73a7",
   "metadata": {
    "tags": []
   },
   "outputs": [],
   "source": [
    "dist_age4 = dist_age4.reset_index()\n",
    "dist_age4"
   ]
  },
  {
   "cell_type": "code",
   "execution_count": null,
   "id": "c7b70cd7-8908-4027-bdec-ad233a6709a3",
   "metadata": {
    "tags": []
   },
   "outputs": [],
   "source": [
    "dist_age4"
   ]
  },
  {
   "cell_type": "code",
   "execution_count": null,
   "id": "2c873111-71b2-4704-8e99-17be81b7d0c1",
   "metadata": {},
   "outputs": [],
   "source": [
    "dist_age4[\"지역\"] = dist_age4[\"지역\"].str.split().str[1]"
   ]
  },
  {
   "cell_type": "code",
   "execution_count": null,
   "id": "877859e2-bd72-413d-9aa4-6c06fb651532",
   "metadata": {
    "tags": []
   },
   "outputs": [],
   "source": [
    "dist_age4"
   ]
  },
  {
   "cell_type": "code",
   "execution_count": null,
   "id": "40d88a07-cb2e-4cd8-9883-405ff10cacca",
   "metadata": {},
   "outputs": [],
   "source": [
    "m = folium.Map(location=[37.55, 126.98], zoom_start=11, tiles='cartodbpositron')\n",
    "\n",
    "# folium.GeoJson(seoul_geo, name = \"지역구\").add_to(m)\n",
    "\n",
    "folium.Choropleth(\n",
    "    geo_data=seoul_geojson,\n",
    "    data=dist_age4, \n",
    "    columns=[\"지역\", \"연령별 총합\"],\n",
    "    fill_color='OrRd', # 색상 변경도 가능하다\n",
    "    fill_opacity=0.7,\n",
    "    line_opacity=0.5,\n",
    "    key_on='feature.properties.name',\n",
    "    legend_name=\"지역구별 방문객 수\", \n",
    ").add_to(m)\n",
    "m"
   ]
  },
  {
   "cell_type": "code",
   "execution_count": null,
   "id": "f8f92edc-352e-4e7f-9164-05b1d88de4b4",
   "metadata": {
    "tags": []
   },
   "outputs": [],
   "source": [
    "dist_age5 = dist_age2.loc[('청년', slice(None))].sort_values(\"연령별 총합\", ascending=False)\n",
    "dist_age5"
   ]
  },
  {
   "cell_type": "code",
   "execution_count": null,
   "id": "0e60642b-2ade-4638-9c01-dfbbd8e8993b",
   "metadata": {
    "tags": []
   },
   "outputs": [],
   "source": [
    "dist_age5 = dist_age5.reset_index()\n",
    "dist_age5"
   ]
  },
  {
   "cell_type": "code",
   "execution_count": null,
   "id": "a47c99aa-484a-490d-885c-d94b98d46b00",
   "metadata": {
    "tags": []
   },
   "outputs": [],
   "source": [
    "dist_age5"
   ]
  },
  {
   "cell_type": "code",
   "execution_count": null,
   "id": "e01cd1f5-8698-4504-9831-51d9ac6b76f1",
   "metadata": {
    "tags": []
   },
   "outputs": [],
   "source": [
    "dist_age5[\"지역\"] = dist_age5[\"지역\"].str.split().str[1]"
   ]
  },
  {
   "cell_type": "code",
   "execution_count": null,
   "id": "4a56db4e-05b5-4c17-8d74-23eb3e07e01a",
   "metadata": {
    "tags": []
   },
   "outputs": [],
   "source": [
    "dist_age5"
   ]
  },
  {
   "cell_type": "code",
   "execution_count": null,
   "id": "2847ecc0-f532-471b-86ae-a3594e7d8c3e",
   "metadata": {},
   "outputs": [],
   "source": [
    "m = folium.Map(location=[37.55, 126.98], zoom_start=11, tiles='cartodbpositron')\n",
    "\n",
    "# folium.GeoJson(seoul_geo, name = \"지역구\").add_to(m)\n",
    "\n",
    "folium.Choropleth(\n",
    "    geo_data=seoul_geojson,\n",
    "    data=dist_age5, \n",
    "    columns=[\"지역\", \"연령별 총합\"],\n",
    "    fill_color='OrRd', # 색상 변경도 가능하다\n",
    "    fill_opacity=0.7,\n",
    "    line_opacity=0.5,\n",
    "    key_on='feature.properties.name',\n",
    "    legend_name=\"지역구별 방문객 수\", \n",
    ").add_to(m)\n",
    "m"
   ]
  },
  {
   "cell_type": "code",
   "execution_count": null,
   "id": "bc314dfc-2842-4950-ad4c-4a26fc5b1aab",
   "metadata": {
    "tags": []
   },
   "outputs": [],
   "source": [
    "dist_age6 = dist_age2.loc[('노년', slice(None))].sort_values(\"연령별 총합\", ascending=False)\n",
    "dist_age6"
   ]
  },
  {
   "cell_type": "code",
   "execution_count": null,
   "id": "c28ae95b-bd37-44a6-9747-7743c337cc53",
   "metadata": {
    "tags": []
   },
   "outputs": [],
   "source": [
    "dist_age6 = dist_age6.reset_index()\n",
    "dist_age6"
   ]
  },
  {
   "cell_type": "code",
   "execution_count": null,
   "id": "827d000a-16fb-412f-8dec-e70f32aa3b10",
   "metadata": {
    "tags": []
   },
   "outputs": [],
   "source": [
    "dist_age6"
   ]
  },
  {
   "cell_type": "code",
   "execution_count": null,
   "id": "8e2bb046-5ff8-440e-b9c2-e98c32273dbb",
   "metadata": {},
   "outputs": [],
   "source": [
    "dist_age6[\"지역\"] = dist_age6[\"지역\"].str.split().str[1]"
   ]
  },
  {
   "cell_type": "code",
   "execution_count": null,
   "id": "45cefcb2-d022-44c4-a9c9-5071c2d71ca2",
   "metadata": {
    "tags": []
   },
   "outputs": [],
   "source": [
    "dist_age6"
   ]
  },
  {
   "cell_type": "code",
   "execution_count": null,
   "id": "a614aeb3-ecad-4b4c-8516-bb1f430f82ff",
   "metadata": {
    "tags": []
   },
   "outputs": [],
   "source": [
    "m = folium.Map(location=[37.55, 126.98], zoom_start=11, tiles='cartodbpositron')\n",
    "\n",
    "# folium.GeoJson(seoul_geo, name = \"지역구\").add_to(m)\n",
    "\n",
    "folium.Choropleth(\n",
    "    geo_data=seoul_geojson,\n",
    "    data=dist_age6, \n",
    "    columns=[\"지역\", \"연령별 총합\"],\n",
    "    fill_color='OrRd', # 색상 변경도 가능하다\n",
    "    fill_opacity=0.7,\n",
    "    line_opacity=0.5,\n",
    "    key_on='feature.properties.name',\n",
    "    legend_name=\"지역구별 방문객 수\", \n",
    ").add_to(m)\n",
    "m"
   ]
  },
  {
   "cell_type": "code",
   "execution_count": null,
   "id": "20e4350b-3fd9-425b-88aa-2a464527058b",
   "metadata": {},
   "outputs": [],
   "source": [
    "m.save('map.html')"
   ]
  }
 ],
 "metadata": {
  "kernelspec": {
   "display_name": "Python 3 (ipykernel)",
   "language": "python",
   "name": "python3"
  },
  "language_info": {
   "codemirror_mode": {
    "name": "ipython",
    "version": 3
   },
   "file_extension": ".py",
   "mimetype": "text/x-python",
   "name": "python",
   "nbconvert_exporter": "python",
   "pygments_lexer": "ipython3",
   "version": "3.9.13"
  }
 },
 "nbformat": 4,
 "nbformat_minor": 5
}
