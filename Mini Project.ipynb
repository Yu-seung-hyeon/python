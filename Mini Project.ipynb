{
 "cells": [
  {
   "cell_type": "code",
   "execution_count": null,
   "id": "d40f32c2-5cf1-4da2-8600-dabe9d11ce33",
   "metadata": {},
   "outputs": [],
   "source": [
    "import pandas as pd"
   ]
  },
  {
   "cell_type": "code",
   "execution_count": null,
   "id": "4ca7d223-8283-48f3-8852-80177f076a1c",
   "metadata": {},
   "outputs": [],
   "source": [
    "data = pd.read_csv(\"datas/Mini Project/서울 강동구/2022 4월 강동구 방문자 성연령별 분포.csv\",encoding='CP949')\n",
    "data[\"지역\"] = \"서울 강동구\"\n",
    "data[\"기준연월\"] = \"2022-01\"\n",
    "# 데이터를 불러오는 방법"
   ]
  },
  {
   "cell_type": "code",
   "execution_count": null,
   "id": "e557382f-e485-4a0d-afa7-77df5f0a59f7",
   "metadata": {},
   "outputs": [
    {
     "data": {
      "text/html": [
       "<div>\n",
       "<style scoped>\n",
       "    .dataframe tbody tr th:only-of-type {\n",
       "        vertical-align: middle;\n",
       "    }\n",
       "\n",
       "    .dataframe tbody tr th {\n",
       "        vertical-align: top;\n",
       "    }\n",
       "\n",
       "    .dataframe thead th {\n",
       "        text-align: right;\n",
       "    }\n",
       "</style>\n",
       "<table border=\"1\" class=\"dataframe\">\n",
       "  <thead>\n",
       "    <tr style=\"text-align: right;\">\n",
       "      <th></th>\n",
       "      <th>방문자 연령</th>\n",
       "      <th>방문자 수(남성)</th>\n",
       "      <th>방문자 비율(남성)</th>\n",
       "      <th>방문자 수(여성)</th>\n",
       "      <th>방문자 비율(여성)</th>\n",
       "      <th>지역</th>\n",
       "      <th>기준연월</th>\n",
       "    </tr>\n",
       "  </thead>\n",
       "  <tbody>\n",
       "    <tr>\n",
       "      <th>0</th>\n",
       "      <td>70세 이상</td>\n",
       "      <td>174674.0</td>\n",
       "      <td>4.0</td>\n",
       "      <td>138200.0</td>\n",
       "      <td>3.2</td>\n",
       "      <td>서울 강동구</td>\n",
       "      <td>2022-01</td>\n",
       "    </tr>\n",
       "    <tr>\n",
       "      <th>1</th>\n",
       "      <td>60~69세</td>\n",
       "      <td>417030.0</td>\n",
       "      <td>9.6</td>\n",
       "      <td>311360.0</td>\n",
       "      <td>7.1</td>\n",
       "      <td>서울 강동구</td>\n",
       "      <td>2022-01</td>\n",
       "    </tr>\n",
       "    <tr>\n",
       "      <th>2</th>\n",
       "      <td>50~59세</td>\n",
       "      <td>514402.0</td>\n",
       "      <td>11.8</td>\n",
       "      <td>360778.0</td>\n",
       "      <td>8.3</td>\n",
       "      <td>서울 강동구</td>\n",
       "      <td>2022-01</td>\n",
       "    </tr>\n",
       "    <tr>\n",
       "      <th>3</th>\n",
       "      <td>40~49세</td>\n",
       "      <td>485995.0</td>\n",
       "      <td>11.1</td>\n",
       "      <td>291854.0</td>\n",
       "      <td>6.7</td>\n",
       "      <td>서울 강동구</td>\n",
       "      <td>2022-01</td>\n",
       "    </tr>\n",
       "    <tr>\n",
       "      <th>4</th>\n",
       "      <td>30~39세</td>\n",
       "      <td>458570.0</td>\n",
       "      <td>10.5</td>\n",
       "      <td>335723.0</td>\n",
       "      <td>7.7</td>\n",
       "      <td>서울 강동구</td>\n",
       "      <td>2022-01</td>\n",
       "    </tr>\n",
       "    <tr>\n",
       "      <th>5</th>\n",
       "      <td>20~29세</td>\n",
       "      <td>351208.0</td>\n",
       "      <td>8.1</td>\n",
       "      <td>320383.0</td>\n",
       "      <td>7.3</td>\n",
       "      <td>서울 강동구</td>\n",
       "      <td>2022-01</td>\n",
       "    </tr>\n",
       "    <tr>\n",
       "      <th>6</th>\n",
       "      <td>10~19세</td>\n",
       "      <td>82795.0</td>\n",
       "      <td>1.9</td>\n",
       "      <td>77149.0</td>\n",
       "      <td>1.8</td>\n",
       "      <td>서울 강동구</td>\n",
       "      <td>2022-01</td>\n",
       "    </tr>\n",
       "    <tr>\n",
       "      <th>7</th>\n",
       "      <td>0~9세</td>\n",
       "      <td>19699.0</td>\n",
       "      <td>0.5</td>\n",
       "      <td>20392.0</td>\n",
       "      <td>0.5</td>\n",
       "      <td>서울 강동구</td>\n",
       "      <td>2022-01</td>\n",
       "    </tr>\n",
       "  </tbody>\n",
       "</table>\n",
       "</div>"
      ],
      "text/plain": [
       "   방문자 연령  방문자 수(남성)  방문자 비율(남성)  방문자 수(여성)  방문자 비율(여성)      지역     기준연월\n",
       "0  70세 이상   174674.0         4.0   138200.0         3.2  서울 강동구  2022-01\n",
       "1  60~69세   417030.0         9.6   311360.0         7.1  서울 강동구  2022-01\n",
       "2  50~59세   514402.0        11.8   360778.0         8.3  서울 강동구  2022-01\n",
       "3  40~49세   485995.0        11.1   291854.0         6.7  서울 강동구  2022-01\n",
       "4  30~39세   458570.0        10.5   335723.0         7.7  서울 강동구  2022-01\n",
       "5  20~29세   351208.0         8.1   320383.0         7.3  서울 강동구  2022-01\n",
       "6  10~19세    82795.0         1.9    77149.0         1.8  서울 강동구  2022-01\n",
       "7    0~9세    19699.0         0.5    20392.0         0.5  서울 강동구  2022-01"
      ]
     },
     "execution_count": 3,
     "metadata": {},
     "output_type": "execute_result"
    }
   ],
   "source": [
    "data"
   ]
  },
  {
   "cell_type": "code",
   "execution_count": 6,
   "id": "eca8014f-2a89-44fe-83f9-4d2e28948bc5",
   "metadata": {},
   "outputs": [],
   "source": [
    "import pandas as pd\n",
    "from glob import glob"
   ]
  },
  {
   "cell_type": "code",
   "execution_count": 7,
   "id": "a75ab01a-dece-4e0f-8265-6a9ee7c4cd7f",
   "metadata": {},
   "outputs": [],
   "source": [
    "file_name = glob(\"datas/Mini Project/서울 강동구, 서울 관악구, 서울 금천구, 서울 동대문구, 서울 서대문구, 서울 성북구, 서울 영등포구, 서울 종로구/ *.csv\")\n",
    "total = pd.DataFrame()\n",
    "\n",
    "for file_name in file_name:\n",
    "    temp = pd.read_csv(file_name, sep=\",\", encoding=\"CP949\")\n",
    "    total = pd.concat([total, temp])\n",
    "    \n",
    "total.to_csv(\"datas/total.csv\")\n",
    "# 데이터의 정의를 만들고 구하고자 하는 "
   ]
  },
  {
   "cell_type": "code",
   "execution_count": 8,
   "id": "6d2467b5-9b5c-490d-b7a7-c0231c94aac7",
   "metadata": {},
   "outputs": [
    {
     "data": {
      "text/plain": [
       "['datas/Mini Project']"
      ]
     },
     "execution_count": 8,
     "metadata": {},
     "output_type": "execute_result"
    }
   ],
   "source": [
    "file_name = glob(\"datas/Mini Project\")\n",
    "file_name"
   ]
  },
  {
   "cell_type": "code",
   "execution_count": 9,
   "id": "1aa4de7b-175d-442c-a480-37725e423ef7",
   "metadata": {},
   "outputs": [
    {
     "ename": "NameError",
     "evalue": "name 'paths' is not defined",
     "output_type": "error",
     "traceback": [
      "\u001b[1;31m---------------------------------------------------------------------------\u001b[0m",
      "\u001b[1;31mNameError\u001b[0m                                 Traceback (most recent call last)",
      "\u001b[1;32m~\\AppData\\Local\\Temp\\ipykernel_12584\\3383269775.py\u001b[0m in \u001b[0;36m<module>\u001b[1;34m\u001b[0m\n\u001b[1;32m----> 1\u001b[1;33m \u001b[0mfile_paths\u001b[0m \u001b[1;33m=\u001b[0m \u001b[1;33m{\u001b[0m\u001b[0mpath\u001b[0m\u001b[1;33m:\u001b[0m \u001b[0mos\u001b[0m\u001b[1;33m.\u001b[0m\u001b[0mlistdir\u001b[0m \u001b[1;32mfor\u001b[0m \u001b[0mpath\u001b[0m \u001b[1;32min\u001b[0m \u001b[0mpaths\u001b[0m\u001b[1;33m}\u001b[0m \u001b[1;31m# 파일 경로를 설정해서 설정된 경로를 확인 하는 방법 입니다.\u001b[0m\u001b[1;33m\u001b[0m\u001b[1;33m\u001b[0m\u001b[0m\n\u001b[0m\u001b[0;32m      2\u001b[0m \u001b[0mfile_paths\u001b[0m\u001b[1;33m\u001b[0m\u001b[1;33m\u001b[0m\u001b[0m\n\u001b[0;32m      3\u001b[0m \u001b[1;33m\u001b[0m\u001b[0m\n\u001b[0;32m      4\u001b[0m \u001b[1;31m#\"Mini Project/map.html\"/+path\u001b[0m\u001b[1;33m\u001b[0m\u001b[1;33m\u001b[0m\u001b[0m\n\u001b[0;32m      5\u001b[0m \u001b[1;31m# listdir은 위에서 경로를 설정하였기 때문에 추가로 뒤에 입력을 할 필요는 없다.\u001b[0m\u001b[1;33m\u001b[0m\u001b[1;33m\u001b[0m\u001b[0m\n",
      "\u001b[1;31mNameError\u001b[0m: name 'paths' is not defined"
     ]
    }
   ],
   "source": [
    "file_paths = {path: os.listdir for path in paths} # 파일 경로를 설정해서 설정된 경로를 확인 하는 방법 입니다.\n",
    "file_paths\n",
    "\n",
    "#\"Mini Project/map.html\"/+path\n",
    "# listdir은 위에서 경로를 설정하였기 때문에 추가로 뒤에 입력을 할 필요는 없다."
   ]
  },
  {
   "cell_type": "code",
   "execution_count": null,
   "id": "f11a7d3e-b834-4fb8-a5ae-fa5e155936b1",
   "metadata": {},
   "outputs": [],
   "source": [
    "total_paths = [] # 전체 경로에 대한 변수 설정\n",
    "for key, values in file_paths.items():\n",
    "    for value in values:\n",
    "        total_paths.append(f'datas/Mini Project/{key}/{value}') "
   ]
  },
  {
   "cell_type": "code",
   "execution_count": null,
   "id": "18d7a294-5479-4cdc-9da6-351d7eecb341",
   "metadata": {},
   "outputs": [],
   "source": [
    "result = []\n",
    "for path in total_paths:\n",
    "    data = pd.read_csv(path, encoding='CP949')\n",
    "    data[\"지역\"] = path.split('/')[2]\n",
    "    data[\"기준 월\"] = \"년 \".join(path.split('/')[3].split()[:2])[6:]\n",
    "    result.append(data)\n",
    "msg = pd.concat(result, ignore_index=True)\n",
    "\n",
    "#결과값을 도출하는 방법"
   ]
  },
  {
   "cell_type": "code",
   "execution_count": null,
   "id": "2805e4ba-1582-4f90-be33-488d102e7007",
   "metadata": {},
   "outputs": [],
   "source": [
    "pd.set_option(\"display.max_rows\", 768)\n",
    "#판다스 이용 data 정의하기"
   ]
  },
  {
   "cell_type": "code",
   "execution_count": null,
   "id": "1c35dba0-8b1b-4ec1-9587-33ece97c787a",
   "metadata": {},
   "outputs": [],
   "source": [
    "msg = total\n",
    "# MSG 데이터값을 추출하기"
   ]
  },
  {
   "cell_type": "code",
   "execution_count": null,
   "id": "7b1c3c78-8118-40c1-b961-592cc2b06b91",
   "metadata": {},
   "outputs": [],
   "source": [
    "msg.to_csv(\"datas/Mini Project/서울시 방문자 연령분포.csv\", index=False)"
   ]
  },
  {
   "cell_type": "code",
   "execution_count": null,
   "id": "6cf7c456-fec0-48aa-9fe0-12feef4a90f2",
   "metadata": {},
   "outputs": [],
   "source": [
    "survey_raw_df = pd.read_csv(\"datas/Mini Project/visitor3.csv\")\n",
    "survey_raw_df "
   ]
  },
  {
   "cell_type": "code",
   "execution_count": null,
   "id": "55218e68-fe0a-4dbf-91a9-74ced67cf5d5",
   "metadata": {},
   "outputs": [],
   "source": [
    "import pandas as pd"
   ]
  },
  {
   "cell_type": "code",
   "execution_count": null,
   "id": "632ed4b6-b33c-47b5-9338-afd57ce0fa69",
   "metadata": {},
   "outputs": [],
   "source": [
    "import numpy as np"
   ]
  },
  {
   "cell_type": "code",
   "execution_count": null,
   "id": "c2fe6c66-07b7-41e4-8a75-bb205e921259",
   "metadata": {},
   "outputs": [],
   "source": [
    "import matplotlib"
   ]
  },
  {
   "cell_type": "code",
   "execution_count": null,
   "id": "a90328b0-510b-4ea4-87e5-d412ae093415",
   "metadata": {},
   "outputs": [],
   "source": [
    "import matplotlib.pyplot as plt\n"
   ]
  },
  {
   "cell_type": "code",
   "execution_count": null,
   "id": "a74eae8a-20ac-484f-91f6-66644dc31d27",
   "metadata": {},
   "outputs": [],
   "source": [
    "%matplotlib inline"
   ]
  },
  {
   "cell_type": "code",
   "execution_count": null,
   "id": "ca8b1dee-9539-4639-8e39-5bb0c8ae3db4",
   "metadata": {},
   "outputs": [],
   "source": [
    "import seaborn as sns"
   ]
  },
  {
   "cell_type": "code",
   "execution_count": null,
   "id": "ad949dd1-01d4-41ae-b85f-1a21ef22c09c",
   "metadata": {},
   "outputs": [],
   "source": [
    "fig = plt.figure()"
   ]
  },
  {
   "cell_type": "code",
   "execution_count": null,
   "id": "6c185843-132e-46de-af40-1c121ad0e73d",
   "metadata": {},
   "outputs": [],
   "source": [
    "fig.suptitle('figure sample plots')"
   ]
  },
  {
   "cell_type": "code",
   "execution_count": null,
   "id": "4631d046-e286-41b7-9ccf-6c9028ddc91e",
   "metadata": {},
   "outputs": [],
   "source": [
    "msg"
   ]
  },
  {
   "cell_type": "code",
   "execution_count": null,
   "id": "3011fc9f-2af1-48e3-a4a5-200122911426",
   "metadata": {},
   "outputs": [],
   "source": [
    "import pandas as pd"
   ]
  },
  {
   "cell_type": "code",
   "execution_count": null,
   "id": "f00684ed-06c9-410c-a597-039f70296c56",
   "metadata": {},
   "outputs": [],
   "source": [
    "from glob import glob"
   ]
  },
  {
   "cell_type": "code",
   "execution_count": null,
   "id": "dc1003d1-cdf5-441b-9241-ba5f993f5cbd",
   "metadata": {},
   "outputs": [],
   "source": [
    "file_name = glob(\"datas/Mini Project\")\n",
    "file_name"
   ]
  },
  {
   "cell_type": "code",
   "execution_count": null,
   "id": "d9115c4f-e8b5-4a15-9400-035efd8308ca",
   "metadata": {},
   "outputs": [],
   "source": [
    "%pwd"
   ]
  },
  {
   "cell_type": "code",
   "execution_count": null,
   "id": "948c748b-a81f-4b33-b765-99a760f91546",
   "metadata": {
    "tags": []
   },
   "outputs": [],
   "source": [
    "survey_raw_df = pd.read_csv(\"datas/Mini Project/visitor_total.csv\")\n",
    "survey_raw_df"
   ]
  },
  {
   "cell_type": "code",
   "execution_count": null,
   "id": "447338b8-f1c2-49ee-a633-d6defaefb662",
   "metadata": {},
   "outputs": [],
   "source": [
    "msg = survey_raw_df.drop('Unnamed: 0', axis=1)"
   ]
  },
  {
   "cell_type": "code",
   "execution_count": null,
   "id": "45b45e4b-9082-4bf6-aa12-c96821f6a787",
   "metadata": {},
   "outputs": [],
   "source": [
    "pd.set_option(\"display.max_rows\", 2399)"
   ]
  },
  {
   "cell_type": "code",
   "execution_count": null,
   "id": "af7ebaf0-dce9-4608-9804-3e7a55c958be",
   "metadata": {
    "tags": []
   },
   "outputs": [],
   "source": [
    "msg"
   ]
  },
  {
   "cell_type": "code",
   "execution_count": null,
   "id": "b9c3cb57-65f6-4b67-b545-b21034cae05c",
   "metadata": {},
   "outputs": [],
   "source": [
    "msg.to_csv(\"visitor_total.csv.csv\", index=False)"
   ]
  },
  {
   "cell_type": "code",
   "execution_count": null,
   "id": "79835b79-5196-421e-adcd-5ce78c1c75f4",
   "metadata": {},
   "outputs": [],
   "source": [
    "msg.columns"
   ]
  },
  {
   "cell_type": "code",
   "execution_count": null,
   "id": "03211861-9a15-473b-b10d-503cee6738b3",
   "metadata": {},
   "outputs": [],
   "source": [
    "age20_29 = msg['방문자 연령'] == '20~29세'\n",
    "gangnamgu = msg['지역'] == \"서울 강남구\""
   ]
  },
  {
   "cell_type": "code",
   "execution_count": null,
   "id": "ef73503c-c7e7-47bf-837a-e2d52a113659",
   "metadata": {
    "tags": []
   },
   "outputs": [],
   "source": [
    "msg[age20_29 & gangnamgu ]"
   ]
  },
  {
   "cell_type": "code",
   "execution_count": null,
   "id": "17a2070c-3efc-4c26-b4a5-06b6f5635176",
   "metadata": {
    "tags": []
   },
   "outputs": [],
   "source": [
    "msg.groupby(by=[\"방문자 연령\", \"지역\"]).sum(numeric_only=True) "
   ]
  },
  {
   "cell_type": "code",
   "execution_count": null,
   "id": "b88afc6a-2dee-41fd-a2ce-076a9aea05ec",
   "metadata": {
    "tags": []
   },
   "outputs": [],
   "source": [
    "dist_age = msg.groupby(['지역', '방문자 연령',]). sum()\n",
    "# 전체 데이터의 총합을 구하는 코딩\n",
    "dist_age"
   ]
  },
  {
   "cell_type": "code",
   "execution_count": null,
   "id": "01add822-cf88-4d14-baaa-ff173a70706f",
   "metadata": {
    "tags": []
   },
   "outputs": [],
   "source": [
    "dist_age"
   ]
  },
  {
   "cell_type": "code",
   "execution_count": null,
   "id": "14bae9d8-470c-4e32-a8f2-81384a8db6bf",
   "metadata": {
    "tags": []
   },
   "outputs": [],
   "source": [
    "dist_age.index"
   ]
  },
  {
   "cell_type": "code",
   "execution_count": null,
   "id": "dd92b0ec-bd20-4b6a-98d5-663d5bdd6912",
   "metadata": {},
   "outputs": [],
   "source": [
    "name_re = {'0~9세':'미성년자',\n",
    "           '10~19세':'미성년자',\n",
    "           '20~29세':'청년',\n",
    "           '30~39세':'청년',\n",
    "           '40~49세':'중장년',\n",
    "           '50~59세':'중장년',\n",
    "           '60~69세':'노년',\n",
    "           '70세 이상':'노년',}\n",
    "\n",
    "#특정 행의 index를 바꾸어 주기 위한 변수 설정"
   ]
  },
  {
   "cell_type": "code",
   "execution_count": null,
   "id": "5ca4e385-1253-4ec2-b905-035641de80c0",
   "metadata": {
    "tags": []
   },
   "outputs": [],
   "source": [
    "dist_age = dist_age.replace(name_re)\n",
    "# 특정 행의 index를 특정 index로 바꾸는 코딩"
   ]
  },
  {
   "cell_type": "code",
   "execution_count": null,
   "id": "c6b23466-f8a4-4277-872d-e17dde989211",
   "metadata": {
    "tags": []
   },
   "outputs": [],
   "source": [
    "dist_age.drop(['방문자 수(남성)', '방문자 비율(남성)', '방문자 수(여성)', '방문자 비율(여성)'], axis=1)\n",
    "# 연련병 총합을 제외한 나머지 열을 모두 삭제하는 코딩"
   ]
  },
  {
   "cell_type": "code",
   "execution_count": null,
   "id": "82522de5-215a-4480-ad73-6b42a2f322a2",
   "metadata": {
    "tags": []
   },
   "outputs": [],
   "source": [
    "dist_age2 = dist_age1.swaplevel(0, 1, axis=0).sort_index()\n",
    "dist_age2\n",
    "#행의 index 항목별로 나열하여 각각의 총합을 도출하는 방법( 노년, 중장년, 청년, 미성년)"
   ]
  },
  {
   "cell_type": "code",
   "execution_count": null,
   "id": "39ba09e7-f50f-48e2-b9a6-c838856811e6",
   "metadata": {
    "tags": []
   },
   "outputs": [],
   "source": [
    "dist_age2.loc[('노년', slice(None))].sort_values(\"연령별 총합\", ascending=False).head(10)\n",
    "# 서울 지역구 기군 노년층의 연령별 총합을 상위 10위를 선별하여 나열하는 방법"
   ]
  },
  {
   "cell_type": "code",
   "execution_count": null,
   "id": "0404d5cc-fc5a-401a-9df6-e468c25c0f6d",
   "metadata": {
    "tags": []
   },
   "outputs": [],
   "source": [
    "dist_age2.loc[('청년', slice(None))].sort_values(\"연령별 총합\", ascending=False).head(10)\n",
    "# 서울 지역구 기군 청년층의 연령별 총합을 상위 10위를 선별하여 나열하는 방법"
   ]
  },
  {
   "cell_type": "code",
   "execution_count": null,
   "id": "a1817f60-1858-4f6f-b9bd-524c634bddbe",
   "metadata": {
    "tags": []
   },
   "outputs": [],
   "source": [
    "dist_age2.loc[('중장년', slice(None))].sort_values(\"연령별 총합\", ascending=False).head(10)\n",
    "# 서울 지역구 기군 중장년층의 연령별 총합을 상위 10위를 선별하여 나열하는 방법"
   ]
  },
  {
   "cell_type": "code",
   "execution_count": null,
   "id": "42418fa1-3978-4377-8be9-7271a3545b5c",
   "metadata": {
    "tags": []
   },
   "outputs": [],
   "source": [
    "dist_age2.loc[('미성년자', slice(None))].sort_values(\"연령별 총합\", ascending=False).head(10)\n",
    "# 서울 지역구 기군 미성년자의 연령별 총합을 상위 10위를 선별하여 나열하는 방법"
   ]
  },
  {
   "cell_type": "code",
   "execution_count": null,
   "id": "40c98c5c-c2d2-4b4c-81f9-fabcbb3e8596",
   "metadata": {},
   "outputs": [],
   "source": [
    "dist_age1.loc[('서울 강남구', '노년')]\n",
    "# 서울 강남구 노년층의 연령별 총합을 구하는 방법"
   ]
  },
  {
   "cell_type": "code",
   "execution_count": null,
   "id": "88b5bc6d-b302-4571-ba0a-13a2f3692f70",
   "metadata": {
    "tags": []
   },
   "outputs": [],
   "source": [
    "pip install folium"
   ]
  },
  {
   "cell_type": "code",
   "execution_count": null,
   "id": "526df4e3-9c5f-427f-8b60-4eb73e321e2f",
   "metadata": {},
   "outputs": [],
   "source": [
    "import folium"
   ]
  },
  {
   "cell_type": "code",
   "execution_count": null,
   "id": "c2cdf348-49eb-45c8-9091-11a1a9b4c617",
   "metadata": {},
   "outputs": [],
   "source": [
    "folium.Choropleth"
   ]
  },
  {
   "cell_type": "code",
   "execution_count": null,
   "id": "f517c793-173d-4817-bb61-70fb7c61445c",
   "metadata": {},
   "outputs": [],
   "source": [
    "import requests\n",
    "import json"
   ]
  },
  {
   "cell_type": "code",
   "execution_count": null,
   "id": "adbfcc90-43dc-42ad-ae03-58775234afd2",
   "metadata": {},
   "outputs": [],
   "source": [
    "map = requests.get('https://raw.githubusercontent.com/southkorea/seoul-maps/master/kostat/2013/json/seoul_municipalities_geo_simple.json')\n",
    "c = map.content\n",
    "seoul_geojson = json.loads(c)"
   ]
  },
  {
   "cell_type": "code",
   "execution_count": null,
   "id": "0d4d9d9a-0bf6-47a8-89ce-17a070cfb675",
   "metadata": {},
   "outputs": [],
   "source": [
    "m = folium.Map(location=[37.55, 126.98], zoom_start=11)\n",
    "# 서울 구 경계 표시\n",
    "folium.Choropleth(\n",
    "    geo_data=seoul_geojson,\n",
    "    fill_color='#22AA44',\n",
    "    fill_opacity=0.4,\n",
    "    line_opacity=1,\n",
    ").add_to(m)\n",
    "\n",
    "m"
   ]
  },
  {
   "cell_type": "code",
   "execution_count": null,
   "id": "1b7491d9-98ea-402d-88fb-18ed3b59d3a1",
   "metadata": {},
   "outputs": [],
   "source": [
    "import matplotlib.pyplot as plt\n",
    "import seaborn as sns"
   ]
  },
  {
   "cell_type": "code",
   "execution_count": null,
   "id": "c9694652-9a6f-4e25-a5eb-2ef7823bd6e7",
   "metadata": {
    "tags": []
   },
   "outputs": [],
   "source": [
    "dist_age3 = dist_age2.loc[('미성년자', slice(None))].sort_values(\"연령별 총합\", ascending=False)\n",
    "dist_age3\n",
    "\n",
    "# 미성년자의 연령 총합을 지역구별로 나열하는 방법"
   ]
  },
  {
   "cell_type": "code",
   "execution_count": null,
   "id": "ec997cb4-693b-468a-985d-eae8abd5c815",
   "metadata": {
    "tags": []
   },
   "outputs": [],
   "source": [
    "dist_age3 = dist_age3.reset_index()\n",
    "dist_age3"
   ]
  },
  {
   "cell_type": "code",
   "execution_count": null,
   "id": "baade823-2ca7-4494-9e06-21a591e6fe52",
   "metadata": {
    "tags": []
   },
   "outputs": [],
   "source": [
    "dist_age3"
   ]
  },
  {
   "cell_type": "code",
   "execution_count": null,
   "id": "2c26aec1-6728-4a1c-9de5-67d02920acec",
   "metadata": {},
   "outputs": [],
   "source": [
    "dist_age3[\"지역\"] = dist_age3[\"지역\"].str.split().str[1]"
   ]
  },
  {
   "cell_type": "code",
   "execution_count": null,
   "id": "2d78fa49-66a5-415b-b088-a29ec49dafc2",
   "metadata": {
    "tags": []
   },
   "outputs": [],
   "source": [
    "dist_age3"
   ]
  },
  {
   "cell_type": "code",
   "execution_count": null,
   "id": "2b0ec84d-4554-4f9b-9ea8-b405260f49df",
   "metadata": {
    "tags": []
   },
   "outputs": [],
   "source": [
    "dist_age3"
   ]
  },
  {
   "cell_type": "code",
   "execution_count": null,
   "id": "fdd02030-fc48-4581-83ae-7d5397b8f779",
   "metadata": {
    "tags": []
   },
   "outputs": [],
   "source": [
    "m = folium.Map(location=[37.55, 126.98], zoom_start=11, tiles='cartodbpositron')\n",
    "\n",
    "# folium.GeoJson(seoul_geo, name = \"지역구\").add_to(m)\n",
    "\n",
    "folium.Choropleth(\n",
    "    geo_data=seoul_geojson,\n",
    "    data=dist_age3, \n",
    "    columns=[\"지역\", \"연령별 총합\"],\n",
    "    fill_color='OrRd', # 색상 변경도 가능하다\n",
    "    fill_opacity=0.7,\n",
    "    line_opacity=0.5,\n",
    "    key_on='feature.properties.name',\n",
    "    legend_name=\"지역구별 방문객 수\", \n",
    ").add_to(m)\n",
    "m\n",
    "\n",
    "# 미성년자\n",
    "# color은 오렌지 색에서 빨간색으로 변화하는 의미이다"
   ]
  },
  {
   "cell_type": "code",
   "execution_count": null,
   "id": "88e2fe24-910b-4e3f-a23d-6f4354402f35",
   "metadata": {
    "tags": []
   },
   "outputs": [],
   "source": [
    "dist_age4 = dist_age2.loc[('중장년', slice(None))].sort_values(\"연령별 총합\", ascending=False)\n",
    "dist_age4"
   ]
  },
  {
   "cell_type": "code",
   "execution_count": null,
   "id": "5c6e224f-7c8f-4feb-8cf3-c8aa74dc73a7",
   "metadata": {
    "tags": []
   },
   "outputs": [],
   "source": [
    "dist_age4 = dist_age4.reset_index()\n",
    "dist_age4"
   ]
  },
  {
   "cell_type": "code",
   "execution_count": null,
   "id": "c7b70cd7-8908-4027-bdec-ad233a6709a3",
   "metadata": {
    "tags": []
   },
   "outputs": [],
   "source": [
    "dist_age4"
   ]
  },
  {
   "cell_type": "code",
   "execution_count": null,
   "id": "2c873111-71b2-4704-8e99-17be81b7d0c1",
   "metadata": {},
   "outputs": [],
   "source": [
    "dist_age4[\"지역\"] = dist_age4[\"지역\"].str.split().str[1]"
   ]
  },
  {
   "cell_type": "code",
   "execution_count": null,
   "id": "877859e2-bd72-413d-9aa4-6c06fb651532",
   "metadata": {
    "tags": []
   },
   "outputs": [],
   "source": [
    "dist_age4"
   ]
  },
  {
   "cell_type": "code",
   "execution_count": null,
   "id": "40d88a07-cb2e-4cd8-9883-405ff10cacca",
   "metadata": {},
   "outputs": [],
   "source": [
    "m = folium.Map(location=[37.55, 126.98], zoom_start=11, tiles='cartodbpositron')\n",
    "\n",
    "# folium.GeoJson(seoul_geo, name = \"지역구\").add_to(m)\n",
    "\n",
    "folium.Choropleth(\n",
    "    geo_data=seoul_geojson,\n",
    "    data=dist_age4, \n",
    "    columns=[\"지역\", \"연령별 총합\"],\n",
    "    fill_color='OrRd', # 색상 변경도 가능하다\n",
    "    fill_opacity=0.7,\n",
    "    line_opacity=0.5,\n",
    "    key_on='feature.properties.name',\n",
    "    legend_name=\"지역구별 방문객 수\", \n",
    ").add_to(m)\n",
    "m\n",
    "#중장년"
   ]
  },
  {
   "cell_type": "code",
   "execution_count": null,
   "id": "f8f92edc-352e-4e7f-9164-05b1d88de4b4",
   "metadata": {
    "tags": []
   },
   "outputs": [],
   "source": [
    "dist_age5 = dist_age2.loc[('청년', slice(None))].sort_values(\"연령별 총합\", ascending=False)\n",
    "dist_age5"
   ]
  },
  {
   "cell_type": "code",
   "execution_count": null,
   "id": "0e60642b-2ade-4638-9c01-dfbbd8e8993b",
   "metadata": {
    "tags": []
   },
   "outputs": [],
   "source": [
    "dist_age5 = dist_age5.reset_index()\n",
    "dist_age5"
   ]
  },
  {
   "cell_type": "code",
   "execution_count": null,
   "id": "a47c99aa-484a-490d-885c-d94b98d46b00",
   "metadata": {
    "tags": []
   },
   "outputs": [],
   "source": [
    "dist_age5"
   ]
  },
  {
   "cell_type": "code",
   "execution_count": null,
   "id": "e01cd1f5-8698-4504-9831-51d9ac6b76f1",
   "metadata": {
    "tags": []
   },
   "outputs": [],
   "source": [
    "dist_age5[\"지역\"] = dist_age5[\"지역\"].str.split().str[1]"
   ]
  },
  {
   "cell_type": "code",
   "execution_count": null,
   "id": "4a56db4e-05b5-4c17-8d74-23eb3e07e01a",
   "metadata": {
    "tags": []
   },
   "outputs": [],
   "source": [
    "dist_age5"
   ]
  },
  {
   "cell_type": "code",
   "execution_count": null,
   "id": "2847ecc0-f532-471b-86ae-a3594e7d8c3e",
   "metadata": {},
   "outputs": [],
   "source": [
    "m = folium.Map(location=[37.55, 126.98], zoom_start=11, tiles='cartodbpositron')\n",
    "\n",
    "# folium.GeoJson(seoul_geo, name = \"지역구\").add_to(m)\n",
    "\n",
    "folium.Choropleth(\n",
    "    geo_data=seoul_geojson,\n",
    "    data=dist_age5, \n",
    "    columns=[\"지역\", \"연령별 총합\"],\n",
    "    fill_color='OrRd', # 색상 변경도 가능하다\n",
    "    fill_opacity=0.7,\n",
    "    line_opacity=0.5,\n",
    "    key_on='feature.properties.name',\n",
    "    legend_name=\"지역구별 방문객 수\", \n",
    ").add_to(m)\n",
    "m\n",
    "# 청년"
   ]
  },
  {
   "cell_type": "code",
   "execution_count": null,
   "id": "bc314dfc-2842-4950-ad4c-4a26fc5b1aab",
   "metadata": {
    "tags": []
   },
   "outputs": [],
   "source": [
    "dist_age6 = dist_age2.loc[('노년', slice(None))].sort_values(\"연령별 총합\", ascending=False)\n",
    "dist_age6"
   ]
  },
  {
   "cell_type": "code",
   "execution_count": null,
   "id": "c28ae95b-bd37-44a6-9747-7743c337cc53",
   "metadata": {
    "tags": []
   },
   "outputs": [],
   "source": [
    "dist_age6 = dist_age6.reset_index()\n",
    "dist_age6"
   ]
  },
  {
   "cell_type": "code",
   "execution_count": null,
   "id": "827d000a-16fb-412f-8dec-e70f32aa3b10",
   "metadata": {
    "tags": []
   },
   "outputs": [],
   "source": [
    "dist_age6"
   ]
  },
  {
   "cell_type": "code",
   "execution_count": null,
   "id": "8e2bb046-5ff8-440e-b9c2-e98c32273dbb",
   "metadata": {},
   "outputs": [],
   "source": [
    "dist_age6[\"지역\"] = dist_age6[\"지역\"].str.split().str[1]"
   ]
  },
  {
   "cell_type": "code",
   "execution_count": null,
   "id": "45cefcb2-d022-44c4-a9c9-5071c2d71ca2",
   "metadata": {
    "tags": []
   },
   "outputs": [],
   "source": [
    "dist_age6"
   ]
  },
  {
   "cell_type": "code",
   "execution_count": null,
   "id": "a614aeb3-ecad-4b4c-8516-bb1f430f82ff",
   "metadata": {
    "tags": []
   },
   "outputs": [],
   "source": [
    "m = folium.Map(location=[37.55, 126.98], zoom_start=11, tiles='cartodbpositron')\n",
    "\n",
    "# folium.GeoJson(seoul_geo, name = \"지역구\").add_to(m)\n",
    "\n",
    "folium.Choropleth(\n",
    "    geo_data=seoul_geojson,\n",
    "    data=dist_age6, \n",
    "    columns=[\"지역\", \"연령별 총합\"],\n",
    "    fill_color='OrRd', # 색상 변경도 가능하다\n",
    "    fill_opacity=0.7,\n",
    "    line_opacity=0.5,\n",
    "    key_on='feature.properties.name',\n",
    "    legend_name=\"지역구별 방문객 수\", \n",
    ").add_to(m)\n",
    "m"
   ]
  },
  {
   "cell_type": "markdown",
   "id": "25aed349-9fb6-4f0e-9d4a-80d383e44b23",
   "metadata": {},
   "source": [
    "m.save('map.html')"
   ]
  }
 ],
 "metadata": {
  "kernelspec": {
   "display_name": "Python 3 (ipykernel)",
   "language": "python",
   "name": "python3"
  },
  "language_info": {
   "codemirror_mode": {
    "name": "ipython",
    "version": 3
   },
   "file_extension": ".py",
   "mimetype": "text/x-python",
   "name": "python",
   "nbconvert_exporter": "python",
   "pygments_lexer": "ipython3",
   "version": "3.9.13"
  }
 },
 "nbformat": 4,
 "nbformat_minor": 5
}
