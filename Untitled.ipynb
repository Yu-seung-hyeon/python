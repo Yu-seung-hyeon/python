{
 "cells": [
  {
   "cell_type": "code",
   "execution_count": 1,
   "id": "0333cbb6-da0b-4428-810e-df553818ca15",
   "metadata": {},
   "outputs": [
    {
     "name": "stdout",
     "output_type": "stream",
     "text": [
      "3.9.13 (main, Aug 25 2022, 23:51:50) [MSC v.1916 64 bit (AMD64)]\n"
     ]
    }
   ],
   "source": [
    "import sys\n",
    "print(sys.version)"
   ]
  },
  {
   "cell_type": "code",
   "execution_count": 2,
   "id": "03a31f7e-7091-4bbf-8563-05ef58ba10b4",
   "metadata": {},
   "outputs": [
    {
     "name": "stdout",
     "output_type": "stream",
     "text": [
      " C 드라이브의 볼륨에는 이름이 없습니다.\n",
      " 볼륨 일련 번호: C405-E5CB\n",
      "\n",
      " C:\\python 디렉터리\n",
      "\n",
      "2023-02-13  오전 10:37    <DIR>          .\n",
      "2023-02-13  오전 10:37    <DIR>          ..\n",
      "2023-02-13  오전 10:35    <DIR>          .ipynb_checkpoints\n",
      "2023-02-13  오전 10:37               992 Untitled.ipynb\n",
      "               1개 파일                 992 바이트\n",
      "               3개 디렉터리  136,609,980,416 바이트 남음\n"
     ]
    }
   ],
   "source": [
    "!dir"
   ]
  },
  {
   "cell_type": "code",
   "execution_count": null,
   "id": "86fe2f2b-9597-48af-a605-aa692cfb64bb",
   "metadata": {},
   "outputs": [],
   "source": []
  }
 ],
 "metadata": {
  "kernelspec": {
   "display_name": "Python 3 (ipykernel)",
   "language": "python",
   "name": "python3"
  },
  "language_info": {
   "codemirror_mode": {
    "name": "ipython",
    "version": 3
   },
   "file_extension": ".py",
   "mimetype": "text/x-python",
   "name": "python",
   "nbconvert_exporter": "python",
   "pygments_lexer": "ipython3",
   "version": "3.9.13"
  }
 },
 "nbformat": 4,
 "nbformat_minor": 5
}
