{
 "cells": [
  {
   "cell_type": "code",
   "execution_count": 1,
   "id": "39cfc0e9-593e-449e-a777-44ad51ba80c1",
   "metadata": {},
   "outputs": [
    {
     "name": "stdout",
     "output_type": "stream",
     "text": [
      "[2, 4, 6, 8, 10, 12, 14, 16, 18, 20, 22, 24, 26, 28, 30, 32, 34, 36, 38, 40, 42, 44, 46, 48, 50, 52, 54, 56, 58, 60, 62, 64, 66, 68, 70, 72, 74, 76, 78, 80, 82, 84, 86, 88, 90, 92, 94, 96, 98]\n"
     ]
    }
   ],
   "source": [
    "even_numbers = list(range(2, 100, 2))\n",
    "print(even_numbers)"
   ]
  },
  {
   "cell_type": "code",
   "execution_count": 9,
   "id": "8e77b530-f007-4dc0-8846-70bf1fbd9fb4",
   "metadata": {},
   "outputs": [
    {
     "name": "stdout",
     "output_type": "stream",
     "text": [
      "hello world 0\n",
      "hello world 1\n",
      "hello world 2\n",
      "hello world 3\n",
      "hello world 4\n",
      "hello world 5\n",
      "hello world 6\n",
      "hello world 7\n",
      "hello world 8\n",
      "hello world 9\n",
      "끝\n"
     ]
    }
   ],
   "source": [
    "for i in range(10):\n",
    "    print(\"hello world\",i)\n",
    "print(\"끝\")"
   ]
  },
  {
   "cell_type": "code",
   "execution_count": 14,
   "id": "242a23f3-8253-4e39-9f1e-e9e7765794ef",
   "metadata": {},
   "outputs": [
    {
     "name": "stdout",
     "output_type": "stream",
     "text": [
      "hello world 1\n",
      "hello world 2\n",
      "hello world 3\n",
      "hello world 4\n",
      "hello world 5\n",
      "hello world 6\n",
      "hello world 7\n",
      "hello world 8\n",
      "hello world 9\n",
      "hello world 10\n",
      "hello world 11\n",
      "hello world 12\n",
      "hello world 13\n",
      "hello world 14\n",
      "hello world 15\n",
      "hello world 16\n",
      "hello world 17\n",
      "hello world 18\n",
      "hello world 19\n",
      "hello world 20\n",
      "hello world 21\n",
      "hello world 22\n",
      "hello world 23\n",
      "hello world 24\n",
      "hello world 25\n",
      "hello world 26\n",
      "hello world 27\n",
      "hello world 28\n",
      "hello world 29\n",
      "hello world 30\n",
      "hello world 31\n",
      "hello world 32\n",
      "hello world 33\n",
      "hello world 34\n",
      "hello world 35\n",
      "hello world 36\n",
      "hello world 37\n",
      "hello world 38\n",
      "hello world 39\n",
      "hello world 40\n",
      "hello world 41\n",
      "hello world 42\n",
      "hello world 43\n",
      "hello world 44\n",
      "hello world 45\n",
      "hello world 46\n",
      "hello world 47\n",
      "hello world 48\n",
      "hello world 49\n",
      "hello world 50\n",
      "hello world 51\n",
      "hello world 52\n",
      "hello world 53\n",
      "hello world 54\n",
      "hello world 55\n",
      "hello world 56\n",
      "hello world 57\n",
      "hello world 58\n",
      "hello world 59\n",
      "hello world 60\n",
      "hello world 61\n",
      "hello world 62\n",
      "hello world 63\n",
      "hello world 64\n",
      "hello world 65\n",
      "hello world 66\n",
      "hello world 67\n",
      "hello world 68\n",
      "hello world 69\n",
      "hello world 70\n",
      "hello world 71\n",
      "hello world 72\n",
      "hello world 73\n",
      "hello world 74\n",
      "hello world 75\n",
      "hello world 76\n",
      "hello world 77\n",
      "hello world 78\n",
      "hello world 79\n",
      "hello world 80\n",
      "hello world 81\n",
      "hello world 82\n",
      "hello world 83\n",
      "hello world 84\n",
      "hello world 85\n",
      "hello world 86\n",
      "hello world 87\n",
      "hello world 88\n",
      "hello world 89\n",
      "hello world 90\n",
      "hello world 91\n",
      "hello world 92\n",
      "hello world 93\n",
      "hello world 94\n",
      "hello world 95\n",
      "hello world 96\n",
      "hello world 97\n",
      "hello world 98\n",
      "hello world 99\n",
      "hello world 100\n"
     ]
    }
   ],
   "source": [
    "for i in range(1,101):\n",
    "    print(\"hello world\", i)\n"
   ]
  },
  {
   "cell_type": "code",
   "execution_count": 22,
   "id": "0eb4196a-261e-4713-a8a9-23ff3edb524f",
   "metadata": {},
   "outputs": [
    {
     "ename": "SyntaxError",
     "evalue": "invalid syntax (3983118678.py, line 2)",
     "output_type": "error",
     "traceback": [
      "\u001b[1;36m  File \u001b[1;32m\"C:\\Users\\Playdata\\AppData\\Local\\Temp\\ipykernel_10768\\3983118678.py\"\u001b[1;36m, line \u001b[1;32m2\u001b[0m\n\u001b[1;33m    for_ in range(1, count + 1):\u001b[0m\n\u001b[1;37m                                ^\u001b[0m\n\u001b[1;31mSyntaxError\u001b[0m\u001b[1;31m:\u001b[0m invalid syntax\n"
     ]
    }
   ],
   "source": [
    "count = int(input(\"인사 몇 번 해드릴까요?\"))\n",
    "for_ in range(1, count + 1):\n",
    "    print(f\"hello world\", _)"
   ]
  },
  {
   "cell_type": "code",
   "execution_count": 25,
   "id": "5aa5596b-6eb5-41ea-a3cd-3f87293f5375",
   "metadata": {},
   "outputs": [
    {
     "name": "stdout",
     "output_type": "stream",
     "text": [
      "실행 결과\n",
      "[5, 6, 7, 8, 9]\n",
      "[5, 6, 7, 8, 9]\n"
     ]
    },
    {
     "data": {
      "text/plain": [
       "[5, 6, 7, 8, 9]"
      ]
     },
     "execution_count": 25,
     "metadata": {},
     "output_type": "execute_result"
    }
   ],
   "source": [
    "float_numbers = list(range(5, 10, 1))\n",
    "print(\"실행 결과\")\n",
    "print(float_numbers)\n",
    "print(list(range(5, 10, 1)))\n",
    "list(range(5, 10, 1))"
   ]
  },
  {
   "cell_type": "code",
   "execution_count": 29,
   "id": "829d9a97-8f07-49c9-82ff-e6027a966637",
   "metadata": {},
   "outputs": [
    {
     "name": "stdout",
     "output_type": "stream",
     "text": [
      "실행 결과\n",
      "[0, 3, 6, 9]\n",
      "[0, 3, 6, 9]\n"
     ]
    },
    {
     "data": {
      "text/plain": [
       "[0, 3, 6, 9]"
      ]
     },
     "execution_count": 29,
     "metadata": {},
     "output_type": "execute_result"
    }
   ],
   "source": [
    "float_numbers = list(range(0, 10, 3))\n",
    "print(\"실행 결과\")\n",
    "print(float_numbers)\n",
    "print(list(range(0, 10, 3)))\n",
    "list(range(0, 10, 3))"
   ]
  },
  {
   "cell_type": "code",
   "execution_count": 33,
   "id": "5ebad524-8df8-4ae9-ba65-6b87d45de06b",
   "metadata": {},
   "outputs": [
    {
     "name": "stdout",
     "output_type": "stream",
     "text": [
      "실행 결과\n",
      "[-10, -40, -70]\n",
      "[-10, -40, -70]\n"
     ]
    },
    {
     "data": {
      "text/plain": [
       "[-10, -40, -70]"
      ]
     },
     "execution_count": 33,
     "metadata": {},
     "output_type": "execute_result"
    }
   ],
   "source": [
    "float_numbers = list(range(-10, -71, -30))\n",
    "print(\"실행 결과\")\n",
    "print(float_numbers)\n",
    "print(list(range(-10, -71, -30)))\n",
    "list(range(-10, -71, -30))"
   ]
  },
  {
   "cell_type": "code",
   "execution_count": 2,
   "id": "7150fee8-73a7-48d8-9e92-bff3ed8a6144",
   "metadata": {},
   "outputs": [
    {
     "name": "stdout",
     "output_type": "stream",
     "text": [
      "**********\n",
      "*        *\n",
      "*        *\n",
      "*        *\n",
      "*        *\n",
      "*        *\n",
      "*        *\n",
      "*        *\n",
      "*        *\n",
      "**********\n"
     ]
    }
   ],
   "source": [
    "for i in range(10):\n",
    "    if i == 0 or i == 9:\n",
    "        print(\"*\"*10)\n",
    "    else:\n",
    "        print('*        *')"
   ]
  },
  {
   "cell_type": "code",
   "execution_count": 11,
   "id": "716af175-dba8-47b8-aac7-ae7bb16b310d",
   "metadata": {},
   "outputs": [
    {
     "name": "stdout",
     "output_type": "stream",
     "text": [
      "3 5\n",
      "5 7\n",
      "7 9\n",
      "9 11\n",
      "11 13\n",
      "13 15\n",
      "15 17\n",
      "17 19\n",
      "19 21\n",
      "21 23\n",
      "23 25\n",
      "25 27\n",
      "27 29\n",
      "29 31\n",
      "31 33\n",
      "33 35\n",
      "35 37\n",
      "37 39\n",
      "39 41\n",
      "41 43\n",
      "43 45\n",
      "45 47\n",
      "47 49\n",
      "49 51\n",
      "51 53\n",
      "53 55\n",
      "55 57\n",
      "57 59\n",
      "59 61\n",
      "61 63\n",
      "63 65\n",
      "65 67\n",
      "67 69\n",
      "69 71\n",
      "71 73\n",
      "73 75\n",
      "75 77\n",
      "77 79\n",
      "79 81\n",
      "81 83\n",
      "83 85\n",
      "85 87\n",
      "87 89\n",
      "89 91\n",
      "91 93\n",
      "93 95\n",
      "95 97\n",
      "97 99\n",
      "99 101\n",
      "101 103\n"
     ]
    }
   ],
   "source": [
    "for i in range(1, 101, 1):\n",
    "    if(i%2) == 1:\n",
    "        print(i + 2, i + 4)"
   ]
  },
  {
   "cell_type": "code",
   "execution_count": 14,
   "id": "95fba7ad-186f-4ad6-89b9-3dd1b3300ea8",
   "metadata": {},
   "outputs": [
    {
     "name": "stdin",
     "output_type": "stream",
     "text": [
      "1부터 입력한 자연수까지의 모든 홀수의 합을 구합니다 100\n"
     ]
    },
    {
     "name": "stdout",
     "output_type": "stream",
     "text": [
      "1 + 3 + 5 + 7 + 9 + 11 + 13 + 15 + 17 + 19 + 21 + 23 + 25 + 27 + 29 + 31 + 33 + 35 + 37 + 39 + 41 + 43 + 45 + 47 + 49 + 51 + 53 + 55 + 57 + 59 + 61 + 63 + 65 + 67 + 69 + 71 + 73 + 75 + 77 + 79 + 81 + 83 + 85 + 87 + 89 + 91 + 93 + 95 + 97 + 99 = 2500\n"
     ]
    }
   ],
   "source": [
    "input_value = int(input(\"1부터 입력한 자연수까지의 모든 홀수의 합을 구합니다\"))\n",
    "result = 0\n",
    "for i in range(1, input_value + 1):\n",
    "    if i % 2 == 1:\n",
    "        if(input_value - 1) == i or input_value == 1:\n",
    "            print(i, end=' = ')\n",
    "        else:\n",
    "            print(i, end=' + ')\n",
    "        result += i\n",
    "print(result)"
   ]
  },
  {
   "cell_type": "code",
   "execution_count": 15,
   "id": "178ce03d-8317-4a95-8ba8-b0dffd9b82a2",
   "metadata": {},
   "outputs": [
    {
     "name": "stdin",
     "output_type": "stream",
     "text": [
      "자연수 하나 입력하세요 100\n"
     ]
    },
    {
     "name": "stdout",
     "output_type": "stream",
     "text": [
      "1 "
     ]
    },
    {
     "ename": "NameError",
     "evalue": "name 'rnage' is not defined",
     "output_type": "error",
     "traceback": [
      "\u001b[1;31m---------------------------------------------------------------------------\u001b[0m",
      "\u001b[1;31mNameError\u001b[0m                                 Traceback (most recent call last)",
      "\u001b[1;32m~\\AppData\\Local\\Temp\\ipykernel_12092\\938145198.py\u001b[0m in \u001b[0;36m<module>\u001b[1;34m\u001b[0m\n\u001b[0;32m      1\u001b[0m \u001b[0minput_value\u001b[0m \u001b[1;33m=\u001b[0m \u001b[0mint\u001b[0m\u001b[1;33m(\u001b[0m\u001b[0minput\u001b[0m\u001b[1;33m(\u001b[0m\u001b[1;34m\"자연수 하나 입력하세요\"\u001b[0m\u001b[1;33m)\u001b[0m\u001b[1;33m)\u001b[0m\u001b[1;33m\u001b[0m\u001b[1;33m\u001b[0m\u001b[0m\n\u001b[0;32m      2\u001b[0m \u001b[0mprint\u001b[0m\u001b[1;33m(\u001b[0m\u001b[1;34m\"1\"\u001b[0m\u001b[1;33m,\u001b[0m \u001b[0mend\u001b[0m\u001b[1;33m=\u001b[0m\u001b[1;34m\" \"\u001b[0m\u001b[1;33m)\u001b[0m\u001b[1;33m\u001b[0m\u001b[1;33m\u001b[0m\u001b[0m\n\u001b[1;32m----> 3\u001b[1;33m \u001b[1;32mfor\u001b[0m \u001b[0mi\u001b[0m \u001b[1;32min\u001b[0m \u001b[0mrnage\u001b[0m\u001b[1;33m(\u001b[0m\u001b[1;36m3\u001b[0m\u001b[1;33m,\u001b[0m \u001b[0minput_value\u001b[0m \u001b[1;33m+\u001b[0m\u001b[1;36m1\u001b[0m\u001b[1;33m)\u001b[0m\u001b[1;33m:\u001b[0m\u001b[1;33m\u001b[0m\u001b[1;33m\u001b[0m\u001b[0m\n\u001b[0m\u001b[0;32m      4\u001b[0m     \u001b[1;32mif\u001b[0m \u001b[0mi\u001b[0m \u001b[1;33m%\u001b[0m\u001b[1;36m2\u001b[0m\u001b[1;33m==\u001b[0m \u001b[1;36m1\u001b[0m\u001b[1;33m:\u001b[0m\u001b[1;33m\u001b[0m\u001b[1;33m\u001b[0m\u001b[0m\n\u001b[0;32m      5\u001b[0m         \u001b[0mprint\u001b[0m\u001b[1;33m(\u001b[0m\u001b[1;34mf\" +{i}\"\u001b[0m\u001b[1;33m,\u001b[0m \u001b[0mend\u001b[0m\u001b[1;33m=\u001b[0m\u001b[1;34m\" \"\u001b[0m\u001b[1;33m)\u001b[0m\u001b[1;33m\u001b[0m\u001b[1;33m\u001b[0m\u001b[0m\n",
      "\u001b[1;31mNameError\u001b[0m: name 'rnage' is not defined"
     ]
    }
   ],
   "source": [
    "input_value = int(input(\"자연수 하나 입력하세요\"))\n",
    "print(\"1\", end=\" \")\n",
    "for i in rnage(3, input_value +1):\n",
    "    if i %2== 1:\n",
    "        print(f\" +{i}\", end=\" \")\n",
    "        result += i\n",
    "        \n",
    "        print(f\" = {result}\")"
   ]
  },
  {
   "cell_type": "code",
   "execution_count": 16,
   "id": "eeba2a54-8d3c-457f-a707-11ccad49ab24",
   "metadata": {},
   "outputs": [
    {
     "name": "stdin",
     "output_type": "stream",
     "text": [
      "계승을 구할 숫자를 입력하세요 7\n"
     ]
    },
    {
     "name": "stdout",
     "output_type": "stream",
     "text": [
      "5040\n"
     ]
    }
   ],
   "source": [
    "input_value = int(input('계승을 구할 숫자를 입력하세요'))\n",
    "result = 1\n",
    "for i in range(1, input_value+1):\n",
    "    result = result * i\n",
    "print(result)"
   ]
  },
  {
   "cell_type": "code",
   "execution_count": 18,
   "id": "88570020-63e5-4569-8a9a-547a28dddd9e",
   "metadata": {},
   "outputs": [
    {
     "name": "stdin",
     "output_type": "stream",
     "text": [
      "계승을 구할 숫자를 입력하세요. 4\n"
     ]
    },
    {
     "name": "stdout",
     "output_type": "stream",
     "text": [
      "1\n"
     ]
    }
   ],
   "source": [
    "n = int(input(\"계승을 구할 숫자를 입력하세요.\"))\n",
    "result = 1\n",
    "for i in range(1, n + 1):\n",
    "    result = result * 1\n",
    "print(result)"
   ]
  },
  {
   "cell_type": "code",
   "execution_count": 21,
   "id": "aa3f170d-fb6f-4e7c-aaf1-88fba444605e",
   "metadata": {},
   "outputs": [
    {
     "ename": "SyntaxError",
     "evalue": "invalid syntax (1269342045.py, line 1)",
     "output_type": "error",
     "traceback": [
      "\u001b[1;36m  File \u001b[1;32m\"C:\\Users\\Playdata\\AppData\\Local\\Temp\\ipykernel_12092\\1269342045.py\"\u001b[1;36m, line \u001b[1;32m1\u001b[0m\n\u001b[1;33m    for _in [\"시\", \"미\", \"라\", \"레\", \"솔\", \"도\", \"파\"]:\u001b[0m\n\u001b[1;37m                                               ^\u001b[0m\n\u001b[1;31mSyntaxError\u001b[0m\u001b[1;31m:\u001b[0m invalid syntax\n"
     ]
    }
   ],
   "source": [
    "for _in [\"시\", \"미\", \"라\", \"레\", \"솔\", \"도\", \"파\"]:\n",
    "    print(_)"
   ]
  },
  {
   "cell_type": "code",
   "execution_count": 22,
   "id": "14405420-1667-4c1b-b6b8-876ea98b99ba",
   "metadata": {},
   "outputs": [
    {
     "name": "stdin",
     "output_type": "stream",
     "text": [
      "구구단을 알려드립니다. 숫자를 입력하세요 9\n"
     ]
    },
    {
     "name": "stdout",
     "output_type": "stream",
     "text": [
      "실향결과\n",
      "9 * 1 = 9\n",
      "9 * 2 = 18\n",
      "9 * 3 = 27\n",
      "9 * 4 = 36\n",
      "9 * 5 = 45\n",
      "9 * 6 = 54\n",
      "9 * 7 = 63\n",
      "9 * 8 = 72\n",
      "9 * 9 = 81\n"
     ]
    }
   ],
   "source": [
    "dan = int(input(\"구구단을 알려드립니다. 숫자를 입력하세요\"))\n",
    "print(\"실향결과\")\n",
    "for i in range(1, 10):\n",
    "    print( dan, '*', i, '=', dan*i)"
   ]
  },
  {
   "cell_type": "code",
   "execution_count": 23,
   "id": "9661672e-b63c-4f78-afb4-bc5d45c4a9e6",
   "metadata": {},
   "outputs": [
    {
     "name": "stdin",
     "output_type": "stream",
     "text": [
      "자연수를 입력해주세요 100\n"
     ]
    },
    {
     "name": "stdout",
     "output_type": "stream",
     "text": [
      "실행결과\n",
      "1 2 3 4 5 6 7 8 9 10 11 12 13 14 15 16 17 18 19 20 21 22 23 24 25 26 27 28 29 30 31 32 33 34 35 36 37 38 39 40 41 42 43 44 45 46 47 48 49 50 51 52 53 54 55 56 57 58 59 60 61 62 63 64 65 66 67 68 69 70 71 72 73 74 75 76 77 78 79 80 81 82 83 84 85 86 87 88 89 90 91 92 93 94 95 96 97 98 99 100 5050\n"
     ]
    }
   ],
   "source": [
    "num = int(input(\"자연수를 입력해주세요\"))\n",
    "print(\"실행결과\")\n",
    "result = 0\n",
    "for i in range(1, num+1):\n",
    "    print(i, end= \" \")\n",
    "    result += i\n",
    "print(result)"
   ]
  },
  {
   "cell_type": "code",
   "execution_count": 24,
   "id": "7d9994fb-62b3-4b46-9d95-bfb125e98c4c",
   "metadata": {},
   "outputs": [
    {
     "name": "stdout",
     "output_type": "stream",
     "text": [
      "*****\n",
      "*****\n",
      "*****\n",
      "*****\n",
      "*****\n"
     ]
    }
   ],
   "source": [
    "for i in range(5):\n",
    "    print('*'*5)"
   ]
  },
  {
   "cell_type": "code",
   "execution_count": 26,
   "id": "5e802e98-36b9-40c5-a555-e0c5c49a4fb1",
   "metadata": {},
   "outputs": [
    {
     "name": "stdout",
     "output_type": "stream",
     "text": [
      "2\t4\t6\t8\t10\t12\t14\t16\t18\t20\t22\t24\t26\t28\t30\t32\t34\t36\t38\t40\t42\t44\t46\t48\t50\t52\t54\t56\t58\t60\t62\t64\t66\t68\t70\t72\t74\t76\t78\t80\t82\t84\t86\t88\t90\t92\t94\t96\t98\t100\t"
     ]
    }
   ],
   "source": [
    "i = 1\n",
    "while 0 < i < 51:\n",
    "    print(i*2, end=\"\\t\")\n",
    "    i +=1"
   ]
  },
  {
   "cell_type": "code",
   "execution_count": 28,
   "id": "94c4acbb-4cbf-4048-84d8-1bce2a3b4a7a",
   "metadata": {},
   "outputs": [
    {
     "name": "stdout",
     "output_type": "stream",
     "text": [
      "실행결과\n"
     ]
    },
    {
     "name": "stdin",
     "output_type": "stream",
     "text": [
      "구구단을 알려드립니다. 숫자를 입력하세요 9\n"
     ]
    },
    {
     "name": "stdout",
     "output_type": "stream",
     "text": [
      "9 * 1 = 9\n",
      "9 * 2 = 18\n",
      "9 * 3 = 27\n",
      "9 * 4 = 36\n",
      "9 * 5 = 45\n",
      "9 * 6 = 54\n",
      "9 * 7 = 63\n",
      "9 * 8 = 72\n",
      "9 * 9 = 81\n"
     ]
    }
   ],
   "source": [
    "print(\"실행결과\")\n",
    "dan = int(input(\"구구단을 알려드립니다. 숫자를 입력하세요\"))\n",
    "i = 1\n",
    "while i < 10:\n",
    "    print(dan, \"*\", i, \"=\", dan*i)\n",
    "    i += 1"
   ]
  },
  {
   "cell_type": "code",
   "execution_count": null,
   "id": "29400b10-d27a-4ada-95d0-ae5508c501e3",
   "metadata": {},
   "outputs": [],
   "source": [
    "a = [87, 22, 31, 98]\n",
    "print("
   ]
  }
 ],
 "metadata": {
  "kernelspec": {
   "display_name": "Python 3 (ipykernel)",
   "language": "python",
   "name": "python3"
  },
  "language_info": {
   "codemirror_mode": {
    "name": "ipython",
    "version": 3
   },
   "file_extension": ".py",
   "mimetype": "text/x-python",
   "name": "python",
   "nbconvert_exporter": "python",
   "pygments_lexer": "ipython3",
   "version": "3.9.13"
  }
 },
 "nbformat": 4,
 "nbformat_minor": 5
}
