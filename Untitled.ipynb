{
 "cells": [
  {
   "cell_type": "code",
   "execution_count": 1,
   "id": "39cfc0e9-593e-449e-a777-44ad51ba80c1",
   "metadata": {},
   "outputs": [
    {
     "name": "stdout",
     "output_type": "stream",
     "text": [
      "[2, 4, 6, 8, 10, 12, 14, 16, 18, 20, 22, 24, 26, 28, 30, 32, 34, 36, 38, 40, 42, 44, 46, 48, 50, 52, 54, 56, 58, 60, 62, 64, 66, 68, 70, 72, 74, 76, 78, 80, 82, 84, 86, 88, 90, 92, 94, 96, 98]\n"
     ]
    }
   ],
   "source": [
    "even_numbers = list(range(2, 100, 2))\n",
    "print(even_numbers)"
   ]
  },
  {
   "cell_type": "code",
   "execution_count": 9,
   "id": "8e77b530-f007-4dc0-8846-70bf1fbd9fb4",
   "metadata": {},
   "outputs": [
    {
     "name": "stdout",
     "output_type": "stream",
     "text": [
      "hello world 0\n",
      "hello world 1\n",
      "hello world 2\n",
      "hello world 3\n",
      "hello world 4\n",
      "hello world 5\n",
      "hello world 6\n",
      "hello world 7\n",
      "hello world 8\n",
      "hello world 9\n",
      "끝\n"
     ]
    }
   ],
   "source": [
    "for i in range(10):\n",
    "    print(\"hello world\",i)\n",
    "print(\"끝\")"
   ]
  },
  {
   "cell_type": "code",
   "execution_count": 14,
   "id": "242a23f3-8253-4e39-9f1e-e9e7765794ef",
   "metadata": {},
   "outputs": [
    {
     "name": "stdout",
     "output_type": "stream",
     "text": [
      "hello world 1\n",
      "hello world 2\n",
      "hello world 3\n",
      "hello world 4\n",
      "hello world 5\n",
      "hello world 6\n",
      "hello world 7\n",
      "hello world 8\n",
      "hello world 9\n",
      "hello world 10\n",
      "hello world 11\n",
      "hello world 12\n",
      "hello world 13\n",
      "hello world 14\n",
      "hello world 15\n",
      "hello world 16\n",
      "hello world 17\n",
      "hello world 18\n",
      "hello world 19\n",
      "hello world 20\n",
      "hello world 21\n",
      "hello world 22\n",
      "hello world 23\n",
      "hello world 24\n",
      "hello world 25\n",
      "hello world 26\n",
      "hello world 27\n",
      "hello world 28\n",
      "hello world 29\n",
      "hello world 30\n",
      "hello world 31\n",
      "hello world 32\n",
      "hello world 33\n",
      "hello world 34\n",
      "hello world 35\n",
      "hello world 36\n",
      "hello world 37\n",
      "hello world 38\n",
      "hello world 39\n",
      "hello world 40\n",
      "hello world 41\n",
      "hello world 42\n",
      "hello world 43\n",
      "hello world 44\n",
      "hello world 45\n",
      "hello world 46\n",
      "hello world 47\n",
      "hello world 48\n",
      "hello world 49\n",
      "hello world 50\n",
      "hello world 51\n",
      "hello world 52\n",
      "hello world 53\n",
      "hello world 54\n",
      "hello world 55\n",
      "hello world 56\n",
      "hello world 57\n",
      "hello world 58\n",
      "hello world 59\n",
      "hello world 60\n",
      "hello world 61\n",
      "hello world 62\n",
      "hello world 63\n",
      "hello world 64\n",
      "hello world 65\n",
      "hello world 66\n",
      "hello world 67\n",
      "hello world 68\n",
      "hello world 69\n",
      "hello world 70\n",
      "hello world 71\n",
      "hello world 72\n",
      "hello world 73\n",
      "hello world 74\n",
      "hello world 75\n",
      "hello world 76\n",
      "hello world 77\n",
      "hello world 78\n",
      "hello world 79\n",
      "hello world 80\n",
      "hello world 81\n",
      "hello world 82\n",
      "hello world 83\n",
      "hello world 84\n",
      "hello world 85\n",
      "hello world 86\n",
      "hello world 87\n",
      "hello world 88\n",
      "hello world 89\n",
      "hello world 90\n",
      "hello world 91\n",
      "hello world 92\n",
      "hello world 93\n",
      "hello world 94\n",
      "hello world 95\n",
      "hello world 96\n",
      "hello world 97\n",
      "hello world 98\n",
      "hello world 99\n",
      "hello world 100\n"
     ]
    }
   ],
   "source": [
    "for i in range(1,101):\n",
    "    print(\"hello world\", i)\n"
   ]
  },
  {
   "cell_type": "code",
   "execution_count": 22,
   "id": "0eb4196a-261e-4713-a8a9-23ff3edb524f",
   "metadata": {},
   "outputs": [
    {
     "ename": "SyntaxError",
     "evalue": "invalid syntax (3983118678.py, line 2)",
     "output_type": "error",
     "traceback": [
      "\u001b[1;36m  File \u001b[1;32m\"C:\\Users\\Playdata\\AppData\\Local\\Temp\\ipykernel_10768\\3983118678.py\"\u001b[1;36m, line \u001b[1;32m2\u001b[0m\n\u001b[1;33m    for_ in range(1, count + 1):\u001b[0m\n\u001b[1;37m                                ^\u001b[0m\n\u001b[1;31mSyntaxError\u001b[0m\u001b[1;31m:\u001b[0m invalid syntax\n"
     ]
    }
   ],
   "source": [
    "count = int(input(\"인사 몇 번 해드릴까요?\"))\n",
    "for_ in range(1, count + 1):\n",
    "    print(f\"hello world\", _)"
   ]
  },
  {
   "cell_type": "code",
   "execution_count": 25,
   "id": "5aa5596b-6eb5-41ea-a3cd-3f87293f5375",
   "metadata": {},
   "outputs": [
    {
     "name": "stdout",
     "output_type": "stream",
     "text": [
      "실행 결과\n",
      "[5, 6, 7, 8, 9]\n",
      "[5, 6, 7, 8, 9]\n"
     ]
    },
    {
     "data": {
      "text/plain": [
       "[5, 6, 7, 8, 9]"
      ]
     },
     "execution_count": 25,
     "metadata": {},
     "output_type": "execute_result"
    }
   ],
   "source": [
    "float_numbers = list(range(5, 10, 1))\n",
    "print(\"실행 결과\")\n",
    "print(float_numbers)\n",
    "print(list(range(5, 10, 1)))\n",
    "list(range(5, 10, 1))"
   ]
  },
  {
   "cell_type": "code",
   "execution_count": 29,
   "id": "829d9a97-8f07-49c9-82ff-e6027a966637",
   "metadata": {},
   "outputs": [
    {
     "name": "stdout",
     "output_type": "stream",
     "text": [
      "실행 결과\n",
      "[0, 3, 6, 9]\n",
      "[0, 3, 6, 9]\n"
     ]
    },
    {
     "data": {
      "text/plain": [
       "[0, 3, 6, 9]"
      ]
     },
     "execution_count": 29,
     "metadata": {},
     "output_type": "execute_result"
    }
   ],
   "source": [
    "float_numbers = list(range(0, 10, 3))\n",
    "print(\"실행 결과\")\n",
    "print(float_numbers)\n",
    "print(list(range(0, 10, 3)))\n",
    "list(range(0, 10, 3))"
   ]
  },
  {
   "cell_type": "code",
   "execution_count": 33,
   "id": "5ebad524-8df8-4ae9-ba65-6b87d45de06b",
   "metadata": {},
   "outputs": [
    {
     "name": "stdout",
     "output_type": "stream",
     "text": [
      "실행 결과\n",
      "[-10, -40, -70]\n",
      "[-10, -40, -70]\n"
     ]
    },
    {
     "data": {
      "text/plain": [
       "[-10, -40, -70]"
      ]
     },
     "execution_count": 33,
     "metadata": {},
     "output_type": "execute_result"
    }
   ],
   "source": [
    "float_numbers = list(range(-10, -71, -30))\n",
    "print(\"실행 결과\")\n",
    "print(float_numbers)\n",
    "print(list(range(-10, -71, -30)))\n",
    "list(range(-10, -71, -30))"
   ]
  },
  {
   "cell_type": "code",
   "execution_count": 41,
   "id": "7150fee8-73a7-48d8-9e92-bff3ed8a6144",
   "metadata": {},
   "outputs": [
    {
     "ename": "SyntaxError",
     "evalue": "EOL while scanning string literal (1671619231.py, line 4)",
     "output_type": "error",
     "traceback": [
      "\u001b[1;36m  File \u001b[1;32m\"C:\\Users\\Playdata\\AppData\\Local\\Temp\\ipykernel_10768\\1671619231.py\"\u001b[1;36m, line \u001b[1;32m4\u001b[0m\n\u001b[1;33m    print(i, end='\\')\u001b[0m\n\u001b[1;37m                     ^\u001b[0m\n\u001b[1;31mSyntaxError\u001b[0m\u001b[1;31m:\u001b[0m EOL while scanning string literal\n"
     ]
    }
   ],
   "source": [
    "input_value = int(input(\"자연수 하나 입력:\"))\n",
    "for i in range(input_value, 0, -1):\n",
    "    for j in range(i):\n",
    "        pr"
   ]
  }
 ],
 "metadata": {
  "kernelspec": {
   "display_name": "Python 3 (ipykernel)",
   "language": "python",
   "name": "python3"
  },
  "language_info": {
   "codemirror_mode": {
    "name": "ipython",
    "version": 3
   },
   "file_extension": ".py",
   "mimetype": "text/x-python",
   "name": "python",
   "nbconvert_exporter": "python",
   "pygments_lexer": "ipython3",
   "version": "3.9.13"
  }
 },
 "nbformat": 4,
 "nbformat_minor": 5
}
